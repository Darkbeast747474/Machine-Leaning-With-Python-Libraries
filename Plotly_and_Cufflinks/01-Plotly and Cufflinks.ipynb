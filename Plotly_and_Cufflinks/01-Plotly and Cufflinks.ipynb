{
 "cells": [
  {
   "cell_type": "markdown",
   "metadata": {},
   "source": [
    "___\n",
    "\n",
    "<a href='http://www.pieriandata.com'> <img src='../Pierian_Data_Logo.png' /></a>\n",
    "___\n",
    "# Plotly and Cufflinks"
   ]
  },
  {
   "cell_type": "markdown",
   "metadata": {},
   "source": [
    "Plotly is a library that allows you to create interactive plots that you can use in dashboards or websites (you can save them as html files or static images).\n",
    "\n",
    "## Installation\n",
    "\n",
    "In order for this all to work, you'll need to install plotly and cufflinks to call plots directly off of a pandas dataframe. These libraries are not currently available through **conda** but are available through **pip**. Install the libraries at your command line/terminal using:\n",
    "\n",
    "    pip install plotly\n",
    "    pip install cufflinks\n",
    "\n",
    "** NOTE: Make sure you only have one installation of Python on your computer when you do this, otherwise the installation may not work. **\n",
    "\n",
    "## Imports and Set-up"
   ]
  },
  {
   "cell_type": "code",
   "execution_count": 36,
   "metadata": {},
   "outputs": [],
   "source": [
    "import pandas as pd\n",
    "import numpy as np\n",
    "%matplotlib inline\n",
    "import chart_studio.plotly as py"
   ]
  },
  {
   "cell_type": "code",
   "execution_count": 37,
   "metadata": {},
   "outputs": [
    {
     "name": "stdout",
     "output_type": "stream",
     "text": [
      "5.18.0\n"
     ]
    }
   ],
   "source": [
    "from plotly import __version__\n",
    "from plotly.offline import download_plotlyjs, init_notebook_mode, plot, iplot\n",
    "\n",
    "print(__version__) # requires version >= 1.9.0"
   ]
  },
  {
   "cell_type": "code",
   "execution_count": 38,
   "metadata": {},
   "outputs": [],
   "source": [
    "import cufflinks as cf"
   ]
  },
  {
   "cell_type": "code",
   "execution_count": 39,
   "metadata": {},
   "outputs": [
    {
     "data": {
      "text/html": [
       "        <script type=\"text/javascript\">\n",
       "        window.PlotlyConfig = {MathJaxConfig: 'local'};\n",
       "        if (window.MathJax && window.MathJax.Hub && window.MathJax.Hub.Config) {window.MathJax.Hub.Config({SVG: {font: \"STIX-Web\"}});}\n",
       "        if (typeof require !== 'undefined') {\n",
       "        require.undef(\"plotly\");\n",
       "        requirejs.config({\n",
       "            paths: {\n",
       "                'plotly': ['https://cdn.plot.ly/plotly-2.27.0.min']\n",
       "            }\n",
       "        });\n",
       "        require(['plotly'], function(Plotly) {\n",
       "            window._Plotly = Plotly;\n",
       "        });\n",
       "        }\n",
       "        </script>\n",
       "        "
      ]
     },
     "metadata": {},
     "output_type": "display_data"
    }
   ],
   "source": [
    "# For Notebooks\n",
    "init_notebook_mode(connected=True)"
   ]
  },
  {
   "cell_type": "code",
   "execution_count": 40,
   "metadata": {},
   "outputs": [
    {
     "data": {
      "text/html": [
       "        <script type=\"text/javascript\">\n",
       "        window.PlotlyConfig = {MathJaxConfig: 'local'};\n",
       "        if (window.MathJax && window.MathJax.Hub && window.MathJax.Hub.Config) {window.MathJax.Hub.Config({SVG: {font: \"STIX-Web\"}});}\n",
       "        if (typeof require !== 'undefined') {\n",
       "        require.undef(\"plotly\");\n",
       "        requirejs.config({\n",
       "            paths: {\n",
       "                'plotly': ['https://cdn.plot.ly/plotly-2.27.0.min']\n",
       "            }\n",
       "        });\n",
       "        require(['plotly'], function(Plotly) {\n",
       "            window._Plotly = Plotly;\n",
       "        });\n",
       "        }\n",
       "        </script>\n",
       "        "
      ]
     },
     "metadata": {},
     "output_type": "display_data"
    }
   ],
   "source": [
    "# For offline use\n",
    "cf.go_offline()"
   ]
  },
  {
   "cell_type": "markdown",
   "metadata": {},
   "source": [
    "### Fake Data"
   ]
  },
  {
   "cell_type": "code",
   "execution_count": 41,
   "metadata": {},
   "outputs": [],
   "source": [
    "df = pd.DataFrame(np.random.randn(100,4),columns='A B C D'.split())"
   ]
  },
  {
   "cell_type": "code",
   "execution_count": 42,
   "metadata": {},
   "outputs": [
    {
     "data": {
      "text/html": [
       "<div>\n",
       "<style scoped>\n",
       "    .dataframe tbody tr th:only-of-type {\n",
       "        vertical-align: middle;\n",
       "    }\n",
       "\n",
       "    .dataframe tbody tr th {\n",
       "        vertical-align: top;\n",
       "    }\n",
       "\n",
       "    .dataframe thead th {\n",
       "        text-align: right;\n",
       "    }\n",
       "</style>\n",
       "<table border=\"1\" class=\"dataframe\">\n",
       "  <thead>\n",
       "    <tr style=\"text-align: right;\">\n",
       "      <th></th>\n",
       "      <th>A</th>\n",
       "      <th>B</th>\n",
       "      <th>C</th>\n",
       "      <th>D</th>\n",
       "    </tr>\n",
       "  </thead>\n",
       "  <tbody>\n",
       "    <tr>\n",
       "      <th>0</th>\n",
       "      <td>0.661603</td>\n",
       "      <td>-1.126816</td>\n",
       "      <td>0.636436</td>\n",
       "      <td>-0.158129</td>\n",
       "    </tr>\n",
       "    <tr>\n",
       "      <th>1</th>\n",
       "      <td>0.797456</td>\n",
       "      <td>-1.122499</td>\n",
       "      <td>-0.948193</td>\n",
       "      <td>0.034875</td>\n",
       "    </tr>\n",
       "    <tr>\n",
       "      <th>2</th>\n",
       "      <td>-0.086330</td>\n",
       "      <td>-1.135769</td>\n",
       "      <td>-0.702657</td>\n",
       "      <td>-1.199738</td>\n",
       "    </tr>\n",
       "    <tr>\n",
       "      <th>3</th>\n",
       "      <td>0.725896</td>\n",
       "      <td>0.446797</td>\n",
       "      <td>-1.398556</td>\n",
       "      <td>0.303488</td>\n",
       "    </tr>\n",
       "    <tr>\n",
       "      <th>4</th>\n",
       "      <td>0.380584</td>\n",
       "      <td>1.302677</td>\n",
       "      <td>-0.555946</td>\n",
       "      <td>-2.127780</td>\n",
       "    </tr>\n",
       "  </tbody>\n",
       "</table>\n",
       "</div>"
      ],
      "text/plain": [
       "          A         B         C         D\n",
       "0  0.661603 -1.126816  0.636436 -0.158129\n",
       "1  0.797456 -1.122499 -0.948193  0.034875\n",
       "2 -0.086330 -1.135769 -0.702657 -1.199738\n",
       "3  0.725896  0.446797 -1.398556  0.303488\n",
       "4  0.380584  1.302677 -0.555946 -2.127780"
      ]
     },
     "execution_count": 42,
     "metadata": {},
     "output_type": "execute_result"
    }
   ],
   "source": [
    "df.head()"
   ]
  },
  {
   "cell_type": "code",
   "execution_count": 43,
   "metadata": {},
   "outputs": [],
   "source": [
    "df2 = pd.DataFrame({'Category':['A','B','C'],'Values':[32,43,50]})"
   ]
  },
  {
   "cell_type": "code",
   "execution_count": 44,
   "metadata": {},
   "outputs": [
    {
     "data": {
      "text/html": [
       "<div>\n",
       "<style scoped>\n",
       "    .dataframe tbody tr th:only-of-type {\n",
       "        vertical-align: middle;\n",
       "    }\n",
       "\n",
       "    .dataframe tbody tr th {\n",
       "        vertical-align: top;\n",
       "    }\n",
       "\n",
       "    .dataframe thead th {\n",
       "        text-align: right;\n",
       "    }\n",
       "</style>\n",
       "<table border=\"1\" class=\"dataframe\">\n",
       "  <thead>\n",
       "    <tr style=\"text-align: right;\">\n",
       "      <th></th>\n",
       "      <th>Category</th>\n",
       "      <th>Values</th>\n",
       "    </tr>\n",
       "  </thead>\n",
       "  <tbody>\n",
       "    <tr>\n",
       "      <th>0</th>\n",
       "      <td>A</td>\n",
       "      <td>32</td>\n",
       "    </tr>\n",
       "    <tr>\n",
       "      <th>1</th>\n",
       "      <td>B</td>\n",
       "      <td>43</td>\n",
       "    </tr>\n",
       "    <tr>\n",
       "      <th>2</th>\n",
       "      <td>C</td>\n",
       "      <td>50</td>\n",
       "    </tr>\n",
       "  </tbody>\n",
       "</table>\n",
       "</div>"
      ],
      "text/plain": [
       "  Category  Values\n",
       "0        A      32\n",
       "1        B      43\n",
       "2        C      50"
      ]
     },
     "execution_count": 44,
     "metadata": {},
     "output_type": "execute_result"
    }
   ],
   "source": [
    "df2.head()"
   ]
  },
  {
   "cell_type": "markdown",
   "metadata": {},
   "source": [
    "## Using Cufflinks and iplot()\n",
    "\n",
    "* scatter\n",
    "* bar\n",
    "* box\n",
    "* spread\n",
    "* ratio\n",
    "* heatmap\n",
    "* surface\n",
    "* histogram\n",
    "* bubble"
   ]
  },
  {
   "cell_type": "markdown",
   "metadata": {},
   "source": [
    "## Scatter"
   ]
  },
  {
   "cell_type": "code",
   "execution_count": 45,
   "metadata": {},
   "outputs": [
    {
     "data": {
      "application/vnd.plotly.v1+json": {
       "config": {
        "linkText": "Export to plot.ly",
        "plotlyServerURL": "https://plot.ly",
        "showLink": true
       },
       "data": [
        {
         "line": {
          "color": "rgba(255, 153, 51, 1.0)",
          "dash": "solid",
          "shape": "linear",
          "width": 1.3
         },
         "marker": {
          "size": 10,
          "symbol": "circle"
         },
         "mode": "markers",
         "name": "B",
         "text": "",
         "type": "scatter",
         "x": [
          0.6616028000153031,
          0.7974564222354177,
          -0.0863295983531025,
          0.7258958330757438,
          0.3805843872250716,
          0.9546612272488477,
          -1.1110120769710934,
          -0.3764646972195968,
          -1.5318298280733997,
          -0.37561921842675816,
          0.7755753395886864,
          -0.7160422754394841,
          0.5676483268168749,
          -0.5756773924464362,
          -0.45704522048156193,
          0.7744748888395329,
          0.08899280994212116,
          -0.5509914982640807,
          -0.3488498089051454,
          -0.037555887655825564,
          0.7918282653696499,
          -1.4001775724705254,
          -0.32610365058806484,
          0.39878426816230667,
          0.2348059336759787,
          0.4481712176919755,
          -1.2520920333235295,
          -0.7925050502260472,
          -0.9735775247939994,
          -0.734485344177268,
          1.6019428352509786,
          -0.9197488352504017,
          -1.260110007287861,
          -1.401275319557441,
          0.28048867344979356,
          0.5398742976180476,
          1.2693404161629747,
          0.02174200233697176,
          0.5758825701871609,
          -0.3971819183006857,
          2.007524634281026,
          0.2542531697586112,
          2.124799905699015,
          0.23854636661232106,
          -1.3353767948631912,
          -0.28875433211088797,
          2.1105981678674914,
          -1.1841205739312088,
          -0.2751180624877003,
          0.34592624962623897,
          1.452860542911721,
          -0.22830557354245032,
          0.6941858603615232,
          -0.06221123901300216,
          1.1500756463173367,
          0.17578004444302284,
          0.1855363693337805,
          -0.06894228052418856,
          1.5124520733414781,
          -0.7442365080620528,
          1.257738847261052,
          -0.7558131910299117,
          0.8461747570080188,
          -1.023962016133917,
          -0.3684944705468852,
          -1.371233555495302,
          0.10003032653558376,
          -1.462766086646851,
          0.8878824751650943,
          0.028153591910233835,
          0.46774794912917833,
          0.3307143746196127,
          -1.1845420045346338,
          -1.9618580984524323,
          -0.732246263074513,
          0.6085940658832946,
          -0.03244220586345618,
          0.3257523420152298,
          0.3881779356017851,
          -0.46314365970228244,
          -0.4048036974940555,
          0.07307150964048109,
          -0.4763026284720435,
          -1.6423080323929717,
          0.2560438940980801,
          -0.21818862950704257,
          -1.806146593898512,
          0.2707012255172646,
          -0.030261916191567692,
          1.4054762187473853,
          -1.5333257558042204,
          -0.5532599833060223,
          1.2091798359922146,
          -1.4525417745953029,
          1.8353076564468433,
          1.678955166899211,
          -1.803157329169355,
          0.16681204796686866,
          -0.6773913444646897,
          1.2137076973155396
         ],
         "y": [
          -1.1268155649545148,
          -1.122498813378946,
          -1.135768725254598,
          0.4467966029850286,
          1.3026765609179867,
          0.41239621899385204,
          -0.20194627317198083,
          0.8600104477462834,
          -1.962080928569586,
          -0.4373747507849107,
          -0.41116099408156664,
          2.7840699944659364,
          0.31447334515914854,
          0.2846945568087361,
          0.01464292652330145,
          -0.5164290155404124,
          -0.7273626414864659,
          1.2500406257213608,
          0.7731202255669675,
          -0.9471162159751779,
          1.6089268308327083,
          -0.9904605490398387,
          0.5615974449139082,
          0.6556254314738813,
          -0.6759081722055736,
          0.20534170739817065,
          0.9456751353955166,
          -1.076675552019304,
          0.14738107503991746,
          1.3383840015944721,
          -0.0609281141550687,
          0.5320334631127615,
          0.5163656249178235,
          -0.27623286391499047,
          0.02176515577737672,
          -1.1935626046012529,
          -1.4198692167736344,
          0.09636985742351764,
          -0.8804879798268973,
          -0.9081185864365822,
          -0.8560618103964709,
          1.1852558330371423,
          -0.48566165987276,
          -1.2012701660101697,
          0.7926297300526718,
          -0.06358356591116639,
          -1.038802944861722,
          -0.27612451776281827,
          -0.12207689001180816,
          -2.1249927285913555,
          -0.821518663527813,
          -0.12980931693678052,
          -0.3177776735474476,
          0.12212165858303524,
          1.013790299572178,
          0.1855438795019865,
          -0.6846607839438767,
          -0.5758041060600324,
          0.2931824257814475,
          0.029105837703226937,
          -0.9181543264843546,
          -0.5463503458318973,
          -1.3628733886691113,
          -1.7025708249785048,
          -0.35818260653301826,
          1.7347913269431614,
          1.0629400219574894,
          1.4398135023842047,
          -0.2740393711565461,
          1.3039811228012599,
          1.1558129611573011,
          -0.6508793357028155,
          1.2205515513723033,
          1.314346070325035,
          0.11992498626050413,
          -0.4947245634070283,
          0.05126066628653432,
          1.001859445962634,
          -1.0810954813674498,
          -0.666457222263921,
          -0.6584381990642916,
          -0.824169081362802,
          -0.24967133190886032,
          1.67802687375217,
          -1.0298854212050215,
          1.2536598773694319,
          -0.3429477444983214,
          0.015250968057125065,
          0.11036366892160526,
          -1.4051216223380272,
          0.2233147060252078,
          1.18846352552429,
          0.48001189222242213,
          0.9682950297608599,
          -0.22253557884040903,
          0.6610926927680109,
          -0.2499843860765721,
          -0.4441956708253436,
          1.2220525201294656,
          0.4773783868112384
         ]
        }
       ],
       "layout": {
        "legend": {
         "bgcolor": "#F5F6F9",
         "font": {
          "color": "#4D5663"
         }
        },
        "paper_bgcolor": "#F5F6F9",
        "plot_bgcolor": "#F5F6F9",
        "template": {
         "data": {
          "bar": [
           {
            "error_x": {
             "color": "#2a3f5f"
            },
            "error_y": {
             "color": "#2a3f5f"
            },
            "marker": {
             "line": {
              "color": "#E5ECF6",
              "width": 0.5
             },
             "pattern": {
              "fillmode": "overlay",
              "size": 10,
              "solidity": 0.2
             }
            },
            "type": "bar"
           }
          ],
          "barpolar": [
           {
            "marker": {
             "line": {
              "color": "#E5ECF6",
              "width": 0.5
             },
             "pattern": {
              "fillmode": "overlay",
              "size": 10,
              "solidity": 0.2
             }
            },
            "type": "barpolar"
           }
          ],
          "carpet": [
           {
            "aaxis": {
             "endlinecolor": "#2a3f5f",
             "gridcolor": "white",
             "linecolor": "white",
             "minorgridcolor": "white",
             "startlinecolor": "#2a3f5f"
            },
            "baxis": {
             "endlinecolor": "#2a3f5f",
             "gridcolor": "white",
             "linecolor": "white",
             "minorgridcolor": "white",
             "startlinecolor": "#2a3f5f"
            },
            "type": "carpet"
           }
          ],
          "choropleth": [
           {
            "colorbar": {
             "outlinewidth": 0,
             "ticks": ""
            },
            "type": "choropleth"
           }
          ],
          "contour": [
           {
            "colorbar": {
             "outlinewidth": 0,
             "ticks": ""
            },
            "colorscale": [
             [
              0,
              "#0d0887"
             ],
             [
              0.1111111111111111,
              "#46039f"
             ],
             [
              0.2222222222222222,
              "#7201a8"
             ],
             [
              0.3333333333333333,
              "#9c179e"
             ],
             [
              0.4444444444444444,
              "#bd3786"
             ],
             [
              0.5555555555555556,
              "#d8576b"
             ],
             [
              0.6666666666666666,
              "#ed7953"
             ],
             [
              0.7777777777777778,
              "#fb9f3a"
             ],
             [
              0.8888888888888888,
              "#fdca26"
             ],
             [
              1,
              "#f0f921"
             ]
            ],
            "type": "contour"
           }
          ],
          "contourcarpet": [
           {
            "colorbar": {
             "outlinewidth": 0,
             "ticks": ""
            },
            "type": "contourcarpet"
           }
          ],
          "heatmap": [
           {
            "colorbar": {
             "outlinewidth": 0,
             "ticks": ""
            },
            "colorscale": [
             [
              0,
              "#0d0887"
             ],
             [
              0.1111111111111111,
              "#46039f"
             ],
             [
              0.2222222222222222,
              "#7201a8"
             ],
             [
              0.3333333333333333,
              "#9c179e"
             ],
             [
              0.4444444444444444,
              "#bd3786"
             ],
             [
              0.5555555555555556,
              "#d8576b"
             ],
             [
              0.6666666666666666,
              "#ed7953"
             ],
             [
              0.7777777777777778,
              "#fb9f3a"
             ],
             [
              0.8888888888888888,
              "#fdca26"
             ],
             [
              1,
              "#f0f921"
             ]
            ],
            "type": "heatmap"
           }
          ],
          "heatmapgl": [
           {
            "colorbar": {
             "outlinewidth": 0,
             "ticks": ""
            },
            "colorscale": [
             [
              0,
              "#0d0887"
             ],
             [
              0.1111111111111111,
              "#46039f"
             ],
             [
              0.2222222222222222,
              "#7201a8"
             ],
             [
              0.3333333333333333,
              "#9c179e"
             ],
             [
              0.4444444444444444,
              "#bd3786"
             ],
             [
              0.5555555555555556,
              "#d8576b"
             ],
             [
              0.6666666666666666,
              "#ed7953"
             ],
             [
              0.7777777777777778,
              "#fb9f3a"
             ],
             [
              0.8888888888888888,
              "#fdca26"
             ],
             [
              1,
              "#f0f921"
             ]
            ],
            "type": "heatmapgl"
           }
          ],
          "histogram": [
           {
            "marker": {
             "pattern": {
              "fillmode": "overlay",
              "size": 10,
              "solidity": 0.2
             }
            },
            "type": "histogram"
           }
          ],
          "histogram2d": [
           {
            "colorbar": {
             "outlinewidth": 0,
             "ticks": ""
            },
            "colorscale": [
             [
              0,
              "#0d0887"
             ],
             [
              0.1111111111111111,
              "#46039f"
             ],
             [
              0.2222222222222222,
              "#7201a8"
             ],
             [
              0.3333333333333333,
              "#9c179e"
             ],
             [
              0.4444444444444444,
              "#bd3786"
             ],
             [
              0.5555555555555556,
              "#d8576b"
             ],
             [
              0.6666666666666666,
              "#ed7953"
             ],
             [
              0.7777777777777778,
              "#fb9f3a"
             ],
             [
              0.8888888888888888,
              "#fdca26"
             ],
             [
              1,
              "#f0f921"
             ]
            ],
            "type": "histogram2d"
           }
          ],
          "histogram2dcontour": [
           {
            "colorbar": {
             "outlinewidth": 0,
             "ticks": ""
            },
            "colorscale": [
             [
              0,
              "#0d0887"
             ],
             [
              0.1111111111111111,
              "#46039f"
             ],
             [
              0.2222222222222222,
              "#7201a8"
             ],
             [
              0.3333333333333333,
              "#9c179e"
             ],
             [
              0.4444444444444444,
              "#bd3786"
             ],
             [
              0.5555555555555556,
              "#d8576b"
             ],
             [
              0.6666666666666666,
              "#ed7953"
             ],
             [
              0.7777777777777778,
              "#fb9f3a"
             ],
             [
              0.8888888888888888,
              "#fdca26"
             ],
             [
              1,
              "#f0f921"
             ]
            ],
            "type": "histogram2dcontour"
           }
          ],
          "mesh3d": [
           {
            "colorbar": {
             "outlinewidth": 0,
             "ticks": ""
            },
            "type": "mesh3d"
           }
          ],
          "parcoords": [
           {
            "line": {
             "colorbar": {
              "outlinewidth": 0,
              "ticks": ""
             }
            },
            "type": "parcoords"
           }
          ],
          "pie": [
           {
            "automargin": true,
            "type": "pie"
           }
          ],
          "scatter": [
           {
            "fillpattern": {
             "fillmode": "overlay",
             "size": 10,
             "solidity": 0.2
            },
            "type": "scatter"
           }
          ],
          "scatter3d": [
           {
            "line": {
             "colorbar": {
              "outlinewidth": 0,
              "ticks": ""
             }
            },
            "marker": {
             "colorbar": {
              "outlinewidth": 0,
              "ticks": ""
             }
            },
            "type": "scatter3d"
           }
          ],
          "scattercarpet": [
           {
            "marker": {
             "colorbar": {
              "outlinewidth": 0,
              "ticks": ""
             }
            },
            "type": "scattercarpet"
           }
          ],
          "scattergeo": [
           {
            "marker": {
             "colorbar": {
              "outlinewidth": 0,
              "ticks": ""
             }
            },
            "type": "scattergeo"
           }
          ],
          "scattergl": [
           {
            "marker": {
             "colorbar": {
              "outlinewidth": 0,
              "ticks": ""
             }
            },
            "type": "scattergl"
           }
          ],
          "scattermapbox": [
           {
            "marker": {
             "colorbar": {
              "outlinewidth": 0,
              "ticks": ""
             }
            },
            "type": "scattermapbox"
           }
          ],
          "scatterpolar": [
           {
            "marker": {
             "colorbar": {
              "outlinewidth": 0,
              "ticks": ""
             }
            },
            "type": "scatterpolar"
           }
          ],
          "scatterpolargl": [
           {
            "marker": {
             "colorbar": {
              "outlinewidth": 0,
              "ticks": ""
             }
            },
            "type": "scatterpolargl"
           }
          ],
          "scatterternary": [
           {
            "marker": {
             "colorbar": {
              "outlinewidth": 0,
              "ticks": ""
             }
            },
            "type": "scatterternary"
           }
          ],
          "surface": [
           {
            "colorbar": {
             "outlinewidth": 0,
             "ticks": ""
            },
            "colorscale": [
             [
              0,
              "#0d0887"
             ],
             [
              0.1111111111111111,
              "#46039f"
             ],
             [
              0.2222222222222222,
              "#7201a8"
             ],
             [
              0.3333333333333333,
              "#9c179e"
             ],
             [
              0.4444444444444444,
              "#bd3786"
             ],
             [
              0.5555555555555556,
              "#d8576b"
             ],
             [
              0.6666666666666666,
              "#ed7953"
             ],
             [
              0.7777777777777778,
              "#fb9f3a"
             ],
             [
              0.8888888888888888,
              "#fdca26"
             ],
             [
              1,
              "#f0f921"
             ]
            ],
            "type": "surface"
           }
          ],
          "table": [
           {
            "cells": {
             "fill": {
              "color": "#EBF0F8"
             },
             "line": {
              "color": "white"
             }
            },
            "header": {
             "fill": {
              "color": "#C8D4E3"
             },
             "line": {
              "color": "white"
             }
            },
            "type": "table"
           }
          ]
         },
         "layout": {
          "annotationdefaults": {
           "arrowcolor": "#2a3f5f",
           "arrowhead": 0,
           "arrowwidth": 1
          },
          "autotypenumbers": "strict",
          "coloraxis": {
           "colorbar": {
            "outlinewidth": 0,
            "ticks": ""
           }
          },
          "colorscale": {
           "diverging": [
            [
             0,
             "#8e0152"
            ],
            [
             0.1,
             "#c51b7d"
            ],
            [
             0.2,
             "#de77ae"
            ],
            [
             0.3,
             "#f1b6da"
            ],
            [
             0.4,
             "#fde0ef"
            ],
            [
             0.5,
             "#f7f7f7"
            ],
            [
             0.6,
             "#e6f5d0"
            ],
            [
             0.7,
             "#b8e186"
            ],
            [
             0.8,
             "#7fbc41"
            ],
            [
             0.9,
             "#4d9221"
            ],
            [
             1,
             "#276419"
            ]
           ],
           "sequential": [
            [
             0,
             "#0d0887"
            ],
            [
             0.1111111111111111,
             "#46039f"
            ],
            [
             0.2222222222222222,
             "#7201a8"
            ],
            [
             0.3333333333333333,
             "#9c179e"
            ],
            [
             0.4444444444444444,
             "#bd3786"
            ],
            [
             0.5555555555555556,
             "#d8576b"
            ],
            [
             0.6666666666666666,
             "#ed7953"
            ],
            [
             0.7777777777777778,
             "#fb9f3a"
            ],
            [
             0.8888888888888888,
             "#fdca26"
            ],
            [
             1,
             "#f0f921"
            ]
           ],
           "sequentialminus": [
            [
             0,
             "#0d0887"
            ],
            [
             0.1111111111111111,
             "#46039f"
            ],
            [
             0.2222222222222222,
             "#7201a8"
            ],
            [
             0.3333333333333333,
             "#9c179e"
            ],
            [
             0.4444444444444444,
             "#bd3786"
            ],
            [
             0.5555555555555556,
             "#d8576b"
            ],
            [
             0.6666666666666666,
             "#ed7953"
            ],
            [
             0.7777777777777778,
             "#fb9f3a"
            ],
            [
             0.8888888888888888,
             "#fdca26"
            ],
            [
             1,
             "#f0f921"
            ]
           ]
          },
          "colorway": [
           "#636efa",
           "#EF553B",
           "#00cc96",
           "#ab63fa",
           "#FFA15A",
           "#19d3f3",
           "#FF6692",
           "#B6E880",
           "#FF97FF",
           "#FECB52"
          ],
          "font": {
           "color": "#2a3f5f"
          },
          "geo": {
           "bgcolor": "white",
           "lakecolor": "white",
           "landcolor": "#E5ECF6",
           "showlakes": true,
           "showland": true,
           "subunitcolor": "white"
          },
          "hoverlabel": {
           "align": "left"
          },
          "hovermode": "closest",
          "mapbox": {
           "style": "light"
          },
          "paper_bgcolor": "white",
          "plot_bgcolor": "#E5ECF6",
          "polar": {
           "angularaxis": {
            "gridcolor": "white",
            "linecolor": "white",
            "ticks": ""
           },
           "bgcolor": "#E5ECF6",
           "radialaxis": {
            "gridcolor": "white",
            "linecolor": "white",
            "ticks": ""
           }
          },
          "scene": {
           "xaxis": {
            "backgroundcolor": "#E5ECF6",
            "gridcolor": "white",
            "gridwidth": 2,
            "linecolor": "white",
            "showbackground": true,
            "ticks": "",
            "zerolinecolor": "white"
           },
           "yaxis": {
            "backgroundcolor": "#E5ECF6",
            "gridcolor": "white",
            "gridwidth": 2,
            "linecolor": "white",
            "showbackground": true,
            "ticks": "",
            "zerolinecolor": "white"
           },
           "zaxis": {
            "backgroundcolor": "#E5ECF6",
            "gridcolor": "white",
            "gridwidth": 2,
            "linecolor": "white",
            "showbackground": true,
            "ticks": "",
            "zerolinecolor": "white"
           }
          },
          "shapedefaults": {
           "line": {
            "color": "#2a3f5f"
           }
          },
          "ternary": {
           "aaxis": {
            "gridcolor": "white",
            "linecolor": "white",
            "ticks": ""
           },
           "baxis": {
            "gridcolor": "white",
            "linecolor": "white",
            "ticks": ""
           },
           "bgcolor": "#E5ECF6",
           "caxis": {
            "gridcolor": "white",
            "linecolor": "white",
            "ticks": ""
           }
          },
          "title": {
           "x": 0.05
          },
          "xaxis": {
           "automargin": true,
           "gridcolor": "white",
           "linecolor": "white",
           "ticks": "",
           "title": {
            "standoff": 15
           },
           "zerolinecolor": "white",
           "zerolinewidth": 2
          },
          "yaxis": {
           "automargin": true,
           "gridcolor": "white",
           "linecolor": "white",
           "ticks": "",
           "title": {
            "standoff": 15
           },
           "zerolinecolor": "white",
           "zerolinewidth": 2
          }
         }
        },
        "title": {
         "font": {
          "color": "#4D5663"
         }
        },
        "xaxis": {
         "gridcolor": "#E1E5ED",
         "showgrid": true,
         "tickfont": {
          "color": "#4D5663"
         },
         "title": {
          "font": {
           "color": "#4D5663"
          },
          "text": ""
         },
         "zerolinecolor": "#E1E5ED"
        },
        "yaxis": {
         "gridcolor": "#E1E5ED",
         "showgrid": true,
         "tickfont": {
          "color": "#4D5663"
         },
         "title": {
          "font": {
           "color": "#4D5663"
          },
          "text": ""
         },
         "zerolinecolor": "#E1E5ED"
        }
       }
      },
      "text/html": [
       "<div>                            <div id=\"52c0b732-4176-4cf6-9641-4f8d966fdc4d\" class=\"plotly-graph-div\" style=\"height:525px; width:100%;\"></div>            <script type=\"text/javascript\">                require([\"plotly\"], function(Plotly) {                    window.PLOTLYENV=window.PLOTLYENV || {};\n",
       "                    window.PLOTLYENV.BASE_URL='https://plot.ly';                                    if (document.getElementById(\"52c0b732-4176-4cf6-9641-4f8d966fdc4d\")) {                    Plotly.newPlot(                        \"52c0b732-4176-4cf6-9641-4f8d966fdc4d\",                        [{\"line\":{\"color\":\"rgba(255, 153, 51, 1.0)\",\"dash\":\"solid\",\"shape\":\"linear\",\"width\":1.3},\"marker\":{\"size\":10,\"symbol\":\"circle\"},\"mode\":\"markers\",\"name\":\"B\",\"text\":\"\",\"x\":[0.6616028000153031,0.7974564222354177,-0.0863295983531025,0.7258958330757438,0.3805843872250716,0.9546612272488477,-1.1110120769710934,-0.3764646972195968,-1.5318298280733997,-0.37561921842675816,0.7755753395886864,-0.7160422754394841,0.5676483268168749,-0.5756773924464362,-0.45704522048156193,0.7744748888395329,0.08899280994212116,-0.5509914982640807,-0.3488498089051454,-0.037555887655825564,0.7918282653696499,-1.4001775724705254,-0.32610365058806484,0.39878426816230667,0.2348059336759787,0.4481712176919755,-1.2520920333235295,-0.7925050502260472,-0.9735775247939994,-0.734485344177268,1.6019428352509786,-0.9197488352504017,-1.260110007287861,-1.401275319557441,0.28048867344979356,0.5398742976180476,1.2693404161629747,0.02174200233697176,0.5758825701871609,-0.3971819183006857,2.007524634281026,0.2542531697586112,2.124799905699015,0.23854636661232106,-1.3353767948631912,-0.28875433211088797,2.1105981678674914,-1.1841205739312088,-0.2751180624877003,0.34592624962623897,1.452860542911721,-0.22830557354245032,0.6941858603615232,-0.06221123901300216,1.1500756463173367,0.17578004444302284,0.1855363693337805,-0.06894228052418856,1.5124520733414781,-0.7442365080620528,1.257738847261052,-0.7558131910299117,0.8461747570080188,-1.023962016133917,-0.3684944705468852,-1.371233555495302,0.10003032653558376,-1.462766086646851,0.8878824751650943,0.028153591910233835,0.46774794912917833,0.3307143746196127,-1.1845420045346338,-1.9618580984524323,-0.732246263074513,0.6085940658832946,-0.03244220586345618,0.3257523420152298,0.3881779356017851,-0.46314365970228244,-0.4048036974940555,0.07307150964048109,-0.4763026284720435,-1.6423080323929717,0.2560438940980801,-0.21818862950704257,-1.806146593898512,0.2707012255172646,-0.030261916191567692,1.4054762187473853,-1.5333257558042204,-0.5532599833060223,1.2091798359922146,-1.4525417745953029,1.8353076564468433,1.678955166899211,-1.803157329169355,0.16681204796686866,-0.6773913444646897,1.2137076973155396],\"y\":[-1.1268155649545148,-1.122498813378946,-1.135768725254598,0.4467966029850286,1.3026765609179867,0.41239621899385204,-0.20194627317198083,0.8600104477462834,-1.962080928569586,-0.4373747507849107,-0.41116099408156664,2.7840699944659364,0.31447334515914854,0.2846945568087361,0.01464292652330145,-0.5164290155404124,-0.7273626414864659,1.2500406257213608,0.7731202255669675,-0.9471162159751779,1.6089268308327083,-0.9904605490398387,0.5615974449139082,0.6556254314738813,-0.6759081722055736,0.20534170739817065,0.9456751353955166,-1.076675552019304,0.14738107503991746,1.3383840015944721,-0.0609281141550687,0.5320334631127615,0.5163656249178235,-0.27623286391499047,0.02176515577737672,-1.1935626046012529,-1.4198692167736344,0.09636985742351764,-0.8804879798268973,-0.9081185864365822,-0.8560618103964709,1.1852558330371423,-0.48566165987276,-1.2012701660101697,0.7926297300526718,-0.06358356591116639,-1.038802944861722,-0.27612451776281827,-0.12207689001180816,-2.1249927285913555,-0.821518663527813,-0.12980931693678052,-0.3177776735474476,0.12212165858303524,1.013790299572178,0.1855438795019865,-0.6846607839438767,-0.5758041060600324,0.2931824257814475,0.029105837703226937,-0.9181543264843546,-0.5463503458318973,-1.3628733886691113,-1.7025708249785048,-0.35818260653301826,1.7347913269431614,1.0629400219574894,1.4398135023842047,-0.2740393711565461,1.3039811228012599,1.1558129611573011,-0.6508793357028155,1.2205515513723033,1.314346070325035,0.11992498626050413,-0.4947245634070283,0.05126066628653432,1.001859445962634,-1.0810954813674498,-0.666457222263921,-0.6584381990642916,-0.824169081362802,-0.24967133190886032,1.67802687375217,-1.0298854212050215,1.2536598773694319,-0.3429477444983214,0.015250968057125065,0.11036366892160526,-1.4051216223380272,0.2233147060252078,1.18846352552429,0.48001189222242213,0.9682950297608599,-0.22253557884040903,0.6610926927680109,-0.2499843860765721,-0.4441956708253436,1.2220525201294656,0.4773783868112384],\"type\":\"scatter\"}],                        {\"legend\":{\"bgcolor\":\"#F5F6F9\",\"font\":{\"color\":\"#4D5663\"}},\"paper_bgcolor\":\"#F5F6F9\",\"plot_bgcolor\":\"#F5F6F9\",\"template\":{\"data\":{\"barpolar\":[{\"marker\":{\"line\":{\"color\":\"#E5ECF6\",\"width\":0.5},\"pattern\":{\"fillmode\":\"overlay\",\"size\":10,\"solidity\":0.2}},\"type\":\"barpolar\"}],\"bar\":[{\"error_x\":{\"color\":\"#2a3f5f\"},\"error_y\":{\"color\":\"#2a3f5f\"},\"marker\":{\"line\":{\"color\":\"#E5ECF6\",\"width\":0.5},\"pattern\":{\"fillmode\":\"overlay\",\"size\":10,\"solidity\":0.2}},\"type\":\"bar\"}],\"carpet\":[{\"aaxis\":{\"endlinecolor\":\"#2a3f5f\",\"gridcolor\":\"white\",\"linecolor\":\"white\",\"minorgridcolor\":\"white\",\"startlinecolor\":\"#2a3f5f\"},\"baxis\":{\"endlinecolor\":\"#2a3f5f\",\"gridcolor\":\"white\",\"linecolor\":\"white\",\"minorgridcolor\":\"white\",\"startlinecolor\":\"#2a3f5f\"},\"type\":\"carpet\"}],\"choropleth\":[{\"colorbar\":{\"outlinewidth\":0,\"ticks\":\"\"},\"type\":\"choropleth\"}],\"contourcarpet\":[{\"colorbar\":{\"outlinewidth\":0,\"ticks\":\"\"},\"type\":\"contourcarpet\"}],\"contour\":[{\"colorbar\":{\"outlinewidth\":0,\"ticks\":\"\"},\"colorscale\":[[0.0,\"#0d0887\"],[0.1111111111111111,\"#46039f\"],[0.2222222222222222,\"#7201a8\"],[0.3333333333333333,\"#9c179e\"],[0.4444444444444444,\"#bd3786\"],[0.5555555555555556,\"#d8576b\"],[0.6666666666666666,\"#ed7953\"],[0.7777777777777778,\"#fb9f3a\"],[0.8888888888888888,\"#fdca26\"],[1.0,\"#f0f921\"]],\"type\":\"contour\"}],\"heatmapgl\":[{\"colorbar\":{\"outlinewidth\":0,\"ticks\":\"\"},\"colorscale\":[[0.0,\"#0d0887\"],[0.1111111111111111,\"#46039f\"],[0.2222222222222222,\"#7201a8\"],[0.3333333333333333,\"#9c179e\"],[0.4444444444444444,\"#bd3786\"],[0.5555555555555556,\"#d8576b\"],[0.6666666666666666,\"#ed7953\"],[0.7777777777777778,\"#fb9f3a\"],[0.8888888888888888,\"#fdca26\"],[1.0,\"#f0f921\"]],\"type\":\"heatmapgl\"}],\"heatmap\":[{\"colorbar\":{\"outlinewidth\":0,\"ticks\":\"\"},\"colorscale\":[[0.0,\"#0d0887\"],[0.1111111111111111,\"#46039f\"],[0.2222222222222222,\"#7201a8\"],[0.3333333333333333,\"#9c179e\"],[0.4444444444444444,\"#bd3786\"],[0.5555555555555556,\"#d8576b\"],[0.6666666666666666,\"#ed7953\"],[0.7777777777777778,\"#fb9f3a\"],[0.8888888888888888,\"#fdca26\"],[1.0,\"#f0f921\"]],\"type\":\"heatmap\"}],\"histogram2dcontour\":[{\"colorbar\":{\"outlinewidth\":0,\"ticks\":\"\"},\"colorscale\":[[0.0,\"#0d0887\"],[0.1111111111111111,\"#46039f\"],[0.2222222222222222,\"#7201a8\"],[0.3333333333333333,\"#9c179e\"],[0.4444444444444444,\"#bd3786\"],[0.5555555555555556,\"#d8576b\"],[0.6666666666666666,\"#ed7953\"],[0.7777777777777778,\"#fb9f3a\"],[0.8888888888888888,\"#fdca26\"],[1.0,\"#f0f921\"]],\"type\":\"histogram2dcontour\"}],\"histogram2d\":[{\"colorbar\":{\"outlinewidth\":0,\"ticks\":\"\"},\"colorscale\":[[0.0,\"#0d0887\"],[0.1111111111111111,\"#46039f\"],[0.2222222222222222,\"#7201a8\"],[0.3333333333333333,\"#9c179e\"],[0.4444444444444444,\"#bd3786\"],[0.5555555555555556,\"#d8576b\"],[0.6666666666666666,\"#ed7953\"],[0.7777777777777778,\"#fb9f3a\"],[0.8888888888888888,\"#fdca26\"],[1.0,\"#f0f921\"]],\"type\":\"histogram2d\"}],\"histogram\":[{\"marker\":{\"pattern\":{\"fillmode\":\"overlay\",\"size\":10,\"solidity\":0.2}},\"type\":\"histogram\"}],\"mesh3d\":[{\"colorbar\":{\"outlinewidth\":0,\"ticks\":\"\"},\"type\":\"mesh3d\"}],\"parcoords\":[{\"line\":{\"colorbar\":{\"outlinewidth\":0,\"ticks\":\"\"}},\"type\":\"parcoords\"}],\"pie\":[{\"automargin\":true,\"type\":\"pie\"}],\"scatter3d\":[{\"line\":{\"colorbar\":{\"outlinewidth\":0,\"ticks\":\"\"}},\"marker\":{\"colorbar\":{\"outlinewidth\":0,\"ticks\":\"\"}},\"type\":\"scatter3d\"}],\"scattercarpet\":[{\"marker\":{\"colorbar\":{\"outlinewidth\":0,\"ticks\":\"\"}},\"type\":\"scattercarpet\"}],\"scattergeo\":[{\"marker\":{\"colorbar\":{\"outlinewidth\":0,\"ticks\":\"\"}},\"type\":\"scattergeo\"}],\"scattergl\":[{\"marker\":{\"colorbar\":{\"outlinewidth\":0,\"ticks\":\"\"}},\"type\":\"scattergl\"}],\"scattermapbox\":[{\"marker\":{\"colorbar\":{\"outlinewidth\":0,\"ticks\":\"\"}},\"type\":\"scattermapbox\"}],\"scatterpolargl\":[{\"marker\":{\"colorbar\":{\"outlinewidth\":0,\"ticks\":\"\"}},\"type\":\"scatterpolargl\"}],\"scatterpolar\":[{\"marker\":{\"colorbar\":{\"outlinewidth\":0,\"ticks\":\"\"}},\"type\":\"scatterpolar\"}],\"scatter\":[{\"fillpattern\":{\"fillmode\":\"overlay\",\"size\":10,\"solidity\":0.2},\"type\":\"scatter\"}],\"scatterternary\":[{\"marker\":{\"colorbar\":{\"outlinewidth\":0,\"ticks\":\"\"}},\"type\":\"scatterternary\"}],\"surface\":[{\"colorbar\":{\"outlinewidth\":0,\"ticks\":\"\"},\"colorscale\":[[0.0,\"#0d0887\"],[0.1111111111111111,\"#46039f\"],[0.2222222222222222,\"#7201a8\"],[0.3333333333333333,\"#9c179e\"],[0.4444444444444444,\"#bd3786\"],[0.5555555555555556,\"#d8576b\"],[0.6666666666666666,\"#ed7953\"],[0.7777777777777778,\"#fb9f3a\"],[0.8888888888888888,\"#fdca26\"],[1.0,\"#f0f921\"]],\"type\":\"surface\"}],\"table\":[{\"cells\":{\"fill\":{\"color\":\"#EBF0F8\"},\"line\":{\"color\":\"white\"}},\"header\":{\"fill\":{\"color\":\"#C8D4E3\"},\"line\":{\"color\":\"white\"}},\"type\":\"table\"}]},\"layout\":{\"annotationdefaults\":{\"arrowcolor\":\"#2a3f5f\",\"arrowhead\":0,\"arrowwidth\":1},\"autotypenumbers\":\"strict\",\"coloraxis\":{\"colorbar\":{\"outlinewidth\":0,\"ticks\":\"\"}},\"colorscale\":{\"diverging\":[[0,\"#8e0152\"],[0.1,\"#c51b7d\"],[0.2,\"#de77ae\"],[0.3,\"#f1b6da\"],[0.4,\"#fde0ef\"],[0.5,\"#f7f7f7\"],[0.6,\"#e6f5d0\"],[0.7,\"#b8e186\"],[0.8,\"#7fbc41\"],[0.9,\"#4d9221\"],[1,\"#276419\"]],\"sequential\":[[0.0,\"#0d0887\"],[0.1111111111111111,\"#46039f\"],[0.2222222222222222,\"#7201a8\"],[0.3333333333333333,\"#9c179e\"],[0.4444444444444444,\"#bd3786\"],[0.5555555555555556,\"#d8576b\"],[0.6666666666666666,\"#ed7953\"],[0.7777777777777778,\"#fb9f3a\"],[0.8888888888888888,\"#fdca26\"],[1.0,\"#f0f921\"]],\"sequentialminus\":[[0.0,\"#0d0887\"],[0.1111111111111111,\"#46039f\"],[0.2222222222222222,\"#7201a8\"],[0.3333333333333333,\"#9c179e\"],[0.4444444444444444,\"#bd3786\"],[0.5555555555555556,\"#d8576b\"],[0.6666666666666666,\"#ed7953\"],[0.7777777777777778,\"#fb9f3a\"],[0.8888888888888888,\"#fdca26\"],[1.0,\"#f0f921\"]]},\"colorway\":[\"#636efa\",\"#EF553B\",\"#00cc96\",\"#ab63fa\",\"#FFA15A\",\"#19d3f3\",\"#FF6692\",\"#B6E880\",\"#FF97FF\",\"#FECB52\"],\"font\":{\"color\":\"#2a3f5f\"},\"geo\":{\"bgcolor\":\"white\",\"lakecolor\":\"white\",\"landcolor\":\"#E5ECF6\",\"showlakes\":true,\"showland\":true,\"subunitcolor\":\"white\"},\"hoverlabel\":{\"align\":\"left\"},\"hovermode\":\"closest\",\"mapbox\":{\"style\":\"light\"},\"paper_bgcolor\":\"white\",\"plot_bgcolor\":\"#E5ECF6\",\"polar\":{\"angularaxis\":{\"gridcolor\":\"white\",\"linecolor\":\"white\",\"ticks\":\"\"},\"bgcolor\":\"#E5ECF6\",\"radialaxis\":{\"gridcolor\":\"white\",\"linecolor\":\"white\",\"ticks\":\"\"}},\"scene\":{\"xaxis\":{\"backgroundcolor\":\"#E5ECF6\",\"gridcolor\":\"white\",\"gridwidth\":2,\"linecolor\":\"white\",\"showbackground\":true,\"ticks\":\"\",\"zerolinecolor\":\"white\"},\"yaxis\":{\"backgroundcolor\":\"#E5ECF6\",\"gridcolor\":\"white\",\"gridwidth\":2,\"linecolor\":\"white\",\"showbackground\":true,\"ticks\":\"\",\"zerolinecolor\":\"white\"},\"zaxis\":{\"backgroundcolor\":\"#E5ECF6\",\"gridcolor\":\"white\",\"gridwidth\":2,\"linecolor\":\"white\",\"showbackground\":true,\"ticks\":\"\",\"zerolinecolor\":\"white\"}},\"shapedefaults\":{\"line\":{\"color\":\"#2a3f5f\"}},\"ternary\":{\"aaxis\":{\"gridcolor\":\"white\",\"linecolor\":\"white\",\"ticks\":\"\"},\"baxis\":{\"gridcolor\":\"white\",\"linecolor\":\"white\",\"ticks\":\"\"},\"bgcolor\":\"#E5ECF6\",\"caxis\":{\"gridcolor\":\"white\",\"linecolor\":\"white\",\"ticks\":\"\"}},\"title\":{\"x\":0.05},\"xaxis\":{\"automargin\":true,\"gridcolor\":\"white\",\"linecolor\":\"white\",\"ticks\":\"\",\"title\":{\"standoff\":15},\"zerolinecolor\":\"white\",\"zerolinewidth\":2},\"yaxis\":{\"automargin\":true,\"gridcolor\":\"white\",\"linecolor\":\"white\",\"ticks\":\"\",\"title\":{\"standoff\":15},\"zerolinecolor\":\"white\",\"zerolinewidth\":2}}},\"title\":{\"font\":{\"color\":\"#4D5663\"}},\"xaxis\":{\"gridcolor\":\"#E1E5ED\",\"showgrid\":true,\"tickfont\":{\"color\":\"#4D5663\"},\"title\":{\"font\":{\"color\":\"#4D5663\"},\"text\":\"\"},\"zerolinecolor\":\"#E1E5ED\"},\"yaxis\":{\"gridcolor\":\"#E1E5ED\",\"showgrid\":true,\"tickfont\":{\"color\":\"#4D5663\"},\"title\":{\"font\":{\"color\":\"#4D5663\"},\"text\":\"\"},\"zerolinecolor\":\"#E1E5ED\"}},                        {\"showLink\": true, \"linkText\": \"Export to plot.ly\", \"plotlyServerURL\": \"https://plot.ly\", \"responsive\": true}                    ).then(function(){\n",
       "                            \n",
       "var gd = document.getElementById('52c0b732-4176-4cf6-9641-4f8d966fdc4d');\n",
       "var x = new MutationObserver(function (mutations, observer) {{\n",
       "        var display = window.getComputedStyle(gd).display;\n",
       "        if (!display || display === 'none') {{\n",
       "            console.log([gd, 'removed!']);\n",
       "            Plotly.purge(gd);\n",
       "            observer.disconnect();\n",
       "        }}\n",
       "}});\n",
       "\n",
       "// Listen for the removal of the full notebook cells\n",
       "var notebookContainer = gd.closest('#notebook-container');\n",
       "if (notebookContainer) {{\n",
       "    x.observe(notebookContainer, {childList: true});\n",
       "}}\n",
       "\n",
       "// Listen for the clearing of the current output cell\n",
       "var outputEl = gd.closest('.output');\n",
       "if (outputEl) {{\n",
       "    x.observe(outputEl, {childList: true});\n",
       "}}\n",
       "\n",
       "                        })                };                });            </script>        </div>"
      ]
     },
     "metadata": {},
     "output_type": "display_data"
    }
   ],
   "source": [
    "df.iplot(kind='scatter',x='A',y='B',mode='markers',size=10)"
   ]
  },
  {
   "cell_type": "markdown",
   "metadata": {},
   "source": [
    "## Bar Plots"
   ]
  },
  {
   "cell_type": "code",
   "execution_count": 46,
   "metadata": {},
   "outputs": [
    {
     "data": {
      "application/vnd.plotly.v1+json": {
       "config": {
        "linkText": "Export to plot.ly",
        "plotlyServerURL": "https://plot.ly",
        "showLink": true
       },
       "data": [
        {
         "marker": {
          "color": "rgba(255, 153, 51, 0.6)",
          "line": {
           "color": "rgba(255, 153, 51, 1.0)",
           "width": 1
          }
         },
         "name": "Values",
         "orientation": "v",
         "text": "",
         "type": "bar",
         "x": [
          "A",
          "B",
          "C"
         ],
         "y": [
          32,
          43,
          50
         ]
        }
       ],
       "layout": {
        "legend": {
         "bgcolor": "#F5F6F9",
         "font": {
          "color": "#4D5663"
         }
        },
        "paper_bgcolor": "#F5F6F9",
        "plot_bgcolor": "#F5F6F9",
        "template": {
         "data": {
          "bar": [
           {
            "error_x": {
             "color": "#2a3f5f"
            },
            "error_y": {
             "color": "#2a3f5f"
            },
            "marker": {
             "line": {
              "color": "#E5ECF6",
              "width": 0.5
             },
             "pattern": {
              "fillmode": "overlay",
              "size": 10,
              "solidity": 0.2
             }
            },
            "type": "bar"
           }
          ],
          "barpolar": [
           {
            "marker": {
             "line": {
              "color": "#E5ECF6",
              "width": 0.5
             },
             "pattern": {
              "fillmode": "overlay",
              "size": 10,
              "solidity": 0.2
             }
            },
            "type": "barpolar"
           }
          ],
          "carpet": [
           {
            "aaxis": {
             "endlinecolor": "#2a3f5f",
             "gridcolor": "white",
             "linecolor": "white",
             "minorgridcolor": "white",
             "startlinecolor": "#2a3f5f"
            },
            "baxis": {
             "endlinecolor": "#2a3f5f",
             "gridcolor": "white",
             "linecolor": "white",
             "minorgridcolor": "white",
             "startlinecolor": "#2a3f5f"
            },
            "type": "carpet"
           }
          ],
          "choropleth": [
           {
            "colorbar": {
             "outlinewidth": 0,
             "ticks": ""
            },
            "type": "choropleth"
           }
          ],
          "contour": [
           {
            "colorbar": {
             "outlinewidth": 0,
             "ticks": ""
            },
            "colorscale": [
             [
              0,
              "#0d0887"
             ],
             [
              0.1111111111111111,
              "#46039f"
             ],
             [
              0.2222222222222222,
              "#7201a8"
             ],
             [
              0.3333333333333333,
              "#9c179e"
             ],
             [
              0.4444444444444444,
              "#bd3786"
             ],
             [
              0.5555555555555556,
              "#d8576b"
             ],
             [
              0.6666666666666666,
              "#ed7953"
             ],
             [
              0.7777777777777778,
              "#fb9f3a"
             ],
             [
              0.8888888888888888,
              "#fdca26"
             ],
             [
              1,
              "#f0f921"
             ]
            ],
            "type": "contour"
           }
          ],
          "contourcarpet": [
           {
            "colorbar": {
             "outlinewidth": 0,
             "ticks": ""
            },
            "type": "contourcarpet"
           }
          ],
          "heatmap": [
           {
            "colorbar": {
             "outlinewidth": 0,
             "ticks": ""
            },
            "colorscale": [
             [
              0,
              "#0d0887"
             ],
             [
              0.1111111111111111,
              "#46039f"
             ],
             [
              0.2222222222222222,
              "#7201a8"
             ],
             [
              0.3333333333333333,
              "#9c179e"
             ],
             [
              0.4444444444444444,
              "#bd3786"
             ],
             [
              0.5555555555555556,
              "#d8576b"
             ],
             [
              0.6666666666666666,
              "#ed7953"
             ],
             [
              0.7777777777777778,
              "#fb9f3a"
             ],
             [
              0.8888888888888888,
              "#fdca26"
             ],
             [
              1,
              "#f0f921"
             ]
            ],
            "type": "heatmap"
           }
          ],
          "heatmapgl": [
           {
            "colorbar": {
             "outlinewidth": 0,
             "ticks": ""
            },
            "colorscale": [
             [
              0,
              "#0d0887"
             ],
             [
              0.1111111111111111,
              "#46039f"
             ],
             [
              0.2222222222222222,
              "#7201a8"
             ],
             [
              0.3333333333333333,
              "#9c179e"
             ],
             [
              0.4444444444444444,
              "#bd3786"
             ],
             [
              0.5555555555555556,
              "#d8576b"
             ],
             [
              0.6666666666666666,
              "#ed7953"
             ],
             [
              0.7777777777777778,
              "#fb9f3a"
             ],
             [
              0.8888888888888888,
              "#fdca26"
             ],
             [
              1,
              "#f0f921"
             ]
            ],
            "type": "heatmapgl"
           }
          ],
          "histogram": [
           {
            "marker": {
             "pattern": {
              "fillmode": "overlay",
              "size": 10,
              "solidity": 0.2
             }
            },
            "type": "histogram"
           }
          ],
          "histogram2d": [
           {
            "colorbar": {
             "outlinewidth": 0,
             "ticks": ""
            },
            "colorscale": [
             [
              0,
              "#0d0887"
             ],
             [
              0.1111111111111111,
              "#46039f"
             ],
             [
              0.2222222222222222,
              "#7201a8"
             ],
             [
              0.3333333333333333,
              "#9c179e"
             ],
             [
              0.4444444444444444,
              "#bd3786"
             ],
             [
              0.5555555555555556,
              "#d8576b"
             ],
             [
              0.6666666666666666,
              "#ed7953"
             ],
             [
              0.7777777777777778,
              "#fb9f3a"
             ],
             [
              0.8888888888888888,
              "#fdca26"
             ],
             [
              1,
              "#f0f921"
             ]
            ],
            "type": "histogram2d"
           }
          ],
          "histogram2dcontour": [
           {
            "colorbar": {
             "outlinewidth": 0,
             "ticks": ""
            },
            "colorscale": [
             [
              0,
              "#0d0887"
             ],
             [
              0.1111111111111111,
              "#46039f"
             ],
             [
              0.2222222222222222,
              "#7201a8"
             ],
             [
              0.3333333333333333,
              "#9c179e"
             ],
             [
              0.4444444444444444,
              "#bd3786"
             ],
             [
              0.5555555555555556,
              "#d8576b"
             ],
             [
              0.6666666666666666,
              "#ed7953"
             ],
             [
              0.7777777777777778,
              "#fb9f3a"
             ],
             [
              0.8888888888888888,
              "#fdca26"
             ],
             [
              1,
              "#f0f921"
             ]
            ],
            "type": "histogram2dcontour"
           }
          ],
          "mesh3d": [
           {
            "colorbar": {
             "outlinewidth": 0,
             "ticks": ""
            },
            "type": "mesh3d"
           }
          ],
          "parcoords": [
           {
            "line": {
             "colorbar": {
              "outlinewidth": 0,
              "ticks": ""
             }
            },
            "type": "parcoords"
           }
          ],
          "pie": [
           {
            "automargin": true,
            "type": "pie"
           }
          ],
          "scatter": [
           {
            "fillpattern": {
             "fillmode": "overlay",
             "size": 10,
             "solidity": 0.2
            },
            "type": "scatter"
           }
          ],
          "scatter3d": [
           {
            "line": {
             "colorbar": {
              "outlinewidth": 0,
              "ticks": ""
             }
            },
            "marker": {
             "colorbar": {
              "outlinewidth": 0,
              "ticks": ""
             }
            },
            "type": "scatter3d"
           }
          ],
          "scattercarpet": [
           {
            "marker": {
             "colorbar": {
              "outlinewidth": 0,
              "ticks": ""
             }
            },
            "type": "scattercarpet"
           }
          ],
          "scattergeo": [
           {
            "marker": {
             "colorbar": {
              "outlinewidth": 0,
              "ticks": ""
             }
            },
            "type": "scattergeo"
           }
          ],
          "scattergl": [
           {
            "marker": {
             "colorbar": {
              "outlinewidth": 0,
              "ticks": ""
             }
            },
            "type": "scattergl"
           }
          ],
          "scattermapbox": [
           {
            "marker": {
             "colorbar": {
              "outlinewidth": 0,
              "ticks": ""
             }
            },
            "type": "scattermapbox"
           }
          ],
          "scatterpolar": [
           {
            "marker": {
             "colorbar": {
              "outlinewidth": 0,
              "ticks": ""
             }
            },
            "type": "scatterpolar"
           }
          ],
          "scatterpolargl": [
           {
            "marker": {
             "colorbar": {
              "outlinewidth": 0,
              "ticks": ""
             }
            },
            "type": "scatterpolargl"
           }
          ],
          "scatterternary": [
           {
            "marker": {
             "colorbar": {
              "outlinewidth": 0,
              "ticks": ""
             }
            },
            "type": "scatterternary"
           }
          ],
          "surface": [
           {
            "colorbar": {
             "outlinewidth": 0,
             "ticks": ""
            },
            "colorscale": [
             [
              0,
              "#0d0887"
             ],
             [
              0.1111111111111111,
              "#46039f"
             ],
             [
              0.2222222222222222,
              "#7201a8"
             ],
             [
              0.3333333333333333,
              "#9c179e"
             ],
             [
              0.4444444444444444,
              "#bd3786"
             ],
             [
              0.5555555555555556,
              "#d8576b"
             ],
             [
              0.6666666666666666,
              "#ed7953"
             ],
             [
              0.7777777777777778,
              "#fb9f3a"
             ],
             [
              0.8888888888888888,
              "#fdca26"
             ],
             [
              1,
              "#f0f921"
             ]
            ],
            "type": "surface"
           }
          ],
          "table": [
           {
            "cells": {
             "fill": {
              "color": "#EBF0F8"
             },
             "line": {
              "color": "white"
             }
            },
            "header": {
             "fill": {
              "color": "#C8D4E3"
             },
             "line": {
              "color": "white"
             }
            },
            "type": "table"
           }
          ]
         },
         "layout": {
          "annotationdefaults": {
           "arrowcolor": "#2a3f5f",
           "arrowhead": 0,
           "arrowwidth": 1
          },
          "autotypenumbers": "strict",
          "coloraxis": {
           "colorbar": {
            "outlinewidth": 0,
            "ticks": ""
           }
          },
          "colorscale": {
           "diverging": [
            [
             0,
             "#8e0152"
            ],
            [
             0.1,
             "#c51b7d"
            ],
            [
             0.2,
             "#de77ae"
            ],
            [
             0.3,
             "#f1b6da"
            ],
            [
             0.4,
             "#fde0ef"
            ],
            [
             0.5,
             "#f7f7f7"
            ],
            [
             0.6,
             "#e6f5d0"
            ],
            [
             0.7,
             "#b8e186"
            ],
            [
             0.8,
             "#7fbc41"
            ],
            [
             0.9,
             "#4d9221"
            ],
            [
             1,
             "#276419"
            ]
           ],
           "sequential": [
            [
             0,
             "#0d0887"
            ],
            [
             0.1111111111111111,
             "#46039f"
            ],
            [
             0.2222222222222222,
             "#7201a8"
            ],
            [
             0.3333333333333333,
             "#9c179e"
            ],
            [
             0.4444444444444444,
             "#bd3786"
            ],
            [
             0.5555555555555556,
             "#d8576b"
            ],
            [
             0.6666666666666666,
             "#ed7953"
            ],
            [
             0.7777777777777778,
             "#fb9f3a"
            ],
            [
             0.8888888888888888,
             "#fdca26"
            ],
            [
             1,
             "#f0f921"
            ]
           ],
           "sequentialminus": [
            [
             0,
             "#0d0887"
            ],
            [
             0.1111111111111111,
             "#46039f"
            ],
            [
             0.2222222222222222,
             "#7201a8"
            ],
            [
             0.3333333333333333,
             "#9c179e"
            ],
            [
             0.4444444444444444,
             "#bd3786"
            ],
            [
             0.5555555555555556,
             "#d8576b"
            ],
            [
             0.6666666666666666,
             "#ed7953"
            ],
            [
             0.7777777777777778,
             "#fb9f3a"
            ],
            [
             0.8888888888888888,
             "#fdca26"
            ],
            [
             1,
             "#f0f921"
            ]
           ]
          },
          "colorway": [
           "#636efa",
           "#EF553B",
           "#00cc96",
           "#ab63fa",
           "#FFA15A",
           "#19d3f3",
           "#FF6692",
           "#B6E880",
           "#FF97FF",
           "#FECB52"
          ],
          "font": {
           "color": "#2a3f5f"
          },
          "geo": {
           "bgcolor": "white",
           "lakecolor": "white",
           "landcolor": "#E5ECF6",
           "showlakes": true,
           "showland": true,
           "subunitcolor": "white"
          },
          "hoverlabel": {
           "align": "left"
          },
          "hovermode": "closest",
          "mapbox": {
           "style": "light"
          },
          "paper_bgcolor": "white",
          "plot_bgcolor": "#E5ECF6",
          "polar": {
           "angularaxis": {
            "gridcolor": "white",
            "linecolor": "white",
            "ticks": ""
           },
           "bgcolor": "#E5ECF6",
           "radialaxis": {
            "gridcolor": "white",
            "linecolor": "white",
            "ticks": ""
           }
          },
          "scene": {
           "xaxis": {
            "backgroundcolor": "#E5ECF6",
            "gridcolor": "white",
            "gridwidth": 2,
            "linecolor": "white",
            "showbackground": true,
            "ticks": "",
            "zerolinecolor": "white"
           },
           "yaxis": {
            "backgroundcolor": "#E5ECF6",
            "gridcolor": "white",
            "gridwidth": 2,
            "linecolor": "white",
            "showbackground": true,
            "ticks": "",
            "zerolinecolor": "white"
           },
           "zaxis": {
            "backgroundcolor": "#E5ECF6",
            "gridcolor": "white",
            "gridwidth": 2,
            "linecolor": "white",
            "showbackground": true,
            "ticks": "",
            "zerolinecolor": "white"
           }
          },
          "shapedefaults": {
           "line": {
            "color": "#2a3f5f"
           }
          },
          "ternary": {
           "aaxis": {
            "gridcolor": "white",
            "linecolor": "white",
            "ticks": ""
           },
           "baxis": {
            "gridcolor": "white",
            "linecolor": "white",
            "ticks": ""
           },
           "bgcolor": "#E5ECF6",
           "caxis": {
            "gridcolor": "white",
            "linecolor": "white",
            "ticks": ""
           }
          },
          "title": {
           "x": 0.05
          },
          "xaxis": {
           "automargin": true,
           "gridcolor": "white",
           "linecolor": "white",
           "ticks": "",
           "title": {
            "standoff": 15
           },
           "zerolinecolor": "white",
           "zerolinewidth": 2
          },
          "yaxis": {
           "automargin": true,
           "gridcolor": "white",
           "linecolor": "white",
           "ticks": "",
           "title": {
            "standoff": 15
           },
           "zerolinecolor": "white",
           "zerolinewidth": 2
          }
         }
        },
        "title": {
         "font": {
          "color": "#4D5663"
         }
        },
        "xaxis": {
         "gridcolor": "#E1E5ED",
         "showgrid": true,
         "tickfont": {
          "color": "#4D5663"
         },
         "title": {
          "font": {
           "color": "#4D5663"
          },
          "text": ""
         },
         "zerolinecolor": "#E1E5ED"
        },
        "yaxis": {
         "gridcolor": "#E1E5ED",
         "showgrid": true,
         "tickfont": {
          "color": "#4D5663"
         },
         "title": {
          "font": {
           "color": "#4D5663"
          },
          "text": ""
         },
         "zerolinecolor": "#E1E5ED"
        }
       }
      },
      "text/html": [
       "<div>                            <div id=\"7e702f17-5479-40d3-ab48-2ce356fc5405\" class=\"plotly-graph-div\" style=\"height:525px; width:100%;\"></div>            <script type=\"text/javascript\">                require([\"plotly\"], function(Plotly) {                    window.PLOTLYENV=window.PLOTLYENV || {};\n",
       "                    window.PLOTLYENV.BASE_URL='https://plot.ly';                                    if (document.getElementById(\"7e702f17-5479-40d3-ab48-2ce356fc5405\")) {                    Plotly.newPlot(                        \"7e702f17-5479-40d3-ab48-2ce356fc5405\",                        [{\"marker\":{\"color\":\"rgba(255, 153, 51, 0.6)\",\"line\":{\"color\":\"rgba(255, 153, 51, 1.0)\",\"width\":1}},\"name\":\"Values\",\"orientation\":\"v\",\"text\":\"\",\"x\":[\"A\",\"B\",\"C\"],\"y\":[32,43,50],\"type\":\"bar\"}],                        {\"legend\":{\"bgcolor\":\"#F5F6F9\",\"font\":{\"color\":\"#4D5663\"}},\"paper_bgcolor\":\"#F5F6F9\",\"plot_bgcolor\":\"#F5F6F9\",\"template\":{\"data\":{\"barpolar\":[{\"marker\":{\"line\":{\"color\":\"#E5ECF6\",\"width\":0.5},\"pattern\":{\"fillmode\":\"overlay\",\"size\":10,\"solidity\":0.2}},\"type\":\"barpolar\"}],\"bar\":[{\"error_x\":{\"color\":\"#2a3f5f\"},\"error_y\":{\"color\":\"#2a3f5f\"},\"marker\":{\"line\":{\"color\":\"#E5ECF6\",\"width\":0.5},\"pattern\":{\"fillmode\":\"overlay\",\"size\":10,\"solidity\":0.2}},\"type\":\"bar\"}],\"carpet\":[{\"aaxis\":{\"endlinecolor\":\"#2a3f5f\",\"gridcolor\":\"white\",\"linecolor\":\"white\",\"minorgridcolor\":\"white\",\"startlinecolor\":\"#2a3f5f\"},\"baxis\":{\"endlinecolor\":\"#2a3f5f\",\"gridcolor\":\"white\",\"linecolor\":\"white\",\"minorgridcolor\":\"white\",\"startlinecolor\":\"#2a3f5f\"},\"type\":\"carpet\"}],\"choropleth\":[{\"colorbar\":{\"outlinewidth\":0,\"ticks\":\"\"},\"type\":\"choropleth\"}],\"contourcarpet\":[{\"colorbar\":{\"outlinewidth\":0,\"ticks\":\"\"},\"type\":\"contourcarpet\"}],\"contour\":[{\"colorbar\":{\"outlinewidth\":0,\"ticks\":\"\"},\"colorscale\":[[0.0,\"#0d0887\"],[0.1111111111111111,\"#46039f\"],[0.2222222222222222,\"#7201a8\"],[0.3333333333333333,\"#9c179e\"],[0.4444444444444444,\"#bd3786\"],[0.5555555555555556,\"#d8576b\"],[0.6666666666666666,\"#ed7953\"],[0.7777777777777778,\"#fb9f3a\"],[0.8888888888888888,\"#fdca26\"],[1.0,\"#f0f921\"]],\"type\":\"contour\"}],\"heatmapgl\":[{\"colorbar\":{\"outlinewidth\":0,\"ticks\":\"\"},\"colorscale\":[[0.0,\"#0d0887\"],[0.1111111111111111,\"#46039f\"],[0.2222222222222222,\"#7201a8\"],[0.3333333333333333,\"#9c179e\"],[0.4444444444444444,\"#bd3786\"],[0.5555555555555556,\"#d8576b\"],[0.6666666666666666,\"#ed7953\"],[0.7777777777777778,\"#fb9f3a\"],[0.8888888888888888,\"#fdca26\"],[1.0,\"#f0f921\"]],\"type\":\"heatmapgl\"}],\"heatmap\":[{\"colorbar\":{\"outlinewidth\":0,\"ticks\":\"\"},\"colorscale\":[[0.0,\"#0d0887\"],[0.1111111111111111,\"#46039f\"],[0.2222222222222222,\"#7201a8\"],[0.3333333333333333,\"#9c179e\"],[0.4444444444444444,\"#bd3786\"],[0.5555555555555556,\"#d8576b\"],[0.6666666666666666,\"#ed7953\"],[0.7777777777777778,\"#fb9f3a\"],[0.8888888888888888,\"#fdca26\"],[1.0,\"#f0f921\"]],\"type\":\"heatmap\"}],\"histogram2dcontour\":[{\"colorbar\":{\"outlinewidth\":0,\"ticks\":\"\"},\"colorscale\":[[0.0,\"#0d0887\"],[0.1111111111111111,\"#46039f\"],[0.2222222222222222,\"#7201a8\"],[0.3333333333333333,\"#9c179e\"],[0.4444444444444444,\"#bd3786\"],[0.5555555555555556,\"#d8576b\"],[0.6666666666666666,\"#ed7953\"],[0.7777777777777778,\"#fb9f3a\"],[0.8888888888888888,\"#fdca26\"],[1.0,\"#f0f921\"]],\"type\":\"histogram2dcontour\"}],\"histogram2d\":[{\"colorbar\":{\"outlinewidth\":0,\"ticks\":\"\"},\"colorscale\":[[0.0,\"#0d0887\"],[0.1111111111111111,\"#46039f\"],[0.2222222222222222,\"#7201a8\"],[0.3333333333333333,\"#9c179e\"],[0.4444444444444444,\"#bd3786\"],[0.5555555555555556,\"#d8576b\"],[0.6666666666666666,\"#ed7953\"],[0.7777777777777778,\"#fb9f3a\"],[0.8888888888888888,\"#fdca26\"],[1.0,\"#f0f921\"]],\"type\":\"histogram2d\"}],\"histogram\":[{\"marker\":{\"pattern\":{\"fillmode\":\"overlay\",\"size\":10,\"solidity\":0.2}},\"type\":\"histogram\"}],\"mesh3d\":[{\"colorbar\":{\"outlinewidth\":0,\"ticks\":\"\"},\"type\":\"mesh3d\"}],\"parcoords\":[{\"line\":{\"colorbar\":{\"outlinewidth\":0,\"ticks\":\"\"}},\"type\":\"parcoords\"}],\"pie\":[{\"automargin\":true,\"type\":\"pie\"}],\"scatter3d\":[{\"line\":{\"colorbar\":{\"outlinewidth\":0,\"ticks\":\"\"}},\"marker\":{\"colorbar\":{\"outlinewidth\":0,\"ticks\":\"\"}},\"type\":\"scatter3d\"}],\"scattercarpet\":[{\"marker\":{\"colorbar\":{\"outlinewidth\":0,\"ticks\":\"\"}},\"type\":\"scattercarpet\"}],\"scattergeo\":[{\"marker\":{\"colorbar\":{\"outlinewidth\":0,\"ticks\":\"\"}},\"type\":\"scattergeo\"}],\"scattergl\":[{\"marker\":{\"colorbar\":{\"outlinewidth\":0,\"ticks\":\"\"}},\"type\":\"scattergl\"}],\"scattermapbox\":[{\"marker\":{\"colorbar\":{\"outlinewidth\":0,\"ticks\":\"\"}},\"type\":\"scattermapbox\"}],\"scatterpolargl\":[{\"marker\":{\"colorbar\":{\"outlinewidth\":0,\"ticks\":\"\"}},\"type\":\"scatterpolargl\"}],\"scatterpolar\":[{\"marker\":{\"colorbar\":{\"outlinewidth\":0,\"ticks\":\"\"}},\"type\":\"scatterpolar\"}],\"scatter\":[{\"fillpattern\":{\"fillmode\":\"overlay\",\"size\":10,\"solidity\":0.2},\"type\":\"scatter\"}],\"scatterternary\":[{\"marker\":{\"colorbar\":{\"outlinewidth\":0,\"ticks\":\"\"}},\"type\":\"scatterternary\"}],\"surface\":[{\"colorbar\":{\"outlinewidth\":0,\"ticks\":\"\"},\"colorscale\":[[0.0,\"#0d0887\"],[0.1111111111111111,\"#46039f\"],[0.2222222222222222,\"#7201a8\"],[0.3333333333333333,\"#9c179e\"],[0.4444444444444444,\"#bd3786\"],[0.5555555555555556,\"#d8576b\"],[0.6666666666666666,\"#ed7953\"],[0.7777777777777778,\"#fb9f3a\"],[0.8888888888888888,\"#fdca26\"],[1.0,\"#f0f921\"]],\"type\":\"surface\"}],\"table\":[{\"cells\":{\"fill\":{\"color\":\"#EBF0F8\"},\"line\":{\"color\":\"white\"}},\"header\":{\"fill\":{\"color\":\"#C8D4E3\"},\"line\":{\"color\":\"white\"}},\"type\":\"table\"}]},\"layout\":{\"annotationdefaults\":{\"arrowcolor\":\"#2a3f5f\",\"arrowhead\":0,\"arrowwidth\":1},\"autotypenumbers\":\"strict\",\"coloraxis\":{\"colorbar\":{\"outlinewidth\":0,\"ticks\":\"\"}},\"colorscale\":{\"diverging\":[[0,\"#8e0152\"],[0.1,\"#c51b7d\"],[0.2,\"#de77ae\"],[0.3,\"#f1b6da\"],[0.4,\"#fde0ef\"],[0.5,\"#f7f7f7\"],[0.6,\"#e6f5d0\"],[0.7,\"#b8e186\"],[0.8,\"#7fbc41\"],[0.9,\"#4d9221\"],[1,\"#276419\"]],\"sequential\":[[0.0,\"#0d0887\"],[0.1111111111111111,\"#46039f\"],[0.2222222222222222,\"#7201a8\"],[0.3333333333333333,\"#9c179e\"],[0.4444444444444444,\"#bd3786\"],[0.5555555555555556,\"#d8576b\"],[0.6666666666666666,\"#ed7953\"],[0.7777777777777778,\"#fb9f3a\"],[0.8888888888888888,\"#fdca26\"],[1.0,\"#f0f921\"]],\"sequentialminus\":[[0.0,\"#0d0887\"],[0.1111111111111111,\"#46039f\"],[0.2222222222222222,\"#7201a8\"],[0.3333333333333333,\"#9c179e\"],[0.4444444444444444,\"#bd3786\"],[0.5555555555555556,\"#d8576b\"],[0.6666666666666666,\"#ed7953\"],[0.7777777777777778,\"#fb9f3a\"],[0.8888888888888888,\"#fdca26\"],[1.0,\"#f0f921\"]]},\"colorway\":[\"#636efa\",\"#EF553B\",\"#00cc96\",\"#ab63fa\",\"#FFA15A\",\"#19d3f3\",\"#FF6692\",\"#B6E880\",\"#FF97FF\",\"#FECB52\"],\"font\":{\"color\":\"#2a3f5f\"},\"geo\":{\"bgcolor\":\"white\",\"lakecolor\":\"white\",\"landcolor\":\"#E5ECF6\",\"showlakes\":true,\"showland\":true,\"subunitcolor\":\"white\"},\"hoverlabel\":{\"align\":\"left\"},\"hovermode\":\"closest\",\"mapbox\":{\"style\":\"light\"},\"paper_bgcolor\":\"white\",\"plot_bgcolor\":\"#E5ECF6\",\"polar\":{\"angularaxis\":{\"gridcolor\":\"white\",\"linecolor\":\"white\",\"ticks\":\"\"},\"bgcolor\":\"#E5ECF6\",\"radialaxis\":{\"gridcolor\":\"white\",\"linecolor\":\"white\",\"ticks\":\"\"}},\"scene\":{\"xaxis\":{\"backgroundcolor\":\"#E5ECF6\",\"gridcolor\":\"white\",\"gridwidth\":2,\"linecolor\":\"white\",\"showbackground\":true,\"ticks\":\"\",\"zerolinecolor\":\"white\"},\"yaxis\":{\"backgroundcolor\":\"#E5ECF6\",\"gridcolor\":\"white\",\"gridwidth\":2,\"linecolor\":\"white\",\"showbackground\":true,\"ticks\":\"\",\"zerolinecolor\":\"white\"},\"zaxis\":{\"backgroundcolor\":\"#E5ECF6\",\"gridcolor\":\"white\",\"gridwidth\":2,\"linecolor\":\"white\",\"showbackground\":true,\"ticks\":\"\",\"zerolinecolor\":\"white\"}},\"shapedefaults\":{\"line\":{\"color\":\"#2a3f5f\"}},\"ternary\":{\"aaxis\":{\"gridcolor\":\"white\",\"linecolor\":\"white\",\"ticks\":\"\"},\"baxis\":{\"gridcolor\":\"white\",\"linecolor\":\"white\",\"ticks\":\"\"},\"bgcolor\":\"#E5ECF6\",\"caxis\":{\"gridcolor\":\"white\",\"linecolor\":\"white\",\"ticks\":\"\"}},\"title\":{\"x\":0.05},\"xaxis\":{\"automargin\":true,\"gridcolor\":\"white\",\"linecolor\":\"white\",\"ticks\":\"\",\"title\":{\"standoff\":15},\"zerolinecolor\":\"white\",\"zerolinewidth\":2},\"yaxis\":{\"automargin\":true,\"gridcolor\":\"white\",\"linecolor\":\"white\",\"ticks\":\"\",\"title\":{\"standoff\":15},\"zerolinecolor\":\"white\",\"zerolinewidth\":2}}},\"title\":{\"font\":{\"color\":\"#4D5663\"}},\"xaxis\":{\"gridcolor\":\"#E1E5ED\",\"showgrid\":true,\"tickfont\":{\"color\":\"#4D5663\"},\"title\":{\"font\":{\"color\":\"#4D5663\"},\"text\":\"\"},\"zerolinecolor\":\"#E1E5ED\"},\"yaxis\":{\"gridcolor\":\"#E1E5ED\",\"showgrid\":true,\"tickfont\":{\"color\":\"#4D5663\"},\"title\":{\"font\":{\"color\":\"#4D5663\"},\"text\":\"\"},\"zerolinecolor\":\"#E1E5ED\"}},                        {\"showLink\": true, \"linkText\": \"Export to plot.ly\", \"plotlyServerURL\": \"https://plot.ly\", \"responsive\": true}                    ).then(function(){\n",
       "                            \n",
       "var gd = document.getElementById('7e702f17-5479-40d3-ab48-2ce356fc5405');\n",
       "var x = new MutationObserver(function (mutations, observer) {{\n",
       "        var display = window.getComputedStyle(gd).display;\n",
       "        if (!display || display === 'none') {{\n",
       "            console.log([gd, 'removed!']);\n",
       "            Plotly.purge(gd);\n",
       "            observer.disconnect();\n",
       "        }}\n",
       "}});\n",
       "\n",
       "// Listen for the removal of the full notebook cells\n",
       "var notebookContainer = gd.closest('#notebook-container');\n",
       "if (notebookContainer) {{\n",
       "    x.observe(notebookContainer, {childList: true});\n",
       "}}\n",
       "\n",
       "// Listen for the clearing of the current output cell\n",
       "var outputEl = gd.closest('.output');\n",
       "if (outputEl) {{\n",
       "    x.observe(outputEl, {childList: true});\n",
       "}}\n",
       "\n",
       "                        })                };                });            </script>        </div>"
      ]
     },
     "metadata": {},
     "output_type": "display_data"
    }
   ],
   "source": [
    "df2.iplot(kind='bar',x='Category',y='Values')"
   ]
  },
  {
   "cell_type": "code",
   "execution_count": 47,
   "metadata": {},
   "outputs": [
    {
     "data": {
      "application/vnd.plotly.v1+json": {
       "config": {
        "linkText": "Export to plot.ly",
        "plotlyServerURL": "https://plot.ly",
        "showLink": true
       },
       "data": [
        {
         "marker": {
          "color": "rgba(255, 153, 51, 0.6)",
          "line": {
           "color": "rgba(255, 153, 51, 1.0)",
           "width": 1
          }
         },
         "name": "None",
         "orientation": "v",
         "text": "",
         "type": "bar",
         "x": [
          "A",
          "B",
          "C",
          "D"
         ],
         "y": [
          100,
          100,
          100,
          100
         ]
        }
       ],
       "layout": {
        "legend": {
         "bgcolor": "#F5F6F9",
         "font": {
          "color": "#4D5663"
         }
        },
        "paper_bgcolor": "#F5F6F9",
        "plot_bgcolor": "#F5F6F9",
        "template": {
         "data": {
          "bar": [
           {
            "error_x": {
             "color": "#2a3f5f"
            },
            "error_y": {
             "color": "#2a3f5f"
            },
            "marker": {
             "line": {
              "color": "#E5ECF6",
              "width": 0.5
             },
             "pattern": {
              "fillmode": "overlay",
              "size": 10,
              "solidity": 0.2
             }
            },
            "type": "bar"
           }
          ],
          "barpolar": [
           {
            "marker": {
             "line": {
              "color": "#E5ECF6",
              "width": 0.5
             },
             "pattern": {
              "fillmode": "overlay",
              "size": 10,
              "solidity": 0.2
             }
            },
            "type": "barpolar"
           }
          ],
          "carpet": [
           {
            "aaxis": {
             "endlinecolor": "#2a3f5f",
             "gridcolor": "white",
             "linecolor": "white",
             "minorgridcolor": "white",
             "startlinecolor": "#2a3f5f"
            },
            "baxis": {
             "endlinecolor": "#2a3f5f",
             "gridcolor": "white",
             "linecolor": "white",
             "minorgridcolor": "white",
             "startlinecolor": "#2a3f5f"
            },
            "type": "carpet"
           }
          ],
          "choropleth": [
           {
            "colorbar": {
             "outlinewidth": 0,
             "ticks": ""
            },
            "type": "choropleth"
           }
          ],
          "contour": [
           {
            "colorbar": {
             "outlinewidth": 0,
             "ticks": ""
            },
            "colorscale": [
             [
              0,
              "#0d0887"
             ],
             [
              0.1111111111111111,
              "#46039f"
             ],
             [
              0.2222222222222222,
              "#7201a8"
             ],
             [
              0.3333333333333333,
              "#9c179e"
             ],
             [
              0.4444444444444444,
              "#bd3786"
             ],
             [
              0.5555555555555556,
              "#d8576b"
             ],
             [
              0.6666666666666666,
              "#ed7953"
             ],
             [
              0.7777777777777778,
              "#fb9f3a"
             ],
             [
              0.8888888888888888,
              "#fdca26"
             ],
             [
              1,
              "#f0f921"
             ]
            ],
            "type": "contour"
           }
          ],
          "contourcarpet": [
           {
            "colorbar": {
             "outlinewidth": 0,
             "ticks": ""
            },
            "type": "contourcarpet"
           }
          ],
          "heatmap": [
           {
            "colorbar": {
             "outlinewidth": 0,
             "ticks": ""
            },
            "colorscale": [
             [
              0,
              "#0d0887"
             ],
             [
              0.1111111111111111,
              "#46039f"
             ],
             [
              0.2222222222222222,
              "#7201a8"
             ],
             [
              0.3333333333333333,
              "#9c179e"
             ],
             [
              0.4444444444444444,
              "#bd3786"
             ],
             [
              0.5555555555555556,
              "#d8576b"
             ],
             [
              0.6666666666666666,
              "#ed7953"
             ],
             [
              0.7777777777777778,
              "#fb9f3a"
             ],
             [
              0.8888888888888888,
              "#fdca26"
             ],
             [
              1,
              "#f0f921"
             ]
            ],
            "type": "heatmap"
           }
          ],
          "heatmapgl": [
           {
            "colorbar": {
             "outlinewidth": 0,
             "ticks": ""
            },
            "colorscale": [
             [
              0,
              "#0d0887"
             ],
             [
              0.1111111111111111,
              "#46039f"
             ],
             [
              0.2222222222222222,
              "#7201a8"
             ],
             [
              0.3333333333333333,
              "#9c179e"
             ],
             [
              0.4444444444444444,
              "#bd3786"
             ],
             [
              0.5555555555555556,
              "#d8576b"
             ],
             [
              0.6666666666666666,
              "#ed7953"
             ],
             [
              0.7777777777777778,
              "#fb9f3a"
             ],
             [
              0.8888888888888888,
              "#fdca26"
             ],
             [
              1,
              "#f0f921"
             ]
            ],
            "type": "heatmapgl"
           }
          ],
          "histogram": [
           {
            "marker": {
             "pattern": {
              "fillmode": "overlay",
              "size": 10,
              "solidity": 0.2
             }
            },
            "type": "histogram"
           }
          ],
          "histogram2d": [
           {
            "colorbar": {
             "outlinewidth": 0,
             "ticks": ""
            },
            "colorscale": [
             [
              0,
              "#0d0887"
             ],
             [
              0.1111111111111111,
              "#46039f"
             ],
             [
              0.2222222222222222,
              "#7201a8"
             ],
             [
              0.3333333333333333,
              "#9c179e"
             ],
             [
              0.4444444444444444,
              "#bd3786"
             ],
             [
              0.5555555555555556,
              "#d8576b"
             ],
             [
              0.6666666666666666,
              "#ed7953"
             ],
             [
              0.7777777777777778,
              "#fb9f3a"
             ],
             [
              0.8888888888888888,
              "#fdca26"
             ],
             [
              1,
              "#f0f921"
             ]
            ],
            "type": "histogram2d"
           }
          ],
          "histogram2dcontour": [
           {
            "colorbar": {
             "outlinewidth": 0,
             "ticks": ""
            },
            "colorscale": [
             [
              0,
              "#0d0887"
             ],
             [
              0.1111111111111111,
              "#46039f"
             ],
             [
              0.2222222222222222,
              "#7201a8"
             ],
             [
              0.3333333333333333,
              "#9c179e"
             ],
             [
              0.4444444444444444,
              "#bd3786"
             ],
             [
              0.5555555555555556,
              "#d8576b"
             ],
             [
              0.6666666666666666,
              "#ed7953"
             ],
             [
              0.7777777777777778,
              "#fb9f3a"
             ],
             [
              0.8888888888888888,
              "#fdca26"
             ],
             [
              1,
              "#f0f921"
             ]
            ],
            "type": "histogram2dcontour"
           }
          ],
          "mesh3d": [
           {
            "colorbar": {
             "outlinewidth": 0,
             "ticks": ""
            },
            "type": "mesh3d"
           }
          ],
          "parcoords": [
           {
            "line": {
             "colorbar": {
              "outlinewidth": 0,
              "ticks": ""
             }
            },
            "type": "parcoords"
           }
          ],
          "pie": [
           {
            "automargin": true,
            "type": "pie"
           }
          ],
          "scatter": [
           {
            "fillpattern": {
             "fillmode": "overlay",
             "size": 10,
             "solidity": 0.2
            },
            "type": "scatter"
           }
          ],
          "scatter3d": [
           {
            "line": {
             "colorbar": {
              "outlinewidth": 0,
              "ticks": ""
             }
            },
            "marker": {
             "colorbar": {
              "outlinewidth": 0,
              "ticks": ""
             }
            },
            "type": "scatter3d"
           }
          ],
          "scattercarpet": [
           {
            "marker": {
             "colorbar": {
              "outlinewidth": 0,
              "ticks": ""
             }
            },
            "type": "scattercarpet"
           }
          ],
          "scattergeo": [
           {
            "marker": {
             "colorbar": {
              "outlinewidth": 0,
              "ticks": ""
             }
            },
            "type": "scattergeo"
           }
          ],
          "scattergl": [
           {
            "marker": {
             "colorbar": {
              "outlinewidth": 0,
              "ticks": ""
             }
            },
            "type": "scattergl"
           }
          ],
          "scattermapbox": [
           {
            "marker": {
             "colorbar": {
              "outlinewidth": 0,
              "ticks": ""
             }
            },
            "type": "scattermapbox"
           }
          ],
          "scatterpolar": [
           {
            "marker": {
             "colorbar": {
              "outlinewidth": 0,
              "ticks": ""
             }
            },
            "type": "scatterpolar"
           }
          ],
          "scatterpolargl": [
           {
            "marker": {
             "colorbar": {
              "outlinewidth": 0,
              "ticks": ""
             }
            },
            "type": "scatterpolargl"
           }
          ],
          "scatterternary": [
           {
            "marker": {
             "colorbar": {
              "outlinewidth": 0,
              "ticks": ""
             }
            },
            "type": "scatterternary"
           }
          ],
          "surface": [
           {
            "colorbar": {
             "outlinewidth": 0,
             "ticks": ""
            },
            "colorscale": [
             [
              0,
              "#0d0887"
             ],
             [
              0.1111111111111111,
              "#46039f"
             ],
             [
              0.2222222222222222,
              "#7201a8"
             ],
             [
              0.3333333333333333,
              "#9c179e"
             ],
             [
              0.4444444444444444,
              "#bd3786"
             ],
             [
              0.5555555555555556,
              "#d8576b"
             ],
             [
              0.6666666666666666,
              "#ed7953"
             ],
             [
              0.7777777777777778,
              "#fb9f3a"
             ],
             [
              0.8888888888888888,
              "#fdca26"
             ],
             [
              1,
              "#f0f921"
             ]
            ],
            "type": "surface"
           }
          ],
          "table": [
           {
            "cells": {
             "fill": {
              "color": "#EBF0F8"
             },
             "line": {
              "color": "white"
             }
            },
            "header": {
             "fill": {
              "color": "#C8D4E3"
             },
             "line": {
              "color": "white"
             }
            },
            "type": "table"
           }
          ]
         },
         "layout": {
          "annotationdefaults": {
           "arrowcolor": "#2a3f5f",
           "arrowhead": 0,
           "arrowwidth": 1
          },
          "autotypenumbers": "strict",
          "coloraxis": {
           "colorbar": {
            "outlinewidth": 0,
            "ticks": ""
           }
          },
          "colorscale": {
           "diverging": [
            [
             0,
             "#8e0152"
            ],
            [
             0.1,
             "#c51b7d"
            ],
            [
             0.2,
             "#de77ae"
            ],
            [
             0.3,
             "#f1b6da"
            ],
            [
             0.4,
             "#fde0ef"
            ],
            [
             0.5,
             "#f7f7f7"
            ],
            [
             0.6,
             "#e6f5d0"
            ],
            [
             0.7,
             "#b8e186"
            ],
            [
             0.8,
             "#7fbc41"
            ],
            [
             0.9,
             "#4d9221"
            ],
            [
             1,
             "#276419"
            ]
           ],
           "sequential": [
            [
             0,
             "#0d0887"
            ],
            [
             0.1111111111111111,
             "#46039f"
            ],
            [
             0.2222222222222222,
             "#7201a8"
            ],
            [
             0.3333333333333333,
             "#9c179e"
            ],
            [
             0.4444444444444444,
             "#bd3786"
            ],
            [
             0.5555555555555556,
             "#d8576b"
            ],
            [
             0.6666666666666666,
             "#ed7953"
            ],
            [
             0.7777777777777778,
             "#fb9f3a"
            ],
            [
             0.8888888888888888,
             "#fdca26"
            ],
            [
             1,
             "#f0f921"
            ]
           ],
           "sequentialminus": [
            [
             0,
             "#0d0887"
            ],
            [
             0.1111111111111111,
             "#46039f"
            ],
            [
             0.2222222222222222,
             "#7201a8"
            ],
            [
             0.3333333333333333,
             "#9c179e"
            ],
            [
             0.4444444444444444,
             "#bd3786"
            ],
            [
             0.5555555555555556,
             "#d8576b"
            ],
            [
             0.6666666666666666,
             "#ed7953"
            ],
            [
             0.7777777777777778,
             "#fb9f3a"
            ],
            [
             0.8888888888888888,
             "#fdca26"
            ],
            [
             1,
             "#f0f921"
            ]
           ]
          },
          "colorway": [
           "#636efa",
           "#EF553B",
           "#00cc96",
           "#ab63fa",
           "#FFA15A",
           "#19d3f3",
           "#FF6692",
           "#B6E880",
           "#FF97FF",
           "#FECB52"
          ],
          "font": {
           "color": "#2a3f5f"
          },
          "geo": {
           "bgcolor": "white",
           "lakecolor": "white",
           "landcolor": "#E5ECF6",
           "showlakes": true,
           "showland": true,
           "subunitcolor": "white"
          },
          "hoverlabel": {
           "align": "left"
          },
          "hovermode": "closest",
          "mapbox": {
           "style": "light"
          },
          "paper_bgcolor": "white",
          "plot_bgcolor": "#E5ECF6",
          "polar": {
           "angularaxis": {
            "gridcolor": "white",
            "linecolor": "white",
            "ticks": ""
           },
           "bgcolor": "#E5ECF6",
           "radialaxis": {
            "gridcolor": "white",
            "linecolor": "white",
            "ticks": ""
           }
          },
          "scene": {
           "xaxis": {
            "backgroundcolor": "#E5ECF6",
            "gridcolor": "white",
            "gridwidth": 2,
            "linecolor": "white",
            "showbackground": true,
            "ticks": "",
            "zerolinecolor": "white"
           },
           "yaxis": {
            "backgroundcolor": "#E5ECF6",
            "gridcolor": "white",
            "gridwidth": 2,
            "linecolor": "white",
            "showbackground": true,
            "ticks": "",
            "zerolinecolor": "white"
           },
           "zaxis": {
            "backgroundcolor": "#E5ECF6",
            "gridcolor": "white",
            "gridwidth": 2,
            "linecolor": "white",
            "showbackground": true,
            "ticks": "",
            "zerolinecolor": "white"
           }
          },
          "shapedefaults": {
           "line": {
            "color": "#2a3f5f"
           }
          },
          "ternary": {
           "aaxis": {
            "gridcolor": "white",
            "linecolor": "white",
            "ticks": ""
           },
           "baxis": {
            "gridcolor": "white",
            "linecolor": "white",
            "ticks": ""
           },
           "bgcolor": "#E5ECF6",
           "caxis": {
            "gridcolor": "white",
            "linecolor": "white",
            "ticks": ""
           }
          },
          "title": {
           "x": 0.05
          },
          "xaxis": {
           "automargin": true,
           "gridcolor": "white",
           "linecolor": "white",
           "ticks": "",
           "title": {
            "standoff": 15
           },
           "zerolinecolor": "white",
           "zerolinewidth": 2
          },
          "yaxis": {
           "automargin": true,
           "gridcolor": "white",
           "linecolor": "white",
           "ticks": "",
           "title": {
            "standoff": 15
           },
           "zerolinecolor": "white",
           "zerolinewidth": 2
          }
         }
        },
        "title": {
         "font": {
          "color": "#4D5663"
         }
        },
        "xaxis": {
         "gridcolor": "#E1E5ED",
         "showgrid": true,
         "tickfont": {
          "color": "#4D5663"
         },
         "title": {
          "font": {
           "color": "#4D5663"
          },
          "text": ""
         },
         "zerolinecolor": "#E1E5ED"
        },
        "yaxis": {
         "gridcolor": "#E1E5ED",
         "showgrid": true,
         "tickfont": {
          "color": "#4D5663"
         },
         "title": {
          "font": {
           "color": "#4D5663"
          },
          "text": ""
         },
         "zerolinecolor": "#E1E5ED"
        }
       }
      },
      "text/html": [
       "<div>                            <div id=\"de464091-c13e-46e2-9470-cb864f215381\" class=\"plotly-graph-div\" style=\"height:525px; width:100%;\"></div>            <script type=\"text/javascript\">                require([\"plotly\"], function(Plotly) {                    window.PLOTLYENV=window.PLOTLYENV || {};\n",
       "                    window.PLOTLYENV.BASE_URL='https://plot.ly';                                    if (document.getElementById(\"de464091-c13e-46e2-9470-cb864f215381\")) {                    Plotly.newPlot(                        \"de464091-c13e-46e2-9470-cb864f215381\",                        [{\"marker\":{\"color\":\"rgba(255, 153, 51, 0.6)\",\"line\":{\"color\":\"rgba(255, 153, 51, 1.0)\",\"width\":1}},\"name\":\"None\",\"orientation\":\"v\",\"text\":\"\",\"x\":[\"A\",\"B\",\"C\",\"D\"],\"y\":[100,100,100,100],\"type\":\"bar\"}],                        {\"legend\":{\"bgcolor\":\"#F5F6F9\",\"font\":{\"color\":\"#4D5663\"}},\"paper_bgcolor\":\"#F5F6F9\",\"plot_bgcolor\":\"#F5F6F9\",\"template\":{\"data\":{\"barpolar\":[{\"marker\":{\"line\":{\"color\":\"#E5ECF6\",\"width\":0.5},\"pattern\":{\"fillmode\":\"overlay\",\"size\":10,\"solidity\":0.2}},\"type\":\"barpolar\"}],\"bar\":[{\"error_x\":{\"color\":\"#2a3f5f\"},\"error_y\":{\"color\":\"#2a3f5f\"},\"marker\":{\"line\":{\"color\":\"#E5ECF6\",\"width\":0.5},\"pattern\":{\"fillmode\":\"overlay\",\"size\":10,\"solidity\":0.2}},\"type\":\"bar\"}],\"carpet\":[{\"aaxis\":{\"endlinecolor\":\"#2a3f5f\",\"gridcolor\":\"white\",\"linecolor\":\"white\",\"minorgridcolor\":\"white\",\"startlinecolor\":\"#2a3f5f\"},\"baxis\":{\"endlinecolor\":\"#2a3f5f\",\"gridcolor\":\"white\",\"linecolor\":\"white\",\"minorgridcolor\":\"white\",\"startlinecolor\":\"#2a3f5f\"},\"type\":\"carpet\"}],\"choropleth\":[{\"colorbar\":{\"outlinewidth\":0,\"ticks\":\"\"},\"type\":\"choropleth\"}],\"contourcarpet\":[{\"colorbar\":{\"outlinewidth\":0,\"ticks\":\"\"},\"type\":\"contourcarpet\"}],\"contour\":[{\"colorbar\":{\"outlinewidth\":0,\"ticks\":\"\"},\"colorscale\":[[0.0,\"#0d0887\"],[0.1111111111111111,\"#46039f\"],[0.2222222222222222,\"#7201a8\"],[0.3333333333333333,\"#9c179e\"],[0.4444444444444444,\"#bd3786\"],[0.5555555555555556,\"#d8576b\"],[0.6666666666666666,\"#ed7953\"],[0.7777777777777778,\"#fb9f3a\"],[0.8888888888888888,\"#fdca26\"],[1.0,\"#f0f921\"]],\"type\":\"contour\"}],\"heatmapgl\":[{\"colorbar\":{\"outlinewidth\":0,\"ticks\":\"\"},\"colorscale\":[[0.0,\"#0d0887\"],[0.1111111111111111,\"#46039f\"],[0.2222222222222222,\"#7201a8\"],[0.3333333333333333,\"#9c179e\"],[0.4444444444444444,\"#bd3786\"],[0.5555555555555556,\"#d8576b\"],[0.6666666666666666,\"#ed7953\"],[0.7777777777777778,\"#fb9f3a\"],[0.8888888888888888,\"#fdca26\"],[1.0,\"#f0f921\"]],\"type\":\"heatmapgl\"}],\"heatmap\":[{\"colorbar\":{\"outlinewidth\":0,\"ticks\":\"\"},\"colorscale\":[[0.0,\"#0d0887\"],[0.1111111111111111,\"#46039f\"],[0.2222222222222222,\"#7201a8\"],[0.3333333333333333,\"#9c179e\"],[0.4444444444444444,\"#bd3786\"],[0.5555555555555556,\"#d8576b\"],[0.6666666666666666,\"#ed7953\"],[0.7777777777777778,\"#fb9f3a\"],[0.8888888888888888,\"#fdca26\"],[1.0,\"#f0f921\"]],\"type\":\"heatmap\"}],\"histogram2dcontour\":[{\"colorbar\":{\"outlinewidth\":0,\"ticks\":\"\"},\"colorscale\":[[0.0,\"#0d0887\"],[0.1111111111111111,\"#46039f\"],[0.2222222222222222,\"#7201a8\"],[0.3333333333333333,\"#9c179e\"],[0.4444444444444444,\"#bd3786\"],[0.5555555555555556,\"#d8576b\"],[0.6666666666666666,\"#ed7953\"],[0.7777777777777778,\"#fb9f3a\"],[0.8888888888888888,\"#fdca26\"],[1.0,\"#f0f921\"]],\"type\":\"histogram2dcontour\"}],\"histogram2d\":[{\"colorbar\":{\"outlinewidth\":0,\"ticks\":\"\"},\"colorscale\":[[0.0,\"#0d0887\"],[0.1111111111111111,\"#46039f\"],[0.2222222222222222,\"#7201a8\"],[0.3333333333333333,\"#9c179e\"],[0.4444444444444444,\"#bd3786\"],[0.5555555555555556,\"#d8576b\"],[0.6666666666666666,\"#ed7953\"],[0.7777777777777778,\"#fb9f3a\"],[0.8888888888888888,\"#fdca26\"],[1.0,\"#f0f921\"]],\"type\":\"histogram2d\"}],\"histogram\":[{\"marker\":{\"pattern\":{\"fillmode\":\"overlay\",\"size\":10,\"solidity\":0.2}},\"type\":\"histogram\"}],\"mesh3d\":[{\"colorbar\":{\"outlinewidth\":0,\"ticks\":\"\"},\"type\":\"mesh3d\"}],\"parcoords\":[{\"line\":{\"colorbar\":{\"outlinewidth\":0,\"ticks\":\"\"}},\"type\":\"parcoords\"}],\"pie\":[{\"automargin\":true,\"type\":\"pie\"}],\"scatter3d\":[{\"line\":{\"colorbar\":{\"outlinewidth\":0,\"ticks\":\"\"}},\"marker\":{\"colorbar\":{\"outlinewidth\":0,\"ticks\":\"\"}},\"type\":\"scatter3d\"}],\"scattercarpet\":[{\"marker\":{\"colorbar\":{\"outlinewidth\":0,\"ticks\":\"\"}},\"type\":\"scattercarpet\"}],\"scattergeo\":[{\"marker\":{\"colorbar\":{\"outlinewidth\":0,\"ticks\":\"\"}},\"type\":\"scattergeo\"}],\"scattergl\":[{\"marker\":{\"colorbar\":{\"outlinewidth\":0,\"ticks\":\"\"}},\"type\":\"scattergl\"}],\"scattermapbox\":[{\"marker\":{\"colorbar\":{\"outlinewidth\":0,\"ticks\":\"\"}},\"type\":\"scattermapbox\"}],\"scatterpolargl\":[{\"marker\":{\"colorbar\":{\"outlinewidth\":0,\"ticks\":\"\"}},\"type\":\"scatterpolargl\"}],\"scatterpolar\":[{\"marker\":{\"colorbar\":{\"outlinewidth\":0,\"ticks\":\"\"}},\"type\":\"scatterpolar\"}],\"scatter\":[{\"fillpattern\":{\"fillmode\":\"overlay\",\"size\":10,\"solidity\":0.2},\"type\":\"scatter\"}],\"scatterternary\":[{\"marker\":{\"colorbar\":{\"outlinewidth\":0,\"ticks\":\"\"}},\"type\":\"scatterternary\"}],\"surface\":[{\"colorbar\":{\"outlinewidth\":0,\"ticks\":\"\"},\"colorscale\":[[0.0,\"#0d0887\"],[0.1111111111111111,\"#46039f\"],[0.2222222222222222,\"#7201a8\"],[0.3333333333333333,\"#9c179e\"],[0.4444444444444444,\"#bd3786\"],[0.5555555555555556,\"#d8576b\"],[0.6666666666666666,\"#ed7953\"],[0.7777777777777778,\"#fb9f3a\"],[0.8888888888888888,\"#fdca26\"],[1.0,\"#f0f921\"]],\"type\":\"surface\"}],\"table\":[{\"cells\":{\"fill\":{\"color\":\"#EBF0F8\"},\"line\":{\"color\":\"white\"}},\"header\":{\"fill\":{\"color\":\"#C8D4E3\"},\"line\":{\"color\":\"white\"}},\"type\":\"table\"}]},\"layout\":{\"annotationdefaults\":{\"arrowcolor\":\"#2a3f5f\",\"arrowhead\":0,\"arrowwidth\":1},\"autotypenumbers\":\"strict\",\"coloraxis\":{\"colorbar\":{\"outlinewidth\":0,\"ticks\":\"\"}},\"colorscale\":{\"diverging\":[[0,\"#8e0152\"],[0.1,\"#c51b7d\"],[0.2,\"#de77ae\"],[0.3,\"#f1b6da\"],[0.4,\"#fde0ef\"],[0.5,\"#f7f7f7\"],[0.6,\"#e6f5d0\"],[0.7,\"#b8e186\"],[0.8,\"#7fbc41\"],[0.9,\"#4d9221\"],[1,\"#276419\"]],\"sequential\":[[0.0,\"#0d0887\"],[0.1111111111111111,\"#46039f\"],[0.2222222222222222,\"#7201a8\"],[0.3333333333333333,\"#9c179e\"],[0.4444444444444444,\"#bd3786\"],[0.5555555555555556,\"#d8576b\"],[0.6666666666666666,\"#ed7953\"],[0.7777777777777778,\"#fb9f3a\"],[0.8888888888888888,\"#fdca26\"],[1.0,\"#f0f921\"]],\"sequentialminus\":[[0.0,\"#0d0887\"],[0.1111111111111111,\"#46039f\"],[0.2222222222222222,\"#7201a8\"],[0.3333333333333333,\"#9c179e\"],[0.4444444444444444,\"#bd3786\"],[0.5555555555555556,\"#d8576b\"],[0.6666666666666666,\"#ed7953\"],[0.7777777777777778,\"#fb9f3a\"],[0.8888888888888888,\"#fdca26\"],[1.0,\"#f0f921\"]]},\"colorway\":[\"#636efa\",\"#EF553B\",\"#00cc96\",\"#ab63fa\",\"#FFA15A\",\"#19d3f3\",\"#FF6692\",\"#B6E880\",\"#FF97FF\",\"#FECB52\"],\"font\":{\"color\":\"#2a3f5f\"},\"geo\":{\"bgcolor\":\"white\",\"lakecolor\":\"white\",\"landcolor\":\"#E5ECF6\",\"showlakes\":true,\"showland\":true,\"subunitcolor\":\"white\"},\"hoverlabel\":{\"align\":\"left\"},\"hovermode\":\"closest\",\"mapbox\":{\"style\":\"light\"},\"paper_bgcolor\":\"white\",\"plot_bgcolor\":\"#E5ECF6\",\"polar\":{\"angularaxis\":{\"gridcolor\":\"white\",\"linecolor\":\"white\",\"ticks\":\"\"},\"bgcolor\":\"#E5ECF6\",\"radialaxis\":{\"gridcolor\":\"white\",\"linecolor\":\"white\",\"ticks\":\"\"}},\"scene\":{\"xaxis\":{\"backgroundcolor\":\"#E5ECF6\",\"gridcolor\":\"white\",\"gridwidth\":2,\"linecolor\":\"white\",\"showbackground\":true,\"ticks\":\"\",\"zerolinecolor\":\"white\"},\"yaxis\":{\"backgroundcolor\":\"#E5ECF6\",\"gridcolor\":\"white\",\"gridwidth\":2,\"linecolor\":\"white\",\"showbackground\":true,\"ticks\":\"\",\"zerolinecolor\":\"white\"},\"zaxis\":{\"backgroundcolor\":\"#E5ECF6\",\"gridcolor\":\"white\",\"gridwidth\":2,\"linecolor\":\"white\",\"showbackground\":true,\"ticks\":\"\",\"zerolinecolor\":\"white\"}},\"shapedefaults\":{\"line\":{\"color\":\"#2a3f5f\"}},\"ternary\":{\"aaxis\":{\"gridcolor\":\"white\",\"linecolor\":\"white\",\"ticks\":\"\"},\"baxis\":{\"gridcolor\":\"white\",\"linecolor\":\"white\",\"ticks\":\"\"},\"bgcolor\":\"#E5ECF6\",\"caxis\":{\"gridcolor\":\"white\",\"linecolor\":\"white\",\"ticks\":\"\"}},\"title\":{\"x\":0.05},\"xaxis\":{\"automargin\":true,\"gridcolor\":\"white\",\"linecolor\":\"white\",\"ticks\":\"\",\"title\":{\"standoff\":15},\"zerolinecolor\":\"white\",\"zerolinewidth\":2},\"yaxis\":{\"automargin\":true,\"gridcolor\":\"white\",\"linecolor\":\"white\",\"ticks\":\"\",\"title\":{\"standoff\":15},\"zerolinecolor\":\"white\",\"zerolinewidth\":2}}},\"title\":{\"font\":{\"color\":\"#4D5663\"}},\"xaxis\":{\"gridcolor\":\"#E1E5ED\",\"showgrid\":true,\"tickfont\":{\"color\":\"#4D5663\"},\"title\":{\"font\":{\"color\":\"#4D5663\"},\"text\":\"\"},\"zerolinecolor\":\"#E1E5ED\"},\"yaxis\":{\"gridcolor\":\"#E1E5ED\",\"showgrid\":true,\"tickfont\":{\"color\":\"#4D5663\"},\"title\":{\"font\":{\"color\":\"#4D5663\"},\"text\":\"\"},\"zerolinecolor\":\"#E1E5ED\"}},                        {\"showLink\": true, \"linkText\": \"Export to plot.ly\", \"plotlyServerURL\": \"https://plot.ly\", \"responsive\": true}                    ).then(function(){\n",
       "                            \n",
       "var gd = document.getElementById('de464091-c13e-46e2-9470-cb864f215381');\n",
       "var x = new MutationObserver(function (mutations, observer) {{\n",
       "        var display = window.getComputedStyle(gd).display;\n",
       "        if (!display || display === 'none') {{\n",
       "            console.log([gd, 'removed!']);\n",
       "            Plotly.purge(gd);\n",
       "            observer.disconnect();\n",
       "        }}\n",
       "}});\n",
       "\n",
       "// Listen for the removal of the full notebook cells\n",
       "var notebookContainer = gd.closest('#notebook-container');\n",
       "if (notebookContainer) {{\n",
       "    x.observe(notebookContainer, {childList: true});\n",
       "}}\n",
       "\n",
       "// Listen for the clearing of the current output cell\n",
       "var outputEl = gd.closest('.output');\n",
       "if (outputEl) {{\n",
       "    x.observe(outputEl, {childList: true});\n",
       "}}\n",
       "\n",
       "                        })                };                });            </script>        </div>"
      ]
     },
     "metadata": {},
     "output_type": "display_data"
    }
   ],
   "source": [
    "df.count().iplot(kind='bar')"
   ]
  },
  {
   "cell_type": "markdown",
   "metadata": {},
   "source": [
    "## Boxplots"
   ]
  },
  {
   "cell_type": "code",
   "execution_count": 48,
   "metadata": {},
   "outputs": [
    {
     "data": {
      "application/vnd.plotly.v1+json": {
       "config": {
        "linkText": "Export to plot.ly",
        "plotlyServerURL": "https://plot.ly",
        "showLink": true
       },
       "data": [
        {
         "boxpoints": false,
         "line": {
          "width": 1.3
         },
         "marker": {
          "color": "rgba(255, 153, 51, 1.0)"
         },
         "name": "A",
         "orientation": "v",
         "type": "box",
         "y": [
          0.6616028000153031,
          0.7974564222354177,
          -0.0863295983531025,
          0.7258958330757438,
          0.3805843872250716,
          0.9546612272488477,
          -1.1110120769710934,
          -0.3764646972195968,
          -1.5318298280733997,
          -0.37561921842675816,
          0.7755753395886864,
          -0.7160422754394841,
          0.5676483268168749,
          -0.5756773924464362,
          -0.45704522048156193,
          0.7744748888395329,
          0.08899280994212116,
          -0.5509914982640807,
          -0.3488498089051454,
          -0.037555887655825564,
          0.7918282653696499,
          -1.4001775724705254,
          -0.32610365058806484,
          0.39878426816230667,
          0.2348059336759787,
          0.4481712176919755,
          -1.2520920333235295,
          -0.7925050502260472,
          -0.9735775247939994,
          -0.734485344177268,
          1.6019428352509786,
          -0.9197488352504017,
          -1.260110007287861,
          -1.401275319557441,
          0.28048867344979356,
          0.5398742976180476,
          1.2693404161629747,
          0.02174200233697176,
          0.5758825701871609,
          -0.3971819183006857,
          2.007524634281026,
          0.2542531697586112,
          2.124799905699015,
          0.23854636661232106,
          -1.3353767948631912,
          -0.28875433211088797,
          2.1105981678674914,
          -1.1841205739312088,
          -0.2751180624877003,
          0.34592624962623897,
          1.452860542911721,
          -0.22830557354245032,
          0.6941858603615232,
          -0.06221123901300216,
          1.1500756463173367,
          0.17578004444302284,
          0.1855363693337805,
          -0.06894228052418856,
          1.5124520733414781,
          -0.7442365080620528,
          1.257738847261052,
          -0.7558131910299117,
          0.8461747570080188,
          -1.023962016133917,
          -0.3684944705468852,
          -1.371233555495302,
          0.10003032653558376,
          -1.462766086646851,
          0.8878824751650943,
          0.028153591910233835,
          0.46774794912917833,
          0.3307143746196127,
          -1.1845420045346338,
          -1.9618580984524323,
          -0.732246263074513,
          0.6085940658832946,
          -0.03244220586345618,
          0.3257523420152298,
          0.3881779356017851,
          -0.46314365970228244,
          -0.4048036974940555,
          0.07307150964048109,
          -0.4763026284720435,
          -1.6423080323929717,
          0.2560438940980801,
          -0.21818862950704257,
          -1.806146593898512,
          0.2707012255172646,
          -0.030261916191567692,
          1.4054762187473853,
          -1.5333257558042204,
          -0.5532599833060223,
          1.2091798359922146,
          -1.4525417745953029,
          1.8353076564468433,
          1.678955166899211,
          -1.803157329169355,
          0.16681204796686866,
          -0.6773913444646897,
          1.2137076973155396
         ]
        },
        {
         "boxpoints": false,
         "line": {
          "width": 1.3
         },
         "marker": {
          "color": "rgba(55, 128, 191, 1.0)"
         },
         "name": "B",
         "orientation": "v",
         "type": "box",
         "y": [
          -1.1268155649545148,
          -1.122498813378946,
          -1.135768725254598,
          0.4467966029850286,
          1.3026765609179867,
          0.41239621899385204,
          -0.20194627317198083,
          0.8600104477462834,
          -1.962080928569586,
          -0.4373747507849107,
          -0.41116099408156664,
          2.7840699944659364,
          0.31447334515914854,
          0.2846945568087361,
          0.01464292652330145,
          -0.5164290155404124,
          -0.7273626414864659,
          1.2500406257213608,
          0.7731202255669675,
          -0.9471162159751779,
          1.6089268308327083,
          -0.9904605490398387,
          0.5615974449139082,
          0.6556254314738813,
          -0.6759081722055736,
          0.20534170739817065,
          0.9456751353955166,
          -1.076675552019304,
          0.14738107503991746,
          1.3383840015944721,
          -0.0609281141550687,
          0.5320334631127615,
          0.5163656249178235,
          -0.27623286391499047,
          0.02176515577737672,
          -1.1935626046012529,
          -1.4198692167736344,
          0.09636985742351764,
          -0.8804879798268973,
          -0.9081185864365822,
          -0.8560618103964709,
          1.1852558330371423,
          -0.48566165987276,
          -1.2012701660101697,
          0.7926297300526718,
          -0.06358356591116639,
          -1.038802944861722,
          -0.27612451776281827,
          -0.12207689001180816,
          -2.1249927285913555,
          -0.821518663527813,
          -0.12980931693678052,
          -0.3177776735474476,
          0.12212165858303524,
          1.013790299572178,
          0.1855438795019865,
          -0.6846607839438767,
          -0.5758041060600324,
          0.2931824257814475,
          0.029105837703226937,
          -0.9181543264843546,
          -0.5463503458318973,
          -1.3628733886691113,
          -1.7025708249785048,
          -0.35818260653301826,
          1.7347913269431614,
          1.0629400219574894,
          1.4398135023842047,
          -0.2740393711565461,
          1.3039811228012599,
          1.1558129611573011,
          -0.6508793357028155,
          1.2205515513723033,
          1.314346070325035,
          0.11992498626050413,
          -0.4947245634070283,
          0.05126066628653432,
          1.001859445962634,
          -1.0810954813674498,
          -0.666457222263921,
          -0.6584381990642916,
          -0.824169081362802,
          -0.24967133190886032,
          1.67802687375217,
          -1.0298854212050215,
          1.2536598773694319,
          -0.3429477444983214,
          0.015250968057125065,
          0.11036366892160526,
          -1.4051216223380272,
          0.2233147060252078,
          1.18846352552429,
          0.48001189222242213,
          0.9682950297608599,
          -0.22253557884040903,
          0.6610926927680109,
          -0.2499843860765721,
          -0.4441956708253436,
          1.2220525201294656,
          0.4773783868112384
         ]
        },
        {
         "boxpoints": false,
         "line": {
          "width": 1.3
         },
         "marker": {
          "color": "rgba(50, 171, 96, 1.0)"
         },
         "name": "C",
         "orientation": "v",
         "type": "box",
         "y": [
          0.6364361187524838,
          -0.9481926934171117,
          -0.7026565329920906,
          -1.3985559318712395,
          -0.555945698642053,
          -1.072873335679387,
          0.07240440458067847,
          -0.2800117857278135,
          -1.6253813931018948,
          -0.6354118797719859,
          1.0474791244511474,
          1.3689949879306647,
          -0.4936142249941816,
          -0.7161864245536822,
          0.7166118935291617,
          1.0491941845269683,
          -1.0167547315641343,
          -1.354795709262403,
          0.211426629833737,
          -0.6033662976918103,
          -0.0971877871560245,
          -0.3893920156306753,
          0.3354864657969129,
          1.4054868002972545,
          0.21722715989889188,
          1.3586752645371052,
          -0.06320242566991251,
          1.386153330425027,
          0.24752335576741671,
          -1.6253826258614361,
          -1.3733911371559053,
          1.0846263153946503,
          -1.5271818199758835,
          0.01861101329302419,
          1.5418920546122568,
          -1.0053961518658803,
          0.08975744011281359,
          -0.9815321753433655,
          0.09024176432209406,
          -1.616153333206271,
          0.050774954305660217,
          -0.753029358112106,
          -0.7281522604998135,
          -0.07933127085143334,
          -0.25145700293124057,
          1.0338438553561728,
          0.17094051968263382,
          -0.4670671446445785,
          0.566116944747061,
          0.9433402241347665,
          -0.4806591386046995,
          -0.7044587493102089,
          -1.2501184056560413,
          -0.19175507100963943,
          -1.1811162595704072,
          -0.27678632778009765,
          1.087904948619787,
          0.8399408708306237,
          0.3051725627870481,
          1.2209568486592872,
          -0.21207948347973407,
          0.5389387908978869,
          -0.040328883691117916,
          1.7660506968687628,
          0.249665717943124,
          1.6969039960896903,
          0.4536295161289849,
          1.3962875291249013,
          0.7606294557416456,
          -1.414709078605835,
          -0.4887220076117676,
          0.6435746519071064,
          0.16702300481270818,
          -1.3738198923689084,
          -0.01985515288422155,
          -0.547709115489449,
          1.410204599457836,
          1.6993691963756892,
          0.3408990409492541,
          -0.011671535517513413,
          1.21289348932528,
          -0.5674706055264431,
          -0.5759364231486797,
          0.9730047927914587,
          -1.202779605549592,
          0.5457744913105262,
          2.3987243602929986,
          -0.27555024418732466,
          -1.4742429279807565,
          -1.3834121259596204,
          -0.7110212943710632,
          0.1992220952588321,
          -1.846466446837276,
          -0.1720116027014979,
          -1.7956098154167122,
          0.3475213606354094,
          -1.1385226862309443,
          1.090886907360394,
          -1.169287994647218,
          -0.2510195328189469
         ]
        },
        {
         "boxpoints": false,
         "line": {
          "width": 1.3
         },
         "marker": {
          "color": "rgba(128, 0, 128, 1.0)"
         },
         "name": "D",
         "orientation": "v",
         "type": "box",
         "y": [
          -0.15812926926927504,
          0.03487482620972453,
          -1.1997375344097534,
          0.30348845899089466,
          -2.1277796443204338,
          0.48360950299724176,
          -1.5449329496218511,
          -0.7963322946930462,
          -1.0357957051314897,
          1.278915473852364,
          0.37000935783671696,
          -1.138290778536751,
          -0.8721731843307451,
          2.6082647374526844,
          -0.047550629994062135,
          -1.50554583865774,
          0.1580575457028981,
          0.8756637174889669,
          -0.48394345644566417,
          1.3189788280354444,
          -0.8625427818310973,
          0.3151251461846277,
          -0.7037156150463039,
          0.7357887744204786,
          0.33653207492374104,
          0.20094229331429167,
          1.0071950093674618,
          -0.9527307745971656,
          -0.09568952792397016,
          1.3886099364786202,
          -0.40628822222604294,
          -0.5411489487558906,
          1.1448259118974045,
          -0.044294894878824334,
          -1.2242361306849434,
          -1.5635361783647348,
          -1.1577332474855913,
          1.4841066954772726,
          2.089055323074138,
          -0.44414332055156114,
          -0.5885541073378984,
          -1.7905967447540905,
          -0.34723767947823353,
          -0.23120757284982782,
          -0.6399410985923646,
          -0.635501972434438,
          1.3693005464093595,
          0.431192108920813,
          0.659141433411359,
          0.9171535696880491,
          0.9788125401532972,
          0.5267326417113372,
          0.9136507200898014,
          -0.5653797024225788,
          0.06915499033069712,
          -0.0063219634627484315,
          1.1002321018684142,
          1.2210569339265052,
          -0.8753757524102824,
          0.030182759395562392,
          -0.6153964027314844,
          0.5060849118026338,
          -0.16651966275426475,
          0.37632122226389336,
          -0.2962246844910085,
          -0.30544910167753503,
          0.6623859567432884,
          0.9509361198774081,
          -0.09297396015343669,
          2.268185046099471,
          0.02928706136238691,
          -1.675699147121042,
          -1.1856545664021834,
          0.3499197162424687,
          2.0038475218562,
          0.4362349881226813,
          0.9142765476623922,
          0.7883984687008009,
          -0.8512400107309863,
          -1.4339436880991814,
          1.3154256023061899,
          0.40109547338674545,
          2.580742747599933,
          -0.9785049729292972,
          1.267248935705718,
          0.13151726054204294,
          -1.0953070659591473,
          -1.5870137537016775,
          -1.4607827902108026,
          1.2003268181538915,
          -1.0360249425806332,
          1.7105399536940895,
          1.5495412925942942,
          -1.143499689661421,
          -0.4992260549426385,
          0.5462244893275876,
          -0.7436580766429798,
          1.7938801187842248,
          1.300373440582194,
          -1.4561412506575209
         ]
        }
       ],
       "layout": {
        "legend": {
         "bgcolor": "#F5F6F9",
         "font": {
          "color": "#4D5663"
         }
        },
        "paper_bgcolor": "#F5F6F9",
        "plot_bgcolor": "#F5F6F9",
        "template": {
         "data": {
          "bar": [
           {
            "error_x": {
             "color": "#2a3f5f"
            },
            "error_y": {
             "color": "#2a3f5f"
            },
            "marker": {
             "line": {
              "color": "#E5ECF6",
              "width": 0.5
             },
             "pattern": {
              "fillmode": "overlay",
              "size": 10,
              "solidity": 0.2
             }
            },
            "type": "bar"
           }
          ],
          "barpolar": [
           {
            "marker": {
             "line": {
              "color": "#E5ECF6",
              "width": 0.5
             },
             "pattern": {
              "fillmode": "overlay",
              "size": 10,
              "solidity": 0.2
             }
            },
            "type": "barpolar"
           }
          ],
          "carpet": [
           {
            "aaxis": {
             "endlinecolor": "#2a3f5f",
             "gridcolor": "white",
             "linecolor": "white",
             "minorgridcolor": "white",
             "startlinecolor": "#2a3f5f"
            },
            "baxis": {
             "endlinecolor": "#2a3f5f",
             "gridcolor": "white",
             "linecolor": "white",
             "minorgridcolor": "white",
             "startlinecolor": "#2a3f5f"
            },
            "type": "carpet"
           }
          ],
          "choropleth": [
           {
            "colorbar": {
             "outlinewidth": 0,
             "ticks": ""
            },
            "type": "choropleth"
           }
          ],
          "contour": [
           {
            "colorbar": {
             "outlinewidth": 0,
             "ticks": ""
            },
            "colorscale": [
             [
              0,
              "#0d0887"
             ],
             [
              0.1111111111111111,
              "#46039f"
             ],
             [
              0.2222222222222222,
              "#7201a8"
             ],
             [
              0.3333333333333333,
              "#9c179e"
             ],
             [
              0.4444444444444444,
              "#bd3786"
             ],
             [
              0.5555555555555556,
              "#d8576b"
             ],
             [
              0.6666666666666666,
              "#ed7953"
             ],
             [
              0.7777777777777778,
              "#fb9f3a"
             ],
             [
              0.8888888888888888,
              "#fdca26"
             ],
             [
              1,
              "#f0f921"
             ]
            ],
            "type": "contour"
           }
          ],
          "contourcarpet": [
           {
            "colorbar": {
             "outlinewidth": 0,
             "ticks": ""
            },
            "type": "contourcarpet"
           }
          ],
          "heatmap": [
           {
            "colorbar": {
             "outlinewidth": 0,
             "ticks": ""
            },
            "colorscale": [
             [
              0,
              "#0d0887"
             ],
             [
              0.1111111111111111,
              "#46039f"
             ],
             [
              0.2222222222222222,
              "#7201a8"
             ],
             [
              0.3333333333333333,
              "#9c179e"
             ],
             [
              0.4444444444444444,
              "#bd3786"
             ],
             [
              0.5555555555555556,
              "#d8576b"
             ],
             [
              0.6666666666666666,
              "#ed7953"
             ],
             [
              0.7777777777777778,
              "#fb9f3a"
             ],
             [
              0.8888888888888888,
              "#fdca26"
             ],
             [
              1,
              "#f0f921"
             ]
            ],
            "type": "heatmap"
           }
          ],
          "heatmapgl": [
           {
            "colorbar": {
             "outlinewidth": 0,
             "ticks": ""
            },
            "colorscale": [
             [
              0,
              "#0d0887"
             ],
             [
              0.1111111111111111,
              "#46039f"
             ],
             [
              0.2222222222222222,
              "#7201a8"
             ],
             [
              0.3333333333333333,
              "#9c179e"
             ],
             [
              0.4444444444444444,
              "#bd3786"
             ],
             [
              0.5555555555555556,
              "#d8576b"
             ],
             [
              0.6666666666666666,
              "#ed7953"
             ],
             [
              0.7777777777777778,
              "#fb9f3a"
             ],
             [
              0.8888888888888888,
              "#fdca26"
             ],
             [
              1,
              "#f0f921"
             ]
            ],
            "type": "heatmapgl"
           }
          ],
          "histogram": [
           {
            "marker": {
             "pattern": {
              "fillmode": "overlay",
              "size": 10,
              "solidity": 0.2
             }
            },
            "type": "histogram"
           }
          ],
          "histogram2d": [
           {
            "colorbar": {
             "outlinewidth": 0,
             "ticks": ""
            },
            "colorscale": [
             [
              0,
              "#0d0887"
             ],
             [
              0.1111111111111111,
              "#46039f"
             ],
             [
              0.2222222222222222,
              "#7201a8"
             ],
             [
              0.3333333333333333,
              "#9c179e"
             ],
             [
              0.4444444444444444,
              "#bd3786"
             ],
             [
              0.5555555555555556,
              "#d8576b"
             ],
             [
              0.6666666666666666,
              "#ed7953"
             ],
             [
              0.7777777777777778,
              "#fb9f3a"
             ],
             [
              0.8888888888888888,
              "#fdca26"
             ],
             [
              1,
              "#f0f921"
             ]
            ],
            "type": "histogram2d"
           }
          ],
          "histogram2dcontour": [
           {
            "colorbar": {
             "outlinewidth": 0,
             "ticks": ""
            },
            "colorscale": [
             [
              0,
              "#0d0887"
             ],
             [
              0.1111111111111111,
              "#46039f"
             ],
             [
              0.2222222222222222,
              "#7201a8"
             ],
             [
              0.3333333333333333,
              "#9c179e"
             ],
             [
              0.4444444444444444,
              "#bd3786"
             ],
             [
              0.5555555555555556,
              "#d8576b"
             ],
             [
              0.6666666666666666,
              "#ed7953"
             ],
             [
              0.7777777777777778,
              "#fb9f3a"
             ],
             [
              0.8888888888888888,
              "#fdca26"
             ],
             [
              1,
              "#f0f921"
             ]
            ],
            "type": "histogram2dcontour"
           }
          ],
          "mesh3d": [
           {
            "colorbar": {
             "outlinewidth": 0,
             "ticks": ""
            },
            "type": "mesh3d"
           }
          ],
          "parcoords": [
           {
            "line": {
             "colorbar": {
              "outlinewidth": 0,
              "ticks": ""
             }
            },
            "type": "parcoords"
           }
          ],
          "pie": [
           {
            "automargin": true,
            "type": "pie"
           }
          ],
          "scatter": [
           {
            "fillpattern": {
             "fillmode": "overlay",
             "size": 10,
             "solidity": 0.2
            },
            "type": "scatter"
           }
          ],
          "scatter3d": [
           {
            "line": {
             "colorbar": {
              "outlinewidth": 0,
              "ticks": ""
             }
            },
            "marker": {
             "colorbar": {
              "outlinewidth": 0,
              "ticks": ""
             }
            },
            "type": "scatter3d"
           }
          ],
          "scattercarpet": [
           {
            "marker": {
             "colorbar": {
              "outlinewidth": 0,
              "ticks": ""
             }
            },
            "type": "scattercarpet"
           }
          ],
          "scattergeo": [
           {
            "marker": {
             "colorbar": {
              "outlinewidth": 0,
              "ticks": ""
             }
            },
            "type": "scattergeo"
           }
          ],
          "scattergl": [
           {
            "marker": {
             "colorbar": {
              "outlinewidth": 0,
              "ticks": ""
             }
            },
            "type": "scattergl"
           }
          ],
          "scattermapbox": [
           {
            "marker": {
             "colorbar": {
              "outlinewidth": 0,
              "ticks": ""
             }
            },
            "type": "scattermapbox"
           }
          ],
          "scatterpolar": [
           {
            "marker": {
             "colorbar": {
              "outlinewidth": 0,
              "ticks": ""
             }
            },
            "type": "scatterpolar"
           }
          ],
          "scatterpolargl": [
           {
            "marker": {
             "colorbar": {
              "outlinewidth": 0,
              "ticks": ""
             }
            },
            "type": "scatterpolargl"
           }
          ],
          "scatterternary": [
           {
            "marker": {
             "colorbar": {
              "outlinewidth": 0,
              "ticks": ""
             }
            },
            "type": "scatterternary"
           }
          ],
          "surface": [
           {
            "colorbar": {
             "outlinewidth": 0,
             "ticks": ""
            },
            "colorscale": [
             [
              0,
              "#0d0887"
             ],
             [
              0.1111111111111111,
              "#46039f"
             ],
             [
              0.2222222222222222,
              "#7201a8"
             ],
             [
              0.3333333333333333,
              "#9c179e"
             ],
             [
              0.4444444444444444,
              "#bd3786"
             ],
             [
              0.5555555555555556,
              "#d8576b"
             ],
             [
              0.6666666666666666,
              "#ed7953"
             ],
             [
              0.7777777777777778,
              "#fb9f3a"
             ],
             [
              0.8888888888888888,
              "#fdca26"
             ],
             [
              1,
              "#f0f921"
             ]
            ],
            "type": "surface"
           }
          ],
          "table": [
           {
            "cells": {
             "fill": {
              "color": "#EBF0F8"
             },
             "line": {
              "color": "white"
             }
            },
            "header": {
             "fill": {
              "color": "#C8D4E3"
             },
             "line": {
              "color": "white"
             }
            },
            "type": "table"
           }
          ]
         },
         "layout": {
          "annotationdefaults": {
           "arrowcolor": "#2a3f5f",
           "arrowhead": 0,
           "arrowwidth": 1
          },
          "autotypenumbers": "strict",
          "coloraxis": {
           "colorbar": {
            "outlinewidth": 0,
            "ticks": ""
           }
          },
          "colorscale": {
           "diverging": [
            [
             0,
             "#8e0152"
            ],
            [
             0.1,
             "#c51b7d"
            ],
            [
             0.2,
             "#de77ae"
            ],
            [
             0.3,
             "#f1b6da"
            ],
            [
             0.4,
             "#fde0ef"
            ],
            [
             0.5,
             "#f7f7f7"
            ],
            [
             0.6,
             "#e6f5d0"
            ],
            [
             0.7,
             "#b8e186"
            ],
            [
             0.8,
             "#7fbc41"
            ],
            [
             0.9,
             "#4d9221"
            ],
            [
             1,
             "#276419"
            ]
           ],
           "sequential": [
            [
             0,
             "#0d0887"
            ],
            [
             0.1111111111111111,
             "#46039f"
            ],
            [
             0.2222222222222222,
             "#7201a8"
            ],
            [
             0.3333333333333333,
             "#9c179e"
            ],
            [
             0.4444444444444444,
             "#bd3786"
            ],
            [
             0.5555555555555556,
             "#d8576b"
            ],
            [
             0.6666666666666666,
             "#ed7953"
            ],
            [
             0.7777777777777778,
             "#fb9f3a"
            ],
            [
             0.8888888888888888,
             "#fdca26"
            ],
            [
             1,
             "#f0f921"
            ]
           ],
           "sequentialminus": [
            [
             0,
             "#0d0887"
            ],
            [
             0.1111111111111111,
             "#46039f"
            ],
            [
             0.2222222222222222,
             "#7201a8"
            ],
            [
             0.3333333333333333,
             "#9c179e"
            ],
            [
             0.4444444444444444,
             "#bd3786"
            ],
            [
             0.5555555555555556,
             "#d8576b"
            ],
            [
             0.6666666666666666,
             "#ed7953"
            ],
            [
             0.7777777777777778,
             "#fb9f3a"
            ],
            [
             0.8888888888888888,
             "#fdca26"
            ],
            [
             1,
             "#f0f921"
            ]
           ]
          },
          "colorway": [
           "#636efa",
           "#EF553B",
           "#00cc96",
           "#ab63fa",
           "#FFA15A",
           "#19d3f3",
           "#FF6692",
           "#B6E880",
           "#FF97FF",
           "#FECB52"
          ],
          "font": {
           "color": "#2a3f5f"
          },
          "geo": {
           "bgcolor": "white",
           "lakecolor": "white",
           "landcolor": "#E5ECF6",
           "showlakes": true,
           "showland": true,
           "subunitcolor": "white"
          },
          "hoverlabel": {
           "align": "left"
          },
          "hovermode": "closest",
          "mapbox": {
           "style": "light"
          },
          "paper_bgcolor": "white",
          "plot_bgcolor": "#E5ECF6",
          "polar": {
           "angularaxis": {
            "gridcolor": "white",
            "linecolor": "white",
            "ticks": ""
           },
           "bgcolor": "#E5ECF6",
           "radialaxis": {
            "gridcolor": "white",
            "linecolor": "white",
            "ticks": ""
           }
          },
          "scene": {
           "xaxis": {
            "backgroundcolor": "#E5ECF6",
            "gridcolor": "white",
            "gridwidth": 2,
            "linecolor": "white",
            "showbackground": true,
            "ticks": "",
            "zerolinecolor": "white"
           },
           "yaxis": {
            "backgroundcolor": "#E5ECF6",
            "gridcolor": "white",
            "gridwidth": 2,
            "linecolor": "white",
            "showbackground": true,
            "ticks": "",
            "zerolinecolor": "white"
           },
           "zaxis": {
            "backgroundcolor": "#E5ECF6",
            "gridcolor": "white",
            "gridwidth": 2,
            "linecolor": "white",
            "showbackground": true,
            "ticks": "",
            "zerolinecolor": "white"
           }
          },
          "shapedefaults": {
           "line": {
            "color": "#2a3f5f"
           }
          },
          "ternary": {
           "aaxis": {
            "gridcolor": "white",
            "linecolor": "white",
            "ticks": ""
           },
           "baxis": {
            "gridcolor": "white",
            "linecolor": "white",
            "ticks": ""
           },
           "bgcolor": "#E5ECF6",
           "caxis": {
            "gridcolor": "white",
            "linecolor": "white",
            "ticks": ""
           }
          },
          "title": {
           "x": 0.05
          },
          "xaxis": {
           "automargin": true,
           "gridcolor": "white",
           "linecolor": "white",
           "ticks": "",
           "title": {
            "standoff": 15
           },
           "zerolinecolor": "white",
           "zerolinewidth": 2
          },
          "yaxis": {
           "automargin": true,
           "gridcolor": "white",
           "linecolor": "white",
           "ticks": "",
           "title": {
            "standoff": 15
           },
           "zerolinecolor": "white",
           "zerolinewidth": 2
          }
         }
        },
        "title": {
         "font": {
          "color": "#4D5663"
         }
        },
        "xaxis": {
         "gridcolor": "#E1E5ED",
         "showgrid": true,
         "tickfont": {
          "color": "#4D5663"
         },
         "title": {
          "font": {
           "color": "#4D5663"
          },
          "text": ""
         },
         "zerolinecolor": "#E1E5ED"
        },
        "yaxis": {
         "gridcolor": "#E1E5ED",
         "showgrid": true,
         "tickfont": {
          "color": "#4D5663"
         },
         "title": {
          "font": {
           "color": "#4D5663"
          },
          "text": ""
         },
         "zerolinecolor": "#E1E5ED"
        }
       }
      },
      "text/html": [
       "<div>                            <div id=\"4fe85bc1-874e-4df5-b2c2-769bb1eb252f\" class=\"plotly-graph-div\" style=\"height:525px; width:100%;\"></div>            <script type=\"text/javascript\">                require([\"plotly\"], function(Plotly) {                    window.PLOTLYENV=window.PLOTLYENV || {};\n",
       "                    window.PLOTLYENV.BASE_URL='https://plot.ly';                                    if (document.getElementById(\"4fe85bc1-874e-4df5-b2c2-769bb1eb252f\")) {                    Plotly.newPlot(                        \"4fe85bc1-874e-4df5-b2c2-769bb1eb252f\",                        [{\"boxpoints\":false,\"line\":{\"width\":1.3},\"marker\":{\"color\":\"rgba(255, 153, 51, 1.0)\"},\"name\":\"A\",\"orientation\":\"v\",\"y\":[0.6616028000153031,0.7974564222354177,-0.0863295983531025,0.7258958330757438,0.3805843872250716,0.9546612272488477,-1.1110120769710934,-0.3764646972195968,-1.5318298280733997,-0.37561921842675816,0.7755753395886864,-0.7160422754394841,0.5676483268168749,-0.5756773924464362,-0.45704522048156193,0.7744748888395329,0.08899280994212116,-0.5509914982640807,-0.3488498089051454,-0.037555887655825564,0.7918282653696499,-1.4001775724705254,-0.32610365058806484,0.39878426816230667,0.2348059336759787,0.4481712176919755,-1.2520920333235295,-0.7925050502260472,-0.9735775247939994,-0.734485344177268,1.6019428352509786,-0.9197488352504017,-1.260110007287861,-1.401275319557441,0.28048867344979356,0.5398742976180476,1.2693404161629747,0.02174200233697176,0.5758825701871609,-0.3971819183006857,2.007524634281026,0.2542531697586112,2.124799905699015,0.23854636661232106,-1.3353767948631912,-0.28875433211088797,2.1105981678674914,-1.1841205739312088,-0.2751180624877003,0.34592624962623897,1.452860542911721,-0.22830557354245032,0.6941858603615232,-0.06221123901300216,1.1500756463173367,0.17578004444302284,0.1855363693337805,-0.06894228052418856,1.5124520733414781,-0.7442365080620528,1.257738847261052,-0.7558131910299117,0.8461747570080188,-1.023962016133917,-0.3684944705468852,-1.371233555495302,0.10003032653558376,-1.462766086646851,0.8878824751650943,0.028153591910233835,0.46774794912917833,0.3307143746196127,-1.1845420045346338,-1.9618580984524323,-0.732246263074513,0.6085940658832946,-0.03244220586345618,0.3257523420152298,0.3881779356017851,-0.46314365970228244,-0.4048036974940555,0.07307150964048109,-0.4763026284720435,-1.6423080323929717,0.2560438940980801,-0.21818862950704257,-1.806146593898512,0.2707012255172646,-0.030261916191567692,1.4054762187473853,-1.5333257558042204,-0.5532599833060223,1.2091798359922146,-1.4525417745953029,1.8353076564468433,1.678955166899211,-1.803157329169355,0.16681204796686866,-0.6773913444646897,1.2137076973155396],\"type\":\"box\"},{\"boxpoints\":false,\"line\":{\"width\":1.3},\"marker\":{\"color\":\"rgba(55, 128, 191, 1.0)\"},\"name\":\"B\",\"orientation\":\"v\",\"y\":[-1.1268155649545148,-1.122498813378946,-1.135768725254598,0.4467966029850286,1.3026765609179867,0.41239621899385204,-0.20194627317198083,0.8600104477462834,-1.962080928569586,-0.4373747507849107,-0.41116099408156664,2.7840699944659364,0.31447334515914854,0.2846945568087361,0.01464292652330145,-0.5164290155404124,-0.7273626414864659,1.2500406257213608,0.7731202255669675,-0.9471162159751779,1.6089268308327083,-0.9904605490398387,0.5615974449139082,0.6556254314738813,-0.6759081722055736,0.20534170739817065,0.9456751353955166,-1.076675552019304,0.14738107503991746,1.3383840015944721,-0.0609281141550687,0.5320334631127615,0.5163656249178235,-0.27623286391499047,0.02176515577737672,-1.1935626046012529,-1.4198692167736344,0.09636985742351764,-0.8804879798268973,-0.9081185864365822,-0.8560618103964709,1.1852558330371423,-0.48566165987276,-1.2012701660101697,0.7926297300526718,-0.06358356591116639,-1.038802944861722,-0.27612451776281827,-0.12207689001180816,-2.1249927285913555,-0.821518663527813,-0.12980931693678052,-0.3177776735474476,0.12212165858303524,1.013790299572178,0.1855438795019865,-0.6846607839438767,-0.5758041060600324,0.2931824257814475,0.029105837703226937,-0.9181543264843546,-0.5463503458318973,-1.3628733886691113,-1.7025708249785048,-0.35818260653301826,1.7347913269431614,1.0629400219574894,1.4398135023842047,-0.2740393711565461,1.3039811228012599,1.1558129611573011,-0.6508793357028155,1.2205515513723033,1.314346070325035,0.11992498626050413,-0.4947245634070283,0.05126066628653432,1.001859445962634,-1.0810954813674498,-0.666457222263921,-0.6584381990642916,-0.824169081362802,-0.24967133190886032,1.67802687375217,-1.0298854212050215,1.2536598773694319,-0.3429477444983214,0.015250968057125065,0.11036366892160526,-1.4051216223380272,0.2233147060252078,1.18846352552429,0.48001189222242213,0.9682950297608599,-0.22253557884040903,0.6610926927680109,-0.2499843860765721,-0.4441956708253436,1.2220525201294656,0.4773783868112384],\"type\":\"box\"},{\"boxpoints\":false,\"line\":{\"width\":1.3},\"marker\":{\"color\":\"rgba(50, 171, 96, 1.0)\"},\"name\":\"C\",\"orientation\":\"v\",\"y\":[0.6364361187524838,-0.9481926934171117,-0.7026565329920906,-1.3985559318712395,-0.555945698642053,-1.072873335679387,0.07240440458067847,-0.2800117857278135,-1.6253813931018948,-0.6354118797719859,1.0474791244511474,1.3689949879306647,-0.4936142249941816,-0.7161864245536822,0.7166118935291617,1.0491941845269683,-1.0167547315641343,-1.354795709262403,0.211426629833737,-0.6033662976918103,-0.0971877871560245,-0.3893920156306753,0.3354864657969129,1.4054868002972545,0.21722715989889188,1.3586752645371052,-0.06320242566991251,1.386153330425027,0.24752335576741671,-1.6253826258614361,-1.3733911371559053,1.0846263153946503,-1.5271818199758835,0.01861101329302419,1.5418920546122568,-1.0053961518658803,0.08975744011281359,-0.9815321753433655,0.09024176432209406,-1.616153333206271,0.050774954305660217,-0.753029358112106,-0.7281522604998135,-0.07933127085143334,-0.25145700293124057,1.0338438553561728,0.17094051968263382,-0.4670671446445785,0.566116944747061,0.9433402241347665,-0.4806591386046995,-0.7044587493102089,-1.2501184056560413,-0.19175507100963943,-1.1811162595704072,-0.27678632778009765,1.087904948619787,0.8399408708306237,0.3051725627870481,1.2209568486592872,-0.21207948347973407,0.5389387908978869,-0.040328883691117916,1.7660506968687628,0.249665717943124,1.6969039960896903,0.4536295161289849,1.3962875291249013,0.7606294557416456,-1.414709078605835,-0.4887220076117676,0.6435746519071064,0.16702300481270818,-1.3738198923689084,-0.01985515288422155,-0.547709115489449,1.410204599457836,1.6993691963756892,0.3408990409492541,-0.011671535517513413,1.21289348932528,-0.5674706055264431,-0.5759364231486797,0.9730047927914587,-1.202779605549592,0.5457744913105262,2.3987243602929986,-0.27555024418732466,-1.4742429279807565,-1.3834121259596204,-0.7110212943710632,0.1992220952588321,-1.846466446837276,-0.1720116027014979,-1.7956098154167122,0.3475213606354094,-1.1385226862309443,1.090886907360394,-1.169287994647218,-0.2510195328189469],\"type\":\"box\"},{\"boxpoints\":false,\"line\":{\"width\":1.3},\"marker\":{\"color\":\"rgba(128, 0, 128, 1.0)\"},\"name\":\"D\",\"orientation\":\"v\",\"y\":[-0.15812926926927504,0.03487482620972453,-1.1997375344097534,0.30348845899089466,-2.1277796443204338,0.48360950299724176,-1.5449329496218511,-0.7963322946930462,-1.0357957051314897,1.278915473852364,0.37000935783671696,-1.138290778536751,-0.8721731843307451,2.6082647374526844,-0.047550629994062135,-1.50554583865774,0.1580575457028981,0.8756637174889669,-0.48394345644566417,1.3189788280354444,-0.8625427818310973,0.3151251461846277,-0.7037156150463039,0.7357887744204786,0.33653207492374104,0.20094229331429167,1.0071950093674618,-0.9527307745971656,-0.09568952792397016,1.3886099364786202,-0.40628822222604294,-0.5411489487558906,1.1448259118974045,-0.044294894878824334,-1.2242361306849434,-1.5635361783647348,-1.1577332474855913,1.4841066954772726,2.089055323074138,-0.44414332055156114,-0.5885541073378984,-1.7905967447540905,-0.34723767947823353,-0.23120757284982782,-0.6399410985923646,-0.635501972434438,1.3693005464093595,0.431192108920813,0.659141433411359,0.9171535696880491,0.9788125401532972,0.5267326417113372,0.9136507200898014,-0.5653797024225788,0.06915499033069712,-0.0063219634627484315,1.1002321018684142,1.2210569339265052,-0.8753757524102824,0.030182759395562392,-0.6153964027314844,0.5060849118026338,-0.16651966275426475,0.37632122226389336,-0.2962246844910085,-0.30544910167753503,0.6623859567432884,0.9509361198774081,-0.09297396015343669,2.268185046099471,0.02928706136238691,-1.675699147121042,-1.1856545664021834,0.3499197162424687,2.0038475218562,0.4362349881226813,0.9142765476623922,0.7883984687008009,-0.8512400107309863,-1.4339436880991814,1.3154256023061899,0.40109547338674545,2.580742747599933,-0.9785049729292972,1.267248935705718,0.13151726054204294,-1.0953070659591473,-1.5870137537016775,-1.4607827902108026,1.2003268181538915,-1.0360249425806332,1.7105399536940895,1.5495412925942942,-1.143499689661421,-0.4992260549426385,0.5462244893275876,-0.7436580766429798,1.7938801187842248,1.300373440582194,-1.4561412506575209],\"type\":\"box\"}],                        {\"legend\":{\"bgcolor\":\"#F5F6F9\",\"font\":{\"color\":\"#4D5663\"}},\"paper_bgcolor\":\"#F5F6F9\",\"plot_bgcolor\":\"#F5F6F9\",\"template\":{\"data\":{\"barpolar\":[{\"marker\":{\"line\":{\"color\":\"#E5ECF6\",\"width\":0.5},\"pattern\":{\"fillmode\":\"overlay\",\"size\":10,\"solidity\":0.2}},\"type\":\"barpolar\"}],\"bar\":[{\"error_x\":{\"color\":\"#2a3f5f\"},\"error_y\":{\"color\":\"#2a3f5f\"},\"marker\":{\"line\":{\"color\":\"#E5ECF6\",\"width\":0.5},\"pattern\":{\"fillmode\":\"overlay\",\"size\":10,\"solidity\":0.2}},\"type\":\"bar\"}],\"carpet\":[{\"aaxis\":{\"endlinecolor\":\"#2a3f5f\",\"gridcolor\":\"white\",\"linecolor\":\"white\",\"minorgridcolor\":\"white\",\"startlinecolor\":\"#2a3f5f\"},\"baxis\":{\"endlinecolor\":\"#2a3f5f\",\"gridcolor\":\"white\",\"linecolor\":\"white\",\"minorgridcolor\":\"white\",\"startlinecolor\":\"#2a3f5f\"},\"type\":\"carpet\"}],\"choropleth\":[{\"colorbar\":{\"outlinewidth\":0,\"ticks\":\"\"},\"type\":\"choropleth\"}],\"contourcarpet\":[{\"colorbar\":{\"outlinewidth\":0,\"ticks\":\"\"},\"type\":\"contourcarpet\"}],\"contour\":[{\"colorbar\":{\"outlinewidth\":0,\"ticks\":\"\"},\"colorscale\":[[0.0,\"#0d0887\"],[0.1111111111111111,\"#46039f\"],[0.2222222222222222,\"#7201a8\"],[0.3333333333333333,\"#9c179e\"],[0.4444444444444444,\"#bd3786\"],[0.5555555555555556,\"#d8576b\"],[0.6666666666666666,\"#ed7953\"],[0.7777777777777778,\"#fb9f3a\"],[0.8888888888888888,\"#fdca26\"],[1.0,\"#f0f921\"]],\"type\":\"contour\"}],\"heatmapgl\":[{\"colorbar\":{\"outlinewidth\":0,\"ticks\":\"\"},\"colorscale\":[[0.0,\"#0d0887\"],[0.1111111111111111,\"#46039f\"],[0.2222222222222222,\"#7201a8\"],[0.3333333333333333,\"#9c179e\"],[0.4444444444444444,\"#bd3786\"],[0.5555555555555556,\"#d8576b\"],[0.6666666666666666,\"#ed7953\"],[0.7777777777777778,\"#fb9f3a\"],[0.8888888888888888,\"#fdca26\"],[1.0,\"#f0f921\"]],\"type\":\"heatmapgl\"}],\"heatmap\":[{\"colorbar\":{\"outlinewidth\":0,\"ticks\":\"\"},\"colorscale\":[[0.0,\"#0d0887\"],[0.1111111111111111,\"#46039f\"],[0.2222222222222222,\"#7201a8\"],[0.3333333333333333,\"#9c179e\"],[0.4444444444444444,\"#bd3786\"],[0.5555555555555556,\"#d8576b\"],[0.6666666666666666,\"#ed7953\"],[0.7777777777777778,\"#fb9f3a\"],[0.8888888888888888,\"#fdca26\"],[1.0,\"#f0f921\"]],\"type\":\"heatmap\"}],\"histogram2dcontour\":[{\"colorbar\":{\"outlinewidth\":0,\"ticks\":\"\"},\"colorscale\":[[0.0,\"#0d0887\"],[0.1111111111111111,\"#46039f\"],[0.2222222222222222,\"#7201a8\"],[0.3333333333333333,\"#9c179e\"],[0.4444444444444444,\"#bd3786\"],[0.5555555555555556,\"#d8576b\"],[0.6666666666666666,\"#ed7953\"],[0.7777777777777778,\"#fb9f3a\"],[0.8888888888888888,\"#fdca26\"],[1.0,\"#f0f921\"]],\"type\":\"histogram2dcontour\"}],\"histogram2d\":[{\"colorbar\":{\"outlinewidth\":0,\"ticks\":\"\"},\"colorscale\":[[0.0,\"#0d0887\"],[0.1111111111111111,\"#46039f\"],[0.2222222222222222,\"#7201a8\"],[0.3333333333333333,\"#9c179e\"],[0.4444444444444444,\"#bd3786\"],[0.5555555555555556,\"#d8576b\"],[0.6666666666666666,\"#ed7953\"],[0.7777777777777778,\"#fb9f3a\"],[0.8888888888888888,\"#fdca26\"],[1.0,\"#f0f921\"]],\"type\":\"histogram2d\"}],\"histogram\":[{\"marker\":{\"pattern\":{\"fillmode\":\"overlay\",\"size\":10,\"solidity\":0.2}},\"type\":\"histogram\"}],\"mesh3d\":[{\"colorbar\":{\"outlinewidth\":0,\"ticks\":\"\"},\"type\":\"mesh3d\"}],\"parcoords\":[{\"line\":{\"colorbar\":{\"outlinewidth\":0,\"ticks\":\"\"}},\"type\":\"parcoords\"}],\"pie\":[{\"automargin\":true,\"type\":\"pie\"}],\"scatter3d\":[{\"line\":{\"colorbar\":{\"outlinewidth\":0,\"ticks\":\"\"}},\"marker\":{\"colorbar\":{\"outlinewidth\":0,\"ticks\":\"\"}},\"type\":\"scatter3d\"}],\"scattercarpet\":[{\"marker\":{\"colorbar\":{\"outlinewidth\":0,\"ticks\":\"\"}},\"type\":\"scattercarpet\"}],\"scattergeo\":[{\"marker\":{\"colorbar\":{\"outlinewidth\":0,\"ticks\":\"\"}},\"type\":\"scattergeo\"}],\"scattergl\":[{\"marker\":{\"colorbar\":{\"outlinewidth\":0,\"ticks\":\"\"}},\"type\":\"scattergl\"}],\"scattermapbox\":[{\"marker\":{\"colorbar\":{\"outlinewidth\":0,\"ticks\":\"\"}},\"type\":\"scattermapbox\"}],\"scatterpolargl\":[{\"marker\":{\"colorbar\":{\"outlinewidth\":0,\"ticks\":\"\"}},\"type\":\"scatterpolargl\"}],\"scatterpolar\":[{\"marker\":{\"colorbar\":{\"outlinewidth\":0,\"ticks\":\"\"}},\"type\":\"scatterpolar\"}],\"scatter\":[{\"fillpattern\":{\"fillmode\":\"overlay\",\"size\":10,\"solidity\":0.2},\"type\":\"scatter\"}],\"scatterternary\":[{\"marker\":{\"colorbar\":{\"outlinewidth\":0,\"ticks\":\"\"}},\"type\":\"scatterternary\"}],\"surface\":[{\"colorbar\":{\"outlinewidth\":0,\"ticks\":\"\"},\"colorscale\":[[0.0,\"#0d0887\"],[0.1111111111111111,\"#46039f\"],[0.2222222222222222,\"#7201a8\"],[0.3333333333333333,\"#9c179e\"],[0.4444444444444444,\"#bd3786\"],[0.5555555555555556,\"#d8576b\"],[0.6666666666666666,\"#ed7953\"],[0.7777777777777778,\"#fb9f3a\"],[0.8888888888888888,\"#fdca26\"],[1.0,\"#f0f921\"]],\"type\":\"surface\"}],\"table\":[{\"cells\":{\"fill\":{\"color\":\"#EBF0F8\"},\"line\":{\"color\":\"white\"}},\"header\":{\"fill\":{\"color\":\"#C8D4E3\"},\"line\":{\"color\":\"white\"}},\"type\":\"table\"}]},\"layout\":{\"annotationdefaults\":{\"arrowcolor\":\"#2a3f5f\",\"arrowhead\":0,\"arrowwidth\":1},\"autotypenumbers\":\"strict\",\"coloraxis\":{\"colorbar\":{\"outlinewidth\":0,\"ticks\":\"\"}},\"colorscale\":{\"diverging\":[[0,\"#8e0152\"],[0.1,\"#c51b7d\"],[0.2,\"#de77ae\"],[0.3,\"#f1b6da\"],[0.4,\"#fde0ef\"],[0.5,\"#f7f7f7\"],[0.6,\"#e6f5d0\"],[0.7,\"#b8e186\"],[0.8,\"#7fbc41\"],[0.9,\"#4d9221\"],[1,\"#276419\"]],\"sequential\":[[0.0,\"#0d0887\"],[0.1111111111111111,\"#46039f\"],[0.2222222222222222,\"#7201a8\"],[0.3333333333333333,\"#9c179e\"],[0.4444444444444444,\"#bd3786\"],[0.5555555555555556,\"#d8576b\"],[0.6666666666666666,\"#ed7953\"],[0.7777777777777778,\"#fb9f3a\"],[0.8888888888888888,\"#fdca26\"],[1.0,\"#f0f921\"]],\"sequentialminus\":[[0.0,\"#0d0887\"],[0.1111111111111111,\"#46039f\"],[0.2222222222222222,\"#7201a8\"],[0.3333333333333333,\"#9c179e\"],[0.4444444444444444,\"#bd3786\"],[0.5555555555555556,\"#d8576b\"],[0.6666666666666666,\"#ed7953\"],[0.7777777777777778,\"#fb9f3a\"],[0.8888888888888888,\"#fdca26\"],[1.0,\"#f0f921\"]]},\"colorway\":[\"#636efa\",\"#EF553B\",\"#00cc96\",\"#ab63fa\",\"#FFA15A\",\"#19d3f3\",\"#FF6692\",\"#B6E880\",\"#FF97FF\",\"#FECB52\"],\"font\":{\"color\":\"#2a3f5f\"},\"geo\":{\"bgcolor\":\"white\",\"lakecolor\":\"white\",\"landcolor\":\"#E5ECF6\",\"showlakes\":true,\"showland\":true,\"subunitcolor\":\"white\"},\"hoverlabel\":{\"align\":\"left\"},\"hovermode\":\"closest\",\"mapbox\":{\"style\":\"light\"},\"paper_bgcolor\":\"white\",\"plot_bgcolor\":\"#E5ECF6\",\"polar\":{\"angularaxis\":{\"gridcolor\":\"white\",\"linecolor\":\"white\",\"ticks\":\"\"},\"bgcolor\":\"#E5ECF6\",\"radialaxis\":{\"gridcolor\":\"white\",\"linecolor\":\"white\",\"ticks\":\"\"}},\"scene\":{\"xaxis\":{\"backgroundcolor\":\"#E5ECF6\",\"gridcolor\":\"white\",\"gridwidth\":2,\"linecolor\":\"white\",\"showbackground\":true,\"ticks\":\"\",\"zerolinecolor\":\"white\"},\"yaxis\":{\"backgroundcolor\":\"#E5ECF6\",\"gridcolor\":\"white\",\"gridwidth\":2,\"linecolor\":\"white\",\"showbackground\":true,\"ticks\":\"\",\"zerolinecolor\":\"white\"},\"zaxis\":{\"backgroundcolor\":\"#E5ECF6\",\"gridcolor\":\"white\",\"gridwidth\":2,\"linecolor\":\"white\",\"showbackground\":true,\"ticks\":\"\",\"zerolinecolor\":\"white\"}},\"shapedefaults\":{\"line\":{\"color\":\"#2a3f5f\"}},\"ternary\":{\"aaxis\":{\"gridcolor\":\"white\",\"linecolor\":\"white\",\"ticks\":\"\"},\"baxis\":{\"gridcolor\":\"white\",\"linecolor\":\"white\",\"ticks\":\"\"},\"bgcolor\":\"#E5ECF6\",\"caxis\":{\"gridcolor\":\"white\",\"linecolor\":\"white\",\"ticks\":\"\"}},\"title\":{\"x\":0.05},\"xaxis\":{\"automargin\":true,\"gridcolor\":\"white\",\"linecolor\":\"white\",\"ticks\":\"\",\"title\":{\"standoff\":15},\"zerolinecolor\":\"white\",\"zerolinewidth\":2},\"yaxis\":{\"automargin\":true,\"gridcolor\":\"white\",\"linecolor\":\"white\",\"ticks\":\"\",\"title\":{\"standoff\":15},\"zerolinecolor\":\"white\",\"zerolinewidth\":2}}},\"title\":{\"font\":{\"color\":\"#4D5663\"}},\"xaxis\":{\"gridcolor\":\"#E1E5ED\",\"showgrid\":true,\"tickfont\":{\"color\":\"#4D5663\"},\"title\":{\"font\":{\"color\":\"#4D5663\"},\"text\":\"\"},\"zerolinecolor\":\"#E1E5ED\"},\"yaxis\":{\"gridcolor\":\"#E1E5ED\",\"showgrid\":true,\"tickfont\":{\"color\":\"#4D5663\"},\"title\":{\"font\":{\"color\":\"#4D5663\"},\"text\":\"\"},\"zerolinecolor\":\"#E1E5ED\"}},                        {\"showLink\": true, \"linkText\": \"Export to plot.ly\", \"plotlyServerURL\": \"https://plot.ly\", \"responsive\": true}                    ).then(function(){\n",
       "                            \n",
       "var gd = document.getElementById('4fe85bc1-874e-4df5-b2c2-769bb1eb252f');\n",
       "var x = new MutationObserver(function (mutations, observer) {{\n",
       "        var display = window.getComputedStyle(gd).display;\n",
       "        if (!display || display === 'none') {{\n",
       "            console.log([gd, 'removed!']);\n",
       "            Plotly.purge(gd);\n",
       "            observer.disconnect();\n",
       "        }}\n",
       "}});\n",
       "\n",
       "// Listen for the removal of the full notebook cells\n",
       "var notebookContainer = gd.closest('#notebook-container');\n",
       "if (notebookContainer) {{\n",
       "    x.observe(notebookContainer, {childList: true});\n",
       "}}\n",
       "\n",
       "// Listen for the clearing of the current output cell\n",
       "var outputEl = gd.closest('.output');\n",
       "if (outputEl) {{\n",
       "    x.observe(outputEl, {childList: true});\n",
       "}}\n",
       "\n",
       "                        })                };                });            </script>        </div>"
      ]
     },
     "metadata": {},
     "output_type": "display_data"
    }
   ],
   "source": [
    "df.iplot(kind='box')"
   ]
  },
  {
   "cell_type": "markdown",
   "metadata": {},
   "source": [
    "## 3d Surface"
   ]
  },
  {
   "cell_type": "code",
   "execution_count": 49,
   "metadata": {},
   "outputs": [
    {
     "data": {
      "application/vnd.plotly.v1+json": {
       "config": {
        "linkText": "Export to plot.ly",
        "plotlyServerURL": "https://plot.ly",
        "showLink": true
       },
       "data": [
        {
         "colorscale": [
          [
           0,
           "rgb(165,0,38)"
          ],
          [
           0.1,
           "rgb(215,48,39)"
          ],
          [
           0.2,
           "rgb(244,109,67)"
          ],
          [
           0.3,
           "rgb(253,174,97)"
          ],
          [
           0.4,
           "rgb(254,224,144)"
          ],
          [
           0.5,
           "rgb(255,255,191)"
          ],
          [
           0.6,
           "rgb(224,243,248)"
          ],
          [
           0.7,
           "rgb(171,217,233)"
          ],
          [
           0.8,
           "rgb(116,173,209)"
          ],
          [
           0.9,
           "rgb(69,117,180)"
          ],
          [
           1,
           "rgb(49,54,149)"
          ]
         ],
         "type": "surface",
         "x": [
          0,
          1,
          2,
          3,
          4
         ],
         "y": [
          "x",
          "y",
          "z"
         ],
         "z": [
          [
           1,
           2,
           3,
           4,
           5
          ],
          [
           10,
           20,
           30,
           20,
           10
          ],
          [
           5,
           4,
           3,
           2,
           1
          ]
         ]
        }
       ],
       "layout": {
        "legend": {
         "bgcolor": "#F5F6F9",
         "font": {
          "color": "#4D5663"
         }
        },
        "paper_bgcolor": "#F5F6F9",
        "plot_bgcolor": "#F5F6F9",
        "template": {
         "data": {
          "bar": [
           {
            "error_x": {
             "color": "#2a3f5f"
            },
            "error_y": {
             "color": "#2a3f5f"
            },
            "marker": {
             "line": {
              "color": "#E5ECF6",
              "width": 0.5
             },
             "pattern": {
              "fillmode": "overlay",
              "size": 10,
              "solidity": 0.2
             }
            },
            "type": "bar"
           }
          ],
          "barpolar": [
           {
            "marker": {
             "line": {
              "color": "#E5ECF6",
              "width": 0.5
             },
             "pattern": {
              "fillmode": "overlay",
              "size": 10,
              "solidity": 0.2
             }
            },
            "type": "barpolar"
           }
          ],
          "carpet": [
           {
            "aaxis": {
             "endlinecolor": "#2a3f5f",
             "gridcolor": "white",
             "linecolor": "white",
             "minorgridcolor": "white",
             "startlinecolor": "#2a3f5f"
            },
            "baxis": {
             "endlinecolor": "#2a3f5f",
             "gridcolor": "white",
             "linecolor": "white",
             "minorgridcolor": "white",
             "startlinecolor": "#2a3f5f"
            },
            "type": "carpet"
           }
          ],
          "choropleth": [
           {
            "colorbar": {
             "outlinewidth": 0,
             "ticks": ""
            },
            "type": "choropleth"
           }
          ],
          "contour": [
           {
            "colorbar": {
             "outlinewidth": 0,
             "ticks": ""
            },
            "colorscale": [
             [
              0,
              "#0d0887"
             ],
             [
              0.1111111111111111,
              "#46039f"
             ],
             [
              0.2222222222222222,
              "#7201a8"
             ],
             [
              0.3333333333333333,
              "#9c179e"
             ],
             [
              0.4444444444444444,
              "#bd3786"
             ],
             [
              0.5555555555555556,
              "#d8576b"
             ],
             [
              0.6666666666666666,
              "#ed7953"
             ],
             [
              0.7777777777777778,
              "#fb9f3a"
             ],
             [
              0.8888888888888888,
              "#fdca26"
             ],
             [
              1,
              "#f0f921"
             ]
            ],
            "type": "contour"
           }
          ],
          "contourcarpet": [
           {
            "colorbar": {
             "outlinewidth": 0,
             "ticks": ""
            },
            "type": "contourcarpet"
           }
          ],
          "heatmap": [
           {
            "colorbar": {
             "outlinewidth": 0,
             "ticks": ""
            },
            "colorscale": [
             [
              0,
              "#0d0887"
             ],
             [
              0.1111111111111111,
              "#46039f"
             ],
             [
              0.2222222222222222,
              "#7201a8"
             ],
             [
              0.3333333333333333,
              "#9c179e"
             ],
             [
              0.4444444444444444,
              "#bd3786"
             ],
             [
              0.5555555555555556,
              "#d8576b"
             ],
             [
              0.6666666666666666,
              "#ed7953"
             ],
             [
              0.7777777777777778,
              "#fb9f3a"
             ],
             [
              0.8888888888888888,
              "#fdca26"
             ],
             [
              1,
              "#f0f921"
             ]
            ],
            "type": "heatmap"
           }
          ],
          "heatmapgl": [
           {
            "colorbar": {
             "outlinewidth": 0,
             "ticks": ""
            },
            "colorscale": [
             [
              0,
              "#0d0887"
             ],
             [
              0.1111111111111111,
              "#46039f"
             ],
             [
              0.2222222222222222,
              "#7201a8"
             ],
             [
              0.3333333333333333,
              "#9c179e"
             ],
             [
              0.4444444444444444,
              "#bd3786"
             ],
             [
              0.5555555555555556,
              "#d8576b"
             ],
             [
              0.6666666666666666,
              "#ed7953"
             ],
             [
              0.7777777777777778,
              "#fb9f3a"
             ],
             [
              0.8888888888888888,
              "#fdca26"
             ],
             [
              1,
              "#f0f921"
             ]
            ],
            "type": "heatmapgl"
           }
          ],
          "histogram": [
           {
            "marker": {
             "pattern": {
              "fillmode": "overlay",
              "size": 10,
              "solidity": 0.2
             }
            },
            "type": "histogram"
           }
          ],
          "histogram2d": [
           {
            "colorbar": {
             "outlinewidth": 0,
             "ticks": ""
            },
            "colorscale": [
             [
              0,
              "#0d0887"
             ],
             [
              0.1111111111111111,
              "#46039f"
             ],
             [
              0.2222222222222222,
              "#7201a8"
             ],
             [
              0.3333333333333333,
              "#9c179e"
             ],
             [
              0.4444444444444444,
              "#bd3786"
             ],
             [
              0.5555555555555556,
              "#d8576b"
             ],
             [
              0.6666666666666666,
              "#ed7953"
             ],
             [
              0.7777777777777778,
              "#fb9f3a"
             ],
             [
              0.8888888888888888,
              "#fdca26"
             ],
             [
              1,
              "#f0f921"
             ]
            ],
            "type": "histogram2d"
           }
          ],
          "histogram2dcontour": [
           {
            "colorbar": {
             "outlinewidth": 0,
             "ticks": ""
            },
            "colorscale": [
             [
              0,
              "#0d0887"
             ],
             [
              0.1111111111111111,
              "#46039f"
             ],
             [
              0.2222222222222222,
              "#7201a8"
             ],
             [
              0.3333333333333333,
              "#9c179e"
             ],
             [
              0.4444444444444444,
              "#bd3786"
             ],
             [
              0.5555555555555556,
              "#d8576b"
             ],
             [
              0.6666666666666666,
              "#ed7953"
             ],
             [
              0.7777777777777778,
              "#fb9f3a"
             ],
             [
              0.8888888888888888,
              "#fdca26"
             ],
             [
              1,
              "#f0f921"
             ]
            ],
            "type": "histogram2dcontour"
           }
          ],
          "mesh3d": [
           {
            "colorbar": {
             "outlinewidth": 0,
             "ticks": ""
            },
            "type": "mesh3d"
           }
          ],
          "parcoords": [
           {
            "line": {
             "colorbar": {
              "outlinewidth": 0,
              "ticks": ""
             }
            },
            "type": "parcoords"
           }
          ],
          "pie": [
           {
            "automargin": true,
            "type": "pie"
           }
          ],
          "scatter": [
           {
            "fillpattern": {
             "fillmode": "overlay",
             "size": 10,
             "solidity": 0.2
            },
            "type": "scatter"
           }
          ],
          "scatter3d": [
           {
            "line": {
             "colorbar": {
              "outlinewidth": 0,
              "ticks": ""
             }
            },
            "marker": {
             "colorbar": {
              "outlinewidth": 0,
              "ticks": ""
             }
            },
            "type": "scatter3d"
           }
          ],
          "scattercarpet": [
           {
            "marker": {
             "colorbar": {
              "outlinewidth": 0,
              "ticks": ""
             }
            },
            "type": "scattercarpet"
           }
          ],
          "scattergeo": [
           {
            "marker": {
             "colorbar": {
              "outlinewidth": 0,
              "ticks": ""
             }
            },
            "type": "scattergeo"
           }
          ],
          "scattergl": [
           {
            "marker": {
             "colorbar": {
              "outlinewidth": 0,
              "ticks": ""
             }
            },
            "type": "scattergl"
           }
          ],
          "scattermapbox": [
           {
            "marker": {
             "colorbar": {
              "outlinewidth": 0,
              "ticks": ""
             }
            },
            "type": "scattermapbox"
           }
          ],
          "scatterpolar": [
           {
            "marker": {
             "colorbar": {
              "outlinewidth": 0,
              "ticks": ""
             }
            },
            "type": "scatterpolar"
           }
          ],
          "scatterpolargl": [
           {
            "marker": {
             "colorbar": {
              "outlinewidth": 0,
              "ticks": ""
             }
            },
            "type": "scatterpolargl"
           }
          ],
          "scatterternary": [
           {
            "marker": {
             "colorbar": {
              "outlinewidth": 0,
              "ticks": ""
             }
            },
            "type": "scatterternary"
           }
          ],
          "surface": [
           {
            "colorbar": {
             "outlinewidth": 0,
             "ticks": ""
            },
            "colorscale": [
             [
              0,
              "#0d0887"
             ],
             [
              0.1111111111111111,
              "#46039f"
             ],
             [
              0.2222222222222222,
              "#7201a8"
             ],
             [
              0.3333333333333333,
              "#9c179e"
             ],
             [
              0.4444444444444444,
              "#bd3786"
             ],
             [
              0.5555555555555556,
              "#d8576b"
             ],
             [
              0.6666666666666666,
              "#ed7953"
             ],
             [
              0.7777777777777778,
              "#fb9f3a"
             ],
             [
              0.8888888888888888,
              "#fdca26"
             ],
             [
              1,
              "#f0f921"
             ]
            ],
            "type": "surface"
           }
          ],
          "table": [
           {
            "cells": {
             "fill": {
              "color": "#EBF0F8"
             },
             "line": {
              "color": "white"
             }
            },
            "header": {
             "fill": {
              "color": "#C8D4E3"
             },
             "line": {
              "color": "white"
             }
            },
            "type": "table"
           }
          ]
         },
         "layout": {
          "annotationdefaults": {
           "arrowcolor": "#2a3f5f",
           "arrowhead": 0,
           "arrowwidth": 1
          },
          "autotypenumbers": "strict",
          "coloraxis": {
           "colorbar": {
            "outlinewidth": 0,
            "ticks": ""
           }
          },
          "colorscale": {
           "diverging": [
            [
             0,
             "#8e0152"
            ],
            [
             0.1,
             "#c51b7d"
            ],
            [
             0.2,
             "#de77ae"
            ],
            [
             0.3,
             "#f1b6da"
            ],
            [
             0.4,
             "#fde0ef"
            ],
            [
             0.5,
             "#f7f7f7"
            ],
            [
             0.6,
             "#e6f5d0"
            ],
            [
             0.7,
             "#b8e186"
            ],
            [
             0.8,
             "#7fbc41"
            ],
            [
             0.9,
             "#4d9221"
            ],
            [
             1,
             "#276419"
            ]
           ],
           "sequential": [
            [
             0,
             "#0d0887"
            ],
            [
             0.1111111111111111,
             "#46039f"
            ],
            [
             0.2222222222222222,
             "#7201a8"
            ],
            [
             0.3333333333333333,
             "#9c179e"
            ],
            [
             0.4444444444444444,
             "#bd3786"
            ],
            [
             0.5555555555555556,
             "#d8576b"
            ],
            [
             0.6666666666666666,
             "#ed7953"
            ],
            [
             0.7777777777777778,
             "#fb9f3a"
            ],
            [
             0.8888888888888888,
             "#fdca26"
            ],
            [
             1,
             "#f0f921"
            ]
           ],
           "sequentialminus": [
            [
             0,
             "#0d0887"
            ],
            [
             0.1111111111111111,
             "#46039f"
            ],
            [
             0.2222222222222222,
             "#7201a8"
            ],
            [
             0.3333333333333333,
             "#9c179e"
            ],
            [
             0.4444444444444444,
             "#bd3786"
            ],
            [
             0.5555555555555556,
             "#d8576b"
            ],
            [
             0.6666666666666666,
             "#ed7953"
            ],
            [
             0.7777777777777778,
             "#fb9f3a"
            ],
            [
             0.8888888888888888,
             "#fdca26"
            ],
            [
             1,
             "#f0f921"
            ]
           ]
          },
          "colorway": [
           "#636efa",
           "#EF553B",
           "#00cc96",
           "#ab63fa",
           "#FFA15A",
           "#19d3f3",
           "#FF6692",
           "#B6E880",
           "#FF97FF",
           "#FECB52"
          ],
          "font": {
           "color": "#2a3f5f"
          },
          "geo": {
           "bgcolor": "white",
           "lakecolor": "white",
           "landcolor": "#E5ECF6",
           "showlakes": true,
           "showland": true,
           "subunitcolor": "white"
          },
          "hoverlabel": {
           "align": "left"
          },
          "hovermode": "closest",
          "mapbox": {
           "style": "light"
          },
          "paper_bgcolor": "white",
          "plot_bgcolor": "#E5ECF6",
          "polar": {
           "angularaxis": {
            "gridcolor": "white",
            "linecolor": "white",
            "ticks": ""
           },
           "bgcolor": "#E5ECF6",
           "radialaxis": {
            "gridcolor": "white",
            "linecolor": "white",
            "ticks": ""
           }
          },
          "scene": {
           "xaxis": {
            "backgroundcolor": "#E5ECF6",
            "gridcolor": "white",
            "gridwidth": 2,
            "linecolor": "white",
            "showbackground": true,
            "ticks": "",
            "zerolinecolor": "white"
           },
           "yaxis": {
            "backgroundcolor": "#E5ECF6",
            "gridcolor": "white",
            "gridwidth": 2,
            "linecolor": "white",
            "showbackground": true,
            "ticks": "",
            "zerolinecolor": "white"
           },
           "zaxis": {
            "backgroundcolor": "#E5ECF6",
            "gridcolor": "white",
            "gridwidth": 2,
            "linecolor": "white",
            "showbackground": true,
            "ticks": "",
            "zerolinecolor": "white"
           }
          },
          "shapedefaults": {
           "line": {
            "color": "#2a3f5f"
           }
          },
          "ternary": {
           "aaxis": {
            "gridcolor": "white",
            "linecolor": "white",
            "ticks": ""
           },
           "baxis": {
            "gridcolor": "white",
            "linecolor": "white",
            "ticks": ""
           },
           "bgcolor": "#E5ECF6",
           "caxis": {
            "gridcolor": "white",
            "linecolor": "white",
            "ticks": ""
           }
          },
          "title": {
           "x": 0.05
          },
          "xaxis": {
           "automargin": true,
           "gridcolor": "white",
           "linecolor": "white",
           "ticks": "",
           "title": {
            "standoff": 15
           },
           "zerolinecolor": "white",
           "zerolinewidth": 2
          },
          "yaxis": {
           "automargin": true,
           "gridcolor": "white",
           "linecolor": "white",
           "ticks": "",
           "title": {
            "standoff": 15
           },
           "zerolinecolor": "white",
           "zerolinewidth": 2
          }
         }
        },
        "title": {
         "font": {
          "color": "#4D5663"
         }
        },
        "xaxis": {
         "gridcolor": "#E1E5ED",
         "showgrid": true,
         "tickfont": {
          "color": "#4D5663"
         },
         "title": {
          "font": {
           "color": "#4D5663"
          },
          "text": ""
         },
         "zerolinecolor": "#E1E5ED"
        },
        "yaxis": {
         "gridcolor": "#E1E5ED",
         "showgrid": true,
         "tickfont": {
          "color": "#4D5663"
         },
         "title": {
          "font": {
           "color": "#4D5663"
          },
          "text": ""
         },
         "zerolinecolor": "#E1E5ED"
        }
       }
      },
      "text/html": [
       "<div>                            <div id=\"139346f9-b10b-4547-a443-417b82ec7ea1\" class=\"plotly-graph-div\" style=\"height:525px; width:100%;\"></div>            <script type=\"text/javascript\">                require([\"plotly\"], function(Plotly) {                    window.PLOTLYENV=window.PLOTLYENV || {};\n",
       "                    window.PLOTLYENV.BASE_URL='https://plot.ly';                                    if (document.getElementById(\"139346f9-b10b-4547-a443-417b82ec7ea1\")) {                    Plotly.newPlot(                        \"139346f9-b10b-4547-a443-417b82ec7ea1\",                        [{\"colorscale\":[[0.0,\"rgb(165,0,38)\"],[0.1,\"rgb(215,48,39)\"],[0.2,\"rgb(244,109,67)\"],[0.3,\"rgb(253,174,97)\"],[0.4,\"rgb(254,224,144)\"],[0.5,\"rgb(255,255,191)\"],[0.6,\"rgb(224,243,248)\"],[0.7,\"rgb(171,217,233)\"],[0.8,\"rgb(116,173,209)\"],[0.9,\"rgb(69,117,180)\"],[1.0,\"rgb(49,54,149)\"]],\"x\":[0,1,2,3,4],\"y\":[\"x\",\"y\",\"z\"],\"z\":[[1,2,3,4,5],[10,20,30,20,10],[5,4,3,2,1]],\"type\":\"surface\"}],                        {\"legend\":{\"bgcolor\":\"#F5F6F9\",\"font\":{\"color\":\"#4D5663\"}},\"paper_bgcolor\":\"#F5F6F9\",\"plot_bgcolor\":\"#F5F6F9\",\"template\":{\"data\":{\"barpolar\":[{\"marker\":{\"line\":{\"color\":\"#E5ECF6\",\"width\":0.5},\"pattern\":{\"fillmode\":\"overlay\",\"size\":10,\"solidity\":0.2}},\"type\":\"barpolar\"}],\"bar\":[{\"error_x\":{\"color\":\"#2a3f5f\"},\"error_y\":{\"color\":\"#2a3f5f\"},\"marker\":{\"line\":{\"color\":\"#E5ECF6\",\"width\":0.5},\"pattern\":{\"fillmode\":\"overlay\",\"size\":10,\"solidity\":0.2}},\"type\":\"bar\"}],\"carpet\":[{\"aaxis\":{\"endlinecolor\":\"#2a3f5f\",\"gridcolor\":\"white\",\"linecolor\":\"white\",\"minorgridcolor\":\"white\",\"startlinecolor\":\"#2a3f5f\"},\"baxis\":{\"endlinecolor\":\"#2a3f5f\",\"gridcolor\":\"white\",\"linecolor\":\"white\",\"minorgridcolor\":\"white\",\"startlinecolor\":\"#2a3f5f\"},\"type\":\"carpet\"}],\"choropleth\":[{\"colorbar\":{\"outlinewidth\":0,\"ticks\":\"\"},\"type\":\"choropleth\"}],\"contourcarpet\":[{\"colorbar\":{\"outlinewidth\":0,\"ticks\":\"\"},\"type\":\"contourcarpet\"}],\"contour\":[{\"colorbar\":{\"outlinewidth\":0,\"ticks\":\"\"},\"colorscale\":[[0.0,\"#0d0887\"],[0.1111111111111111,\"#46039f\"],[0.2222222222222222,\"#7201a8\"],[0.3333333333333333,\"#9c179e\"],[0.4444444444444444,\"#bd3786\"],[0.5555555555555556,\"#d8576b\"],[0.6666666666666666,\"#ed7953\"],[0.7777777777777778,\"#fb9f3a\"],[0.8888888888888888,\"#fdca26\"],[1.0,\"#f0f921\"]],\"type\":\"contour\"}],\"heatmapgl\":[{\"colorbar\":{\"outlinewidth\":0,\"ticks\":\"\"},\"colorscale\":[[0.0,\"#0d0887\"],[0.1111111111111111,\"#46039f\"],[0.2222222222222222,\"#7201a8\"],[0.3333333333333333,\"#9c179e\"],[0.4444444444444444,\"#bd3786\"],[0.5555555555555556,\"#d8576b\"],[0.6666666666666666,\"#ed7953\"],[0.7777777777777778,\"#fb9f3a\"],[0.8888888888888888,\"#fdca26\"],[1.0,\"#f0f921\"]],\"type\":\"heatmapgl\"}],\"heatmap\":[{\"colorbar\":{\"outlinewidth\":0,\"ticks\":\"\"},\"colorscale\":[[0.0,\"#0d0887\"],[0.1111111111111111,\"#46039f\"],[0.2222222222222222,\"#7201a8\"],[0.3333333333333333,\"#9c179e\"],[0.4444444444444444,\"#bd3786\"],[0.5555555555555556,\"#d8576b\"],[0.6666666666666666,\"#ed7953\"],[0.7777777777777778,\"#fb9f3a\"],[0.8888888888888888,\"#fdca26\"],[1.0,\"#f0f921\"]],\"type\":\"heatmap\"}],\"histogram2dcontour\":[{\"colorbar\":{\"outlinewidth\":0,\"ticks\":\"\"},\"colorscale\":[[0.0,\"#0d0887\"],[0.1111111111111111,\"#46039f\"],[0.2222222222222222,\"#7201a8\"],[0.3333333333333333,\"#9c179e\"],[0.4444444444444444,\"#bd3786\"],[0.5555555555555556,\"#d8576b\"],[0.6666666666666666,\"#ed7953\"],[0.7777777777777778,\"#fb9f3a\"],[0.8888888888888888,\"#fdca26\"],[1.0,\"#f0f921\"]],\"type\":\"histogram2dcontour\"}],\"histogram2d\":[{\"colorbar\":{\"outlinewidth\":0,\"ticks\":\"\"},\"colorscale\":[[0.0,\"#0d0887\"],[0.1111111111111111,\"#46039f\"],[0.2222222222222222,\"#7201a8\"],[0.3333333333333333,\"#9c179e\"],[0.4444444444444444,\"#bd3786\"],[0.5555555555555556,\"#d8576b\"],[0.6666666666666666,\"#ed7953\"],[0.7777777777777778,\"#fb9f3a\"],[0.8888888888888888,\"#fdca26\"],[1.0,\"#f0f921\"]],\"type\":\"histogram2d\"}],\"histogram\":[{\"marker\":{\"pattern\":{\"fillmode\":\"overlay\",\"size\":10,\"solidity\":0.2}},\"type\":\"histogram\"}],\"mesh3d\":[{\"colorbar\":{\"outlinewidth\":0,\"ticks\":\"\"},\"type\":\"mesh3d\"}],\"parcoords\":[{\"line\":{\"colorbar\":{\"outlinewidth\":0,\"ticks\":\"\"}},\"type\":\"parcoords\"}],\"pie\":[{\"automargin\":true,\"type\":\"pie\"}],\"scatter3d\":[{\"line\":{\"colorbar\":{\"outlinewidth\":0,\"ticks\":\"\"}},\"marker\":{\"colorbar\":{\"outlinewidth\":0,\"ticks\":\"\"}},\"type\":\"scatter3d\"}],\"scattercarpet\":[{\"marker\":{\"colorbar\":{\"outlinewidth\":0,\"ticks\":\"\"}},\"type\":\"scattercarpet\"}],\"scattergeo\":[{\"marker\":{\"colorbar\":{\"outlinewidth\":0,\"ticks\":\"\"}},\"type\":\"scattergeo\"}],\"scattergl\":[{\"marker\":{\"colorbar\":{\"outlinewidth\":0,\"ticks\":\"\"}},\"type\":\"scattergl\"}],\"scattermapbox\":[{\"marker\":{\"colorbar\":{\"outlinewidth\":0,\"ticks\":\"\"}},\"type\":\"scattermapbox\"}],\"scatterpolargl\":[{\"marker\":{\"colorbar\":{\"outlinewidth\":0,\"ticks\":\"\"}},\"type\":\"scatterpolargl\"}],\"scatterpolar\":[{\"marker\":{\"colorbar\":{\"outlinewidth\":0,\"ticks\":\"\"}},\"type\":\"scatterpolar\"}],\"scatter\":[{\"fillpattern\":{\"fillmode\":\"overlay\",\"size\":10,\"solidity\":0.2},\"type\":\"scatter\"}],\"scatterternary\":[{\"marker\":{\"colorbar\":{\"outlinewidth\":0,\"ticks\":\"\"}},\"type\":\"scatterternary\"}],\"surface\":[{\"colorbar\":{\"outlinewidth\":0,\"ticks\":\"\"},\"colorscale\":[[0.0,\"#0d0887\"],[0.1111111111111111,\"#46039f\"],[0.2222222222222222,\"#7201a8\"],[0.3333333333333333,\"#9c179e\"],[0.4444444444444444,\"#bd3786\"],[0.5555555555555556,\"#d8576b\"],[0.6666666666666666,\"#ed7953\"],[0.7777777777777778,\"#fb9f3a\"],[0.8888888888888888,\"#fdca26\"],[1.0,\"#f0f921\"]],\"type\":\"surface\"}],\"table\":[{\"cells\":{\"fill\":{\"color\":\"#EBF0F8\"},\"line\":{\"color\":\"white\"}},\"header\":{\"fill\":{\"color\":\"#C8D4E3\"},\"line\":{\"color\":\"white\"}},\"type\":\"table\"}]},\"layout\":{\"annotationdefaults\":{\"arrowcolor\":\"#2a3f5f\",\"arrowhead\":0,\"arrowwidth\":1},\"autotypenumbers\":\"strict\",\"coloraxis\":{\"colorbar\":{\"outlinewidth\":0,\"ticks\":\"\"}},\"colorscale\":{\"diverging\":[[0,\"#8e0152\"],[0.1,\"#c51b7d\"],[0.2,\"#de77ae\"],[0.3,\"#f1b6da\"],[0.4,\"#fde0ef\"],[0.5,\"#f7f7f7\"],[0.6,\"#e6f5d0\"],[0.7,\"#b8e186\"],[0.8,\"#7fbc41\"],[0.9,\"#4d9221\"],[1,\"#276419\"]],\"sequential\":[[0.0,\"#0d0887\"],[0.1111111111111111,\"#46039f\"],[0.2222222222222222,\"#7201a8\"],[0.3333333333333333,\"#9c179e\"],[0.4444444444444444,\"#bd3786\"],[0.5555555555555556,\"#d8576b\"],[0.6666666666666666,\"#ed7953\"],[0.7777777777777778,\"#fb9f3a\"],[0.8888888888888888,\"#fdca26\"],[1.0,\"#f0f921\"]],\"sequentialminus\":[[0.0,\"#0d0887\"],[0.1111111111111111,\"#46039f\"],[0.2222222222222222,\"#7201a8\"],[0.3333333333333333,\"#9c179e\"],[0.4444444444444444,\"#bd3786\"],[0.5555555555555556,\"#d8576b\"],[0.6666666666666666,\"#ed7953\"],[0.7777777777777778,\"#fb9f3a\"],[0.8888888888888888,\"#fdca26\"],[1.0,\"#f0f921\"]]},\"colorway\":[\"#636efa\",\"#EF553B\",\"#00cc96\",\"#ab63fa\",\"#FFA15A\",\"#19d3f3\",\"#FF6692\",\"#B6E880\",\"#FF97FF\",\"#FECB52\"],\"font\":{\"color\":\"#2a3f5f\"},\"geo\":{\"bgcolor\":\"white\",\"lakecolor\":\"white\",\"landcolor\":\"#E5ECF6\",\"showlakes\":true,\"showland\":true,\"subunitcolor\":\"white\"},\"hoverlabel\":{\"align\":\"left\"},\"hovermode\":\"closest\",\"mapbox\":{\"style\":\"light\"},\"paper_bgcolor\":\"white\",\"plot_bgcolor\":\"#E5ECF6\",\"polar\":{\"angularaxis\":{\"gridcolor\":\"white\",\"linecolor\":\"white\",\"ticks\":\"\"},\"bgcolor\":\"#E5ECF6\",\"radialaxis\":{\"gridcolor\":\"white\",\"linecolor\":\"white\",\"ticks\":\"\"}},\"scene\":{\"xaxis\":{\"backgroundcolor\":\"#E5ECF6\",\"gridcolor\":\"white\",\"gridwidth\":2,\"linecolor\":\"white\",\"showbackground\":true,\"ticks\":\"\",\"zerolinecolor\":\"white\"},\"yaxis\":{\"backgroundcolor\":\"#E5ECF6\",\"gridcolor\":\"white\",\"gridwidth\":2,\"linecolor\":\"white\",\"showbackground\":true,\"ticks\":\"\",\"zerolinecolor\":\"white\"},\"zaxis\":{\"backgroundcolor\":\"#E5ECF6\",\"gridcolor\":\"white\",\"gridwidth\":2,\"linecolor\":\"white\",\"showbackground\":true,\"ticks\":\"\",\"zerolinecolor\":\"white\"}},\"shapedefaults\":{\"line\":{\"color\":\"#2a3f5f\"}},\"ternary\":{\"aaxis\":{\"gridcolor\":\"white\",\"linecolor\":\"white\",\"ticks\":\"\"},\"baxis\":{\"gridcolor\":\"white\",\"linecolor\":\"white\",\"ticks\":\"\"},\"bgcolor\":\"#E5ECF6\",\"caxis\":{\"gridcolor\":\"white\",\"linecolor\":\"white\",\"ticks\":\"\"}},\"title\":{\"x\":0.05},\"xaxis\":{\"automargin\":true,\"gridcolor\":\"white\",\"linecolor\":\"white\",\"ticks\":\"\",\"title\":{\"standoff\":15},\"zerolinecolor\":\"white\",\"zerolinewidth\":2},\"yaxis\":{\"automargin\":true,\"gridcolor\":\"white\",\"linecolor\":\"white\",\"ticks\":\"\",\"title\":{\"standoff\":15},\"zerolinecolor\":\"white\",\"zerolinewidth\":2}}},\"title\":{\"font\":{\"color\":\"#4D5663\"}},\"xaxis\":{\"gridcolor\":\"#E1E5ED\",\"showgrid\":true,\"tickfont\":{\"color\":\"#4D5663\"},\"title\":{\"font\":{\"color\":\"#4D5663\"},\"text\":\"\"},\"zerolinecolor\":\"#E1E5ED\"},\"yaxis\":{\"gridcolor\":\"#E1E5ED\",\"showgrid\":true,\"tickfont\":{\"color\":\"#4D5663\"},\"title\":{\"font\":{\"color\":\"#4D5663\"},\"text\":\"\"},\"zerolinecolor\":\"#E1E5ED\"}},                        {\"showLink\": true, \"linkText\": \"Export to plot.ly\", \"plotlyServerURL\": \"https://plot.ly\", \"responsive\": true}                    ).then(function(){\n",
       "                            \n",
       "var gd = document.getElementById('139346f9-b10b-4547-a443-417b82ec7ea1');\n",
       "var x = new MutationObserver(function (mutations, observer) {{\n",
       "        var display = window.getComputedStyle(gd).display;\n",
       "        if (!display || display === 'none') {{\n",
       "            console.log([gd, 'removed!']);\n",
       "            Plotly.purge(gd);\n",
       "            observer.disconnect();\n",
       "        }}\n",
       "}});\n",
       "\n",
       "// Listen for the removal of the full notebook cells\n",
       "var notebookContainer = gd.closest('#notebook-container');\n",
       "if (notebookContainer) {{\n",
       "    x.observe(notebookContainer, {childList: true});\n",
       "}}\n",
       "\n",
       "// Listen for the clearing of the current output cell\n",
       "var outputEl = gd.closest('.output');\n",
       "if (outputEl) {{\n",
       "    x.observe(outputEl, {childList: true});\n",
       "}}\n",
       "\n",
       "                        })                };                });            </script>        </div>"
      ]
     },
     "metadata": {},
     "output_type": "display_data"
    }
   ],
   "source": [
    "df3 = pd.DataFrame({'x':[1,2,3,4,5],'y':[10,20,30,20,10],'z':[5,4,3,2,1]})\n",
    "df3.iplot(kind='surface',colorscale='rdylbu')"
   ]
  },
  {
   "cell_type": "markdown",
   "metadata": {},
   "source": [
    "## Spread"
   ]
  },
  {
   "cell_type": "code",
   "execution_count": null,
   "metadata": {},
   "outputs": [],
   "source": [
    "import plotly.graph_objs as go\n",
    "N = 1000\n",
    "random_x = np.random.randn(N)\n",
    "random_y = np.random.randn(N)\n",
    "\n",
    "# Create a trace\n",
    "trace = go.Scatter(\n",
    "    x = random_x,\n",
    "    y = random_y,\n",
    "    mode = 'markers'\n",
    ")\n",
    "\n",
    "data = [trace]\n",
    "\n",
    "# Plot and embed in ipython notebook!\n",
    "py.iplot(data, filename='basic-scatter')"
   ]
  },
  {
   "cell_type": "markdown",
   "metadata": {},
   "source": [
    "## histogram"
   ]
  },
  {
   "cell_type": "code",
   "execution_count": 33,
   "metadata": {},
   "outputs": [
    {
     "data": {
      "application/vnd.plotly.v1+json": {
       "config": {
        "linkText": "Export to plot.ly",
        "plotlyServerURL": "https://plot.ly",
        "showLink": true
       },
       "data": [
        {
         "histfunc": "count",
         "histnorm": "",
         "marker": {
          "color": "rgba(255, 153, 51, 1.0)",
          "line": {
           "color": "#4D5663",
           "width": 1.3
          }
         },
         "name": "A",
         "nbinsx": 25,
         "opacity": 0.8,
         "orientation": "v",
         "type": "histogram",
         "x": [
          -1.5182312484157174,
          -1.8855809449535939,
          -0.4523999566779344,
          -1.4642136426254893,
          2.2647603195178005,
          -1.3018054396547205,
          -0.029061791830883667,
          0.8871982945603031,
          0.2934406917015035,
          0.9154055340600108,
          -0.14116188134276486,
          -1.9003199171357033,
          1.1838181801203118,
          0.8111627617490051,
          0.22330870247181372,
          -1.0132223346121167,
          -0.9779679282370044,
          1.4318006928470863,
          -1.3629859890131604,
          0.673446670553999,
          1.5867153375770855,
          -1.5399004346150476,
          -1.865473488055965,
          -0.8594891612122892,
          1.1915475103414341,
          0.8133725372943506,
          0.34588767757753586,
          -1.466301462684535,
          -0.5222764671340403,
          0.11424214172820549,
          0.7202559790470581,
          -0.8216762204642892,
          -1.5235117735388843,
          0.4449658587671851,
          -0.28389472917892,
          -0.5187365983226652,
          -2.5396698782544154,
          0.7682101714779624,
          -0.7640893081414858,
          -2.1846667526913115,
          -0.8838233306582968,
          1.1824643100001397,
          2.0135419886903456,
          0.23633133691438366,
          2.460449636587777,
          -0.09998240434511563,
          -0.2520663331708616,
          -0.41342562732627086,
          -0.11892089142298772,
          0.40066634277757,
          -0.16302394422898955,
          0.3816461194656427,
          0.2508089718649011,
          0.864448276036272,
          -0.29644374113607974,
          -0.29019419766441296,
          -0.6146093747802536,
          -0.15177365686399796,
          1.1305357737677744,
          -0.013108447416840134,
          -0.03580823648650258,
          -0.5314257537289394,
          -0.5845869337113184,
          0.4208993727161239,
          0.6949122542294657,
          0.4074729404524667,
          1.6652825948892558,
          -0.5724244791967754,
          0.13281301154771438,
          -1.5983325919599396,
          -0.07543176124032766,
          -0.1850161558714443,
          0.23856011125131968,
          1.005467095672781,
          0.598825135211652,
          -1.2015406416985572,
          -1.5874631203168648,
          0.084783354154374,
          -0.8904929614212536,
          -0.3876337552374118,
          -0.47793068657708176,
          1.1479159509948063,
          0.11344071928492235,
          0.6048349909436674,
          -0.51961803454422,
          -0.2834117815484936,
          0.39581139441488217,
          -0.2819496415598355,
          -0.8394372345719991,
          -1.11866078798659,
          -0.6706275135691139,
          -0.49288417665376777,
          0.9288010569813032,
          1.4229740856467177,
          -1.1054496840152666,
          0.1572306958944868,
          -1.843841565520202,
          0.029157345193459853,
          0.03137862400023864,
          -0.4067566604194543
         ]
        }
       ],
       "layout": {
        "barmode": "overlay",
        "legend": {
         "bgcolor": "#F5F6F9",
         "font": {
          "color": "#4D5663"
         }
        },
        "paper_bgcolor": "#F5F6F9",
        "plot_bgcolor": "#F5F6F9",
        "template": {
         "data": {
          "bar": [
           {
            "error_x": {
             "color": "#2a3f5f"
            },
            "error_y": {
             "color": "#2a3f5f"
            },
            "marker": {
             "line": {
              "color": "#E5ECF6",
              "width": 0.5
             },
             "pattern": {
              "fillmode": "overlay",
              "size": 10,
              "solidity": 0.2
             }
            },
            "type": "bar"
           }
          ],
          "barpolar": [
           {
            "marker": {
             "line": {
              "color": "#E5ECF6",
              "width": 0.5
             },
             "pattern": {
              "fillmode": "overlay",
              "size": 10,
              "solidity": 0.2
             }
            },
            "type": "barpolar"
           }
          ],
          "carpet": [
           {
            "aaxis": {
             "endlinecolor": "#2a3f5f",
             "gridcolor": "white",
             "linecolor": "white",
             "minorgridcolor": "white",
             "startlinecolor": "#2a3f5f"
            },
            "baxis": {
             "endlinecolor": "#2a3f5f",
             "gridcolor": "white",
             "linecolor": "white",
             "minorgridcolor": "white",
             "startlinecolor": "#2a3f5f"
            },
            "type": "carpet"
           }
          ],
          "choropleth": [
           {
            "colorbar": {
             "outlinewidth": 0,
             "ticks": ""
            },
            "type": "choropleth"
           }
          ],
          "contour": [
           {
            "colorbar": {
             "outlinewidth": 0,
             "ticks": ""
            },
            "colorscale": [
             [
              0,
              "#0d0887"
             ],
             [
              0.1111111111111111,
              "#46039f"
             ],
             [
              0.2222222222222222,
              "#7201a8"
             ],
             [
              0.3333333333333333,
              "#9c179e"
             ],
             [
              0.4444444444444444,
              "#bd3786"
             ],
             [
              0.5555555555555556,
              "#d8576b"
             ],
             [
              0.6666666666666666,
              "#ed7953"
             ],
             [
              0.7777777777777778,
              "#fb9f3a"
             ],
             [
              0.8888888888888888,
              "#fdca26"
             ],
             [
              1,
              "#f0f921"
             ]
            ],
            "type": "contour"
           }
          ],
          "contourcarpet": [
           {
            "colorbar": {
             "outlinewidth": 0,
             "ticks": ""
            },
            "type": "contourcarpet"
           }
          ],
          "heatmap": [
           {
            "colorbar": {
             "outlinewidth": 0,
             "ticks": ""
            },
            "colorscale": [
             [
              0,
              "#0d0887"
             ],
             [
              0.1111111111111111,
              "#46039f"
             ],
             [
              0.2222222222222222,
              "#7201a8"
             ],
             [
              0.3333333333333333,
              "#9c179e"
             ],
             [
              0.4444444444444444,
              "#bd3786"
             ],
             [
              0.5555555555555556,
              "#d8576b"
             ],
             [
              0.6666666666666666,
              "#ed7953"
             ],
             [
              0.7777777777777778,
              "#fb9f3a"
             ],
             [
              0.8888888888888888,
              "#fdca26"
             ],
             [
              1,
              "#f0f921"
             ]
            ],
            "type": "heatmap"
           }
          ],
          "heatmapgl": [
           {
            "colorbar": {
             "outlinewidth": 0,
             "ticks": ""
            },
            "colorscale": [
             [
              0,
              "#0d0887"
             ],
             [
              0.1111111111111111,
              "#46039f"
             ],
             [
              0.2222222222222222,
              "#7201a8"
             ],
             [
              0.3333333333333333,
              "#9c179e"
             ],
             [
              0.4444444444444444,
              "#bd3786"
             ],
             [
              0.5555555555555556,
              "#d8576b"
             ],
             [
              0.6666666666666666,
              "#ed7953"
             ],
             [
              0.7777777777777778,
              "#fb9f3a"
             ],
             [
              0.8888888888888888,
              "#fdca26"
             ],
             [
              1,
              "#f0f921"
             ]
            ],
            "type": "heatmapgl"
           }
          ],
          "histogram": [
           {
            "marker": {
             "pattern": {
              "fillmode": "overlay",
              "size": 10,
              "solidity": 0.2
             }
            },
            "type": "histogram"
           }
          ],
          "histogram2d": [
           {
            "colorbar": {
             "outlinewidth": 0,
             "ticks": ""
            },
            "colorscale": [
             [
              0,
              "#0d0887"
             ],
             [
              0.1111111111111111,
              "#46039f"
             ],
             [
              0.2222222222222222,
              "#7201a8"
             ],
             [
              0.3333333333333333,
              "#9c179e"
             ],
             [
              0.4444444444444444,
              "#bd3786"
             ],
             [
              0.5555555555555556,
              "#d8576b"
             ],
             [
              0.6666666666666666,
              "#ed7953"
             ],
             [
              0.7777777777777778,
              "#fb9f3a"
             ],
             [
              0.8888888888888888,
              "#fdca26"
             ],
             [
              1,
              "#f0f921"
             ]
            ],
            "type": "histogram2d"
           }
          ],
          "histogram2dcontour": [
           {
            "colorbar": {
             "outlinewidth": 0,
             "ticks": ""
            },
            "colorscale": [
             [
              0,
              "#0d0887"
             ],
             [
              0.1111111111111111,
              "#46039f"
             ],
             [
              0.2222222222222222,
              "#7201a8"
             ],
             [
              0.3333333333333333,
              "#9c179e"
             ],
             [
              0.4444444444444444,
              "#bd3786"
             ],
             [
              0.5555555555555556,
              "#d8576b"
             ],
             [
              0.6666666666666666,
              "#ed7953"
             ],
             [
              0.7777777777777778,
              "#fb9f3a"
             ],
             [
              0.8888888888888888,
              "#fdca26"
             ],
             [
              1,
              "#f0f921"
             ]
            ],
            "type": "histogram2dcontour"
           }
          ],
          "mesh3d": [
           {
            "colorbar": {
             "outlinewidth": 0,
             "ticks": ""
            },
            "type": "mesh3d"
           }
          ],
          "parcoords": [
           {
            "line": {
             "colorbar": {
              "outlinewidth": 0,
              "ticks": ""
             }
            },
            "type": "parcoords"
           }
          ],
          "pie": [
           {
            "automargin": true,
            "type": "pie"
           }
          ],
          "scatter": [
           {
            "fillpattern": {
             "fillmode": "overlay",
             "size": 10,
             "solidity": 0.2
            },
            "type": "scatter"
           }
          ],
          "scatter3d": [
           {
            "line": {
             "colorbar": {
              "outlinewidth": 0,
              "ticks": ""
             }
            },
            "marker": {
             "colorbar": {
              "outlinewidth": 0,
              "ticks": ""
             }
            },
            "type": "scatter3d"
           }
          ],
          "scattercarpet": [
           {
            "marker": {
             "colorbar": {
              "outlinewidth": 0,
              "ticks": ""
             }
            },
            "type": "scattercarpet"
           }
          ],
          "scattergeo": [
           {
            "marker": {
             "colorbar": {
              "outlinewidth": 0,
              "ticks": ""
             }
            },
            "type": "scattergeo"
           }
          ],
          "scattergl": [
           {
            "marker": {
             "colorbar": {
              "outlinewidth": 0,
              "ticks": ""
             }
            },
            "type": "scattergl"
           }
          ],
          "scattermapbox": [
           {
            "marker": {
             "colorbar": {
              "outlinewidth": 0,
              "ticks": ""
             }
            },
            "type": "scattermapbox"
           }
          ],
          "scatterpolar": [
           {
            "marker": {
             "colorbar": {
              "outlinewidth": 0,
              "ticks": ""
             }
            },
            "type": "scatterpolar"
           }
          ],
          "scatterpolargl": [
           {
            "marker": {
             "colorbar": {
              "outlinewidth": 0,
              "ticks": ""
             }
            },
            "type": "scatterpolargl"
           }
          ],
          "scatterternary": [
           {
            "marker": {
             "colorbar": {
              "outlinewidth": 0,
              "ticks": ""
             }
            },
            "type": "scatterternary"
           }
          ],
          "surface": [
           {
            "colorbar": {
             "outlinewidth": 0,
             "ticks": ""
            },
            "colorscale": [
             [
              0,
              "#0d0887"
             ],
             [
              0.1111111111111111,
              "#46039f"
             ],
             [
              0.2222222222222222,
              "#7201a8"
             ],
             [
              0.3333333333333333,
              "#9c179e"
             ],
             [
              0.4444444444444444,
              "#bd3786"
             ],
             [
              0.5555555555555556,
              "#d8576b"
             ],
             [
              0.6666666666666666,
              "#ed7953"
             ],
             [
              0.7777777777777778,
              "#fb9f3a"
             ],
             [
              0.8888888888888888,
              "#fdca26"
             ],
             [
              1,
              "#f0f921"
             ]
            ],
            "type": "surface"
           }
          ],
          "table": [
           {
            "cells": {
             "fill": {
              "color": "#EBF0F8"
             },
             "line": {
              "color": "white"
             }
            },
            "header": {
             "fill": {
              "color": "#C8D4E3"
             },
             "line": {
              "color": "white"
             }
            },
            "type": "table"
           }
          ]
         },
         "layout": {
          "annotationdefaults": {
           "arrowcolor": "#2a3f5f",
           "arrowhead": 0,
           "arrowwidth": 1
          },
          "autotypenumbers": "strict",
          "coloraxis": {
           "colorbar": {
            "outlinewidth": 0,
            "ticks": ""
           }
          },
          "colorscale": {
           "diverging": [
            [
             0,
             "#8e0152"
            ],
            [
             0.1,
             "#c51b7d"
            ],
            [
             0.2,
             "#de77ae"
            ],
            [
             0.3,
             "#f1b6da"
            ],
            [
             0.4,
             "#fde0ef"
            ],
            [
             0.5,
             "#f7f7f7"
            ],
            [
             0.6,
             "#e6f5d0"
            ],
            [
             0.7,
             "#b8e186"
            ],
            [
             0.8,
             "#7fbc41"
            ],
            [
             0.9,
             "#4d9221"
            ],
            [
             1,
             "#276419"
            ]
           ],
           "sequential": [
            [
             0,
             "#0d0887"
            ],
            [
             0.1111111111111111,
             "#46039f"
            ],
            [
             0.2222222222222222,
             "#7201a8"
            ],
            [
             0.3333333333333333,
             "#9c179e"
            ],
            [
             0.4444444444444444,
             "#bd3786"
            ],
            [
             0.5555555555555556,
             "#d8576b"
            ],
            [
             0.6666666666666666,
             "#ed7953"
            ],
            [
             0.7777777777777778,
             "#fb9f3a"
            ],
            [
             0.8888888888888888,
             "#fdca26"
            ],
            [
             1,
             "#f0f921"
            ]
           ],
           "sequentialminus": [
            [
             0,
             "#0d0887"
            ],
            [
             0.1111111111111111,
             "#46039f"
            ],
            [
             0.2222222222222222,
             "#7201a8"
            ],
            [
             0.3333333333333333,
             "#9c179e"
            ],
            [
             0.4444444444444444,
             "#bd3786"
            ],
            [
             0.5555555555555556,
             "#d8576b"
            ],
            [
             0.6666666666666666,
             "#ed7953"
            ],
            [
             0.7777777777777778,
             "#fb9f3a"
            ],
            [
             0.8888888888888888,
             "#fdca26"
            ],
            [
             1,
             "#f0f921"
            ]
           ]
          },
          "colorway": [
           "#636efa",
           "#EF553B",
           "#00cc96",
           "#ab63fa",
           "#FFA15A",
           "#19d3f3",
           "#FF6692",
           "#B6E880",
           "#FF97FF",
           "#FECB52"
          ],
          "font": {
           "color": "#2a3f5f"
          },
          "geo": {
           "bgcolor": "white",
           "lakecolor": "white",
           "landcolor": "#E5ECF6",
           "showlakes": true,
           "showland": true,
           "subunitcolor": "white"
          },
          "hoverlabel": {
           "align": "left"
          },
          "hovermode": "closest",
          "mapbox": {
           "style": "light"
          },
          "paper_bgcolor": "white",
          "plot_bgcolor": "#E5ECF6",
          "polar": {
           "angularaxis": {
            "gridcolor": "white",
            "linecolor": "white",
            "ticks": ""
           },
           "bgcolor": "#E5ECF6",
           "radialaxis": {
            "gridcolor": "white",
            "linecolor": "white",
            "ticks": ""
           }
          },
          "scene": {
           "xaxis": {
            "backgroundcolor": "#E5ECF6",
            "gridcolor": "white",
            "gridwidth": 2,
            "linecolor": "white",
            "showbackground": true,
            "ticks": "",
            "zerolinecolor": "white"
           },
           "yaxis": {
            "backgroundcolor": "#E5ECF6",
            "gridcolor": "white",
            "gridwidth": 2,
            "linecolor": "white",
            "showbackground": true,
            "ticks": "",
            "zerolinecolor": "white"
           },
           "zaxis": {
            "backgroundcolor": "#E5ECF6",
            "gridcolor": "white",
            "gridwidth": 2,
            "linecolor": "white",
            "showbackground": true,
            "ticks": "",
            "zerolinecolor": "white"
           }
          },
          "shapedefaults": {
           "line": {
            "color": "#2a3f5f"
           }
          },
          "ternary": {
           "aaxis": {
            "gridcolor": "white",
            "linecolor": "white",
            "ticks": ""
           },
           "baxis": {
            "gridcolor": "white",
            "linecolor": "white",
            "ticks": ""
           },
           "bgcolor": "#E5ECF6",
           "caxis": {
            "gridcolor": "white",
            "linecolor": "white",
            "ticks": ""
           }
          },
          "title": {
           "x": 0.05
          },
          "xaxis": {
           "automargin": true,
           "gridcolor": "white",
           "linecolor": "white",
           "ticks": "",
           "title": {
            "standoff": 15
           },
           "zerolinecolor": "white",
           "zerolinewidth": 2
          },
          "yaxis": {
           "automargin": true,
           "gridcolor": "white",
           "linecolor": "white",
           "ticks": "",
           "title": {
            "standoff": 15
           },
           "zerolinecolor": "white",
           "zerolinewidth": 2
          }
         }
        },
        "title": {
         "font": {
          "color": "#4D5663"
         }
        },
        "xaxis": {
         "gridcolor": "#E1E5ED",
         "showgrid": true,
         "tickfont": {
          "color": "#4D5663"
         },
         "title": {
          "font": {
           "color": "#4D5663"
          },
          "text": ""
         },
         "zerolinecolor": "#E1E5ED"
        },
        "yaxis": {
         "gridcolor": "#E1E5ED",
         "showgrid": true,
         "tickfont": {
          "color": "#4D5663"
         },
         "title": {
          "font": {
           "color": "#4D5663"
          },
          "text": ""
         },
         "zerolinecolor": "#E1E5ED"
        }
       }
      },
      "text/html": [
       "<div>                            <div id=\"6f9f6a27-5bcc-4c59-907c-e69c30cdb6cb\" class=\"plotly-graph-div\" style=\"height:525px; width:100%;\"></div>            <script type=\"text/javascript\">                require([\"plotly\"], function(Plotly) {                    window.PLOTLYENV=window.PLOTLYENV || {};\n",
       "                    window.PLOTLYENV.BASE_URL='https://plot.ly';                                    if (document.getElementById(\"6f9f6a27-5bcc-4c59-907c-e69c30cdb6cb\")) {                    Plotly.newPlot(                        \"6f9f6a27-5bcc-4c59-907c-e69c30cdb6cb\",                        [{\"histfunc\":\"count\",\"histnorm\":\"\",\"marker\":{\"color\":\"rgba(255, 153, 51, 1.0)\",\"line\":{\"color\":\"#4D5663\",\"width\":1.3}},\"name\":\"A\",\"nbinsx\":25,\"opacity\":0.8,\"orientation\":\"v\",\"x\":[-1.5182312484157174,-1.8855809449535939,-0.4523999566779344,-1.4642136426254893,2.2647603195178005,-1.3018054396547205,-0.029061791830883667,0.8871982945603031,0.2934406917015035,0.9154055340600108,-0.14116188134276486,-1.9003199171357033,1.1838181801203118,0.8111627617490051,0.22330870247181372,-1.0132223346121167,-0.9779679282370044,1.4318006928470863,-1.3629859890131604,0.673446670553999,1.5867153375770855,-1.5399004346150476,-1.865473488055965,-0.8594891612122892,1.1915475103414341,0.8133725372943506,0.34588767757753586,-1.466301462684535,-0.5222764671340403,0.11424214172820549,0.7202559790470581,-0.8216762204642892,-1.5235117735388843,0.4449658587671851,-0.28389472917892,-0.5187365983226652,-2.5396698782544154,0.7682101714779624,-0.7640893081414858,-2.1846667526913115,-0.8838233306582968,1.1824643100001397,2.0135419886903456,0.23633133691438366,2.460449636587777,-0.09998240434511563,-0.2520663331708616,-0.41342562732627086,-0.11892089142298772,0.40066634277757,-0.16302394422898955,0.3816461194656427,0.2508089718649011,0.864448276036272,-0.29644374113607974,-0.29019419766441296,-0.6146093747802536,-0.15177365686399796,1.1305357737677744,-0.013108447416840134,-0.03580823648650258,-0.5314257537289394,-0.5845869337113184,0.4208993727161239,0.6949122542294657,0.4074729404524667,1.6652825948892558,-0.5724244791967754,0.13281301154771438,-1.5983325919599396,-0.07543176124032766,-0.1850161558714443,0.23856011125131968,1.005467095672781,0.598825135211652,-1.2015406416985572,-1.5874631203168648,0.084783354154374,-0.8904929614212536,-0.3876337552374118,-0.47793068657708176,1.1479159509948063,0.11344071928492235,0.6048349909436674,-0.51961803454422,-0.2834117815484936,0.39581139441488217,-0.2819496415598355,-0.8394372345719991,-1.11866078798659,-0.6706275135691139,-0.49288417665376777,0.9288010569813032,1.4229740856467177,-1.1054496840152666,0.1572306958944868,-1.843841565520202,0.029157345193459853,0.03137862400023864,-0.4067566604194543],\"type\":\"histogram\"}],                        {\"barmode\":\"overlay\",\"legend\":{\"bgcolor\":\"#F5F6F9\",\"font\":{\"color\":\"#4D5663\"}},\"paper_bgcolor\":\"#F5F6F9\",\"plot_bgcolor\":\"#F5F6F9\",\"template\":{\"data\":{\"barpolar\":[{\"marker\":{\"line\":{\"color\":\"#E5ECF6\",\"width\":0.5},\"pattern\":{\"fillmode\":\"overlay\",\"size\":10,\"solidity\":0.2}},\"type\":\"barpolar\"}],\"bar\":[{\"error_x\":{\"color\":\"#2a3f5f\"},\"error_y\":{\"color\":\"#2a3f5f\"},\"marker\":{\"line\":{\"color\":\"#E5ECF6\",\"width\":0.5},\"pattern\":{\"fillmode\":\"overlay\",\"size\":10,\"solidity\":0.2}},\"type\":\"bar\"}],\"carpet\":[{\"aaxis\":{\"endlinecolor\":\"#2a3f5f\",\"gridcolor\":\"white\",\"linecolor\":\"white\",\"minorgridcolor\":\"white\",\"startlinecolor\":\"#2a3f5f\"},\"baxis\":{\"endlinecolor\":\"#2a3f5f\",\"gridcolor\":\"white\",\"linecolor\":\"white\",\"minorgridcolor\":\"white\",\"startlinecolor\":\"#2a3f5f\"},\"type\":\"carpet\"}],\"choropleth\":[{\"colorbar\":{\"outlinewidth\":0,\"ticks\":\"\"},\"type\":\"choropleth\"}],\"contourcarpet\":[{\"colorbar\":{\"outlinewidth\":0,\"ticks\":\"\"},\"type\":\"contourcarpet\"}],\"contour\":[{\"colorbar\":{\"outlinewidth\":0,\"ticks\":\"\"},\"colorscale\":[[0.0,\"#0d0887\"],[0.1111111111111111,\"#46039f\"],[0.2222222222222222,\"#7201a8\"],[0.3333333333333333,\"#9c179e\"],[0.4444444444444444,\"#bd3786\"],[0.5555555555555556,\"#d8576b\"],[0.6666666666666666,\"#ed7953\"],[0.7777777777777778,\"#fb9f3a\"],[0.8888888888888888,\"#fdca26\"],[1.0,\"#f0f921\"]],\"type\":\"contour\"}],\"heatmapgl\":[{\"colorbar\":{\"outlinewidth\":0,\"ticks\":\"\"},\"colorscale\":[[0.0,\"#0d0887\"],[0.1111111111111111,\"#46039f\"],[0.2222222222222222,\"#7201a8\"],[0.3333333333333333,\"#9c179e\"],[0.4444444444444444,\"#bd3786\"],[0.5555555555555556,\"#d8576b\"],[0.6666666666666666,\"#ed7953\"],[0.7777777777777778,\"#fb9f3a\"],[0.8888888888888888,\"#fdca26\"],[1.0,\"#f0f921\"]],\"type\":\"heatmapgl\"}],\"heatmap\":[{\"colorbar\":{\"outlinewidth\":0,\"ticks\":\"\"},\"colorscale\":[[0.0,\"#0d0887\"],[0.1111111111111111,\"#46039f\"],[0.2222222222222222,\"#7201a8\"],[0.3333333333333333,\"#9c179e\"],[0.4444444444444444,\"#bd3786\"],[0.5555555555555556,\"#d8576b\"],[0.6666666666666666,\"#ed7953\"],[0.7777777777777778,\"#fb9f3a\"],[0.8888888888888888,\"#fdca26\"],[1.0,\"#f0f921\"]],\"type\":\"heatmap\"}],\"histogram2dcontour\":[{\"colorbar\":{\"outlinewidth\":0,\"ticks\":\"\"},\"colorscale\":[[0.0,\"#0d0887\"],[0.1111111111111111,\"#46039f\"],[0.2222222222222222,\"#7201a8\"],[0.3333333333333333,\"#9c179e\"],[0.4444444444444444,\"#bd3786\"],[0.5555555555555556,\"#d8576b\"],[0.6666666666666666,\"#ed7953\"],[0.7777777777777778,\"#fb9f3a\"],[0.8888888888888888,\"#fdca26\"],[1.0,\"#f0f921\"]],\"type\":\"histogram2dcontour\"}],\"histogram2d\":[{\"colorbar\":{\"outlinewidth\":0,\"ticks\":\"\"},\"colorscale\":[[0.0,\"#0d0887\"],[0.1111111111111111,\"#46039f\"],[0.2222222222222222,\"#7201a8\"],[0.3333333333333333,\"#9c179e\"],[0.4444444444444444,\"#bd3786\"],[0.5555555555555556,\"#d8576b\"],[0.6666666666666666,\"#ed7953\"],[0.7777777777777778,\"#fb9f3a\"],[0.8888888888888888,\"#fdca26\"],[1.0,\"#f0f921\"]],\"type\":\"histogram2d\"}],\"histogram\":[{\"marker\":{\"pattern\":{\"fillmode\":\"overlay\",\"size\":10,\"solidity\":0.2}},\"type\":\"histogram\"}],\"mesh3d\":[{\"colorbar\":{\"outlinewidth\":0,\"ticks\":\"\"},\"type\":\"mesh3d\"}],\"parcoords\":[{\"line\":{\"colorbar\":{\"outlinewidth\":0,\"ticks\":\"\"}},\"type\":\"parcoords\"}],\"pie\":[{\"automargin\":true,\"type\":\"pie\"}],\"scatter3d\":[{\"line\":{\"colorbar\":{\"outlinewidth\":0,\"ticks\":\"\"}},\"marker\":{\"colorbar\":{\"outlinewidth\":0,\"ticks\":\"\"}},\"type\":\"scatter3d\"}],\"scattercarpet\":[{\"marker\":{\"colorbar\":{\"outlinewidth\":0,\"ticks\":\"\"}},\"type\":\"scattercarpet\"}],\"scattergeo\":[{\"marker\":{\"colorbar\":{\"outlinewidth\":0,\"ticks\":\"\"}},\"type\":\"scattergeo\"}],\"scattergl\":[{\"marker\":{\"colorbar\":{\"outlinewidth\":0,\"ticks\":\"\"}},\"type\":\"scattergl\"}],\"scattermapbox\":[{\"marker\":{\"colorbar\":{\"outlinewidth\":0,\"ticks\":\"\"}},\"type\":\"scattermapbox\"}],\"scatterpolargl\":[{\"marker\":{\"colorbar\":{\"outlinewidth\":0,\"ticks\":\"\"}},\"type\":\"scatterpolargl\"}],\"scatterpolar\":[{\"marker\":{\"colorbar\":{\"outlinewidth\":0,\"ticks\":\"\"}},\"type\":\"scatterpolar\"}],\"scatter\":[{\"fillpattern\":{\"fillmode\":\"overlay\",\"size\":10,\"solidity\":0.2},\"type\":\"scatter\"}],\"scatterternary\":[{\"marker\":{\"colorbar\":{\"outlinewidth\":0,\"ticks\":\"\"}},\"type\":\"scatterternary\"}],\"surface\":[{\"colorbar\":{\"outlinewidth\":0,\"ticks\":\"\"},\"colorscale\":[[0.0,\"#0d0887\"],[0.1111111111111111,\"#46039f\"],[0.2222222222222222,\"#7201a8\"],[0.3333333333333333,\"#9c179e\"],[0.4444444444444444,\"#bd3786\"],[0.5555555555555556,\"#d8576b\"],[0.6666666666666666,\"#ed7953\"],[0.7777777777777778,\"#fb9f3a\"],[0.8888888888888888,\"#fdca26\"],[1.0,\"#f0f921\"]],\"type\":\"surface\"}],\"table\":[{\"cells\":{\"fill\":{\"color\":\"#EBF0F8\"},\"line\":{\"color\":\"white\"}},\"header\":{\"fill\":{\"color\":\"#C8D4E3\"},\"line\":{\"color\":\"white\"}},\"type\":\"table\"}]},\"layout\":{\"annotationdefaults\":{\"arrowcolor\":\"#2a3f5f\",\"arrowhead\":0,\"arrowwidth\":1},\"autotypenumbers\":\"strict\",\"coloraxis\":{\"colorbar\":{\"outlinewidth\":0,\"ticks\":\"\"}},\"colorscale\":{\"diverging\":[[0,\"#8e0152\"],[0.1,\"#c51b7d\"],[0.2,\"#de77ae\"],[0.3,\"#f1b6da\"],[0.4,\"#fde0ef\"],[0.5,\"#f7f7f7\"],[0.6,\"#e6f5d0\"],[0.7,\"#b8e186\"],[0.8,\"#7fbc41\"],[0.9,\"#4d9221\"],[1,\"#276419\"]],\"sequential\":[[0.0,\"#0d0887\"],[0.1111111111111111,\"#46039f\"],[0.2222222222222222,\"#7201a8\"],[0.3333333333333333,\"#9c179e\"],[0.4444444444444444,\"#bd3786\"],[0.5555555555555556,\"#d8576b\"],[0.6666666666666666,\"#ed7953\"],[0.7777777777777778,\"#fb9f3a\"],[0.8888888888888888,\"#fdca26\"],[1.0,\"#f0f921\"]],\"sequentialminus\":[[0.0,\"#0d0887\"],[0.1111111111111111,\"#46039f\"],[0.2222222222222222,\"#7201a8\"],[0.3333333333333333,\"#9c179e\"],[0.4444444444444444,\"#bd3786\"],[0.5555555555555556,\"#d8576b\"],[0.6666666666666666,\"#ed7953\"],[0.7777777777777778,\"#fb9f3a\"],[0.8888888888888888,\"#fdca26\"],[1.0,\"#f0f921\"]]},\"colorway\":[\"#636efa\",\"#EF553B\",\"#00cc96\",\"#ab63fa\",\"#FFA15A\",\"#19d3f3\",\"#FF6692\",\"#B6E880\",\"#FF97FF\",\"#FECB52\"],\"font\":{\"color\":\"#2a3f5f\"},\"geo\":{\"bgcolor\":\"white\",\"lakecolor\":\"white\",\"landcolor\":\"#E5ECF6\",\"showlakes\":true,\"showland\":true,\"subunitcolor\":\"white\"},\"hoverlabel\":{\"align\":\"left\"},\"hovermode\":\"closest\",\"mapbox\":{\"style\":\"light\"},\"paper_bgcolor\":\"white\",\"plot_bgcolor\":\"#E5ECF6\",\"polar\":{\"angularaxis\":{\"gridcolor\":\"white\",\"linecolor\":\"white\",\"ticks\":\"\"},\"bgcolor\":\"#E5ECF6\",\"radialaxis\":{\"gridcolor\":\"white\",\"linecolor\":\"white\",\"ticks\":\"\"}},\"scene\":{\"xaxis\":{\"backgroundcolor\":\"#E5ECF6\",\"gridcolor\":\"white\",\"gridwidth\":2,\"linecolor\":\"white\",\"showbackground\":true,\"ticks\":\"\",\"zerolinecolor\":\"white\"},\"yaxis\":{\"backgroundcolor\":\"#E5ECF6\",\"gridcolor\":\"white\",\"gridwidth\":2,\"linecolor\":\"white\",\"showbackground\":true,\"ticks\":\"\",\"zerolinecolor\":\"white\"},\"zaxis\":{\"backgroundcolor\":\"#E5ECF6\",\"gridcolor\":\"white\",\"gridwidth\":2,\"linecolor\":\"white\",\"showbackground\":true,\"ticks\":\"\",\"zerolinecolor\":\"white\"}},\"shapedefaults\":{\"line\":{\"color\":\"#2a3f5f\"}},\"ternary\":{\"aaxis\":{\"gridcolor\":\"white\",\"linecolor\":\"white\",\"ticks\":\"\"},\"baxis\":{\"gridcolor\":\"white\",\"linecolor\":\"white\",\"ticks\":\"\"},\"bgcolor\":\"#E5ECF6\",\"caxis\":{\"gridcolor\":\"white\",\"linecolor\":\"white\",\"ticks\":\"\"}},\"title\":{\"x\":0.05},\"xaxis\":{\"automargin\":true,\"gridcolor\":\"white\",\"linecolor\":\"white\",\"ticks\":\"\",\"title\":{\"standoff\":15},\"zerolinecolor\":\"white\",\"zerolinewidth\":2},\"yaxis\":{\"automargin\":true,\"gridcolor\":\"white\",\"linecolor\":\"white\",\"ticks\":\"\",\"title\":{\"standoff\":15},\"zerolinecolor\":\"white\",\"zerolinewidth\":2}}},\"title\":{\"font\":{\"color\":\"#4D5663\"}},\"xaxis\":{\"gridcolor\":\"#E1E5ED\",\"showgrid\":true,\"tickfont\":{\"color\":\"#4D5663\"},\"title\":{\"font\":{\"color\":\"#4D5663\"},\"text\":\"\"},\"zerolinecolor\":\"#E1E5ED\"},\"yaxis\":{\"gridcolor\":\"#E1E5ED\",\"showgrid\":true,\"tickfont\":{\"color\":\"#4D5663\"},\"title\":{\"font\":{\"color\":\"#4D5663\"},\"text\":\"\"},\"zerolinecolor\":\"#E1E5ED\"}},                        {\"showLink\": true, \"linkText\": \"Export to plot.ly\", \"plotlyServerURL\": \"https://plot.ly\", \"responsive\": true}                    ).then(function(){\n",
       "                            \n",
       "var gd = document.getElementById('6f9f6a27-5bcc-4c59-907c-e69c30cdb6cb');\n",
       "var x = new MutationObserver(function (mutations, observer) {{\n",
       "        var display = window.getComputedStyle(gd).display;\n",
       "        if (!display || display === 'none') {{\n",
       "            console.log([gd, 'removed!']);\n",
       "            Plotly.purge(gd);\n",
       "            observer.disconnect();\n",
       "        }}\n",
       "}});\n",
       "\n",
       "// Listen for the removal of the full notebook cells\n",
       "var notebookContainer = gd.closest('#notebook-container');\n",
       "if (notebookContainer) {{\n",
       "    x.observe(notebookContainer, {childList: true});\n",
       "}}\n",
       "\n",
       "// Listen for the clearing of the current output cell\n",
       "var outputEl = gd.closest('.output');\n",
       "if (outputEl) {{\n",
       "    x.observe(outputEl, {childList: true});\n",
       "}}\n",
       "\n",
       "                        })                };                });            </script>        </div>"
      ]
     },
     "metadata": {},
     "output_type": "display_data"
    }
   ],
   "source": [
    "df['A'].iplot(kind='hist',bins=25)"
   ]
  },
  {
   "cell_type": "code",
   "execution_count": 34,
   "metadata": {},
   "outputs": [
    {
     "data": {
      "application/vnd.plotly.v1+json": {
       "config": {
        "linkText": "Export to plot.ly",
        "plotlyServerURL": "https://plot.ly",
        "showLink": true
       },
       "data": [
        {
         "marker": {
          "color": [
           "rgb(255, 153, 51)",
           "rgb(55, 128, 191)",
           "rgb(50, 171, 96)",
           "rgb(128, 0, 128)",
           "rgb(219, 64, 82)",
           "rgb(0, 128, 128)",
           "rgb(255, 255, 51)",
           "rgb(128, 128, 0)",
           "rgb(251, 128, 114)",
           "rgb(128, 177, 211)"
          ],
          "line": {
           "width": 1.3
          },
          "size": [
           37,
           88,
           97,
           68,
           76,
           44,
           33,
           86,
           51,
           49,
           87,
           47,
           102,
           65,
           79,
           67,
           64,
           57,
           53,
           59,
           72,
           59,
           34,
           48,
           70,
           84,
           52,
           89,
           93,
           66,
           112,
           70,
           81,
           58,
           75,
           66,
           86,
           59,
           49,
           33,
           72,
           75,
           93,
           41,
           56,
           81,
           72,
           52,
           49,
           94,
           63,
           91,
           46,
           68,
           57,
           73,
           59,
           51,
           59,
           77,
           85,
           68,
           65,
           63,
           84,
           79,
           84,
           64,
           76,
           23,
           72,
           59,
           34,
           97,
           12,
           70,
           84,
           81,
           85,
           44,
           74,
           84,
           58,
           57,
           77,
           43,
           77,
           47,
           65,
           80,
           66,
           55,
           58,
           60,
           53,
           67,
           68,
           87,
           63,
           73
          ],
          "symbol": "circle"
         },
         "mode": "markers",
         "text": "",
         "type": "scatter",
         "x": [
          -1.5182312484157174,
          -1.8855809449535939,
          -0.4523999566779344,
          -1.4642136426254893,
          2.2647603195178005,
          -1.3018054396547205,
          -0.029061791830883667,
          0.8871982945603031,
          0.2934406917015035,
          0.9154055340600108,
          -0.14116188134276486,
          -1.9003199171357033,
          1.1838181801203118,
          0.8111627617490051,
          0.22330870247181372,
          -1.0132223346121167,
          -0.9779679282370044,
          1.4318006928470863,
          -1.3629859890131604,
          0.673446670553999,
          1.5867153375770855,
          -1.5399004346150476,
          -1.865473488055965,
          -0.8594891612122892,
          1.1915475103414341,
          0.8133725372943506,
          0.34588767757753586,
          -1.466301462684535,
          -0.5222764671340403,
          0.11424214172820549,
          0.7202559790470581,
          -0.8216762204642892,
          -1.5235117735388843,
          0.4449658587671851,
          -0.28389472917892,
          -0.5187365983226652,
          -2.5396698782544154,
          0.7682101714779624,
          -0.7640893081414858,
          -2.1846667526913115,
          -0.8838233306582968,
          1.1824643100001397,
          2.0135419886903456,
          0.23633133691438366,
          2.460449636587777,
          -0.09998240434511563,
          -0.2520663331708616,
          -0.41342562732627086,
          -0.11892089142298772,
          0.40066634277757,
          -0.16302394422898955,
          0.3816461194656427,
          0.2508089718649011,
          0.864448276036272,
          -0.29644374113607974,
          -0.29019419766441296,
          -0.6146093747802536,
          -0.15177365686399796,
          1.1305357737677744,
          -0.013108447416840134,
          -0.03580823648650258,
          -0.5314257537289394,
          -0.5845869337113184,
          0.4208993727161239,
          0.6949122542294657,
          0.4074729404524667,
          1.6652825948892558,
          -0.5724244791967754,
          0.13281301154771438,
          -1.5983325919599396,
          -0.07543176124032766,
          -0.1850161558714443,
          0.23856011125131968,
          1.005467095672781,
          0.598825135211652,
          -1.2015406416985572,
          -1.5874631203168648,
          0.084783354154374,
          -0.8904929614212536,
          -0.3876337552374118,
          -0.47793068657708176,
          1.1479159509948063,
          0.11344071928492235,
          0.6048349909436674,
          -0.51961803454422,
          -0.2834117815484936,
          0.39581139441488217,
          -0.2819496415598355,
          -0.8394372345719991,
          -1.11866078798659,
          -0.6706275135691139,
          -0.49288417665376777,
          0.9288010569813032,
          1.4229740856467177,
          -1.1054496840152666,
          0.1572306958944868,
          -1.843841565520202,
          0.029157345193459853,
          0.03137862400023864,
          -0.4067566604194543
         ],
         "y": [
          1.147941618370113,
          -0.8299547834209939,
          0.9392967082603535,
          0.1910828949513799,
          1.5972849247352257,
          0.8659917939077655,
          -0.13457817585495618,
          1.0568721214430303,
          -1.9432194581700155,
          -0.2252573369881137,
          0.5530281112929508,
          -1.682094007420528,
          -0.7306537821180152,
          -0.767034756466276,
          1.0331829305676778,
          1.6828796563285107,
          -0.17871339540400877,
          -1.2356517306371546,
          1.5011867799311671,
          0.18569494912186607,
          0.29212289017797743,
          0.40348548465449763,
          0.5919500797736406,
          -1.74852486584187,
          -0.42974151999969795,
          -1.1131918365818332,
          -0.8152201120976881,
          -0.2964325858724084,
          0.6077511547187224,
          -0.9165257154926654,
          0.3958799995247619,
          1.4410006016632992,
          1.5350723340486652,
          -0.09262332912415686,
          0.2014590693609223,
          0.8440484685013404,
          0.15714102621146692,
          0.9450587080045356,
          2.5131920548428583,
          0.20077049918278642,
          -0.9657860389622679,
          -1.3093859461627482,
          -1.079492333208607,
          0.32653099177279277,
          2.218622381666,
          -0.11600489478403345,
          -1.012487546164819,
          -0.27511305834525873,
          1.08792686959739,
          1.4107093195747469,
          2.7709067003980006,
          0.7114957684374198,
          0.7582234955235306,
          1.5237138816785598,
          0.4637455020324181,
          1.511251946270096,
          -1.4817818330023456,
          -0.0795121033782538,
          0.02471484309624979,
          1.2145310742566076,
          0.3384691147224194,
          0.27373464839690553,
          0.318522054869221,
          0.5007738810050617,
          -0.985497112982549,
          -0.4187103480544071,
          0.0857109549200209,
          0.16368992248085976,
          -1.7893931983703721,
          -2.165212530313429,
          0.6165444430162081,
          -0.8190106641498023,
          -0.8092974599713665,
          0.7469041389805514,
          1.5428577874797613,
          0.8951624487009909,
          -0.34607759857208276,
          -0.6238104910780421,
          0.7298093735352756,
          -0.5971256336788214,
          -0.47869016470384906,
          0.9109499865128807,
          -0.865502362403827,
          0.46502342002076474,
          0.1381558262863357,
          0.5483422894237492,
          -0.4409846129957712,
          -0.8536437656545046,
          -0.31599171721226166,
          -0.9516515101148915,
          1.7612935083376915,
          -1.1698940830411757,
          0.40865295564041104,
          2.0201324736619446,
          -1.0292302175830261,
          -0.7803205287206606,
          -0.4471136102773819,
          1.1370239802544457,
          0.5249875056862872,
          0.7382035281710799
         ]
        }
       ],
       "layout": {
        "legend": {
         "bgcolor": "#F5F6F9",
         "font": {
          "color": "#4D5663"
         }
        },
        "paper_bgcolor": "#F5F6F9",
        "plot_bgcolor": "#F5F6F9",
        "template": {
         "data": {
          "bar": [
           {
            "error_x": {
             "color": "#2a3f5f"
            },
            "error_y": {
             "color": "#2a3f5f"
            },
            "marker": {
             "line": {
              "color": "#E5ECF6",
              "width": 0.5
             },
             "pattern": {
              "fillmode": "overlay",
              "size": 10,
              "solidity": 0.2
             }
            },
            "type": "bar"
           }
          ],
          "barpolar": [
           {
            "marker": {
             "line": {
              "color": "#E5ECF6",
              "width": 0.5
             },
             "pattern": {
              "fillmode": "overlay",
              "size": 10,
              "solidity": 0.2
             }
            },
            "type": "barpolar"
           }
          ],
          "carpet": [
           {
            "aaxis": {
             "endlinecolor": "#2a3f5f",
             "gridcolor": "white",
             "linecolor": "white",
             "minorgridcolor": "white",
             "startlinecolor": "#2a3f5f"
            },
            "baxis": {
             "endlinecolor": "#2a3f5f",
             "gridcolor": "white",
             "linecolor": "white",
             "minorgridcolor": "white",
             "startlinecolor": "#2a3f5f"
            },
            "type": "carpet"
           }
          ],
          "choropleth": [
           {
            "colorbar": {
             "outlinewidth": 0,
             "ticks": ""
            },
            "type": "choropleth"
           }
          ],
          "contour": [
           {
            "colorbar": {
             "outlinewidth": 0,
             "ticks": ""
            },
            "colorscale": [
             [
              0,
              "#0d0887"
             ],
             [
              0.1111111111111111,
              "#46039f"
             ],
             [
              0.2222222222222222,
              "#7201a8"
             ],
             [
              0.3333333333333333,
              "#9c179e"
             ],
             [
              0.4444444444444444,
              "#bd3786"
             ],
             [
              0.5555555555555556,
              "#d8576b"
             ],
             [
              0.6666666666666666,
              "#ed7953"
             ],
             [
              0.7777777777777778,
              "#fb9f3a"
             ],
             [
              0.8888888888888888,
              "#fdca26"
             ],
             [
              1,
              "#f0f921"
             ]
            ],
            "type": "contour"
           }
          ],
          "contourcarpet": [
           {
            "colorbar": {
             "outlinewidth": 0,
             "ticks": ""
            },
            "type": "contourcarpet"
           }
          ],
          "heatmap": [
           {
            "colorbar": {
             "outlinewidth": 0,
             "ticks": ""
            },
            "colorscale": [
             [
              0,
              "#0d0887"
             ],
             [
              0.1111111111111111,
              "#46039f"
             ],
             [
              0.2222222222222222,
              "#7201a8"
             ],
             [
              0.3333333333333333,
              "#9c179e"
             ],
             [
              0.4444444444444444,
              "#bd3786"
             ],
             [
              0.5555555555555556,
              "#d8576b"
             ],
             [
              0.6666666666666666,
              "#ed7953"
             ],
             [
              0.7777777777777778,
              "#fb9f3a"
             ],
             [
              0.8888888888888888,
              "#fdca26"
             ],
             [
              1,
              "#f0f921"
             ]
            ],
            "type": "heatmap"
           }
          ],
          "heatmapgl": [
           {
            "colorbar": {
             "outlinewidth": 0,
             "ticks": ""
            },
            "colorscale": [
             [
              0,
              "#0d0887"
             ],
             [
              0.1111111111111111,
              "#46039f"
             ],
             [
              0.2222222222222222,
              "#7201a8"
             ],
             [
              0.3333333333333333,
              "#9c179e"
             ],
             [
              0.4444444444444444,
              "#bd3786"
             ],
             [
              0.5555555555555556,
              "#d8576b"
             ],
             [
              0.6666666666666666,
              "#ed7953"
             ],
             [
              0.7777777777777778,
              "#fb9f3a"
             ],
             [
              0.8888888888888888,
              "#fdca26"
             ],
             [
              1,
              "#f0f921"
             ]
            ],
            "type": "heatmapgl"
           }
          ],
          "histogram": [
           {
            "marker": {
             "pattern": {
              "fillmode": "overlay",
              "size": 10,
              "solidity": 0.2
             }
            },
            "type": "histogram"
           }
          ],
          "histogram2d": [
           {
            "colorbar": {
             "outlinewidth": 0,
             "ticks": ""
            },
            "colorscale": [
             [
              0,
              "#0d0887"
             ],
             [
              0.1111111111111111,
              "#46039f"
             ],
             [
              0.2222222222222222,
              "#7201a8"
             ],
             [
              0.3333333333333333,
              "#9c179e"
             ],
             [
              0.4444444444444444,
              "#bd3786"
             ],
             [
              0.5555555555555556,
              "#d8576b"
             ],
             [
              0.6666666666666666,
              "#ed7953"
             ],
             [
              0.7777777777777778,
              "#fb9f3a"
             ],
             [
              0.8888888888888888,
              "#fdca26"
             ],
             [
              1,
              "#f0f921"
             ]
            ],
            "type": "histogram2d"
           }
          ],
          "histogram2dcontour": [
           {
            "colorbar": {
             "outlinewidth": 0,
             "ticks": ""
            },
            "colorscale": [
             [
              0,
              "#0d0887"
             ],
             [
              0.1111111111111111,
              "#46039f"
             ],
             [
              0.2222222222222222,
              "#7201a8"
             ],
             [
              0.3333333333333333,
              "#9c179e"
             ],
             [
              0.4444444444444444,
              "#bd3786"
             ],
             [
              0.5555555555555556,
              "#d8576b"
             ],
             [
              0.6666666666666666,
              "#ed7953"
             ],
             [
              0.7777777777777778,
              "#fb9f3a"
             ],
             [
              0.8888888888888888,
              "#fdca26"
             ],
             [
              1,
              "#f0f921"
             ]
            ],
            "type": "histogram2dcontour"
           }
          ],
          "mesh3d": [
           {
            "colorbar": {
             "outlinewidth": 0,
             "ticks": ""
            },
            "type": "mesh3d"
           }
          ],
          "parcoords": [
           {
            "line": {
             "colorbar": {
              "outlinewidth": 0,
              "ticks": ""
             }
            },
            "type": "parcoords"
           }
          ],
          "pie": [
           {
            "automargin": true,
            "type": "pie"
           }
          ],
          "scatter": [
           {
            "fillpattern": {
             "fillmode": "overlay",
             "size": 10,
             "solidity": 0.2
            },
            "type": "scatter"
           }
          ],
          "scatter3d": [
           {
            "line": {
             "colorbar": {
              "outlinewidth": 0,
              "ticks": ""
             }
            },
            "marker": {
             "colorbar": {
              "outlinewidth": 0,
              "ticks": ""
             }
            },
            "type": "scatter3d"
           }
          ],
          "scattercarpet": [
           {
            "marker": {
             "colorbar": {
              "outlinewidth": 0,
              "ticks": ""
             }
            },
            "type": "scattercarpet"
           }
          ],
          "scattergeo": [
           {
            "marker": {
             "colorbar": {
              "outlinewidth": 0,
              "ticks": ""
             }
            },
            "type": "scattergeo"
           }
          ],
          "scattergl": [
           {
            "marker": {
             "colorbar": {
              "outlinewidth": 0,
              "ticks": ""
             }
            },
            "type": "scattergl"
           }
          ],
          "scattermapbox": [
           {
            "marker": {
             "colorbar": {
              "outlinewidth": 0,
              "ticks": ""
             }
            },
            "type": "scattermapbox"
           }
          ],
          "scatterpolar": [
           {
            "marker": {
             "colorbar": {
              "outlinewidth": 0,
              "ticks": ""
             }
            },
            "type": "scatterpolar"
           }
          ],
          "scatterpolargl": [
           {
            "marker": {
             "colorbar": {
              "outlinewidth": 0,
              "ticks": ""
             }
            },
            "type": "scatterpolargl"
           }
          ],
          "scatterternary": [
           {
            "marker": {
             "colorbar": {
              "outlinewidth": 0,
              "ticks": ""
             }
            },
            "type": "scatterternary"
           }
          ],
          "surface": [
           {
            "colorbar": {
             "outlinewidth": 0,
             "ticks": ""
            },
            "colorscale": [
             [
              0,
              "#0d0887"
             ],
             [
              0.1111111111111111,
              "#46039f"
             ],
             [
              0.2222222222222222,
              "#7201a8"
             ],
             [
              0.3333333333333333,
              "#9c179e"
             ],
             [
              0.4444444444444444,
              "#bd3786"
             ],
             [
              0.5555555555555556,
              "#d8576b"
             ],
             [
              0.6666666666666666,
              "#ed7953"
             ],
             [
              0.7777777777777778,
              "#fb9f3a"
             ],
             [
              0.8888888888888888,
              "#fdca26"
             ],
             [
              1,
              "#f0f921"
             ]
            ],
            "type": "surface"
           }
          ],
          "table": [
           {
            "cells": {
             "fill": {
              "color": "#EBF0F8"
             },
             "line": {
              "color": "white"
             }
            },
            "header": {
             "fill": {
              "color": "#C8D4E3"
             },
             "line": {
              "color": "white"
             }
            },
            "type": "table"
           }
          ]
         },
         "layout": {
          "annotationdefaults": {
           "arrowcolor": "#2a3f5f",
           "arrowhead": 0,
           "arrowwidth": 1
          },
          "autotypenumbers": "strict",
          "coloraxis": {
           "colorbar": {
            "outlinewidth": 0,
            "ticks": ""
           }
          },
          "colorscale": {
           "diverging": [
            [
             0,
             "#8e0152"
            ],
            [
             0.1,
             "#c51b7d"
            ],
            [
             0.2,
             "#de77ae"
            ],
            [
             0.3,
             "#f1b6da"
            ],
            [
             0.4,
             "#fde0ef"
            ],
            [
             0.5,
             "#f7f7f7"
            ],
            [
             0.6,
             "#e6f5d0"
            ],
            [
             0.7,
             "#b8e186"
            ],
            [
             0.8,
             "#7fbc41"
            ],
            [
             0.9,
             "#4d9221"
            ],
            [
             1,
             "#276419"
            ]
           ],
           "sequential": [
            [
             0,
             "#0d0887"
            ],
            [
             0.1111111111111111,
             "#46039f"
            ],
            [
             0.2222222222222222,
             "#7201a8"
            ],
            [
             0.3333333333333333,
             "#9c179e"
            ],
            [
             0.4444444444444444,
             "#bd3786"
            ],
            [
             0.5555555555555556,
             "#d8576b"
            ],
            [
             0.6666666666666666,
             "#ed7953"
            ],
            [
             0.7777777777777778,
             "#fb9f3a"
            ],
            [
             0.8888888888888888,
             "#fdca26"
            ],
            [
             1,
             "#f0f921"
            ]
           ],
           "sequentialminus": [
            [
             0,
             "#0d0887"
            ],
            [
             0.1111111111111111,
             "#46039f"
            ],
            [
             0.2222222222222222,
             "#7201a8"
            ],
            [
             0.3333333333333333,
             "#9c179e"
            ],
            [
             0.4444444444444444,
             "#bd3786"
            ],
            [
             0.5555555555555556,
             "#d8576b"
            ],
            [
             0.6666666666666666,
             "#ed7953"
            ],
            [
             0.7777777777777778,
             "#fb9f3a"
            ],
            [
             0.8888888888888888,
             "#fdca26"
            ],
            [
             1,
             "#f0f921"
            ]
           ]
          },
          "colorway": [
           "#636efa",
           "#EF553B",
           "#00cc96",
           "#ab63fa",
           "#FFA15A",
           "#19d3f3",
           "#FF6692",
           "#B6E880",
           "#FF97FF",
           "#FECB52"
          ],
          "font": {
           "color": "#2a3f5f"
          },
          "geo": {
           "bgcolor": "white",
           "lakecolor": "white",
           "landcolor": "#E5ECF6",
           "showlakes": true,
           "showland": true,
           "subunitcolor": "white"
          },
          "hoverlabel": {
           "align": "left"
          },
          "hovermode": "closest",
          "mapbox": {
           "style": "light"
          },
          "paper_bgcolor": "white",
          "plot_bgcolor": "#E5ECF6",
          "polar": {
           "angularaxis": {
            "gridcolor": "white",
            "linecolor": "white",
            "ticks": ""
           },
           "bgcolor": "#E5ECF6",
           "radialaxis": {
            "gridcolor": "white",
            "linecolor": "white",
            "ticks": ""
           }
          },
          "scene": {
           "xaxis": {
            "backgroundcolor": "#E5ECF6",
            "gridcolor": "white",
            "gridwidth": 2,
            "linecolor": "white",
            "showbackground": true,
            "ticks": "",
            "zerolinecolor": "white"
           },
           "yaxis": {
            "backgroundcolor": "#E5ECF6",
            "gridcolor": "white",
            "gridwidth": 2,
            "linecolor": "white",
            "showbackground": true,
            "ticks": "",
            "zerolinecolor": "white"
           },
           "zaxis": {
            "backgroundcolor": "#E5ECF6",
            "gridcolor": "white",
            "gridwidth": 2,
            "linecolor": "white",
            "showbackground": true,
            "ticks": "",
            "zerolinecolor": "white"
           }
          },
          "shapedefaults": {
           "line": {
            "color": "#2a3f5f"
           }
          },
          "ternary": {
           "aaxis": {
            "gridcolor": "white",
            "linecolor": "white",
            "ticks": ""
           },
           "baxis": {
            "gridcolor": "white",
            "linecolor": "white",
            "ticks": ""
           },
           "bgcolor": "#E5ECF6",
           "caxis": {
            "gridcolor": "white",
            "linecolor": "white",
            "ticks": ""
           }
          },
          "title": {
           "x": 0.05
          },
          "xaxis": {
           "automargin": true,
           "gridcolor": "white",
           "linecolor": "white",
           "ticks": "",
           "title": {
            "standoff": 15
           },
           "zerolinecolor": "white",
           "zerolinewidth": 2
          },
          "yaxis": {
           "automargin": true,
           "gridcolor": "white",
           "linecolor": "white",
           "ticks": "",
           "title": {
            "standoff": 15
           },
           "zerolinecolor": "white",
           "zerolinewidth": 2
          }
         }
        },
        "title": {
         "font": {
          "color": "#4D5663"
         }
        },
        "xaxis": {
         "gridcolor": "#E1E5ED",
         "showgrid": true,
         "tickfont": {
          "color": "#4D5663"
         },
         "title": {
          "font": {
           "color": "#4D5663"
          },
          "text": ""
         },
         "zerolinecolor": "#E1E5ED"
        },
        "yaxis": {
         "gridcolor": "#E1E5ED",
         "showgrid": true,
         "tickfont": {
          "color": "#4D5663"
         },
         "title": {
          "font": {
           "color": "#4D5663"
          },
          "text": ""
         },
         "zerolinecolor": "#E1E5ED"
        }
       }
      },
      "text/html": [
       "<div>                            <div id=\"cbb23955-5b92-4834-9f6c-f3ef6258b592\" class=\"plotly-graph-div\" style=\"height:525px; width:100%;\"></div>            <script type=\"text/javascript\">                require([\"plotly\"], function(Plotly) {                    window.PLOTLYENV=window.PLOTLYENV || {};\n",
       "                    window.PLOTLYENV.BASE_URL='https://plot.ly';                                    if (document.getElementById(\"cbb23955-5b92-4834-9f6c-f3ef6258b592\")) {                    Plotly.newPlot(                        \"cbb23955-5b92-4834-9f6c-f3ef6258b592\",                        [{\"marker\":{\"color\":[\"rgb(255, 153, 51)\",\"rgb(55, 128, 191)\",\"rgb(50, 171, 96)\",\"rgb(128, 0, 128)\",\"rgb(219, 64, 82)\",\"rgb(0, 128, 128)\",\"rgb(255, 255, 51)\",\"rgb(128, 128, 0)\",\"rgb(251, 128, 114)\",\"rgb(128, 177, 211)\"],\"line\":{\"width\":1.3},\"size\":[37,88,97,68,76,44,33,86,51,49,87,47,102,65,79,67,64,57,53,59,72,59,34,48,70,84,52,89,93,66,112,70,81,58,75,66,86,59,49,33,72,75,93,41,56,81,72,52,49,94,63,91,46,68,57,73,59,51,59,77,85,68,65,63,84,79,84,64,76,23,72,59,34,97,12,70,84,81,85,44,74,84,58,57,77,43,77,47,65,80,66,55,58,60,53,67,68,87,63,73],\"symbol\":\"circle\"},\"mode\":\"markers\",\"text\":\"\",\"x\":[-1.5182312484157174,-1.8855809449535939,-0.4523999566779344,-1.4642136426254893,2.2647603195178005,-1.3018054396547205,-0.029061791830883667,0.8871982945603031,0.2934406917015035,0.9154055340600108,-0.14116188134276486,-1.9003199171357033,1.1838181801203118,0.8111627617490051,0.22330870247181372,-1.0132223346121167,-0.9779679282370044,1.4318006928470863,-1.3629859890131604,0.673446670553999,1.5867153375770855,-1.5399004346150476,-1.865473488055965,-0.8594891612122892,1.1915475103414341,0.8133725372943506,0.34588767757753586,-1.466301462684535,-0.5222764671340403,0.11424214172820549,0.7202559790470581,-0.8216762204642892,-1.5235117735388843,0.4449658587671851,-0.28389472917892,-0.5187365983226652,-2.5396698782544154,0.7682101714779624,-0.7640893081414858,-2.1846667526913115,-0.8838233306582968,1.1824643100001397,2.0135419886903456,0.23633133691438366,2.460449636587777,-0.09998240434511563,-0.2520663331708616,-0.41342562732627086,-0.11892089142298772,0.40066634277757,-0.16302394422898955,0.3816461194656427,0.2508089718649011,0.864448276036272,-0.29644374113607974,-0.29019419766441296,-0.6146093747802536,-0.15177365686399796,1.1305357737677744,-0.013108447416840134,-0.03580823648650258,-0.5314257537289394,-0.5845869337113184,0.4208993727161239,0.6949122542294657,0.4074729404524667,1.6652825948892558,-0.5724244791967754,0.13281301154771438,-1.5983325919599396,-0.07543176124032766,-0.1850161558714443,0.23856011125131968,1.005467095672781,0.598825135211652,-1.2015406416985572,-1.5874631203168648,0.084783354154374,-0.8904929614212536,-0.3876337552374118,-0.47793068657708176,1.1479159509948063,0.11344071928492235,0.6048349909436674,-0.51961803454422,-0.2834117815484936,0.39581139441488217,-0.2819496415598355,-0.8394372345719991,-1.11866078798659,-0.6706275135691139,-0.49288417665376777,0.9288010569813032,1.4229740856467177,-1.1054496840152666,0.1572306958944868,-1.843841565520202,0.029157345193459853,0.03137862400023864,-0.4067566604194543],\"y\":[1.147941618370113,-0.8299547834209939,0.9392967082603535,0.1910828949513799,1.5972849247352257,0.8659917939077655,-0.13457817585495618,1.0568721214430303,-1.9432194581700155,-0.2252573369881137,0.5530281112929508,-1.682094007420528,-0.7306537821180152,-0.767034756466276,1.0331829305676778,1.6828796563285107,-0.17871339540400877,-1.2356517306371546,1.5011867799311671,0.18569494912186607,0.29212289017797743,0.40348548465449763,0.5919500797736406,-1.74852486584187,-0.42974151999969795,-1.1131918365818332,-0.8152201120976881,-0.2964325858724084,0.6077511547187224,-0.9165257154926654,0.3958799995247619,1.4410006016632992,1.5350723340486652,-0.09262332912415686,0.2014590693609223,0.8440484685013404,0.15714102621146692,0.9450587080045356,2.5131920548428583,0.20077049918278642,-0.9657860389622679,-1.3093859461627482,-1.079492333208607,0.32653099177279277,2.218622381666,-0.11600489478403345,-1.012487546164819,-0.27511305834525873,1.08792686959739,1.4107093195747469,2.7709067003980006,0.7114957684374198,0.7582234955235306,1.5237138816785598,0.4637455020324181,1.511251946270096,-1.4817818330023456,-0.0795121033782538,0.02471484309624979,1.2145310742566076,0.3384691147224194,0.27373464839690553,0.318522054869221,0.5007738810050617,-0.985497112982549,-0.4187103480544071,0.0857109549200209,0.16368992248085976,-1.7893931983703721,-2.165212530313429,0.6165444430162081,-0.8190106641498023,-0.8092974599713665,0.7469041389805514,1.5428577874797613,0.8951624487009909,-0.34607759857208276,-0.6238104910780421,0.7298093735352756,-0.5971256336788214,-0.47869016470384906,0.9109499865128807,-0.865502362403827,0.46502342002076474,0.1381558262863357,0.5483422894237492,-0.4409846129957712,-0.8536437656545046,-0.31599171721226166,-0.9516515101148915,1.7612935083376915,-1.1698940830411757,0.40865295564041104,2.0201324736619446,-1.0292302175830261,-0.7803205287206606,-0.4471136102773819,1.1370239802544457,0.5249875056862872,0.7382035281710799],\"type\":\"scatter\"}],                        {\"legend\":{\"bgcolor\":\"#F5F6F9\",\"font\":{\"color\":\"#4D5663\"}},\"paper_bgcolor\":\"#F5F6F9\",\"plot_bgcolor\":\"#F5F6F9\",\"template\":{\"data\":{\"barpolar\":[{\"marker\":{\"line\":{\"color\":\"#E5ECF6\",\"width\":0.5},\"pattern\":{\"fillmode\":\"overlay\",\"size\":10,\"solidity\":0.2}},\"type\":\"barpolar\"}],\"bar\":[{\"error_x\":{\"color\":\"#2a3f5f\"},\"error_y\":{\"color\":\"#2a3f5f\"},\"marker\":{\"line\":{\"color\":\"#E5ECF6\",\"width\":0.5},\"pattern\":{\"fillmode\":\"overlay\",\"size\":10,\"solidity\":0.2}},\"type\":\"bar\"}],\"carpet\":[{\"aaxis\":{\"endlinecolor\":\"#2a3f5f\",\"gridcolor\":\"white\",\"linecolor\":\"white\",\"minorgridcolor\":\"white\",\"startlinecolor\":\"#2a3f5f\"},\"baxis\":{\"endlinecolor\":\"#2a3f5f\",\"gridcolor\":\"white\",\"linecolor\":\"white\",\"minorgridcolor\":\"white\",\"startlinecolor\":\"#2a3f5f\"},\"type\":\"carpet\"}],\"choropleth\":[{\"colorbar\":{\"outlinewidth\":0,\"ticks\":\"\"},\"type\":\"choropleth\"}],\"contourcarpet\":[{\"colorbar\":{\"outlinewidth\":0,\"ticks\":\"\"},\"type\":\"contourcarpet\"}],\"contour\":[{\"colorbar\":{\"outlinewidth\":0,\"ticks\":\"\"},\"colorscale\":[[0.0,\"#0d0887\"],[0.1111111111111111,\"#46039f\"],[0.2222222222222222,\"#7201a8\"],[0.3333333333333333,\"#9c179e\"],[0.4444444444444444,\"#bd3786\"],[0.5555555555555556,\"#d8576b\"],[0.6666666666666666,\"#ed7953\"],[0.7777777777777778,\"#fb9f3a\"],[0.8888888888888888,\"#fdca26\"],[1.0,\"#f0f921\"]],\"type\":\"contour\"}],\"heatmapgl\":[{\"colorbar\":{\"outlinewidth\":0,\"ticks\":\"\"},\"colorscale\":[[0.0,\"#0d0887\"],[0.1111111111111111,\"#46039f\"],[0.2222222222222222,\"#7201a8\"],[0.3333333333333333,\"#9c179e\"],[0.4444444444444444,\"#bd3786\"],[0.5555555555555556,\"#d8576b\"],[0.6666666666666666,\"#ed7953\"],[0.7777777777777778,\"#fb9f3a\"],[0.8888888888888888,\"#fdca26\"],[1.0,\"#f0f921\"]],\"type\":\"heatmapgl\"}],\"heatmap\":[{\"colorbar\":{\"outlinewidth\":0,\"ticks\":\"\"},\"colorscale\":[[0.0,\"#0d0887\"],[0.1111111111111111,\"#46039f\"],[0.2222222222222222,\"#7201a8\"],[0.3333333333333333,\"#9c179e\"],[0.4444444444444444,\"#bd3786\"],[0.5555555555555556,\"#d8576b\"],[0.6666666666666666,\"#ed7953\"],[0.7777777777777778,\"#fb9f3a\"],[0.8888888888888888,\"#fdca26\"],[1.0,\"#f0f921\"]],\"type\":\"heatmap\"}],\"histogram2dcontour\":[{\"colorbar\":{\"outlinewidth\":0,\"ticks\":\"\"},\"colorscale\":[[0.0,\"#0d0887\"],[0.1111111111111111,\"#46039f\"],[0.2222222222222222,\"#7201a8\"],[0.3333333333333333,\"#9c179e\"],[0.4444444444444444,\"#bd3786\"],[0.5555555555555556,\"#d8576b\"],[0.6666666666666666,\"#ed7953\"],[0.7777777777777778,\"#fb9f3a\"],[0.8888888888888888,\"#fdca26\"],[1.0,\"#f0f921\"]],\"type\":\"histogram2dcontour\"}],\"histogram2d\":[{\"colorbar\":{\"outlinewidth\":0,\"ticks\":\"\"},\"colorscale\":[[0.0,\"#0d0887\"],[0.1111111111111111,\"#46039f\"],[0.2222222222222222,\"#7201a8\"],[0.3333333333333333,\"#9c179e\"],[0.4444444444444444,\"#bd3786\"],[0.5555555555555556,\"#d8576b\"],[0.6666666666666666,\"#ed7953\"],[0.7777777777777778,\"#fb9f3a\"],[0.8888888888888888,\"#fdca26\"],[1.0,\"#f0f921\"]],\"type\":\"histogram2d\"}],\"histogram\":[{\"marker\":{\"pattern\":{\"fillmode\":\"overlay\",\"size\":10,\"solidity\":0.2}},\"type\":\"histogram\"}],\"mesh3d\":[{\"colorbar\":{\"outlinewidth\":0,\"ticks\":\"\"},\"type\":\"mesh3d\"}],\"parcoords\":[{\"line\":{\"colorbar\":{\"outlinewidth\":0,\"ticks\":\"\"}},\"type\":\"parcoords\"}],\"pie\":[{\"automargin\":true,\"type\":\"pie\"}],\"scatter3d\":[{\"line\":{\"colorbar\":{\"outlinewidth\":0,\"ticks\":\"\"}},\"marker\":{\"colorbar\":{\"outlinewidth\":0,\"ticks\":\"\"}},\"type\":\"scatter3d\"}],\"scattercarpet\":[{\"marker\":{\"colorbar\":{\"outlinewidth\":0,\"ticks\":\"\"}},\"type\":\"scattercarpet\"}],\"scattergeo\":[{\"marker\":{\"colorbar\":{\"outlinewidth\":0,\"ticks\":\"\"}},\"type\":\"scattergeo\"}],\"scattergl\":[{\"marker\":{\"colorbar\":{\"outlinewidth\":0,\"ticks\":\"\"}},\"type\":\"scattergl\"}],\"scattermapbox\":[{\"marker\":{\"colorbar\":{\"outlinewidth\":0,\"ticks\":\"\"}},\"type\":\"scattermapbox\"}],\"scatterpolargl\":[{\"marker\":{\"colorbar\":{\"outlinewidth\":0,\"ticks\":\"\"}},\"type\":\"scatterpolargl\"}],\"scatterpolar\":[{\"marker\":{\"colorbar\":{\"outlinewidth\":0,\"ticks\":\"\"}},\"type\":\"scatterpolar\"}],\"scatter\":[{\"fillpattern\":{\"fillmode\":\"overlay\",\"size\":10,\"solidity\":0.2},\"type\":\"scatter\"}],\"scatterternary\":[{\"marker\":{\"colorbar\":{\"outlinewidth\":0,\"ticks\":\"\"}},\"type\":\"scatterternary\"}],\"surface\":[{\"colorbar\":{\"outlinewidth\":0,\"ticks\":\"\"},\"colorscale\":[[0.0,\"#0d0887\"],[0.1111111111111111,\"#46039f\"],[0.2222222222222222,\"#7201a8\"],[0.3333333333333333,\"#9c179e\"],[0.4444444444444444,\"#bd3786\"],[0.5555555555555556,\"#d8576b\"],[0.6666666666666666,\"#ed7953\"],[0.7777777777777778,\"#fb9f3a\"],[0.8888888888888888,\"#fdca26\"],[1.0,\"#f0f921\"]],\"type\":\"surface\"}],\"table\":[{\"cells\":{\"fill\":{\"color\":\"#EBF0F8\"},\"line\":{\"color\":\"white\"}},\"header\":{\"fill\":{\"color\":\"#C8D4E3\"},\"line\":{\"color\":\"white\"}},\"type\":\"table\"}]},\"layout\":{\"annotationdefaults\":{\"arrowcolor\":\"#2a3f5f\",\"arrowhead\":0,\"arrowwidth\":1},\"autotypenumbers\":\"strict\",\"coloraxis\":{\"colorbar\":{\"outlinewidth\":0,\"ticks\":\"\"}},\"colorscale\":{\"diverging\":[[0,\"#8e0152\"],[0.1,\"#c51b7d\"],[0.2,\"#de77ae\"],[0.3,\"#f1b6da\"],[0.4,\"#fde0ef\"],[0.5,\"#f7f7f7\"],[0.6,\"#e6f5d0\"],[0.7,\"#b8e186\"],[0.8,\"#7fbc41\"],[0.9,\"#4d9221\"],[1,\"#276419\"]],\"sequential\":[[0.0,\"#0d0887\"],[0.1111111111111111,\"#46039f\"],[0.2222222222222222,\"#7201a8\"],[0.3333333333333333,\"#9c179e\"],[0.4444444444444444,\"#bd3786\"],[0.5555555555555556,\"#d8576b\"],[0.6666666666666666,\"#ed7953\"],[0.7777777777777778,\"#fb9f3a\"],[0.8888888888888888,\"#fdca26\"],[1.0,\"#f0f921\"]],\"sequentialminus\":[[0.0,\"#0d0887\"],[0.1111111111111111,\"#46039f\"],[0.2222222222222222,\"#7201a8\"],[0.3333333333333333,\"#9c179e\"],[0.4444444444444444,\"#bd3786\"],[0.5555555555555556,\"#d8576b\"],[0.6666666666666666,\"#ed7953\"],[0.7777777777777778,\"#fb9f3a\"],[0.8888888888888888,\"#fdca26\"],[1.0,\"#f0f921\"]]},\"colorway\":[\"#636efa\",\"#EF553B\",\"#00cc96\",\"#ab63fa\",\"#FFA15A\",\"#19d3f3\",\"#FF6692\",\"#B6E880\",\"#FF97FF\",\"#FECB52\"],\"font\":{\"color\":\"#2a3f5f\"},\"geo\":{\"bgcolor\":\"white\",\"lakecolor\":\"white\",\"landcolor\":\"#E5ECF6\",\"showlakes\":true,\"showland\":true,\"subunitcolor\":\"white\"},\"hoverlabel\":{\"align\":\"left\"},\"hovermode\":\"closest\",\"mapbox\":{\"style\":\"light\"},\"paper_bgcolor\":\"white\",\"plot_bgcolor\":\"#E5ECF6\",\"polar\":{\"angularaxis\":{\"gridcolor\":\"white\",\"linecolor\":\"white\",\"ticks\":\"\"},\"bgcolor\":\"#E5ECF6\",\"radialaxis\":{\"gridcolor\":\"white\",\"linecolor\":\"white\",\"ticks\":\"\"}},\"scene\":{\"xaxis\":{\"backgroundcolor\":\"#E5ECF6\",\"gridcolor\":\"white\",\"gridwidth\":2,\"linecolor\":\"white\",\"showbackground\":true,\"ticks\":\"\",\"zerolinecolor\":\"white\"},\"yaxis\":{\"backgroundcolor\":\"#E5ECF6\",\"gridcolor\":\"white\",\"gridwidth\":2,\"linecolor\":\"white\",\"showbackground\":true,\"ticks\":\"\",\"zerolinecolor\":\"white\"},\"zaxis\":{\"backgroundcolor\":\"#E5ECF6\",\"gridcolor\":\"white\",\"gridwidth\":2,\"linecolor\":\"white\",\"showbackground\":true,\"ticks\":\"\",\"zerolinecolor\":\"white\"}},\"shapedefaults\":{\"line\":{\"color\":\"#2a3f5f\"}},\"ternary\":{\"aaxis\":{\"gridcolor\":\"white\",\"linecolor\":\"white\",\"ticks\":\"\"},\"baxis\":{\"gridcolor\":\"white\",\"linecolor\":\"white\",\"ticks\":\"\"},\"bgcolor\":\"#E5ECF6\",\"caxis\":{\"gridcolor\":\"white\",\"linecolor\":\"white\",\"ticks\":\"\"}},\"title\":{\"x\":0.05},\"xaxis\":{\"automargin\":true,\"gridcolor\":\"white\",\"linecolor\":\"white\",\"ticks\":\"\",\"title\":{\"standoff\":15},\"zerolinecolor\":\"white\",\"zerolinewidth\":2},\"yaxis\":{\"automargin\":true,\"gridcolor\":\"white\",\"linecolor\":\"white\",\"ticks\":\"\",\"title\":{\"standoff\":15},\"zerolinecolor\":\"white\",\"zerolinewidth\":2}}},\"title\":{\"font\":{\"color\":\"#4D5663\"}},\"xaxis\":{\"gridcolor\":\"#E1E5ED\",\"showgrid\":true,\"tickfont\":{\"color\":\"#4D5663\"},\"title\":{\"font\":{\"color\":\"#4D5663\"},\"text\":\"\"},\"zerolinecolor\":\"#E1E5ED\"},\"yaxis\":{\"gridcolor\":\"#E1E5ED\",\"showgrid\":true,\"tickfont\":{\"color\":\"#4D5663\"},\"title\":{\"font\":{\"color\":\"#4D5663\"},\"text\":\"\"},\"zerolinecolor\":\"#E1E5ED\"}},                        {\"showLink\": true, \"linkText\": \"Export to plot.ly\", \"plotlyServerURL\": \"https://plot.ly\", \"responsive\": true}                    ).then(function(){\n",
       "                            \n",
       "var gd = document.getElementById('cbb23955-5b92-4834-9f6c-f3ef6258b592');\n",
       "var x = new MutationObserver(function (mutations, observer) {{\n",
       "        var display = window.getComputedStyle(gd).display;\n",
       "        if (!display || display === 'none') {{\n",
       "            console.log([gd, 'removed!']);\n",
       "            Plotly.purge(gd);\n",
       "            observer.disconnect();\n",
       "        }}\n",
       "}});\n",
       "\n",
       "// Listen for the removal of the full notebook cells\n",
       "var notebookContainer = gd.closest('#notebook-container');\n",
       "if (notebookContainer) {{\n",
       "    x.observe(notebookContainer, {childList: true});\n",
       "}}\n",
       "\n",
       "// Listen for the clearing of the current output cell\n",
       "var outputEl = gd.closest('.output');\n",
       "if (outputEl) {{\n",
       "    x.observe(outputEl, {childList: true});\n",
       "}}\n",
       "\n",
       "                        })                };                });            </script>        </div>"
      ]
     },
     "metadata": {},
     "output_type": "display_data"
    }
   ],
   "source": [
    "df.iplot(kind='bubble',x='A',y='B',size='C')"
   ]
  },
  {
   "cell_type": "markdown",
   "metadata": {},
   "source": [
    "## scatter_matrix()\n",
    "\n",
    "Similar to sns.pairplot()"
   ]
  },
  {
   "cell_type": "code",
   "execution_count": 35,
   "metadata": {},
   "outputs": [
    {
     "data": {
      "application/vnd.plotly.v1+json": {
       "config": {
        "linkText": "Export to plot.ly",
        "plotlyServerURL": "https://plot.ly",
        "showLink": true
       },
       "data": [
        {
         "histfunc": "count",
         "histnorm": "",
         "marker": {
          "color": "rgba(255, 153, 51, 1.0)",
          "line": {
           "color": "#4D5663",
           "width": 1.3
          }
         },
         "name": "A",
         "nbinsx": 10,
         "opacity": 0.8,
         "orientation": "v",
         "type": "histogram",
         "x": [
          -1.5182312484157174,
          -1.8855809449535939,
          -0.4523999566779344,
          -1.4642136426254893,
          2.2647603195178005,
          -1.3018054396547205,
          -0.029061791830883667,
          0.8871982945603031,
          0.2934406917015035,
          0.9154055340600108,
          -0.14116188134276486,
          -1.9003199171357033,
          1.1838181801203118,
          0.8111627617490051,
          0.22330870247181372,
          -1.0132223346121167,
          -0.9779679282370044,
          1.4318006928470863,
          -1.3629859890131604,
          0.673446670553999,
          1.5867153375770855,
          -1.5399004346150476,
          -1.865473488055965,
          -0.8594891612122892,
          1.1915475103414341,
          0.8133725372943506,
          0.34588767757753586,
          -1.466301462684535,
          -0.5222764671340403,
          0.11424214172820549,
          0.7202559790470581,
          -0.8216762204642892,
          -1.5235117735388843,
          0.4449658587671851,
          -0.28389472917892,
          -0.5187365983226652,
          -2.5396698782544154,
          0.7682101714779624,
          -0.7640893081414858,
          -2.1846667526913115,
          -0.8838233306582968,
          1.1824643100001397,
          2.0135419886903456,
          0.23633133691438366,
          2.460449636587777,
          -0.09998240434511563,
          -0.2520663331708616,
          -0.41342562732627086,
          -0.11892089142298772,
          0.40066634277757,
          -0.16302394422898955,
          0.3816461194656427,
          0.2508089718649011,
          0.864448276036272,
          -0.29644374113607974,
          -0.29019419766441296,
          -0.6146093747802536,
          -0.15177365686399796,
          1.1305357737677744,
          -0.013108447416840134,
          -0.03580823648650258,
          -0.5314257537289394,
          -0.5845869337113184,
          0.4208993727161239,
          0.6949122542294657,
          0.4074729404524667,
          1.6652825948892558,
          -0.5724244791967754,
          0.13281301154771438,
          -1.5983325919599396,
          -0.07543176124032766,
          -0.1850161558714443,
          0.23856011125131968,
          1.005467095672781,
          0.598825135211652,
          -1.2015406416985572,
          -1.5874631203168648,
          0.084783354154374,
          -0.8904929614212536,
          -0.3876337552374118,
          -0.47793068657708176,
          1.1479159509948063,
          0.11344071928492235,
          0.6048349909436674,
          -0.51961803454422,
          -0.2834117815484936,
          0.39581139441488217,
          -0.2819496415598355,
          -0.8394372345719991,
          -1.11866078798659,
          -0.6706275135691139,
          -0.49288417665376777,
          0.9288010569813032,
          1.4229740856467177,
          -1.1054496840152666,
          0.1572306958944868,
          -1.843841565520202,
          0.029157345193459853,
          0.03137862400023864,
          -0.4067566604194543
         ],
         "xaxis": "x",
         "yaxis": "y"
        },
        {
         "line": {
          "color": "rgba(128, 128, 128, 1.0)",
          "dash": "solid",
          "shape": "linear",
          "width": 1.3
         },
         "marker": {
          "size": 2,
          "symbol": "circle"
         },
         "mode": "markers",
         "name": "A",
         "text": "",
         "type": "scatter",
         "x": [
          1.147941618370113,
          -0.8299547834209939,
          0.9392967082603535,
          0.1910828949513799,
          1.5972849247352257,
          0.8659917939077655,
          -0.13457817585495618,
          1.0568721214430303,
          -1.9432194581700155,
          -0.2252573369881137,
          0.5530281112929508,
          -1.682094007420528,
          -0.7306537821180152,
          -0.767034756466276,
          1.0331829305676778,
          1.6828796563285107,
          -0.17871339540400877,
          -1.2356517306371546,
          1.5011867799311671,
          0.18569494912186607,
          0.29212289017797743,
          0.40348548465449763,
          0.5919500797736406,
          -1.74852486584187,
          -0.42974151999969795,
          -1.1131918365818332,
          -0.8152201120976881,
          -0.2964325858724084,
          0.6077511547187224,
          -0.9165257154926654,
          0.3958799995247619,
          1.4410006016632992,
          1.5350723340486652,
          -0.09262332912415686,
          0.2014590693609223,
          0.8440484685013404,
          0.15714102621146692,
          0.9450587080045356,
          2.5131920548428583,
          0.20077049918278642,
          -0.9657860389622679,
          -1.3093859461627482,
          -1.079492333208607,
          0.32653099177279277,
          2.218622381666,
          -0.11600489478403345,
          -1.012487546164819,
          -0.27511305834525873,
          1.08792686959739,
          1.4107093195747469,
          2.7709067003980006,
          0.7114957684374198,
          0.7582234955235306,
          1.5237138816785598,
          0.4637455020324181,
          1.511251946270096,
          -1.4817818330023456,
          -0.0795121033782538,
          0.02471484309624979,
          1.2145310742566076,
          0.3384691147224194,
          0.27373464839690553,
          0.318522054869221,
          0.5007738810050617,
          -0.985497112982549,
          -0.4187103480544071,
          0.0857109549200209,
          0.16368992248085976,
          -1.7893931983703721,
          -2.165212530313429,
          0.6165444430162081,
          -0.8190106641498023,
          -0.8092974599713665,
          0.7469041389805514,
          1.5428577874797613,
          0.8951624487009909,
          -0.34607759857208276,
          -0.6238104910780421,
          0.7298093735352756,
          -0.5971256336788214,
          -0.47869016470384906,
          0.9109499865128807,
          -0.865502362403827,
          0.46502342002076474,
          0.1381558262863357,
          0.5483422894237492,
          -0.4409846129957712,
          -0.8536437656545046,
          -0.31599171721226166,
          -0.9516515101148915,
          1.7612935083376915,
          -1.1698940830411757,
          0.40865295564041104,
          2.0201324736619446,
          -1.0292302175830261,
          -0.7803205287206606,
          -0.4471136102773819,
          1.1370239802544457,
          0.5249875056862872,
          0.7382035281710799
         ],
         "xaxis": "x2",
         "y": [
          -1.5182312484157174,
          -1.8855809449535939,
          -0.4523999566779344,
          -1.4642136426254893,
          2.2647603195178005,
          -1.3018054396547205,
          -0.029061791830883667,
          0.8871982945603031,
          0.2934406917015035,
          0.9154055340600108,
          -0.14116188134276486,
          -1.9003199171357033,
          1.1838181801203118,
          0.8111627617490051,
          0.22330870247181372,
          -1.0132223346121167,
          -0.9779679282370044,
          1.4318006928470863,
          -1.3629859890131604,
          0.673446670553999,
          1.5867153375770855,
          -1.5399004346150476,
          -1.865473488055965,
          -0.8594891612122892,
          1.1915475103414341,
          0.8133725372943506,
          0.34588767757753586,
          -1.466301462684535,
          -0.5222764671340403,
          0.11424214172820549,
          0.7202559790470581,
          -0.8216762204642892,
          -1.5235117735388843,
          0.4449658587671851,
          -0.28389472917892,
          -0.5187365983226652,
          -2.5396698782544154,
          0.7682101714779624,
          -0.7640893081414858,
          -2.1846667526913115,
          -0.8838233306582968,
          1.1824643100001397,
          2.0135419886903456,
          0.23633133691438366,
          2.460449636587777,
          -0.09998240434511563,
          -0.2520663331708616,
          -0.41342562732627086,
          -0.11892089142298772,
          0.40066634277757,
          -0.16302394422898955,
          0.3816461194656427,
          0.2508089718649011,
          0.864448276036272,
          -0.29644374113607974,
          -0.29019419766441296,
          -0.6146093747802536,
          -0.15177365686399796,
          1.1305357737677744,
          -0.013108447416840134,
          -0.03580823648650258,
          -0.5314257537289394,
          -0.5845869337113184,
          0.4208993727161239,
          0.6949122542294657,
          0.4074729404524667,
          1.6652825948892558,
          -0.5724244791967754,
          0.13281301154771438,
          -1.5983325919599396,
          -0.07543176124032766,
          -0.1850161558714443,
          0.23856011125131968,
          1.005467095672781,
          0.598825135211652,
          -1.2015406416985572,
          -1.5874631203168648,
          0.084783354154374,
          -0.8904929614212536,
          -0.3876337552374118,
          -0.47793068657708176,
          1.1479159509948063,
          0.11344071928492235,
          0.6048349909436674,
          -0.51961803454422,
          -0.2834117815484936,
          0.39581139441488217,
          -0.2819496415598355,
          -0.8394372345719991,
          -1.11866078798659,
          -0.6706275135691139,
          -0.49288417665376777,
          0.9288010569813032,
          1.4229740856467177,
          -1.1054496840152666,
          0.1572306958944868,
          -1.843841565520202,
          0.029157345193459853,
          0.03137862400023864,
          -0.4067566604194543
         ],
         "yaxis": "y2"
        },
        {
         "line": {
          "color": "rgba(128, 128, 128, 1.0)",
          "dash": "solid",
          "shape": "linear",
          "width": 1.3
         },
         "marker": {
          "size": 2,
          "symbol": "circle"
         },
         "mode": "markers",
         "name": "A",
         "text": "",
         "type": "scatter",
         "x": [
          -1.7058815433434216,
          1.225914822681663,
          1.7798196613020816,
          0.11282332528887537,
          0.5712778089739757,
          -1.3016317327188727,
          -1.923547834740313,
          1.1561824435069878,
          -0.9224755618225211,
          -1.0178805245092546,
          1.1827311368101672,
          -1.1073799275039704,
          2.072559345792646,
          -0.06075975357886392,
          0.7044013798121919,
          0.014653263589448915,
          -0.17252163969784023,
          -0.5502741880414889,
          -0.7932245180204803,
          -0.43981801927343,
          0.3048077203919516,
          -0.45234223086596365,
          -1.8659658385363225,
          -1.0482824887866375,
          0.2282252007550022,
          1.0145146772436389,
          -0.8348297533978478,
          1.2901976716029104,
          1.549030911361821,
          -0.03333938704835523,
          2.607255908256383,
          0.19508653891686753,
          0.8560735737813755,
          -0.4664850344738756,
          0.47709938730138796,
          -0.030905356807458418,
          1.1579924771178767,
          -0.41042393514430625,
          -1.0028116151137298,
          -1.9520474045703116,
          0.30737972501259536,
          0.48281845303711146,
          1.511109859528105,
          -1.4941640878890123,
          -0.6344177234636945,
          0.8225599133704616,
          0.30997927856881896,
          -0.8388514035792496,
          -1.0303306421350633,
          1.5671753591755322,
          -0.21443896495268291,
          1.3990772123801511,
          -1.2052059077450616,
          0.06237629637033132,
          -0.5356071861319636,
          0.3764026902175658,
          -0.4605159189766581,
          -0.8814044977909182,
          -0.44869188504406854,
          0.6011005607210554,
          1.0945337834210023,
          0.08959088515086673,
          -0.09226180065129733,
          -0.2243862766479926,
          1.0290895837267773,
          0.7455846304963477,
          1.0262381089630686,
          -0.16280711266567613,
          0.5389670838765183,
          -2.5176185901296413,
          0.3240749283773082,
          -0.40803183739765314,
          -1.9004155709791288,
          1.7457811675568045,
          -3.187035143075339,
          0.21508664267208147,
          1.0086357440774296,
          0.8324213563362232,
          1.0801611273991403,
          -1.3014141587796624,
          0.4443865617144143,
          1.0375150372378812,
          -0.48483684952258127,
          -0.5226022856257523,
          0.5896965751372168,
          -1.3411231039321236,
          0.5837280054519673,
          -1.1534475698524378,
          -0.11207649408557195,
          0.790232010513971,
          -0.048825972635803724,
          -0.6382120495958978,
          -0.5114290862873814,
          -0.3720903195225852,
          -0.8038858383154226,
          0.04576400663093547,
          0.11488973806462226,
          1.1857106739451848,
          -0.23010183930485423,
          0.3904403881926993
         ],
         "xaxis": "x3",
         "y": [
          -1.5182312484157174,
          -1.8855809449535939,
          -0.4523999566779344,
          -1.4642136426254893,
          2.2647603195178005,
          -1.3018054396547205,
          -0.029061791830883667,
          0.8871982945603031,
          0.2934406917015035,
          0.9154055340600108,
          -0.14116188134276486,
          -1.9003199171357033,
          1.1838181801203118,
          0.8111627617490051,
          0.22330870247181372,
          -1.0132223346121167,
          -0.9779679282370044,
          1.4318006928470863,
          -1.3629859890131604,
          0.673446670553999,
          1.5867153375770855,
          -1.5399004346150476,
          -1.865473488055965,
          -0.8594891612122892,
          1.1915475103414341,
          0.8133725372943506,
          0.34588767757753586,
          -1.466301462684535,
          -0.5222764671340403,
          0.11424214172820549,
          0.7202559790470581,
          -0.8216762204642892,
          -1.5235117735388843,
          0.4449658587671851,
          -0.28389472917892,
          -0.5187365983226652,
          -2.5396698782544154,
          0.7682101714779624,
          -0.7640893081414858,
          -2.1846667526913115,
          -0.8838233306582968,
          1.1824643100001397,
          2.0135419886903456,
          0.23633133691438366,
          2.460449636587777,
          -0.09998240434511563,
          -0.2520663331708616,
          -0.41342562732627086,
          -0.11892089142298772,
          0.40066634277757,
          -0.16302394422898955,
          0.3816461194656427,
          0.2508089718649011,
          0.864448276036272,
          -0.29644374113607974,
          -0.29019419766441296,
          -0.6146093747802536,
          -0.15177365686399796,
          1.1305357737677744,
          -0.013108447416840134,
          -0.03580823648650258,
          -0.5314257537289394,
          -0.5845869337113184,
          0.4208993727161239,
          0.6949122542294657,
          0.4074729404524667,
          1.6652825948892558,
          -0.5724244791967754,
          0.13281301154771438,
          -1.5983325919599396,
          -0.07543176124032766,
          -0.1850161558714443,
          0.23856011125131968,
          1.005467095672781,
          0.598825135211652,
          -1.2015406416985572,
          -1.5874631203168648,
          0.084783354154374,
          -0.8904929614212536,
          -0.3876337552374118,
          -0.47793068657708176,
          1.1479159509948063,
          0.11344071928492235,
          0.6048349909436674,
          -0.51961803454422,
          -0.2834117815484936,
          0.39581139441488217,
          -0.2819496415598355,
          -0.8394372345719991,
          -1.11866078798659,
          -0.6706275135691139,
          -0.49288417665376777,
          0.9288010569813032,
          1.4229740856467177,
          -1.1054496840152666,
          0.1572306958944868,
          -1.843841565520202,
          0.029157345193459853,
          0.03137862400023864,
          -0.4067566604194543
         ],
         "yaxis": "y3"
        },
        {
         "line": {
          "color": "rgba(128, 128, 128, 1.0)",
          "dash": "solid",
          "shape": "linear",
          "width": 1.3
         },
         "marker": {
          "size": 2,
          "symbol": "circle"
         },
         "mode": "markers",
         "name": "A",
         "text": "",
         "type": "scatter",
         "x": [
          -1.0863777837663535,
          -0.29996912541113924,
          -1.0033918906949306,
          -0.16904453015905718,
          -0.6997307108068181,
          1.2166753258586926,
          0.3592750351441177,
          1.2439640623239372,
          -0.5618496390040558,
          -1.2347266503167018,
          -1.0552712560707131,
          -1.6850766070948187,
          -0.6322174310740899,
          0.6005045019381625,
          0.7229550803442617,
          -0.024235156635488617,
          -0.6918343580576019,
          -0.791691703099968,
          2.4503340684848522,
          0.2545274022655646,
          0.2192124818449236,
          -0.5010461901733768,
          1.0722191567638308,
          -1.4891428854973219,
          -0.40272294284264887,
          -0.9897698995672244,
          -0.4320325337676119,
          -1.8298092354603528,
          -2.06942937617893,
          -0.8981810286527873,
          0.14956635267176333,
          0.7954820701179105,
          -0.2787688466355066,
          0.3870529059565167,
          0.09185931611306569,
          -0.3228922884787916,
          0.7896583952791246,
          0.49859792990332374,
          -0.7145014322704618,
          0.63500400287327,
          0.9015625150957739,
          -0.0981321809807702,
          1.9641239372508428,
          0.23220510153104315,
          1.4919994261238152,
          -0.901776200402962,
          -0.0784636334330029,
          1.9101262244860717,
          -0.3416541667136561,
          0.5019694149092727,
          1.0486030416084549,
          0.878058019399183,
          -1.3888160678921024,
          -1.2101408885050597,
          -0.13409188298890998,
          -0.155497259277162,
          -0.500280755194522,
          0.7948341864672325,
          -1.2400630520819984,
          -2.0056745204948294,
          -0.4404789392126361,
          1.102868454526206,
          1.1652987918687758,
          0.6270884485984805,
          0.4183887743661323,
          0.12407913269838876,
          0.41651093420023944,
          0.5267557900844371,
          1.9927114934897463,
          1.0684934646033353,
          0.3348495159534268,
          -0.9777949504079178,
          0.9796192436433449,
          -1.1762528275911592,
          -1.1558232571416545,
          -0.3091827093439971,
          -0.5909544061913328,
          1.0210368247767818,
          1.1805951609276022,
          -1.652677794188509,
          -0.29831139799092427,
          1.111965485214708,
          1.0587590383444145,
          -1.5321538886410853,
          1.6453357895997287,
          -0.8473164859310449,
          -1.8726928400414544,
          1.7092111712887212,
          -0.1724347745604901,
          0.27939461399101706,
          0.47513405776655865,
          -0.0027110613277772175,
          0.026379235545402467,
          -0.5922158879543973,
          -1.21507200758291,
          -2.3239813281336756,
          -0.35363177445906324,
          -1.244601068564047,
          -0.16458822503728318,
          0.21553884961071865
         ],
         "xaxis": "x4",
         "y": [
          -1.5182312484157174,
          -1.8855809449535939,
          -0.4523999566779344,
          -1.4642136426254893,
          2.2647603195178005,
          -1.3018054396547205,
          -0.029061791830883667,
          0.8871982945603031,
          0.2934406917015035,
          0.9154055340600108,
          -0.14116188134276486,
          -1.9003199171357033,
          1.1838181801203118,
          0.8111627617490051,
          0.22330870247181372,
          -1.0132223346121167,
          -0.9779679282370044,
          1.4318006928470863,
          -1.3629859890131604,
          0.673446670553999,
          1.5867153375770855,
          -1.5399004346150476,
          -1.865473488055965,
          -0.8594891612122892,
          1.1915475103414341,
          0.8133725372943506,
          0.34588767757753586,
          -1.466301462684535,
          -0.5222764671340403,
          0.11424214172820549,
          0.7202559790470581,
          -0.8216762204642892,
          -1.5235117735388843,
          0.4449658587671851,
          -0.28389472917892,
          -0.5187365983226652,
          -2.5396698782544154,
          0.7682101714779624,
          -0.7640893081414858,
          -2.1846667526913115,
          -0.8838233306582968,
          1.1824643100001397,
          2.0135419886903456,
          0.23633133691438366,
          2.460449636587777,
          -0.09998240434511563,
          -0.2520663331708616,
          -0.41342562732627086,
          -0.11892089142298772,
          0.40066634277757,
          -0.16302394422898955,
          0.3816461194656427,
          0.2508089718649011,
          0.864448276036272,
          -0.29644374113607974,
          -0.29019419766441296,
          -0.6146093747802536,
          -0.15177365686399796,
          1.1305357737677744,
          -0.013108447416840134,
          -0.03580823648650258,
          -0.5314257537289394,
          -0.5845869337113184,
          0.4208993727161239,
          0.6949122542294657,
          0.4074729404524667,
          1.6652825948892558,
          -0.5724244791967754,
          0.13281301154771438,
          -1.5983325919599396,
          -0.07543176124032766,
          -0.1850161558714443,
          0.23856011125131968,
          1.005467095672781,
          0.598825135211652,
          -1.2015406416985572,
          -1.5874631203168648,
          0.084783354154374,
          -0.8904929614212536,
          -0.3876337552374118,
          -0.47793068657708176,
          1.1479159509948063,
          0.11344071928492235,
          0.6048349909436674,
          -0.51961803454422,
          -0.2834117815484936,
          0.39581139441488217,
          -0.2819496415598355,
          -0.8394372345719991,
          -1.11866078798659,
          -0.6706275135691139,
          -0.49288417665376777,
          0.9288010569813032,
          1.4229740856467177,
          -1.1054496840152666,
          0.1572306958944868,
          -1.843841565520202,
          0.029157345193459853,
          0.03137862400023864,
          -0.4067566604194543
         ],
         "yaxis": "y4"
        },
        {
         "line": {
          "color": "rgba(128, 128, 128, 1.0)",
          "dash": "solid",
          "shape": "linear",
          "width": 1.3
         },
         "marker": {
          "size": 2,
          "symbol": "circle"
         },
         "mode": "markers",
         "name": "B",
         "text": "",
         "type": "scatter",
         "x": [
          -1.5182312484157174,
          -1.8855809449535939,
          -0.4523999566779344,
          -1.4642136426254893,
          2.2647603195178005,
          -1.3018054396547205,
          -0.029061791830883667,
          0.8871982945603031,
          0.2934406917015035,
          0.9154055340600108,
          -0.14116188134276486,
          -1.9003199171357033,
          1.1838181801203118,
          0.8111627617490051,
          0.22330870247181372,
          -1.0132223346121167,
          -0.9779679282370044,
          1.4318006928470863,
          -1.3629859890131604,
          0.673446670553999,
          1.5867153375770855,
          -1.5399004346150476,
          -1.865473488055965,
          -0.8594891612122892,
          1.1915475103414341,
          0.8133725372943506,
          0.34588767757753586,
          -1.466301462684535,
          -0.5222764671340403,
          0.11424214172820549,
          0.7202559790470581,
          -0.8216762204642892,
          -1.5235117735388843,
          0.4449658587671851,
          -0.28389472917892,
          -0.5187365983226652,
          -2.5396698782544154,
          0.7682101714779624,
          -0.7640893081414858,
          -2.1846667526913115,
          -0.8838233306582968,
          1.1824643100001397,
          2.0135419886903456,
          0.23633133691438366,
          2.460449636587777,
          -0.09998240434511563,
          -0.2520663331708616,
          -0.41342562732627086,
          -0.11892089142298772,
          0.40066634277757,
          -0.16302394422898955,
          0.3816461194656427,
          0.2508089718649011,
          0.864448276036272,
          -0.29644374113607974,
          -0.29019419766441296,
          -0.6146093747802536,
          -0.15177365686399796,
          1.1305357737677744,
          -0.013108447416840134,
          -0.03580823648650258,
          -0.5314257537289394,
          -0.5845869337113184,
          0.4208993727161239,
          0.6949122542294657,
          0.4074729404524667,
          1.6652825948892558,
          -0.5724244791967754,
          0.13281301154771438,
          -1.5983325919599396,
          -0.07543176124032766,
          -0.1850161558714443,
          0.23856011125131968,
          1.005467095672781,
          0.598825135211652,
          -1.2015406416985572,
          -1.5874631203168648,
          0.084783354154374,
          -0.8904929614212536,
          -0.3876337552374118,
          -0.47793068657708176,
          1.1479159509948063,
          0.11344071928492235,
          0.6048349909436674,
          -0.51961803454422,
          -0.2834117815484936,
          0.39581139441488217,
          -0.2819496415598355,
          -0.8394372345719991,
          -1.11866078798659,
          -0.6706275135691139,
          -0.49288417665376777,
          0.9288010569813032,
          1.4229740856467177,
          -1.1054496840152666,
          0.1572306958944868,
          -1.843841565520202,
          0.029157345193459853,
          0.03137862400023864,
          -0.4067566604194543
         ],
         "xaxis": "x5",
         "y": [
          1.147941618370113,
          -0.8299547834209939,
          0.9392967082603535,
          0.1910828949513799,
          1.5972849247352257,
          0.8659917939077655,
          -0.13457817585495618,
          1.0568721214430303,
          -1.9432194581700155,
          -0.2252573369881137,
          0.5530281112929508,
          -1.682094007420528,
          -0.7306537821180152,
          -0.767034756466276,
          1.0331829305676778,
          1.6828796563285107,
          -0.17871339540400877,
          -1.2356517306371546,
          1.5011867799311671,
          0.18569494912186607,
          0.29212289017797743,
          0.40348548465449763,
          0.5919500797736406,
          -1.74852486584187,
          -0.42974151999969795,
          -1.1131918365818332,
          -0.8152201120976881,
          -0.2964325858724084,
          0.6077511547187224,
          -0.9165257154926654,
          0.3958799995247619,
          1.4410006016632992,
          1.5350723340486652,
          -0.09262332912415686,
          0.2014590693609223,
          0.8440484685013404,
          0.15714102621146692,
          0.9450587080045356,
          2.5131920548428583,
          0.20077049918278642,
          -0.9657860389622679,
          -1.3093859461627482,
          -1.079492333208607,
          0.32653099177279277,
          2.218622381666,
          -0.11600489478403345,
          -1.012487546164819,
          -0.27511305834525873,
          1.08792686959739,
          1.4107093195747469,
          2.7709067003980006,
          0.7114957684374198,
          0.7582234955235306,
          1.5237138816785598,
          0.4637455020324181,
          1.511251946270096,
          -1.4817818330023456,
          -0.0795121033782538,
          0.02471484309624979,
          1.2145310742566076,
          0.3384691147224194,
          0.27373464839690553,
          0.318522054869221,
          0.5007738810050617,
          -0.985497112982549,
          -0.4187103480544071,
          0.0857109549200209,
          0.16368992248085976,
          -1.7893931983703721,
          -2.165212530313429,
          0.6165444430162081,
          -0.8190106641498023,
          -0.8092974599713665,
          0.7469041389805514,
          1.5428577874797613,
          0.8951624487009909,
          -0.34607759857208276,
          -0.6238104910780421,
          0.7298093735352756,
          -0.5971256336788214,
          -0.47869016470384906,
          0.9109499865128807,
          -0.865502362403827,
          0.46502342002076474,
          0.1381558262863357,
          0.5483422894237492,
          -0.4409846129957712,
          -0.8536437656545046,
          -0.31599171721226166,
          -0.9516515101148915,
          1.7612935083376915,
          -1.1698940830411757,
          0.40865295564041104,
          2.0201324736619446,
          -1.0292302175830261,
          -0.7803205287206606,
          -0.4471136102773819,
          1.1370239802544457,
          0.5249875056862872,
          0.7382035281710799
         ],
         "yaxis": "y5"
        },
        {
         "histfunc": "count",
         "histnorm": "",
         "marker": {
          "color": "rgba(55, 128, 191, 1.0)",
          "line": {
           "color": "#4D5663",
           "width": 1.3
          }
         },
         "name": "B",
         "nbinsx": 10,
         "opacity": 0.8,
         "orientation": "v",
         "type": "histogram",
         "x": [
          1.147941618370113,
          -0.8299547834209939,
          0.9392967082603535,
          0.1910828949513799,
          1.5972849247352257,
          0.8659917939077655,
          -0.13457817585495618,
          1.0568721214430303,
          -1.9432194581700155,
          -0.2252573369881137,
          0.5530281112929508,
          -1.682094007420528,
          -0.7306537821180152,
          -0.767034756466276,
          1.0331829305676778,
          1.6828796563285107,
          -0.17871339540400877,
          -1.2356517306371546,
          1.5011867799311671,
          0.18569494912186607,
          0.29212289017797743,
          0.40348548465449763,
          0.5919500797736406,
          -1.74852486584187,
          -0.42974151999969795,
          -1.1131918365818332,
          -0.8152201120976881,
          -0.2964325858724084,
          0.6077511547187224,
          -0.9165257154926654,
          0.3958799995247619,
          1.4410006016632992,
          1.5350723340486652,
          -0.09262332912415686,
          0.2014590693609223,
          0.8440484685013404,
          0.15714102621146692,
          0.9450587080045356,
          2.5131920548428583,
          0.20077049918278642,
          -0.9657860389622679,
          -1.3093859461627482,
          -1.079492333208607,
          0.32653099177279277,
          2.218622381666,
          -0.11600489478403345,
          -1.012487546164819,
          -0.27511305834525873,
          1.08792686959739,
          1.4107093195747469,
          2.7709067003980006,
          0.7114957684374198,
          0.7582234955235306,
          1.5237138816785598,
          0.4637455020324181,
          1.511251946270096,
          -1.4817818330023456,
          -0.0795121033782538,
          0.02471484309624979,
          1.2145310742566076,
          0.3384691147224194,
          0.27373464839690553,
          0.318522054869221,
          0.5007738810050617,
          -0.985497112982549,
          -0.4187103480544071,
          0.0857109549200209,
          0.16368992248085976,
          -1.7893931983703721,
          -2.165212530313429,
          0.6165444430162081,
          -0.8190106641498023,
          -0.8092974599713665,
          0.7469041389805514,
          1.5428577874797613,
          0.8951624487009909,
          -0.34607759857208276,
          -0.6238104910780421,
          0.7298093735352756,
          -0.5971256336788214,
          -0.47869016470384906,
          0.9109499865128807,
          -0.865502362403827,
          0.46502342002076474,
          0.1381558262863357,
          0.5483422894237492,
          -0.4409846129957712,
          -0.8536437656545046,
          -0.31599171721226166,
          -0.9516515101148915,
          1.7612935083376915,
          -1.1698940830411757,
          0.40865295564041104,
          2.0201324736619446,
          -1.0292302175830261,
          -0.7803205287206606,
          -0.4471136102773819,
          1.1370239802544457,
          0.5249875056862872,
          0.7382035281710799
         ],
         "xaxis": "x6",
         "yaxis": "y6"
        },
        {
         "line": {
          "color": "rgba(128, 128, 128, 1.0)",
          "dash": "solid",
          "shape": "linear",
          "width": 1.3
         },
         "marker": {
          "size": 2,
          "symbol": "circle"
         },
         "mode": "markers",
         "name": "B",
         "text": "",
         "type": "scatter",
         "x": [
          -1.7058815433434216,
          1.225914822681663,
          1.7798196613020816,
          0.11282332528887537,
          0.5712778089739757,
          -1.3016317327188727,
          -1.923547834740313,
          1.1561824435069878,
          -0.9224755618225211,
          -1.0178805245092546,
          1.1827311368101672,
          -1.1073799275039704,
          2.072559345792646,
          -0.06075975357886392,
          0.7044013798121919,
          0.014653263589448915,
          -0.17252163969784023,
          -0.5502741880414889,
          -0.7932245180204803,
          -0.43981801927343,
          0.3048077203919516,
          -0.45234223086596365,
          -1.8659658385363225,
          -1.0482824887866375,
          0.2282252007550022,
          1.0145146772436389,
          -0.8348297533978478,
          1.2901976716029104,
          1.549030911361821,
          -0.03333938704835523,
          2.607255908256383,
          0.19508653891686753,
          0.8560735737813755,
          -0.4664850344738756,
          0.47709938730138796,
          -0.030905356807458418,
          1.1579924771178767,
          -0.41042393514430625,
          -1.0028116151137298,
          -1.9520474045703116,
          0.30737972501259536,
          0.48281845303711146,
          1.511109859528105,
          -1.4941640878890123,
          -0.6344177234636945,
          0.8225599133704616,
          0.30997927856881896,
          -0.8388514035792496,
          -1.0303306421350633,
          1.5671753591755322,
          -0.21443896495268291,
          1.3990772123801511,
          -1.2052059077450616,
          0.06237629637033132,
          -0.5356071861319636,
          0.3764026902175658,
          -0.4605159189766581,
          -0.8814044977909182,
          -0.44869188504406854,
          0.6011005607210554,
          1.0945337834210023,
          0.08959088515086673,
          -0.09226180065129733,
          -0.2243862766479926,
          1.0290895837267773,
          0.7455846304963477,
          1.0262381089630686,
          -0.16280711266567613,
          0.5389670838765183,
          -2.5176185901296413,
          0.3240749283773082,
          -0.40803183739765314,
          -1.9004155709791288,
          1.7457811675568045,
          -3.187035143075339,
          0.21508664267208147,
          1.0086357440774296,
          0.8324213563362232,
          1.0801611273991403,
          -1.3014141587796624,
          0.4443865617144143,
          1.0375150372378812,
          -0.48483684952258127,
          -0.5226022856257523,
          0.5896965751372168,
          -1.3411231039321236,
          0.5837280054519673,
          -1.1534475698524378,
          -0.11207649408557195,
          0.790232010513971,
          -0.048825972635803724,
          -0.6382120495958978,
          -0.5114290862873814,
          -0.3720903195225852,
          -0.8038858383154226,
          0.04576400663093547,
          0.11488973806462226,
          1.1857106739451848,
          -0.23010183930485423,
          0.3904403881926993
         ],
         "xaxis": "x7",
         "y": [
          1.147941618370113,
          -0.8299547834209939,
          0.9392967082603535,
          0.1910828949513799,
          1.5972849247352257,
          0.8659917939077655,
          -0.13457817585495618,
          1.0568721214430303,
          -1.9432194581700155,
          -0.2252573369881137,
          0.5530281112929508,
          -1.682094007420528,
          -0.7306537821180152,
          -0.767034756466276,
          1.0331829305676778,
          1.6828796563285107,
          -0.17871339540400877,
          -1.2356517306371546,
          1.5011867799311671,
          0.18569494912186607,
          0.29212289017797743,
          0.40348548465449763,
          0.5919500797736406,
          -1.74852486584187,
          -0.42974151999969795,
          -1.1131918365818332,
          -0.8152201120976881,
          -0.2964325858724084,
          0.6077511547187224,
          -0.9165257154926654,
          0.3958799995247619,
          1.4410006016632992,
          1.5350723340486652,
          -0.09262332912415686,
          0.2014590693609223,
          0.8440484685013404,
          0.15714102621146692,
          0.9450587080045356,
          2.5131920548428583,
          0.20077049918278642,
          -0.9657860389622679,
          -1.3093859461627482,
          -1.079492333208607,
          0.32653099177279277,
          2.218622381666,
          -0.11600489478403345,
          -1.012487546164819,
          -0.27511305834525873,
          1.08792686959739,
          1.4107093195747469,
          2.7709067003980006,
          0.7114957684374198,
          0.7582234955235306,
          1.5237138816785598,
          0.4637455020324181,
          1.511251946270096,
          -1.4817818330023456,
          -0.0795121033782538,
          0.02471484309624979,
          1.2145310742566076,
          0.3384691147224194,
          0.27373464839690553,
          0.318522054869221,
          0.5007738810050617,
          -0.985497112982549,
          -0.4187103480544071,
          0.0857109549200209,
          0.16368992248085976,
          -1.7893931983703721,
          -2.165212530313429,
          0.6165444430162081,
          -0.8190106641498023,
          -0.8092974599713665,
          0.7469041389805514,
          1.5428577874797613,
          0.8951624487009909,
          -0.34607759857208276,
          -0.6238104910780421,
          0.7298093735352756,
          -0.5971256336788214,
          -0.47869016470384906,
          0.9109499865128807,
          -0.865502362403827,
          0.46502342002076474,
          0.1381558262863357,
          0.5483422894237492,
          -0.4409846129957712,
          -0.8536437656545046,
          -0.31599171721226166,
          -0.9516515101148915,
          1.7612935083376915,
          -1.1698940830411757,
          0.40865295564041104,
          2.0201324736619446,
          -1.0292302175830261,
          -0.7803205287206606,
          -0.4471136102773819,
          1.1370239802544457,
          0.5249875056862872,
          0.7382035281710799
         ],
         "yaxis": "y7"
        },
        {
         "line": {
          "color": "rgba(128, 128, 128, 1.0)",
          "dash": "solid",
          "shape": "linear",
          "width": 1.3
         },
         "marker": {
          "size": 2,
          "symbol": "circle"
         },
         "mode": "markers",
         "name": "B",
         "text": "",
         "type": "scatter",
         "x": [
          -1.0863777837663535,
          -0.29996912541113924,
          -1.0033918906949306,
          -0.16904453015905718,
          -0.6997307108068181,
          1.2166753258586926,
          0.3592750351441177,
          1.2439640623239372,
          -0.5618496390040558,
          -1.2347266503167018,
          -1.0552712560707131,
          -1.6850766070948187,
          -0.6322174310740899,
          0.6005045019381625,
          0.7229550803442617,
          -0.024235156635488617,
          -0.6918343580576019,
          -0.791691703099968,
          2.4503340684848522,
          0.2545274022655646,
          0.2192124818449236,
          -0.5010461901733768,
          1.0722191567638308,
          -1.4891428854973219,
          -0.40272294284264887,
          -0.9897698995672244,
          -0.4320325337676119,
          -1.8298092354603528,
          -2.06942937617893,
          -0.8981810286527873,
          0.14956635267176333,
          0.7954820701179105,
          -0.2787688466355066,
          0.3870529059565167,
          0.09185931611306569,
          -0.3228922884787916,
          0.7896583952791246,
          0.49859792990332374,
          -0.7145014322704618,
          0.63500400287327,
          0.9015625150957739,
          -0.0981321809807702,
          1.9641239372508428,
          0.23220510153104315,
          1.4919994261238152,
          -0.901776200402962,
          -0.0784636334330029,
          1.9101262244860717,
          -0.3416541667136561,
          0.5019694149092727,
          1.0486030416084549,
          0.878058019399183,
          -1.3888160678921024,
          -1.2101408885050597,
          -0.13409188298890998,
          -0.155497259277162,
          -0.500280755194522,
          0.7948341864672325,
          -1.2400630520819984,
          -2.0056745204948294,
          -0.4404789392126361,
          1.102868454526206,
          1.1652987918687758,
          0.6270884485984805,
          0.4183887743661323,
          0.12407913269838876,
          0.41651093420023944,
          0.5267557900844371,
          1.9927114934897463,
          1.0684934646033353,
          0.3348495159534268,
          -0.9777949504079178,
          0.9796192436433449,
          -1.1762528275911592,
          -1.1558232571416545,
          -0.3091827093439971,
          -0.5909544061913328,
          1.0210368247767818,
          1.1805951609276022,
          -1.652677794188509,
          -0.29831139799092427,
          1.111965485214708,
          1.0587590383444145,
          -1.5321538886410853,
          1.6453357895997287,
          -0.8473164859310449,
          -1.8726928400414544,
          1.7092111712887212,
          -0.1724347745604901,
          0.27939461399101706,
          0.47513405776655865,
          -0.0027110613277772175,
          0.026379235545402467,
          -0.5922158879543973,
          -1.21507200758291,
          -2.3239813281336756,
          -0.35363177445906324,
          -1.244601068564047,
          -0.16458822503728318,
          0.21553884961071865
         ],
         "xaxis": "x8",
         "y": [
          1.147941618370113,
          -0.8299547834209939,
          0.9392967082603535,
          0.1910828949513799,
          1.5972849247352257,
          0.8659917939077655,
          -0.13457817585495618,
          1.0568721214430303,
          -1.9432194581700155,
          -0.2252573369881137,
          0.5530281112929508,
          -1.682094007420528,
          -0.7306537821180152,
          -0.767034756466276,
          1.0331829305676778,
          1.6828796563285107,
          -0.17871339540400877,
          -1.2356517306371546,
          1.5011867799311671,
          0.18569494912186607,
          0.29212289017797743,
          0.40348548465449763,
          0.5919500797736406,
          -1.74852486584187,
          -0.42974151999969795,
          -1.1131918365818332,
          -0.8152201120976881,
          -0.2964325858724084,
          0.6077511547187224,
          -0.9165257154926654,
          0.3958799995247619,
          1.4410006016632992,
          1.5350723340486652,
          -0.09262332912415686,
          0.2014590693609223,
          0.8440484685013404,
          0.15714102621146692,
          0.9450587080045356,
          2.5131920548428583,
          0.20077049918278642,
          -0.9657860389622679,
          -1.3093859461627482,
          -1.079492333208607,
          0.32653099177279277,
          2.218622381666,
          -0.11600489478403345,
          -1.012487546164819,
          -0.27511305834525873,
          1.08792686959739,
          1.4107093195747469,
          2.7709067003980006,
          0.7114957684374198,
          0.7582234955235306,
          1.5237138816785598,
          0.4637455020324181,
          1.511251946270096,
          -1.4817818330023456,
          -0.0795121033782538,
          0.02471484309624979,
          1.2145310742566076,
          0.3384691147224194,
          0.27373464839690553,
          0.318522054869221,
          0.5007738810050617,
          -0.985497112982549,
          -0.4187103480544071,
          0.0857109549200209,
          0.16368992248085976,
          -1.7893931983703721,
          -2.165212530313429,
          0.6165444430162081,
          -0.8190106641498023,
          -0.8092974599713665,
          0.7469041389805514,
          1.5428577874797613,
          0.8951624487009909,
          -0.34607759857208276,
          -0.6238104910780421,
          0.7298093735352756,
          -0.5971256336788214,
          -0.47869016470384906,
          0.9109499865128807,
          -0.865502362403827,
          0.46502342002076474,
          0.1381558262863357,
          0.5483422894237492,
          -0.4409846129957712,
          -0.8536437656545046,
          -0.31599171721226166,
          -0.9516515101148915,
          1.7612935083376915,
          -1.1698940830411757,
          0.40865295564041104,
          2.0201324736619446,
          -1.0292302175830261,
          -0.7803205287206606,
          -0.4471136102773819,
          1.1370239802544457,
          0.5249875056862872,
          0.7382035281710799
         ],
         "yaxis": "y8"
        },
        {
         "line": {
          "color": "rgba(128, 128, 128, 1.0)",
          "dash": "solid",
          "shape": "linear",
          "width": 1.3
         },
         "marker": {
          "size": 2,
          "symbol": "circle"
         },
         "mode": "markers",
         "name": "C",
         "text": "",
         "type": "scatter",
         "x": [
          -1.5182312484157174,
          -1.8855809449535939,
          -0.4523999566779344,
          -1.4642136426254893,
          2.2647603195178005,
          -1.3018054396547205,
          -0.029061791830883667,
          0.8871982945603031,
          0.2934406917015035,
          0.9154055340600108,
          -0.14116188134276486,
          -1.9003199171357033,
          1.1838181801203118,
          0.8111627617490051,
          0.22330870247181372,
          -1.0132223346121167,
          -0.9779679282370044,
          1.4318006928470863,
          -1.3629859890131604,
          0.673446670553999,
          1.5867153375770855,
          -1.5399004346150476,
          -1.865473488055965,
          -0.8594891612122892,
          1.1915475103414341,
          0.8133725372943506,
          0.34588767757753586,
          -1.466301462684535,
          -0.5222764671340403,
          0.11424214172820549,
          0.7202559790470581,
          -0.8216762204642892,
          -1.5235117735388843,
          0.4449658587671851,
          -0.28389472917892,
          -0.5187365983226652,
          -2.5396698782544154,
          0.7682101714779624,
          -0.7640893081414858,
          -2.1846667526913115,
          -0.8838233306582968,
          1.1824643100001397,
          2.0135419886903456,
          0.23633133691438366,
          2.460449636587777,
          -0.09998240434511563,
          -0.2520663331708616,
          -0.41342562732627086,
          -0.11892089142298772,
          0.40066634277757,
          -0.16302394422898955,
          0.3816461194656427,
          0.2508089718649011,
          0.864448276036272,
          -0.29644374113607974,
          -0.29019419766441296,
          -0.6146093747802536,
          -0.15177365686399796,
          1.1305357737677744,
          -0.013108447416840134,
          -0.03580823648650258,
          -0.5314257537289394,
          -0.5845869337113184,
          0.4208993727161239,
          0.6949122542294657,
          0.4074729404524667,
          1.6652825948892558,
          -0.5724244791967754,
          0.13281301154771438,
          -1.5983325919599396,
          -0.07543176124032766,
          -0.1850161558714443,
          0.23856011125131968,
          1.005467095672781,
          0.598825135211652,
          -1.2015406416985572,
          -1.5874631203168648,
          0.084783354154374,
          -0.8904929614212536,
          -0.3876337552374118,
          -0.47793068657708176,
          1.1479159509948063,
          0.11344071928492235,
          0.6048349909436674,
          -0.51961803454422,
          -0.2834117815484936,
          0.39581139441488217,
          -0.2819496415598355,
          -0.8394372345719991,
          -1.11866078798659,
          -0.6706275135691139,
          -0.49288417665376777,
          0.9288010569813032,
          1.4229740856467177,
          -1.1054496840152666,
          0.1572306958944868,
          -1.843841565520202,
          0.029157345193459853,
          0.03137862400023864,
          -0.4067566604194543
         ],
         "xaxis": "x9",
         "y": [
          -1.7058815433434216,
          1.225914822681663,
          1.7798196613020816,
          0.11282332528887537,
          0.5712778089739757,
          -1.3016317327188727,
          -1.923547834740313,
          1.1561824435069878,
          -0.9224755618225211,
          -1.0178805245092546,
          1.1827311368101672,
          -1.1073799275039704,
          2.072559345792646,
          -0.06075975357886392,
          0.7044013798121919,
          0.014653263589448915,
          -0.17252163969784023,
          -0.5502741880414889,
          -0.7932245180204803,
          -0.43981801927343,
          0.3048077203919516,
          -0.45234223086596365,
          -1.8659658385363225,
          -1.0482824887866375,
          0.2282252007550022,
          1.0145146772436389,
          -0.8348297533978478,
          1.2901976716029104,
          1.549030911361821,
          -0.03333938704835523,
          2.607255908256383,
          0.19508653891686753,
          0.8560735737813755,
          -0.4664850344738756,
          0.47709938730138796,
          -0.030905356807458418,
          1.1579924771178767,
          -0.41042393514430625,
          -1.0028116151137298,
          -1.9520474045703116,
          0.30737972501259536,
          0.48281845303711146,
          1.511109859528105,
          -1.4941640878890123,
          -0.6344177234636945,
          0.8225599133704616,
          0.30997927856881896,
          -0.8388514035792496,
          -1.0303306421350633,
          1.5671753591755322,
          -0.21443896495268291,
          1.3990772123801511,
          -1.2052059077450616,
          0.06237629637033132,
          -0.5356071861319636,
          0.3764026902175658,
          -0.4605159189766581,
          -0.8814044977909182,
          -0.44869188504406854,
          0.6011005607210554,
          1.0945337834210023,
          0.08959088515086673,
          -0.09226180065129733,
          -0.2243862766479926,
          1.0290895837267773,
          0.7455846304963477,
          1.0262381089630686,
          -0.16280711266567613,
          0.5389670838765183,
          -2.5176185901296413,
          0.3240749283773082,
          -0.40803183739765314,
          -1.9004155709791288,
          1.7457811675568045,
          -3.187035143075339,
          0.21508664267208147,
          1.0086357440774296,
          0.8324213563362232,
          1.0801611273991403,
          -1.3014141587796624,
          0.4443865617144143,
          1.0375150372378812,
          -0.48483684952258127,
          -0.5226022856257523,
          0.5896965751372168,
          -1.3411231039321236,
          0.5837280054519673,
          -1.1534475698524378,
          -0.11207649408557195,
          0.790232010513971,
          -0.048825972635803724,
          -0.6382120495958978,
          -0.5114290862873814,
          -0.3720903195225852,
          -0.8038858383154226,
          0.04576400663093547,
          0.11488973806462226,
          1.1857106739451848,
          -0.23010183930485423,
          0.3904403881926993
         ],
         "yaxis": "y9"
        },
        {
         "line": {
          "color": "rgba(128, 128, 128, 1.0)",
          "dash": "solid",
          "shape": "linear",
          "width": 1.3
         },
         "marker": {
          "size": 2,
          "symbol": "circle"
         },
         "mode": "markers",
         "name": "C",
         "text": "",
         "type": "scatter",
         "x": [
          1.147941618370113,
          -0.8299547834209939,
          0.9392967082603535,
          0.1910828949513799,
          1.5972849247352257,
          0.8659917939077655,
          -0.13457817585495618,
          1.0568721214430303,
          -1.9432194581700155,
          -0.2252573369881137,
          0.5530281112929508,
          -1.682094007420528,
          -0.7306537821180152,
          -0.767034756466276,
          1.0331829305676778,
          1.6828796563285107,
          -0.17871339540400877,
          -1.2356517306371546,
          1.5011867799311671,
          0.18569494912186607,
          0.29212289017797743,
          0.40348548465449763,
          0.5919500797736406,
          -1.74852486584187,
          -0.42974151999969795,
          -1.1131918365818332,
          -0.8152201120976881,
          -0.2964325858724084,
          0.6077511547187224,
          -0.9165257154926654,
          0.3958799995247619,
          1.4410006016632992,
          1.5350723340486652,
          -0.09262332912415686,
          0.2014590693609223,
          0.8440484685013404,
          0.15714102621146692,
          0.9450587080045356,
          2.5131920548428583,
          0.20077049918278642,
          -0.9657860389622679,
          -1.3093859461627482,
          -1.079492333208607,
          0.32653099177279277,
          2.218622381666,
          -0.11600489478403345,
          -1.012487546164819,
          -0.27511305834525873,
          1.08792686959739,
          1.4107093195747469,
          2.7709067003980006,
          0.7114957684374198,
          0.7582234955235306,
          1.5237138816785598,
          0.4637455020324181,
          1.511251946270096,
          -1.4817818330023456,
          -0.0795121033782538,
          0.02471484309624979,
          1.2145310742566076,
          0.3384691147224194,
          0.27373464839690553,
          0.318522054869221,
          0.5007738810050617,
          -0.985497112982549,
          -0.4187103480544071,
          0.0857109549200209,
          0.16368992248085976,
          -1.7893931983703721,
          -2.165212530313429,
          0.6165444430162081,
          -0.8190106641498023,
          -0.8092974599713665,
          0.7469041389805514,
          1.5428577874797613,
          0.8951624487009909,
          -0.34607759857208276,
          -0.6238104910780421,
          0.7298093735352756,
          -0.5971256336788214,
          -0.47869016470384906,
          0.9109499865128807,
          -0.865502362403827,
          0.46502342002076474,
          0.1381558262863357,
          0.5483422894237492,
          -0.4409846129957712,
          -0.8536437656545046,
          -0.31599171721226166,
          -0.9516515101148915,
          1.7612935083376915,
          -1.1698940830411757,
          0.40865295564041104,
          2.0201324736619446,
          -1.0292302175830261,
          -0.7803205287206606,
          -0.4471136102773819,
          1.1370239802544457,
          0.5249875056862872,
          0.7382035281710799
         ],
         "xaxis": "x10",
         "y": [
          -1.7058815433434216,
          1.225914822681663,
          1.7798196613020816,
          0.11282332528887537,
          0.5712778089739757,
          -1.3016317327188727,
          -1.923547834740313,
          1.1561824435069878,
          -0.9224755618225211,
          -1.0178805245092546,
          1.1827311368101672,
          -1.1073799275039704,
          2.072559345792646,
          -0.06075975357886392,
          0.7044013798121919,
          0.014653263589448915,
          -0.17252163969784023,
          -0.5502741880414889,
          -0.7932245180204803,
          -0.43981801927343,
          0.3048077203919516,
          -0.45234223086596365,
          -1.8659658385363225,
          -1.0482824887866375,
          0.2282252007550022,
          1.0145146772436389,
          -0.8348297533978478,
          1.2901976716029104,
          1.549030911361821,
          -0.03333938704835523,
          2.607255908256383,
          0.19508653891686753,
          0.8560735737813755,
          -0.4664850344738756,
          0.47709938730138796,
          -0.030905356807458418,
          1.1579924771178767,
          -0.41042393514430625,
          -1.0028116151137298,
          -1.9520474045703116,
          0.30737972501259536,
          0.48281845303711146,
          1.511109859528105,
          -1.4941640878890123,
          -0.6344177234636945,
          0.8225599133704616,
          0.30997927856881896,
          -0.8388514035792496,
          -1.0303306421350633,
          1.5671753591755322,
          -0.21443896495268291,
          1.3990772123801511,
          -1.2052059077450616,
          0.06237629637033132,
          -0.5356071861319636,
          0.3764026902175658,
          -0.4605159189766581,
          -0.8814044977909182,
          -0.44869188504406854,
          0.6011005607210554,
          1.0945337834210023,
          0.08959088515086673,
          -0.09226180065129733,
          -0.2243862766479926,
          1.0290895837267773,
          0.7455846304963477,
          1.0262381089630686,
          -0.16280711266567613,
          0.5389670838765183,
          -2.5176185901296413,
          0.3240749283773082,
          -0.40803183739765314,
          -1.9004155709791288,
          1.7457811675568045,
          -3.187035143075339,
          0.21508664267208147,
          1.0086357440774296,
          0.8324213563362232,
          1.0801611273991403,
          -1.3014141587796624,
          0.4443865617144143,
          1.0375150372378812,
          -0.48483684952258127,
          -0.5226022856257523,
          0.5896965751372168,
          -1.3411231039321236,
          0.5837280054519673,
          -1.1534475698524378,
          -0.11207649408557195,
          0.790232010513971,
          -0.048825972635803724,
          -0.6382120495958978,
          -0.5114290862873814,
          -0.3720903195225852,
          -0.8038858383154226,
          0.04576400663093547,
          0.11488973806462226,
          1.1857106739451848,
          -0.23010183930485423,
          0.3904403881926993
         ],
         "yaxis": "y10"
        },
        {
         "histfunc": "count",
         "histnorm": "",
         "marker": {
          "color": "rgba(50, 171, 96, 1.0)",
          "line": {
           "color": "#4D5663",
           "width": 1.3
          }
         },
         "name": "C",
         "nbinsx": 10,
         "opacity": 0.8,
         "orientation": "v",
         "type": "histogram",
         "x": [
          -1.7058815433434216,
          1.225914822681663,
          1.7798196613020816,
          0.11282332528887537,
          0.5712778089739757,
          -1.3016317327188727,
          -1.923547834740313,
          1.1561824435069878,
          -0.9224755618225211,
          -1.0178805245092546,
          1.1827311368101672,
          -1.1073799275039704,
          2.072559345792646,
          -0.06075975357886392,
          0.7044013798121919,
          0.014653263589448915,
          -0.17252163969784023,
          -0.5502741880414889,
          -0.7932245180204803,
          -0.43981801927343,
          0.3048077203919516,
          -0.45234223086596365,
          -1.8659658385363225,
          -1.0482824887866375,
          0.2282252007550022,
          1.0145146772436389,
          -0.8348297533978478,
          1.2901976716029104,
          1.549030911361821,
          -0.03333938704835523,
          2.607255908256383,
          0.19508653891686753,
          0.8560735737813755,
          -0.4664850344738756,
          0.47709938730138796,
          -0.030905356807458418,
          1.1579924771178767,
          -0.41042393514430625,
          -1.0028116151137298,
          -1.9520474045703116,
          0.30737972501259536,
          0.48281845303711146,
          1.511109859528105,
          -1.4941640878890123,
          -0.6344177234636945,
          0.8225599133704616,
          0.30997927856881896,
          -0.8388514035792496,
          -1.0303306421350633,
          1.5671753591755322,
          -0.21443896495268291,
          1.3990772123801511,
          -1.2052059077450616,
          0.06237629637033132,
          -0.5356071861319636,
          0.3764026902175658,
          -0.4605159189766581,
          -0.8814044977909182,
          -0.44869188504406854,
          0.6011005607210554,
          1.0945337834210023,
          0.08959088515086673,
          -0.09226180065129733,
          -0.2243862766479926,
          1.0290895837267773,
          0.7455846304963477,
          1.0262381089630686,
          -0.16280711266567613,
          0.5389670838765183,
          -2.5176185901296413,
          0.3240749283773082,
          -0.40803183739765314,
          -1.9004155709791288,
          1.7457811675568045,
          -3.187035143075339,
          0.21508664267208147,
          1.0086357440774296,
          0.8324213563362232,
          1.0801611273991403,
          -1.3014141587796624,
          0.4443865617144143,
          1.0375150372378812,
          -0.48483684952258127,
          -0.5226022856257523,
          0.5896965751372168,
          -1.3411231039321236,
          0.5837280054519673,
          -1.1534475698524378,
          -0.11207649408557195,
          0.790232010513971,
          -0.048825972635803724,
          -0.6382120495958978,
          -0.5114290862873814,
          -0.3720903195225852,
          -0.8038858383154226,
          0.04576400663093547,
          0.11488973806462226,
          1.1857106739451848,
          -0.23010183930485423,
          0.3904403881926993
         ],
         "xaxis": "x11",
         "yaxis": "y11"
        },
        {
         "line": {
          "color": "rgba(128, 128, 128, 1.0)",
          "dash": "solid",
          "shape": "linear",
          "width": 1.3
         },
         "marker": {
          "size": 2,
          "symbol": "circle"
         },
         "mode": "markers",
         "name": "C",
         "text": "",
         "type": "scatter",
         "x": [
          -1.0863777837663535,
          -0.29996912541113924,
          -1.0033918906949306,
          -0.16904453015905718,
          -0.6997307108068181,
          1.2166753258586926,
          0.3592750351441177,
          1.2439640623239372,
          -0.5618496390040558,
          -1.2347266503167018,
          -1.0552712560707131,
          -1.6850766070948187,
          -0.6322174310740899,
          0.6005045019381625,
          0.7229550803442617,
          -0.024235156635488617,
          -0.6918343580576019,
          -0.791691703099968,
          2.4503340684848522,
          0.2545274022655646,
          0.2192124818449236,
          -0.5010461901733768,
          1.0722191567638308,
          -1.4891428854973219,
          -0.40272294284264887,
          -0.9897698995672244,
          -0.4320325337676119,
          -1.8298092354603528,
          -2.06942937617893,
          -0.8981810286527873,
          0.14956635267176333,
          0.7954820701179105,
          -0.2787688466355066,
          0.3870529059565167,
          0.09185931611306569,
          -0.3228922884787916,
          0.7896583952791246,
          0.49859792990332374,
          -0.7145014322704618,
          0.63500400287327,
          0.9015625150957739,
          -0.0981321809807702,
          1.9641239372508428,
          0.23220510153104315,
          1.4919994261238152,
          -0.901776200402962,
          -0.0784636334330029,
          1.9101262244860717,
          -0.3416541667136561,
          0.5019694149092727,
          1.0486030416084549,
          0.878058019399183,
          -1.3888160678921024,
          -1.2101408885050597,
          -0.13409188298890998,
          -0.155497259277162,
          -0.500280755194522,
          0.7948341864672325,
          -1.2400630520819984,
          -2.0056745204948294,
          -0.4404789392126361,
          1.102868454526206,
          1.1652987918687758,
          0.6270884485984805,
          0.4183887743661323,
          0.12407913269838876,
          0.41651093420023944,
          0.5267557900844371,
          1.9927114934897463,
          1.0684934646033353,
          0.3348495159534268,
          -0.9777949504079178,
          0.9796192436433449,
          -1.1762528275911592,
          -1.1558232571416545,
          -0.3091827093439971,
          -0.5909544061913328,
          1.0210368247767818,
          1.1805951609276022,
          -1.652677794188509,
          -0.29831139799092427,
          1.111965485214708,
          1.0587590383444145,
          -1.5321538886410853,
          1.6453357895997287,
          -0.8473164859310449,
          -1.8726928400414544,
          1.7092111712887212,
          -0.1724347745604901,
          0.27939461399101706,
          0.47513405776655865,
          -0.0027110613277772175,
          0.026379235545402467,
          -0.5922158879543973,
          -1.21507200758291,
          -2.3239813281336756,
          -0.35363177445906324,
          -1.244601068564047,
          -0.16458822503728318,
          0.21553884961071865
         ],
         "xaxis": "x12",
         "y": [
          -1.7058815433434216,
          1.225914822681663,
          1.7798196613020816,
          0.11282332528887537,
          0.5712778089739757,
          -1.3016317327188727,
          -1.923547834740313,
          1.1561824435069878,
          -0.9224755618225211,
          -1.0178805245092546,
          1.1827311368101672,
          -1.1073799275039704,
          2.072559345792646,
          -0.06075975357886392,
          0.7044013798121919,
          0.014653263589448915,
          -0.17252163969784023,
          -0.5502741880414889,
          -0.7932245180204803,
          -0.43981801927343,
          0.3048077203919516,
          -0.45234223086596365,
          -1.8659658385363225,
          -1.0482824887866375,
          0.2282252007550022,
          1.0145146772436389,
          -0.8348297533978478,
          1.2901976716029104,
          1.549030911361821,
          -0.03333938704835523,
          2.607255908256383,
          0.19508653891686753,
          0.8560735737813755,
          -0.4664850344738756,
          0.47709938730138796,
          -0.030905356807458418,
          1.1579924771178767,
          -0.41042393514430625,
          -1.0028116151137298,
          -1.9520474045703116,
          0.30737972501259536,
          0.48281845303711146,
          1.511109859528105,
          -1.4941640878890123,
          -0.6344177234636945,
          0.8225599133704616,
          0.30997927856881896,
          -0.8388514035792496,
          -1.0303306421350633,
          1.5671753591755322,
          -0.21443896495268291,
          1.3990772123801511,
          -1.2052059077450616,
          0.06237629637033132,
          -0.5356071861319636,
          0.3764026902175658,
          -0.4605159189766581,
          -0.8814044977909182,
          -0.44869188504406854,
          0.6011005607210554,
          1.0945337834210023,
          0.08959088515086673,
          -0.09226180065129733,
          -0.2243862766479926,
          1.0290895837267773,
          0.7455846304963477,
          1.0262381089630686,
          -0.16280711266567613,
          0.5389670838765183,
          -2.5176185901296413,
          0.3240749283773082,
          -0.40803183739765314,
          -1.9004155709791288,
          1.7457811675568045,
          -3.187035143075339,
          0.21508664267208147,
          1.0086357440774296,
          0.8324213563362232,
          1.0801611273991403,
          -1.3014141587796624,
          0.4443865617144143,
          1.0375150372378812,
          -0.48483684952258127,
          -0.5226022856257523,
          0.5896965751372168,
          -1.3411231039321236,
          0.5837280054519673,
          -1.1534475698524378,
          -0.11207649408557195,
          0.790232010513971,
          -0.048825972635803724,
          -0.6382120495958978,
          -0.5114290862873814,
          -0.3720903195225852,
          -0.8038858383154226,
          0.04576400663093547,
          0.11488973806462226,
          1.1857106739451848,
          -0.23010183930485423,
          0.3904403881926993
         ],
         "yaxis": "y12"
        },
        {
         "line": {
          "color": "rgba(128, 128, 128, 1.0)",
          "dash": "solid",
          "shape": "linear",
          "width": 1.3
         },
         "marker": {
          "size": 2,
          "symbol": "circle"
         },
         "mode": "markers",
         "name": "D",
         "text": "",
         "type": "scatter",
         "x": [
          -1.5182312484157174,
          -1.8855809449535939,
          -0.4523999566779344,
          -1.4642136426254893,
          2.2647603195178005,
          -1.3018054396547205,
          -0.029061791830883667,
          0.8871982945603031,
          0.2934406917015035,
          0.9154055340600108,
          -0.14116188134276486,
          -1.9003199171357033,
          1.1838181801203118,
          0.8111627617490051,
          0.22330870247181372,
          -1.0132223346121167,
          -0.9779679282370044,
          1.4318006928470863,
          -1.3629859890131604,
          0.673446670553999,
          1.5867153375770855,
          -1.5399004346150476,
          -1.865473488055965,
          -0.8594891612122892,
          1.1915475103414341,
          0.8133725372943506,
          0.34588767757753586,
          -1.466301462684535,
          -0.5222764671340403,
          0.11424214172820549,
          0.7202559790470581,
          -0.8216762204642892,
          -1.5235117735388843,
          0.4449658587671851,
          -0.28389472917892,
          -0.5187365983226652,
          -2.5396698782544154,
          0.7682101714779624,
          -0.7640893081414858,
          -2.1846667526913115,
          -0.8838233306582968,
          1.1824643100001397,
          2.0135419886903456,
          0.23633133691438366,
          2.460449636587777,
          -0.09998240434511563,
          -0.2520663331708616,
          -0.41342562732627086,
          -0.11892089142298772,
          0.40066634277757,
          -0.16302394422898955,
          0.3816461194656427,
          0.2508089718649011,
          0.864448276036272,
          -0.29644374113607974,
          -0.29019419766441296,
          -0.6146093747802536,
          -0.15177365686399796,
          1.1305357737677744,
          -0.013108447416840134,
          -0.03580823648650258,
          -0.5314257537289394,
          -0.5845869337113184,
          0.4208993727161239,
          0.6949122542294657,
          0.4074729404524667,
          1.6652825948892558,
          -0.5724244791967754,
          0.13281301154771438,
          -1.5983325919599396,
          -0.07543176124032766,
          -0.1850161558714443,
          0.23856011125131968,
          1.005467095672781,
          0.598825135211652,
          -1.2015406416985572,
          -1.5874631203168648,
          0.084783354154374,
          -0.8904929614212536,
          -0.3876337552374118,
          -0.47793068657708176,
          1.1479159509948063,
          0.11344071928492235,
          0.6048349909436674,
          -0.51961803454422,
          -0.2834117815484936,
          0.39581139441488217,
          -0.2819496415598355,
          -0.8394372345719991,
          -1.11866078798659,
          -0.6706275135691139,
          -0.49288417665376777,
          0.9288010569813032,
          1.4229740856467177,
          -1.1054496840152666,
          0.1572306958944868,
          -1.843841565520202,
          0.029157345193459853,
          0.03137862400023864,
          -0.4067566604194543
         ],
         "xaxis": "x13",
         "y": [
          -1.0863777837663535,
          -0.29996912541113924,
          -1.0033918906949306,
          -0.16904453015905718,
          -0.6997307108068181,
          1.2166753258586926,
          0.3592750351441177,
          1.2439640623239372,
          -0.5618496390040558,
          -1.2347266503167018,
          -1.0552712560707131,
          -1.6850766070948187,
          -0.6322174310740899,
          0.6005045019381625,
          0.7229550803442617,
          -0.024235156635488617,
          -0.6918343580576019,
          -0.791691703099968,
          2.4503340684848522,
          0.2545274022655646,
          0.2192124818449236,
          -0.5010461901733768,
          1.0722191567638308,
          -1.4891428854973219,
          -0.40272294284264887,
          -0.9897698995672244,
          -0.4320325337676119,
          -1.8298092354603528,
          -2.06942937617893,
          -0.8981810286527873,
          0.14956635267176333,
          0.7954820701179105,
          -0.2787688466355066,
          0.3870529059565167,
          0.09185931611306569,
          -0.3228922884787916,
          0.7896583952791246,
          0.49859792990332374,
          -0.7145014322704618,
          0.63500400287327,
          0.9015625150957739,
          -0.0981321809807702,
          1.9641239372508428,
          0.23220510153104315,
          1.4919994261238152,
          -0.901776200402962,
          -0.0784636334330029,
          1.9101262244860717,
          -0.3416541667136561,
          0.5019694149092727,
          1.0486030416084549,
          0.878058019399183,
          -1.3888160678921024,
          -1.2101408885050597,
          -0.13409188298890998,
          -0.155497259277162,
          -0.500280755194522,
          0.7948341864672325,
          -1.2400630520819984,
          -2.0056745204948294,
          -0.4404789392126361,
          1.102868454526206,
          1.1652987918687758,
          0.6270884485984805,
          0.4183887743661323,
          0.12407913269838876,
          0.41651093420023944,
          0.5267557900844371,
          1.9927114934897463,
          1.0684934646033353,
          0.3348495159534268,
          -0.9777949504079178,
          0.9796192436433449,
          -1.1762528275911592,
          -1.1558232571416545,
          -0.3091827093439971,
          -0.5909544061913328,
          1.0210368247767818,
          1.1805951609276022,
          -1.652677794188509,
          -0.29831139799092427,
          1.111965485214708,
          1.0587590383444145,
          -1.5321538886410853,
          1.6453357895997287,
          -0.8473164859310449,
          -1.8726928400414544,
          1.7092111712887212,
          -0.1724347745604901,
          0.27939461399101706,
          0.47513405776655865,
          -0.0027110613277772175,
          0.026379235545402467,
          -0.5922158879543973,
          -1.21507200758291,
          -2.3239813281336756,
          -0.35363177445906324,
          -1.244601068564047,
          -0.16458822503728318,
          0.21553884961071865
         ],
         "yaxis": "y13"
        },
        {
         "line": {
          "color": "rgba(128, 128, 128, 1.0)",
          "dash": "solid",
          "shape": "linear",
          "width": 1.3
         },
         "marker": {
          "size": 2,
          "symbol": "circle"
         },
         "mode": "markers",
         "name": "D",
         "text": "",
         "type": "scatter",
         "x": [
          1.147941618370113,
          -0.8299547834209939,
          0.9392967082603535,
          0.1910828949513799,
          1.5972849247352257,
          0.8659917939077655,
          -0.13457817585495618,
          1.0568721214430303,
          -1.9432194581700155,
          -0.2252573369881137,
          0.5530281112929508,
          -1.682094007420528,
          -0.7306537821180152,
          -0.767034756466276,
          1.0331829305676778,
          1.6828796563285107,
          -0.17871339540400877,
          -1.2356517306371546,
          1.5011867799311671,
          0.18569494912186607,
          0.29212289017797743,
          0.40348548465449763,
          0.5919500797736406,
          -1.74852486584187,
          -0.42974151999969795,
          -1.1131918365818332,
          -0.8152201120976881,
          -0.2964325858724084,
          0.6077511547187224,
          -0.9165257154926654,
          0.3958799995247619,
          1.4410006016632992,
          1.5350723340486652,
          -0.09262332912415686,
          0.2014590693609223,
          0.8440484685013404,
          0.15714102621146692,
          0.9450587080045356,
          2.5131920548428583,
          0.20077049918278642,
          -0.9657860389622679,
          -1.3093859461627482,
          -1.079492333208607,
          0.32653099177279277,
          2.218622381666,
          -0.11600489478403345,
          -1.012487546164819,
          -0.27511305834525873,
          1.08792686959739,
          1.4107093195747469,
          2.7709067003980006,
          0.7114957684374198,
          0.7582234955235306,
          1.5237138816785598,
          0.4637455020324181,
          1.511251946270096,
          -1.4817818330023456,
          -0.0795121033782538,
          0.02471484309624979,
          1.2145310742566076,
          0.3384691147224194,
          0.27373464839690553,
          0.318522054869221,
          0.5007738810050617,
          -0.985497112982549,
          -0.4187103480544071,
          0.0857109549200209,
          0.16368992248085976,
          -1.7893931983703721,
          -2.165212530313429,
          0.6165444430162081,
          -0.8190106641498023,
          -0.8092974599713665,
          0.7469041389805514,
          1.5428577874797613,
          0.8951624487009909,
          -0.34607759857208276,
          -0.6238104910780421,
          0.7298093735352756,
          -0.5971256336788214,
          -0.47869016470384906,
          0.9109499865128807,
          -0.865502362403827,
          0.46502342002076474,
          0.1381558262863357,
          0.5483422894237492,
          -0.4409846129957712,
          -0.8536437656545046,
          -0.31599171721226166,
          -0.9516515101148915,
          1.7612935083376915,
          -1.1698940830411757,
          0.40865295564041104,
          2.0201324736619446,
          -1.0292302175830261,
          -0.7803205287206606,
          -0.4471136102773819,
          1.1370239802544457,
          0.5249875056862872,
          0.7382035281710799
         ],
         "xaxis": "x14",
         "y": [
          -1.0863777837663535,
          -0.29996912541113924,
          -1.0033918906949306,
          -0.16904453015905718,
          -0.6997307108068181,
          1.2166753258586926,
          0.3592750351441177,
          1.2439640623239372,
          -0.5618496390040558,
          -1.2347266503167018,
          -1.0552712560707131,
          -1.6850766070948187,
          -0.6322174310740899,
          0.6005045019381625,
          0.7229550803442617,
          -0.024235156635488617,
          -0.6918343580576019,
          -0.791691703099968,
          2.4503340684848522,
          0.2545274022655646,
          0.2192124818449236,
          -0.5010461901733768,
          1.0722191567638308,
          -1.4891428854973219,
          -0.40272294284264887,
          -0.9897698995672244,
          -0.4320325337676119,
          -1.8298092354603528,
          -2.06942937617893,
          -0.8981810286527873,
          0.14956635267176333,
          0.7954820701179105,
          -0.2787688466355066,
          0.3870529059565167,
          0.09185931611306569,
          -0.3228922884787916,
          0.7896583952791246,
          0.49859792990332374,
          -0.7145014322704618,
          0.63500400287327,
          0.9015625150957739,
          -0.0981321809807702,
          1.9641239372508428,
          0.23220510153104315,
          1.4919994261238152,
          -0.901776200402962,
          -0.0784636334330029,
          1.9101262244860717,
          -0.3416541667136561,
          0.5019694149092727,
          1.0486030416084549,
          0.878058019399183,
          -1.3888160678921024,
          -1.2101408885050597,
          -0.13409188298890998,
          -0.155497259277162,
          -0.500280755194522,
          0.7948341864672325,
          -1.2400630520819984,
          -2.0056745204948294,
          -0.4404789392126361,
          1.102868454526206,
          1.1652987918687758,
          0.6270884485984805,
          0.4183887743661323,
          0.12407913269838876,
          0.41651093420023944,
          0.5267557900844371,
          1.9927114934897463,
          1.0684934646033353,
          0.3348495159534268,
          -0.9777949504079178,
          0.9796192436433449,
          -1.1762528275911592,
          -1.1558232571416545,
          -0.3091827093439971,
          -0.5909544061913328,
          1.0210368247767818,
          1.1805951609276022,
          -1.652677794188509,
          -0.29831139799092427,
          1.111965485214708,
          1.0587590383444145,
          -1.5321538886410853,
          1.6453357895997287,
          -0.8473164859310449,
          -1.8726928400414544,
          1.7092111712887212,
          -0.1724347745604901,
          0.27939461399101706,
          0.47513405776655865,
          -0.0027110613277772175,
          0.026379235545402467,
          -0.5922158879543973,
          -1.21507200758291,
          -2.3239813281336756,
          -0.35363177445906324,
          -1.244601068564047,
          -0.16458822503728318,
          0.21553884961071865
         ],
         "yaxis": "y14"
        },
        {
         "line": {
          "color": "rgba(128, 128, 128, 1.0)",
          "dash": "solid",
          "shape": "linear",
          "width": 1.3
         },
         "marker": {
          "size": 2,
          "symbol": "circle"
         },
         "mode": "markers",
         "name": "D",
         "text": "",
         "type": "scatter",
         "x": [
          -1.7058815433434216,
          1.225914822681663,
          1.7798196613020816,
          0.11282332528887537,
          0.5712778089739757,
          -1.3016317327188727,
          -1.923547834740313,
          1.1561824435069878,
          -0.9224755618225211,
          -1.0178805245092546,
          1.1827311368101672,
          -1.1073799275039704,
          2.072559345792646,
          -0.06075975357886392,
          0.7044013798121919,
          0.014653263589448915,
          -0.17252163969784023,
          -0.5502741880414889,
          -0.7932245180204803,
          -0.43981801927343,
          0.3048077203919516,
          -0.45234223086596365,
          -1.8659658385363225,
          -1.0482824887866375,
          0.2282252007550022,
          1.0145146772436389,
          -0.8348297533978478,
          1.2901976716029104,
          1.549030911361821,
          -0.03333938704835523,
          2.607255908256383,
          0.19508653891686753,
          0.8560735737813755,
          -0.4664850344738756,
          0.47709938730138796,
          -0.030905356807458418,
          1.1579924771178767,
          -0.41042393514430625,
          -1.0028116151137298,
          -1.9520474045703116,
          0.30737972501259536,
          0.48281845303711146,
          1.511109859528105,
          -1.4941640878890123,
          -0.6344177234636945,
          0.8225599133704616,
          0.30997927856881896,
          -0.8388514035792496,
          -1.0303306421350633,
          1.5671753591755322,
          -0.21443896495268291,
          1.3990772123801511,
          -1.2052059077450616,
          0.06237629637033132,
          -0.5356071861319636,
          0.3764026902175658,
          -0.4605159189766581,
          -0.8814044977909182,
          -0.44869188504406854,
          0.6011005607210554,
          1.0945337834210023,
          0.08959088515086673,
          -0.09226180065129733,
          -0.2243862766479926,
          1.0290895837267773,
          0.7455846304963477,
          1.0262381089630686,
          -0.16280711266567613,
          0.5389670838765183,
          -2.5176185901296413,
          0.3240749283773082,
          -0.40803183739765314,
          -1.9004155709791288,
          1.7457811675568045,
          -3.187035143075339,
          0.21508664267208147,
          1.0086357440774296,
          0.8324213563362232,
          1.0801611273991403,
          -1.3014141587796624,
          0.4443865617144143,
          1.0375150372378812,
          -0.48483684952258127,
          -0.5226022856257523,
          0.5896965751372168,
          -1.3411231039321236,
          0.5837280054519673,
          -1.1534475698524378,
          -0.11207649408557195,
          0.790232010513971,
          -0.048825972635803724,
          -0.6382120495958978,
          -0.5114290862873814,
          -0.3720903195225852,
          -0.8038858383154226,
          0.04576400663093547,
          0.11488973806462226,
          1.1857106739451848,
          -0.23010183930485423,
          0.3904403881926993
         ],
         "xaxis": "x15",
         "y": [
          -1.0863777837663535,
          -0.29996912541113924,
          -1.0033918906949306,
          -0.16904453015905718,
          -0.6997307108068181,
          1.2166753258586926,
          0.3592750351441177,
          1.2439640623239372,
          -0.5618496390040558,
          -1.2347266503167018,
          -1.0552712560707131,
          -1.6850766070948187,
          -0.6322174310740899,
          0.6005045019381625,
          0.7229550803442617,
          -0.024235156635488617,
          -0.6918343580576019,
          -0.791691703099968,
          2.4503340684848522,
          0.2545274022655646,
          0.2192124818449236,
          -0.5010461901733768,
          1.0722191567638308,
          -1.4891428854973219,
          -0.40272294284264887,
          -0.9897698995672244,
          -0.4320325337676119,
          -1.8298092354603528,
          -2.06942937617893,
          -0.8981810286527873,
          0.14956635267176333,
          0.7954820701179105,
          -0.2787688466355066,
          0.3870529059565167,
          0.09185931611306569,
          -0.3228922884787916,
          0.7896583952791246,
          0.49859792990332374,
          -0.7145014322704618,
          0.63500400287327,
          0.9015625150957739,
          -0.0981321809807702,
          1.9641239372508428,
          0.23220510153104315,
          1.4919994261238152,
          -0.901776200402962,
          -0.0784636334330029,
          1.9101262244860717,
          -0.3416541667136561,
          0.5019694149092727,
          1.0486030416084549,
          0.878058019399183,
          -1.3888160678921024,
          -1.2101408885050597,
          -0.13409188298890998,
          -0.155497259277162,
          -0.500280755194522,
          0.7948341864672325,
          -1.2400630520819984,
          -2.0056745204948294,
          -0.4404789392126361,
          1.102868454526206,
          1.1652987918687758,
          0.6270884485984805,
          0.4183887743661323,
          0.12407913269838876,
          0.41651093420023944,
          0.5267557900844371,
          1.9927114934897463,
          1.0684934646033353,
          0.3348495159534268,
          -0.9777949504079178,
          0.9796192436433449,
          -1.1762528275911592,
          -1.1558232571416545,
          -0.3091827093439971,
          -0.5909544061913328,
          1.0210368247767818,
          1.1805951609276022,
          -1.652677794188509,
          -0.29831139799092427,
          1.111965485214708,
          1.0587590383444145,
          -1.5321538886410853,
          1.6453357895997287,
          -0.8473164859310449,
          -1.8726928400414544,
          1.7092111712887212,
          -0.1724347745604901,
          0.27939461399101706,
          0.47513405776655865,
          -0.0027110613277772175,
          0.026379235545402467,
          -0.5922158879543973,
          -1.21507200758291,
          -2.3239813281336756,
          -0.35363177445906324,
          -1.244601068564047,
          -0.16458822503728318,
          0.21553884961071865
         ],
         "yaxis": "y15"
        },
        {
         "histfunc": "count",
         "histnorm": "",
         "marker": {
          "color": "rgba(128, 0, 128, 1.0)",
          "line": {
           "color": "#4D5663",
           "width": 1.3
          }
         },
         "name": "D",
         "nbinsx": 10,
         "opacity": 0.8,
         "orientation": "v",
         "type": "histogram",
         "x": [
          -1.0863777837663535,
          -0.29996912541113924,
          -1.0033918906949306,
          -0.16904453015905718,
          -0.6997307108068181,
          1.2166753258586926,
          0.3592750351441177,
          1.2439640623239372,
          -0.5618496390040558,
          -1.2347266503167018,
          -1.0552712560707131,
          -1.6850766070948187,
          -0.6322174310740899,
          0.6005045019381625,
          0.7229550803442617,
          -0.024235156635488617,
          -0.6918343580576019,
          -0.791691703099968,
          2.4503340684848522,
          0.2545274022655646,
          0.2192124818449236,
          -0.5010461901733768,
          1.0722191567638308,
          -1.4891428854973219,
          -0.40272294284264887,
          -0.9897698995672244,
          -0.4320325337676119,
          -1.8298092354603528,
          -2.06942937617893,
          -0.8981810286527873,
          0.14956635267176333,
          0.7954820701179105,
          -0.2787688466355066,
          0.3870529059565167,
          0.09185931611306569,
          -0.3228922884787916,
          0.7896583952791246,
          0.49859792990332374,
          -0.7145014322704618,
          0.63500400287327,
          0.9015625150957739,
          -0.0981321809807702,
          1.9641239372508428,
          0.23220510153104315,
          1.4919994261238152,
          -0.901776200402962,
          -0.0784636334330029,
          1.9101262244860717,
          -0.3416541667136561,
          0.5019694149092727,
          1.0486030416084549,
          0.878058019399183,
          -1.3888160678921024,
          -1.2101408885050597,
          -0.13409188298890998,
          -0.155497259277162,
          -0.500280755194522,
          0.7948341864672325,
          -1.2400630520819984,
          -2.0056745204948294,
          -0.4404789392126361,
          1.102868454526206,
          1.1652987918687758,
          0.6270884485984805,
          0.4183887743661323,
          0.12407913269838876,
          0.41651093420023944,
          0.5267557900844371,
          1.9927114934897463,
          1.0684934646033353,
          0.3348495159534268,
          -0.9777949504079178,
          0.9796192436433449,
          -1.1762528275911592,
          -1.1558232571416545,
          -0.3091827093439971,
          -0.5909544061913328,
          1.0210368247767818,
          1.1805951609276022,
          -1.652677794188509,
          -0.29831139799092427,
          1.111965485214708,
          1.0587590383444145,
          -1.5321538886410853,
          1.6453357895997287,
          -0.8473164859310449,
          -1.8726928400414544,
          1.7092111712887212,
          -0.1724347745604901,
          0.27939461399101706,
          0.47513405776655865,
          -0.0027110613277772175,
          0.026379235545402467,
          -0.5922158879543973,
          -1.21507200758291,
          -2.3239813281336756,
          -0.35363177445906324,
          -1.244601068564047,
          -0.16458822503728318,
          0.21553884961071865
         ],
         "xaxis": "x16",
         "yaxis": "y16"
        }
       ],
       "layout": {
        "bargap": 0.02,
        "legend": {
         "bgcolor": "#F5F6F9",
         "font": {
          "color": "#4D5663"
         }
        },
        "paper_bgcolor": "#F5F6F9",
        "plot_bgcolor": "#F5F6F9",
        "showlegend": false,
        "template": {
         "data": {
          "bar": [
           {
            "error_x": {
             "color": "#2a3f5f"
            },
            "error_y": {
             "color": "#2a3f5f"
            },
            "marker": {
             "line": {
              "color": "#E5ECF6",
              "width": 0.5
             },
             "pattern": {
              "fillmode": "overlay",
              "size": 10,
              "solidity": 0.2
             }
            },
            "type": "bar"
           }
          ],
          "barpolar": [
           {
            "marker": {
             "line": {
              "color": "#E5ECF6",
              "width": 0.5
             },
             "pattern": {
              "fillmode": "overlay",
              "size": 10,
              "solidity": 0.2
             }
            },
            "type": "barpolar"
           }
          ],
          "carpet": [
           {
            "aaxis": {
             "endlinecolor": "#2a3f5f",
             "gridcolor": "white",
             "linecolor": "white",
             "minorgridcolor": "white",
             "startlinecolor": "#2a3f5f"
            },
            "baxis": {
             "endlinecolor": "#2a3f5f",
             "gridcolor": "white",
             "linecolor": "white",
             "minorgridcolor": "white",
             "startlinecolor": "#2a3f5f"
            },
            "type": "carpet"
           }
          ],
          "choropleth": [
           {
            "colorbar": {
             "outlinewidth": 0,
             "ticks": ""
            },
            "type": "choropleth"
           }
          ],
          "contour": [
           {
            "colorbar": {
             "outlinewidth": 0,
             "ticks": ""
            },
            "colorscale": [
             [
              0,
              "#0d0887"
             ],
             [
              0.1111111111111111,
              "#46039f"
             ],
             [
              0.2222222222222222,
              "#7201a8"
             ],
             [
              0.3333333333333333,
              "#9c179e"
             ],
             [
              0.4444444444444444,
              "#bd3786"
             ],
             [
              0.5555555555555556,
              "#d8576b"
             ],
             [
              0.6666666666666666,
              "#ed7953"
             ],
             [
              0.7777777777777778,
              "#fb9f3a"
             ],
             [
              0.8888888888888888,
              "#fdca26"
             ],
             [
              1,
              "#f0f921"
             ]
            ],
            "type": "contour"
           }
          ],
          "contourcarpet": [
           {
            "colorbar": {
             "outlinewidth": 0,
             "ticks": ""
            },
            "type": "contourcarpet"
           }
          ],
          "heatmap": [
           {
            "colorbar": {
             "outlinewidth": 0,
             "ticks": ""
            },
            "colorscale": [
             [
              0,
              "#0d0887"
             ],
             [
              0.1111111111111111,
              "#46039f"
             ],
             [
              0.2222222222222222,
              "#7201a8"
             ],
             [
              0.3333333333333333,
              "#9c179e"
             ],
             [
              0.4444444444444444,
              "#bd3786"
             ],
             [
              0.5555555555555556,
              "#d8576b"
             ],
             [
              0.6666666666666666,
              "#ed7953"
             ],
             [
              0.7777777777777778,
              "#fb9f3a"
             ],
             [
              0.8888888888888888,
              "#fdca26"
             ],
             [
              1,
              "#f0f921"
             ]
            ],
            "type": "heatmap"
           }
          ],
          "heatmapgl": [
           {
            "colorbar": {
             "outlinewidth": 0,
             "ticks": ""
            },
            "colorscale": [
             [
              0,
              "#0d0887"
             ],
             [
              0.1111111111111111,
              "#46039f"
             ],
             [
              0.2222222222222222,
              "#7201a8"
             ],
             [
              0.3333333333333333,
              "#9c179e"
             ],
             [
              0.4444444444444444,
              "#bd3786"
             ],
             [
              0.5555555555555556,
              "#d8576b"
             ],
             [
              0.6666666666666666,
              "#ed7953"
             ],
             [
              0.7777777777777778,
              "#fb9f3a"
             ],
             [
              0.8888888888888888,
              "#fdca26"
             ],
             [
              1,
              "#f0f921"
             ]
            ],
            "type": "heatmapgl"
           }
          ],
          "histogram": [
           {
            "marker": {
             "pattern": {
              "fillmode": "overlay",
              "size": 10,
              "solidity": 0.2
             }
            },
            "type": "histogram"
           }
          ],
          "histogram2d": [
           {
            "colorbar": {
             "outlinewidth": 0,
             "ticks": ""
            },
            "colorscale": [
             [
              0,
              "#0d0887"
             ],
             [
              0.1111111111111111,
              "#46039f"
             ],
             [
              0.2222222222222222,
              "#7201a8"
             ],
             [
              0.3333333333333333,
              "#9c179e"
             ],
             [
              0.4444444444444444,
              "#bd3786"
             ],
             [
              0.5555555555555556,
              "#d8576b"
             ],
             [
              0.6666666666666666,
              "#ed7953"
             ],
             [
              0.7777777777777778,
              "#fb9f3a"
             ],
             [
              0.8888888888888888,
              "#fdca26"
             ],
             [
              1,
              "#f0f921"
             ]
            ],
            "type": "histogram2d"
           }
          ],
          "histogram2dcontour": [
           {
            "colorbar": {
             "outlinewidth": 0,
             "ticks": ""
            },
            "colorscale": [
             [
              0,
              "#0d0887"
             ],
             [
              0.1111111111111111,
              "#46039f"
             ],
             [
              0.2222222222222222,
              "#7201a8"
             ],
             [
              0.3333333333333333,
              "#9c179e"
             ],
             [
              0.4444444444444444,
              "#bd3786"
             ],
             [
              0.5555555555555556,
              "#d8576b"
             ],
             [
              0.6666666666666666,
              "#ed7953"
             ],
             [
              0.7777777777777778,
              "#fb9f3a"
             ],
             [
              0.8888888888888888,
              "#fdca26"
             ],
             [
              1,
              "#f0f921"
             ]
            ],
            "type": "histogram2dcontour"
           }
          ],
          "mesh3d": [
           {
            "colorbar": {
             "outlinewidth": 0,
             "ticks": ""
            },
            "type": "mesh3d"
           }
          ],
          "parcoords": [
           {
            "line": {
             "colorbar": {
              "outlinewidth": 0,
              "ticks": ""
             }
            },
            "type": "parcoords"
           }
          ],
          "pie": [
           {
            "automargin": true,
            "type": "pie"
           }
          ],
          "scatter": [
           {
            "fillpattern": {
             "fillmode": "overlay",
             "size": 10,
             "solidity": 0.2
            },
            "type": "scatter"
           }
          ],
          "scatter3d": [
           {
            "line": {
             "colorbar": {
              "outlinewidth": 0,
              "ticks": ""
             }
            },
            "marker": {
             "colorbar": {
              "outlinewidth": 0,
              "ticks": ""
             }
            },
            "type": "scatter3d"
           }
          ],
          "scattercarpet": [
           {
            "marker": {
             "colorbar": {
              "outlinewidth": 0,
              "ticks": ""
             }
            },
            "type": "scattercarpet"
           }
          ],
          "scattergeo": [
           {
            "marker": {
             "colorbar": {
              "outlinewidth": 0,
              "ticks": ""
             }
            },
            "type": "scattergeo"
           }
          ],
          "scattergl": [
           {
            "marker": {
             "colorbar": {
              "outlinewidth": 0,
              "ticks": ""
             }
            },
            "type": "scattergl"
           }
          ],
          "scattermapbox": [
           {
            "marker": {
             "colorbar": {
              "outlinewidth": 0,
              "ticks": ""
             }
            },
            "type": "scattermapbox"
           }
          ],
          "scatterpolar": [
           {
            "marker": {
             "colorbar": {
              "outlinewidth": 0,
              "ticks": ""
             }
            },
            "type": "scatterpolar"
           }
          ],
          "scatterpolargl": [
           {
            "marker": {
             "colorbar": {
              "outlinewidth": 0,
              "ticks": ""
             }
            },
            "type": "scatterpolargl"
           }
          ],
          "scatterternary": [
           {
            "marker": {
             "colorbar": {
              "outlinewidth": 0,
              "ticks": ""
             }
            },
            "type": "scatterternary"
           }
          ],
          "surface": [
           {
            "colorbar": {
             "outlinewidth": 0,
             "ticks": ""
            },
            "colorscale": [
             [
              0,
              "#0d0887"
             ],
             [
              0.1111111111111111,
              "#46039f"
             ],
             [
              0.2222222222222222,
              "#7201a8"
             ],
             [
              0.3333333333333333,
              "#9c179e"
             ],
             [
              0.4444444444444444,
              "#bd3786"
             ],
             [
              0.5555555555555556,
              "#d8576b"
             ],
             [
              0.6666666666666666,
              "#ed7953"
             ],
             [
              0.7777777777777778,
              "#fb9f3a"
             ],
             [
              0.8888888888888888,
              "#fdca26"
             ],
             [
              1,
              "#f0f921"
             ]
            ],
            "type": "surface"
           }
          ],
          "table": [
           {
            "cells": {
             "fill": {
              "color": "#EBF0F8"
             },
             "line": {
              "color": "white"
             }
            },
            "header": {
             "fill": {
              "color": "#C8D4E3"
             },
             "line": {
              "color": "white"
             }
            },
            "type": "table"
           }
          ]
         },
         "layout": {
          "annotationdefaults": {
           "arrowcolor": "#2a3f5f",
           "arrowhead": 0,
           "arrowwidth": 1
          },
          "autotypenumbers": "strict",
          "coloraxis": {
           "colorbar": {
            "outlinewidth": 0,
            "ticks": ""
           }
          },
          "colorscale": {
           "diverging": [
            [
             0,
             "#8e0152"
            ],
            [
             0.1,
             "#c51b7d"
            ],
            [
             0.2,
             "#de77ae"
            ],
            [
             0.3,
             "#f1b6da"
            ],
            [
             0.4,
             "#fde0ef"
            ],
            [
             0.5,
             "#f7f7f7"
            ],
            [
             0.6,
             "#e6f5d0"
            ],
            [
             0.7,
             "#b8e186"
            ],
            [
             0.8,
             "#7fbc41"
            ],
            [
             0.9,
             "#4d9221"
            ],
            [
             1,
             "#276419"
            ]
           ],
           "sequential": [
            [
             0,
             "#0d0887"
            ],
            [
             0.1111111111111111,
             "#46039f"
            ],
            [
             0.2222222222222222,
             "#7201a8"
            ],
            [
             0.3333333333333333,
             "#9c179e"
            ],
            [
             0.4444444444444444,
             "#bd3786"
            ],
            [
             0.5555555555555556,
             "#d8576b"
            ],
            [
             0.6666666666666666,
             "#ed7953"
            ],
            [
             0.7777777777777778,
             "#fb9f3a"
            ],
            [
             0.8888888888888888,
             "#fdca26"
            ],
            [
             1,
             "#f0f921"
            ]
           ],
           "sequentialminus": [
            [
             0,
             "#0d0887"
            ],
            [
             0.1111111111111111,
             "#46039f"
            ],
            [
             0.2222222222222222,
             "#7201a8"
            ],
            [
             0.3333333333333333,
             "#9c179e"
            ],
            [
             0.4444444444444444,
             "#bd3786"
            ],
            [
             0.5555555555555556,
             "#d8576b"
            ],
            [
             0.6666666666666666,
             "#ed7953"
            ],
            [
             0.7777777777777778,
             "#fb9f3a"
            ],
            [
             0.8888888888888888,
             "#fdca26"
            ],
            [
             1,
             "#f0f921"
            ]
           ]
          },
          "colorway": [
           "#636efa",
           "#EF553B",
           "#00cc96",
           "#ab63fa",
           "#FFA15A",
           "#19d3f3",
           "#FF6692",
           "#B6E880",
           "#FF97FF",
           "#FECB52"
          ],
          "font": {
           "color": "#2a3f5f"
          },
          "geo": {
           "bgcolor": "white",
           "lakecolor": "white",
           "landcolor": "#E5ECF6",
           "showlakes": true,
           "showland": true,
           "subunitcolor": "white"
          },
          "hoverlabel": {
           "align": "left"
          },
          "hovermode": "closest",
          "mapbox": {
           "style": "light"
          },
          "paper_bgcolor": "white",
          "plot_bgcolor": "#E5ECF6",
          "polar": {
           "angularaxis": {
            "gridcolor": "white",
            "linecolor": "white",
            "ticks": ""
           },
           "bgcolor": "#E5ECF6",
           "radialaxis": {
            "gridcolor": "white",
            "linecolor": "white",
            "ticks": ""
           }
          },
          "scene": {
           "xaxis": {
            "backgroundcolor": "#E5ECF6",
            "gridcolor": "white",
            "gridwidth": 2,
            "linecolor": "white",
            "showbackground": true,
            "ticks": "",
            "zerolinecolor": "white"
           },
           "yaxis": {
            "backgroundcolor": "#E5ECF6",
            "gridcolor": "white",
            "gridwidth": 2,
            "linecolor": "white",
            "showbackground": true,
            "ticks": "",
            "zerolinecolor": "white"
           },
           "zaxis": {
            "backgroundcolor": "#E5ECF6",
            "gridcolor": "white",
            "gridwidth": 2,
            "linecolor": "white",
            "showbackground": true,
            "ticks": "",
            "zerolinecolor": "white"
           }
          },
          "shapedefaults": {
           "line": {
            "color": "#2a3f5f"
           }
          },
          "ternary": {
           "aaxis": {
            "gridcolor": "white",
            "linecolor": "white",
            "ticks": ""
           },
           "baxis": {
            "gridcolor": "white",
            "linecolor": "white",
            "ticks": ""
           },
           "bgcolor": "#E5ECF6",
           "caxis": {
            "gridcolor": "white",
            "linecolor": "white",
            "ticks": ""
           }
          },
          "title": {
           "x": 0.05
          },
          "xaxis": {
           "automargin": true,
           "gridcolor": "white",
           "linecolor": "white",
           "ticks": "",
           "title": {
            "standoff": 15
           },
           "zerolinecolor": "white",
           "zerolinewidth": 2
          },
          "yaxis": {
           "automargin": true,
           "gridcolor": "white",
           "linecolor": "white",
           "ticks": "",
           "title": {
            "standoff": 15
           },
           "zerolinecolor": "white",
           "zerolinewidth": 2
          }
         }
        },
        "title": {
         "font": {
          "color": "#4D5663"
         }
        },
        "xaxis": {
         "anchor": "y",
         "domain": [
          0,
          0.2125
         ],
         "gridcolor": "#E1E5ED",
         "showgrid": false,
         "tickfont": {
          "color": "#4D5663"
         },
         "title": {
          "font": {
           "color": "#4D5663"
          },
          "text": ""
         },
         "zerolinecolor": "#E1E5ED"
        },
        "xaxis10": {
         "anchor": "y10",
         "domain": [
          0.2625,
          0.475
         ],
         "gridcolor": "#E1E5ED",
         "showgrid": false,
         "tickfont": {
          "color": "#4D5663"
         },
         "title": {
          "font": {
           "color": "#4D5663"
          },
          "text": ""
         },
         "zerolinecolor": "#E1E5ED"
        },
        "xaxis11": {
         "anchor": "y11",
         "domain": [
          0.525,
          0.7375
         ],
         "gridcolor": "#E1E5ED",
         "showgrid": false,
         "tickfont": {
          "color": "#4D5663"
         },
         "title": {
          "font": {
           "color": "#4D5663"
          },
          "text": ""
         },
         "zerolinecolor": "#E1E5ED"
        },
        "xaxis12": {
         "anchor": "y12",
         "domain": [
          0.7875,
          1
         ],
         "gridcolor": "#E1E5ED",
         "showgrid": false,
         "tickfont": {
          "color": "#4D5663"
         },
         "title": {
          "font": {
           "color": "#4D5663"
          },
          "text": ""
         },
         "zerolinecolor": "#E1E5ED"
        },
        "xaxis13": {
         "anchor": "y13",
         "domain": [
          0,
          0.2125
         ],
         "gridcolor": "#E1E5ED",
         "showgrid": false,
         "tickfont": {
          "color": "#4D5663"
         },
         "title": {
          "font": {
           "color": "#4D5663"
          },
          "text": ""
         },
         "zerolinecolor": "#E1E5ED"
        },
        "xaxis14": {
         "anchor": "y14",
         "domain": [
          0.2625,
          0.475
         ],
         "gridcolor": "#E1E5ED",
         "showgrid": false,
         "tickfont": {
          "color": "#4D5663"
         },
         "title": {
          "font": {
           "color": "#4D5663"
          },
          "text": ""
         },
         "zerolinecolor": "#E1E5ED"
        },
        "xaxis15": {
         "anchor": "y15",
         "domain": [
          0.525,
          0.7375
         ],
         "gridcolor": "#E1E5ED",
         "showgrid": false,
         "tickfont": {
          "color": "#4D5663"
         },
         "title": {
          "font": {
           "color": "#4D5663"
          },
          "text": ""
         },
         "zerolinecolor": "#E1E5ED"
        },
        "xaxis16": {
         "anchor": "y16",
         "domain": [
          0.7875,
          1
         ],
         "gridcolor": "#E1E5ED",
         "showgrid": false,
         "tickfont": {
          "color": "#4D5663"
         },
         "title": {
          "font": {
           "color": "#4D5663"
          },
          "text": ""
         },
         "zerolinecolor": "#E1E5ED"
        },
        "xaxis2": {
         "anchor": "y2",
         "domain": [
          0.2625,
          0.475
         ],
         "gridcolor": "#E1E5ED",
         "showgrid": false,
         "tickfont": {
          "color": "#4D5663"
         },
         "title": {
          "font": {
           "color": "#4D5663"
          },
          "text": ""
         },
         "zerolinecolor": "#E1E5ED"
        },
        "xaxis3": {
         "anchor": "y3",
         "domain": [
          0.525,
          0.7375
         ],
         "gridcolor": "#E1E5ED",
         "showgrid": false,
         "tickfont": {
          "color": "#4D5663"
         },
         "title": {
          "font": {
           "color": "#4D5663"
          },
          "text": ""
         },
         "zerolinecolor": "#E1E5ED"
        },
        "xaxis4": {
         "anchor": "y4",
         "domain": [
          0.7875,
          1
         ],
         "gridcolor": "#E1E5ED",
         "showgrid": false,
         "tickfont": {
          "color": "#4D5663"
         },
         "title": {
          "font": {
           "color": "#4D5663"
          },
          "text": ""
         },
         "zerolinecolor": "#E1E5ED"
        },
        "xaxis5": {
         "anchor": "y5",
         "domain": [
          0,
          0.2125
         ],
         "gridcolor": "#E1E5ED",
         "showgrid": false,
         "tickfont": {
          "color": "#4D5663"
         },
         "title": {
          "font": {
           "color": "#4D5663"
          },
          "text": ""
         },
         "zerolinecolor": "#E1E5ED"
        },
        "xaxis6": {
         "anchor": "y6",
         "domain": [
          0.2625,
          0.475
         ],
         "gridcolor": "#E1E5ED",
         "showgrid": false,
         "tickfont": {
          "color": "#4D5663"
         },
         "title": {
          "font": {
           "color": "#4D5663"
          },
          "text": ""
         },
         "zerolinecolor": "#E1E5ED"
        },
        "xaxis7": {
         "anchor": "y7",
         "domain": [
          0.525,
          0.7375
         ],
         "gridcolor": "#E1E5ED",
         "showgrid": false,
         "tickfont": {
          "color": "#4D5663"
         },
         "title": {
          "font": {
           "color": "#4D5663"
          },
          "text": ""
         },
         "zerolinecolor": "#E1E5ED"
        },
        "xaxis8": {
         "anchor": "y8",
         "domain": [
          0.7875,
          1
         ],
         "gridcolor": "#E1E5ED",
         "showgrid": false,
         "tickfont": {
          "color": "#4D5663"
         },
         "title": {
          "font": {
           "color": "#4D5663"
          },
          "text": ""
         },
         "zerolinecolor": "#E1E5ED"
        },
        "xaxis9": {
         "anchor": "y9",
         "domain": [
          0,
          0.2125
         ],
         "gridcolor": "#E1E5ED",
         "showgrid": false,
         "tickfont": {
          "color": "#4D5663"
         },
         "title": {
          "font": {
           "color": "#4D5663"
          },
          "text": ""
         },
         "zerolinecolor": "#E1E5ED"
        },
        "yaxis": {
         "anchor": "x",
         "domain": [
          0.8025,
          1
         ],
         "gridcolor": "#E1E5ED",
         "showgrid": false,
         "tickfont": {
          "color": "#4D5663"
         },
         "title": {
          "font": {
           "color": "#4D5663"
          },
          "text": ""
         },
         "zerolinecolor": "#E1E5ED"
        },
        "yaxis10": {
         "anchor": "x10",
         "domain": [
          0.2675,
          0.465
         ],
         "gridcolor": "#E1E5ED",
         "showgrid": false,
         "tickfont": {
          "color": "#4D5663"
         },
         "title": {
          "font": {
           "color": "#4D5663"
          },
          "text": ""
         },
         "zerolinecolor": "#E1E5ED"
        },
        "yaxis11": {
         "anchor": "x11",
         "domain": [
          0.2675,
          0.465
         ],
         "gridcolor": "#E1E5ED",
         "showgrid": false,
         "tickfont": {
          "color": "#4D5663"
         },
         "title": {
          "font": {
           "color": "#4D5663"
          },
          "text": ""
         },
         "zerolinecolor": "#E1E5ED"
        },
        "yaxis12": {
         "anchor": "x12",
         "domain": [
          0.2675,
          0.465
         ],
         "gridcolor": "#E1E5ED",
         "showgrid": false,
         "tickfont": {
          "color": "#4D5663"
         },
         "title": {
          "font": {
           "color": "#4D5663"
          },
          "text": ""
         },
         "zerolinecolor": "#E1E5ED"
        },
        "yaxis13": {
         "anchor": "x13",
         "domain": [
          0,
          0.1975
         ],
         "gridcolor": "#E1E5ED",
         "showgrid": false,
         "tickfont": {
          "color": "#4D5663"
         },
         "title": {
          "font": {
           "color": "#4D5663"
          },
          "text": ""
         },
         "zerolinecolor": "#E1E5ED"
        },
        "yaxis14": {
         "anchor": "x14",
         "domain": [
          0,
          0.1975
         ],
         "gridcolor": "#E1E5ED",
         "showgrid": false,
         "tickfont": {
          "color": "#4D5663"
         },
         "title": {
          "font": {
           "color": "#4D5663"
          },
          "text": ""
         },
         "zerolinecolor": "#E1E5ED"
        },
        "yaxis15": {
         "anchor": "x15",
         "domain": [
          0,
          0.1975
         ],
         "gridcolor": "#E1E5ED",
         "showgrid": false,
         "tickfont": {
          "color": "#4D5663"
         },
         "title": {
          "font": {
           "color": "#4D5663"
          },
          "text": ""
         },
         "zerolinecolor": "#E1E5ED"
        },
        "yaxis16": {
         "anchor": "x16",
         "domain": [
          0,
          0.1975
         ],
         "gridcolor": "#E1E5ED",
         "showgrid": false,
         "tickfont": {
          "color": "#4D5663"
         },
         "title": {
          "font": {
           "color": "#4D5663"
          },
          "text": ""
         },
         "zerolinecolor": "#E1E5ED"
        },
        "yaxis2": {
         "anchor": "x2",
         "domain": [
          0.8025,
          1
         ],
         "gridcolor": "#E1E5ED",
         "showgrid": false,
         "tickfont": {
          "color": "#4D5663"
         },
         "title": {
          "font": {
           "color": "#4D5663"
          },
          "text": ""
         },
         "zerolinecolor": "#E1E5ED"
        },
        "yaxis3": {
         "anchor": "x3",
         "domain": [
          0.8025,
          1
         ],
         "gridcolor": "#E1E5ED",
         "showgrid": false,
         "tickfont": {
          "color": "#4D5663"
         },
         "title": {
          "font": {
           "color": "#4D5663"
          },
          "text": ""
         },
         "zerolinecolor": "#E1E5ED"
        },
        "yaxis4": {
         "anchor": "x4",
         "domain": [
          0.8025,
          1
         ],
         "gridcolor": "#E1E5ED",
         "showgrid": false,
         "tickfont": {
          "color": "#4D5663"
         },
         "title": {
          "font": {
           "color": "#4D5663"
          },
          "text": ""
         },
         "zerolinecolor": "#E1E5ED"
        },
        "yaxis5": {
         "anchor": "x5",
         "domain": [
          0.535,
          0.7325
         ],
         "gridcolor": "#E1E5ED",
         "showgrid": false,
         "tickfont": {
          "color": "#4D5663"
         },
         "title": {
          "font": {
           "color": "#4D5663"
          },
          "text": ""
         },
         "zerolinecolor": "#E1E5ED"
        },
        "yaxis6": {
         "anchor": "x6",
         "domain": [
          0.535,
          0.7325
         ],
         "gridcolor": "#E1E5ED",
         "showgrid": false,
         "tickfont": {
          "color": "#4D5663"
         },
         "title": {
          "font": {
           "color": "#4D5663"
          },
          "text": ""
         },
         "zerolinecolor": "#E1E5ED"
        },
        "yaxis7": {
         "anchor": "x7",
         "domain": [
          0.535,
          0.7325
         ],
         "gridcolor": "#E1E5ED",
         "showgrid": false,
         "tickfont": {
          "color": "#4D5663"
         },
         "title": {
          "font": {
           "color": "#4D5663"
          },
          "text": ""
         },
         "zerolinecolor": "#E1E5ED"
        },
        "yaxis8": {
         "anchor": "x8",
         "domain": [
          0.535,
          0.7325
         ],
         "gridcolor": "#E1E5ED",
         "showgrid": false,
         "tickfont": {
          "color": "#4D5663"
         },
         "title": {
          "font": {
           "color": "#4D5663"
          },
          "text": ""
         },
         "zerolinecolor": "#E1E5ED"
        },
        "yaxis9": {
         "anchor": "x9",
         "domain": [
          0.2675,
          0.465
         ],
         "gridcolor": "#E1E5ED",
         "showgrid": false,
         "tickfont": {
          "color": "#4D5663"
         },
         "title": {
          "font": {
           "color": "#4D5663"
          },
          "text": ""
         },
         "zerolinecolor": "#E1E5ED"
        }
       }
      },
      "text/html": [
       "<div>                            <div id=\"8510b6db-067d-4776-a7c7-4f02cda239fa\" class=\"plotly-graph-div\" style=\"height:525px; width:100%;\"></div>            <script type=\"text/javascript\">                require([\"plotly\"], function(Plotly) {                    window.PLOTLYENV=window.PLOTLYENV || {};\n",
       "                    window.PLOTLYENV.BASE_URL='https://plot.ly';                                    if (document.getElementById(\"8510b6db-067d-4776-a7c7-4f02cda239fa\")) {                    Plotly.newPlot(                        \"8510b6db-067d-4776-a7c7-4f02cda239fa\",                        [{\"histfunc\":\"count\",\"histnorm\":\"\",\"marker\":{\"color\":\"rgba(255, 153, 51, 1.0)\",\"line\":{\"color\":\"#4D5663\",\"width\":1.3}},\"name\":\"A\",\"nbinsx\":10,\"opacity\":0.8,\"orientation\":\"v\",\"x\":[-1.5182312484157174,-1.8855809449535939,-0.4523999566779344,-1.4642136426254893,2.2647603195178005,-1.3018054396547205,-0.029061791830883667,0.8871982945603031,0.2934406917015035,0.9154055340600108,-0.14116188134276486,-1.9003199171357033,1.1838181801203118,0.8111627617490051,0.22330870247181372,-1.0132223346121167,-0.9779679282370044,1.4318006928470863,-1.3629859890131604,0.673446670553999,1.5867153375770855,-1.5399004346150476,-1.865473488055965,-0.8594891612122892,1.1915475103414341,0.8133725372943506,0.34588767757753586,-1.466301462684535,-0.5222764671340403,0.11424214172820549,0.7202559790470581,-0.8216762204642892,-1.5235117735388843,0.4449658587671851,-0.28389472917892,-0.5187365983226652,-2.5396698782544154,0.7682101714779624,-0.7640893081414858,-2.1846667526913115,-0.8838233306582968,1.1824643100001397,2.0135419886903456,0.23633133691438366,2.460449636587777,-0.09998240434511563,-0.2520663331708616,-0.41342562732627086,-0.11892089142298772,0.40066634277757,-0.16302394422898955,0.3816461194656427,0.2508089718649011,0.864448276036272,-0.29644374113607974,-0.29019419766441296,-0.6146093747802536,-0.15177365686399796,1.1305357737677744,-0.013108447416840134,-0.03580823648650258,-0.5314257537289394,-0.5845869337113184,0.4208993727161239,0.6949122542294657,0.4074729404524667,1.6652825948892558,-0.5724244791967754,0.13281301154771438,-1.5983325919599396,-0.07543176124032766,-0.1850161558714443,0.23856011125131968,1.005467095672781,0.598825135211652,-1.2015406416985572,-1.5874631203168648,0.084783354154374,-0.8904929614212536,-0.3876337552374118,-0.47793068657708176,1.1479159509948063,0.11344071928492235,0.6048349909436674,-0.51961803454422,-0.2834117815484936,0.39581139441488217,-0.2819496415598355,-0.8394372345719991,-1.11866078798659,-0.6706275135691139,-0.49288417665376777,0.9288010569813032,1.4229740856467177,-1.1054496840152666,0.1572306958944868,-1.843841565520202,0.029157345193459853,0.03137862400023864,-0.4067566604194543],\"xaxis\":\"x\",\"yaxis\":\"y\",\"type\":\"histogram\"},{\"line\":{\"color\":\"rgba(128, 128, 128, 1.0)\",\"dash\":\"solid\",\"shape\":\"linear\",\"width\":1.3},\"marker\":{\"size\":2,\"symbol\":\"circle\"},\"mode\":\"markers\",\"name\":\"A\",\"text\":\"\",\"x\":[1.147941618370113,-0.8299547834209939,0.9392967082603535,0.1910828949513799,1.5972849247352257,0.8659917939077655,-0.13457817585495618,1.0568721214430303,-1.9432194581700155,-0.2252573369881137,0.5530281112929508,-1.682094007420528,-0.7306537821180152,-0.767034756466276,1.0331829305676778,1.6828796563285107,-0.17871339540400877,-1.2356517306371546,1.5011867799311671,0.18569494912186607,0.29212289017797743,0.40348548465449763,0.5919500797736406,-1.74852486584187,-0.42974151999969795,-1.1131918365818332,-0.8152201120976881,-0.2964325858724084,0.6077511547187224,-0.9165257154926654,0.3958799995247619,1.4410006016632992,1.5350723340486652,-0.09262332912415686,0.2014590693609223,0.8440484685013404,0.15714102621146692,0.9450587080045356,2.5131920548428583,0.20077049918278642,-0.9657860389622679,-1.3093859461627482,-1.079492333208607,0.32653099177279277,2.218622381666,-0.11600489478403345,-1.012487546164819,-0.27511305834525873,1.08792686959739,1.4107093195747469,2.7709067003980006,0.7114957684374198,0.7582234955235306,1.5237138816785598,0.4637455020324181,1.511251946270096,-1.4817818330023456,-0.0795121033782538,0.02471484309624979,1.2145310742566076,0.3384691147224194,0.27373464839690553,0.318522054869221,0.5007738810050617,-0.985497112982549,-0.4187103480544071,0.0857109549200209,0.16368992248085976,-1.7893931983703721,-2.165212530313429,0.6165444430162081,-0.8190106641498023,-0.8092974599713665,0.7469041389805514,1.5428577874797613,0.8951624487009909,-0.34607759857208276,-0.6238104910780421,0.7298093735352756,-0.5971256336788214,-0.47869016470384906,0.9109499865128807,-0.865502362403827,0.46502342002076474,0.1381558262863357,0.5483422894237492,-0.4409846129957712,-0.8536437656545046,-0.31599171721226166,-0.9516515101148915,1.7612935083376915,-1.1698940830411757,0.40865295564041104,2.0201324736619446,-1.0292302175830261,-0.7803205287206606,-0.4471136102773819,1.1370239802544457,0.5249875056862872,0.7382035281710799],\"xaxis\":\"x2\",\"y\":[-1.5182312484157174,-1.8855809449535939,-0.4523999566779344,-1.4642136426254893,2.2647603195178005,-1.3018054396547205,-0.029061791830883667,0.8871982945603031,0.2934406917015035,0.9154055340600108,-0.14116188134276486,-1.9003199171357033,1.1838181801203118,0.8111627617490051,0.22330870247181372,-1.0132223346121167,-0.9779679282370044,1.4318006928470863,-1.3629859890131604,0.673446670553999,1.5867153375770855,-1.5399004346150476,-1.865473488055965,-0.8594891612122892,1.1915475103414341,0.8133725372943506,0.34588767757753586,-1.466301462684535,-0.5222764671340403,0.11424214172820549,0.7202559790470581,-0.8216762204642892,-1.5235117735388843,0.4449658587671851,-0.28389472917892,-0.5187365983226652,-2.5396698782544154,0.7682101714779624,-0.7640893081414858,-2.1846667526913115,-0.8838233306582968,1.1824643100001397,2.0135419886903456,0.23633133691438366,2.460449636587777,-0.09998240434511563,-0.2520663331708616,-0.41342562732627086,-0.11892089142298772,0.40066634277757,-0.16302394422898955,0.3816461194656427,0.2508089718649011,0.864448276036272,-0.29644374113607974,-0.29019419766441296,-0.6146093747802536,-0.15177365686399796,1.1305357737677744,-0.013108447416840134,-0.03580823648650258,-0.5314257537289394,-0.5845869337113184,0.4208993727161239,0.6949122542294657,0.4074729404524667,1.6652825948892558,-0.5724244791967754,0.13281301154771438,-1.5983325919599396,-0.07543176124032766,-0.1850161558714443,0.23856011125131968,1.005467095672781,0.598825135211652,-1.2015406416985572,-1.5874631203168648,0.084783354154374,-0.8904929614212536,-0.3876337552374118,-0.47793068657708176,1.1479159509948063,0.11344071928492235,0.6048349909436674,-0.51961803454422,-0.2834117815484936,0.39581139441488217,-0.2819496415598355,-0.8394372345719991,-1.11866078798659,-0.6706275135691139,-0.49288417665376777,0.9288010569813032,1.4229740856467177,-1.1054496840152666,0.1572306958944868,-1.843841565520202,0.029157345193459853,0.03137862400023864,-0.4067566604194543],\"yaxis\":\"y2\",\"type\":\"scatter\"},{\"line\":{\"color\":\"rgba(128, 128, 128, 1.0)\",\"dash\":\"solid\",\"shape\":\"linear\",\"width\":1.3},\"marker\":{\"size\":2,\"symbol\":\"circle\"},\"mode\":\"markers\",\"name\":\"A\",\"text\":\"\",\"x\":[-1.7058815433434216,1.225914822681663,1.7798196613020816,0.11282332528887537,0.5712778089739757,-1.3016317327188727,-1.923547834740313,1.1561824435069878,-0.9224755618225211,-1.0178805245092546,1.1827311368101672,-1.1073799275039704,2.072559345792646,-0.06075975357886392,0.7044013798121919,0.014653263589448915,-0.17252163969784023,-0.5502741880414889,-0.7932245180204803,-0.43981801927343,0.3048077203919516,-0.45234223086596365,-1.8659658385363225,-1.0482824887866375,0.2282252007550022,1.0145146772436389,-0.8348297533978478,1.2901976716029104,1.549030911361821,-0.03333938704835523,2.607255908256383,0.19508653891686753,0.8560735737813755,-0.4664850344738756,0.47709938730138796,-0.030905356807458418,1.1579924771178767,-0.41042393514430625,-1.0028116151137298,-1.9520474045703116,0.30737972501259536,0.48281845303711146,1.511109859528105,-1.4941640878890123,-0.6344177234636945,0.8225599133704616,0.30997927856881896,-0.8388514035792496,-1.0303306421350633,1.5671753591755322,-0.21443896495268291,1.3990772123801511,-1.2052059077450616,0.06237629637033132,-0.5356071861319636,0.3764026902175658,-0.4605159189766581,-0.8814044977909182,-0.44869188504406854,0.6011005607210554,1.0945337834210023,0.08959088515086673,-0.09226180065129733,-0.2243862766479926,1.0290895837267773,0.7455846304963477,1.0262381089630686,-0.16280711266567613,0.5389670838765183,-2.5176185901296413,0.3240749283773082,-0.40803183739765314,-1.9004155709791288,1.7457811675568045,-3.187035143075339,0.21508664267208147,1.0086357440774296,0.8324213563362232,1.0801611273991403,-1.3014141587796624,0.4443865617144143,1.0375150372378812,-0.48483684952258127,-0.5226022856257523,0.5896965751372168,-1.3411231039321236,0.5837280054519673,-1.1534475698524378,-0.11207649408557195,0.790232010513971,-0.048825972635803724,-0.6382120495958978,-0.5114290862873814,-0.3720903195225852,-0.8038858383154226,0.04576400663093547,0.11488973806462226,1.1857106739451848,-0.23010183930485423,0.3904403881926993],\"xaxis\":\"x3\",\"y\":[-1.5182312484157174,-1.8855809449535939,-0.4523999566779344,-1.4642136426254893,2.2647603195178005,-1.3018054396547205,-0.029061791830883667,0.8871982945603031,0.2934406917015035,0.9154055340600108,-0.14116188134276486,-1.9003199171357033,1.1838181801203118,0.8111627617490051,0.22330870247181372,-1.0132223346121167,-0.9779679282370044,1.4318006928470863,-1.3629859890131604,0.673446670553999,1.5867153375770855,-1.5399004346150476,-1.865473488055965,-0.8594891612122892,1.1915475103414341,0.8133725372943506,0.34588767757753586,-1.466301462684535,-0.5222764671340403,0.11424214172820549,0.7202559790470581,-0.8216762204642892,-1.5235117735388843,0.4449658587671851,-0.28389472917892,-0.5187365983226652,-2.5396698782544154,0.7682101714779624,-0.7640893081414858,-2.1846667526913115,-0.8838233306582968,1.1824643100001397,2.0135419886903456,0.23633133691438366,2.460449636587777,-0.09998240434511563,-0.2520663331708616,-0.41342562732627086,-0.11892089142298772,0.40066634277757,-0.16302394422898955,0.3816461194656427,0.2508089718649011,0.864448276036272,-0.29644374113607974,-0.29019419766441296,-0.6146093747802536,-0.15177365686399796,1.1305357737677744,-0.013108447416840134,-0.03580823648650258,-0.5314257537289394,-0.5845869337113184,0.4208993727161239,0.6949122542294657,0.4074729404524667,1.6652825948892558,-0.5724244791967754,0.13281301154771438,-1.5983325919599396,-0.07543176124032766,-0.1850161558714443,0.23856011125131968,1.005467095672781,0.598825135211652,-1.2015406416985572,-1.5874631203168648,0.084783354154374,-0.8904929614212536,-0.3876337552374118,-0.47793068657708176,1.1479159509948063,0.11344071928492235,0.6048349909436674,-0.51961803454422,-0.2834117815484936,0.39581139441488217,-0.2819496415598355,-0.8394372345719991,-1.11866078798659,-0.6706275135691139,-0.49288417665376777,0.9288010569813032,1.4229740856467177,-1.1054496840152666,0.1572306958944868,-1.843841565520202,0.029157345193459853,0.03137862400023864,-0.4067566604194543],\"yaxis\":\"y3\",\"type\":\"scatter\"},{\"line\":{\"color\":\"rgba(128, 128, 128, 1.0)\",\"dash\":\"solid\",\"shape\":\"linear\",\"width\":1.3},\"marker\":{\"size\":2,\"symbol\":\"circle\"},\"mode\":\"markers\",\"name\":\"A\",\"text\":\"\",\"x\":[-1.0863777837663535,-0.29996912541113924,-1.0033918906949306,-0.16904453015905718,-0.6997307108068181,1.2166753258586926,0.3592750351441177,1.2439640623239372,-0.5618496390040558,-1.2347266503167018,-1.0552712560707131,-1.6850766070948187,-0.6322174310740899,0.6005045019381625,0.7229550803442617,-0.024235156635488617,-0.6918343580576019,-0.791691703099968,2.4503340684848522,0.2545274022655646,0.2192124818449236,-0.5010461901733768,1.0722191567638308,-1.4891428854973219,-0.40272294284264887,-0.9897698995672244,-0.4320325337676119,-1.8298092354603528,-2.06942937617893,-0.8981810286527873,0.14956635267176333,0.7954820701179105,-0.2787688466355066,0.3870529059565167,0.09185931611306569,-0.3228922884787916,0.7896583952791246,0.49859792990332374,-0.7145014322704618,0.63500400287327,0.9015625150957739,-0.0981321809807702,1.9641239372508428,0.23220510153104315,1.4919994261238152,-0.901776200402962,-0.0784636334330029,1.9101262244860717,-0.3416541667136561,0.5019694149092727,1.0486030416084549,0.878058019399183,-1.3888160678921024,-1.2101408885050597,-0.13409188298890998,-0.155497259277162,-0.500280755194522,0.7948341864672325,-1.2400630520819984,-2.0056745204948294,-0.4404789392126361,1.102868454526206,1.1652987918687758,0.6270884485984805,0.4183887743661323,0.12407913269838876,0.41651093420023944,0.5267557900844371,1.9927114934897463,1.0684934646033353,0.3348495159534268,-0.9777949504079178,0.9796192436433449,-1.1762528275911592,-1.1558232571416545,-0.3091827093439971,-0.5909544061913328,1.0210368247767818,1.1805951609276022,-1.652677794188509,-0.29831139799092427,1.111965485214708,1.0587590383444145,-1.5321538886410853,1.6453357895997287,-0.8473164859310449,-1.8726928400414544,1.7092111712887212,-0.1724347745604901,0.27939461399101706,0.47513405776655865,-0.0027110613277772175,0.026379235545402467,-0.5922158879543973,-1.21507200758291,-2.3239813281336756,-0.35363177445906324,-1.244601068564047,-0.16458822503728318,0.21553884961071865],\"xaxis\":\"x4\",\"y\":[-1.5182312484157174,-1.8855809449535939,-0.4523999566779344,-1.4642136426254893,2.2647603195178005,-1.3018054396547205,-0.029061791830883667,0.8871982945603031,0.2934406917015035,0.9154055340600108,-0.14116188134276486,-1.9003199171357033,1.1838181801203118,0.8111627617490051,0.22330870247181372,-1.0132223346121167,-0.9779679282370044,1.4318006928470863,-1.3629859890131604,0.673446670553999,1.5867153375770855,-1.5399004346150476,-1.865473488055965,-0.8594891612122892,1.1915475103414341,0.8133725372943506,0.34588767757753586,-1.466301462684535,-0.5222764671340403,0.11424214172820549,0.7202559790470581,-0.8216762204642892,-1.5235117735388843,0.4449658587671851,-0.28389472917892,-0.5187365983226652,-2.5396698782544154,0.7682101714779624,-0.7640893081414858,-2.1846667526913115,-0.8838233306582968,1.1824643100001397,2.0135419886903456,0.23633133691438366,2.460449636587777,-0.09998240434511563,-0.2520663331708616,-0.41342562732627086,-0.11892089142298772,0.40066634277757,-0.16302394422898955,0.3816461194656427,0.2508089718649011,0.864448276036272,-0.29644374113607974,-0.29019419766441296,-0.6146093747802536,-0.15177365686399796,1.1305357737677744,-0.013108447416840134,-0.03580823648650258,-0.5314257537289394,-0.5845869337113184,0.4208993727161239,0.6949122542294657,0.4074729404524667,1.6652825948892558,-0.5724244791967754,0.13281301154771438,-1.5983325919599396,-0.07543176124032766,-0.1850161558714443,0.23856011125131968,1.005467095672781,0.598825135211652,-1.2015406416985572,-1.5874631203168648,0.084783354154374,-0.8904929614212536,-0.3876337552374118,-0.47793068657708176,1.1479159509948063,0.11344071928492235,0.6048349909436674,-0.51961803454422,-0.2834117815484936,0.39581139441488217,-0.2819496415598355,-0.8394372345719991,-1.11866078798659,-0.6706275135691139,-0.49288417665376777,0.9288010569813032,1.4229740856467177,-1.1054496840152666,0.1572306958944868,-1.843841565520202,0.029157345193459853,0.03137862400023864,-0.4067566604194543],\"yaxis\":\"y4\",\"type\":\"scatter\"},{\"line\":{\"color\":\"rgba(128, 128, 128, 1.0)\",\"dash\":\"solid\",\"shape\":\"linear\",\"width\":1.3},\"marker\":{\"size\":2,\"symbol\":\"circle\"},\"mode\":\"markers\",\"name\":\"B\",\"text\":\"\",\"x\":[-1.5182312484157174,-1.8855809449535939,-0.4523999566779344,-1.4642136426254893,2.2647603195178005,-1.3018054396547205,-0.029061791830883667,0.8871982945603031,0.2934406917015035,0.9154055340600108,-0.14116188134276486,-1.9003199171357033,1.1838181801203118,0.8111627617490051,0.22330870247181372,-1.0132223346121167,-0.9779679282370044,1.4318006928470863,-1.3629859890131604,0.673446670553999,1.5867153375770855,-1.5399004346150476,-1.865473488055965,-0.8594891612122892,1.1915475103414341,0.8133725372943506,0.34588767757753586,-1.466301462684535,-0.5222764671340403,0.11424214172820549,0.7202559790470581,-0.8216762204642892,-1.5235117735388843,0.4449658587671851,-0.28389472917892,-0.5187365983226652,-2.5396698782544154,0.7682101714779624,-0.7640893081414858,-2.1846667526913115,-0.8838233306582968,1.1824643100001397,2.0135419886903456,0.23633133691438366,2.460449636587777,-0.09998240434511563,-0.2520663331708616,-0.41342562732627086,-0.11892089142298772,0.40066634277757,-0.16302394422898955,0.3816461194656427,0.2508089718649011,0.864448276036272,-0.29644374113607974,-0.29019419766441296,-0.6146093747802536,-0.15177365686399796,1.1305357737677744,-0.013108447416840134,-0.03580823648650258,-0.5314257537289394,-0.5845869337113184,0.4208993727161239,0.6949122542294657,0.4074729404524667,1.6652825948892558,-0.5724244791967754,0.13281301154771438,-1.5983325919599396,-0.07543176124032766,-0.1850161558714443,0.23856011125131968,1.005467095672781,0.598825135211652,-1.2015406416985572,-1.5874631203168648,0.084783354154374,-0.8904929614212536,-0.3876337552374118,-0.47793068657708176,1.1479159509948063,0.11344071928492235,0.6048349909436674,-0.51961803454422,-0.2834117815484936,0.39581139441488217,-0.2819496415598355,-0.8394372345719991,-1.11866078798659,-0.6706275135691139,-0.49288417665376777,0.9288010569813032,1.4229740856467177,-1.1054496840152666,0.1572306958944868,-1.843841565520202,0.029157345193459853,0.03137862400023864,-0.4067566604194543],\"xaxis\":\"x5\",\"y\":[1.147941618370113,-0.8299547834209939,0.9392967082603535,0.1910828949513799,1.5972849247352257,0.8659917939077655,-0.13457817585495618,1.0568721214430303,-1.9432194581700155,-0.2252573369881137,0.5530281112929508,-1.682094007420528,-0.7306537821180152,-0.767034756466276,1.0331829305676778,1.6828796563285107,-0.17871339540400877,-1.2356517306371546,1.5011867799311671,0.18569494912186607,0.29212289017797743,0.40348548465449763,0.5919500797736406,-1.74852486584187,-0.42974151999969795,-1.1131918365818332,-0.8152201120976881,-0.2964325858724084,0.6077511547187224,-0.9165257154926654,0.3958799995247619,1.4410006016632992,1.5350723340486652,-0.09262332912415686,0.2014590693609223,0.8440484685013404,0.15714102621146692,0.9450587080045356,2.5131920548428583,0.20077049918278642,-0.9657860389622679,-1.3093859461627482,-1.079492333208607,0.32653099177279277,2.218622381666,-0.11600489478403345,-1.012487546164819,-0.27511305834525873,1.08792686959739,1.4107093195747469,2.7709067003980006,0.7114957684374198,0.7582234955235306,1.5237138816785598,0.4637455020324181,1.511251946270096,-1.4817818330023456,-0.0795121033782538,0.02471484309624979,1.2145310742566076,0.3384691147224194,0.27373464839690553,0.318522054869221,0.5007738810050617,-0.985497112982549,-0.4187103480544071,0.0857109549200209,0.16368992248085976,-1.7893931983703721,-2.165212530313429,0.6165444430162081,-0.8190106641498023,-0.8092974599713665,0.7469041389805514,1.5428577874797613,0.8951624487009909,-0.34607759857208276,-0.6238104910780421,0.7298093735352756,-0.5971256336788214,-0.47869016470384906,0.9109499865128807,-0.865502362403827,0.46502342002076474,0.1381558262863357,0.5483422894237492,-0.4409846129957712,-0.8536437656545046,-0.31599171721226166,-0.9516515101148915,1.7612935083376915,-1.1698940830411757,0.40865295564041104,2.0201324736619446,-1.0292302175830261,-0.7803205287206606,-0.4471136102773819,1.1370239802544457,0.5249875056862872,0.7382035281710799],\"yaxis\":\"y5\",\"type\":\"scatter\"},{\"histfunc\":\"count\",\"histnorm\":\"\",\"marker\":{\"color\":\"rgba(55, 128, 191, 1.0)\",\"line\":{\"color\":\"#4D5663\",\"width\":1.3}},\"name\":\"B\",\"nbinsx\":10,\"opacity\":0.8,\"orientation\":\"v\",\"x\":[1.147941618370113,-0.8299547834209939,0.9392967082603535,0.1910828949513799,1.5972849247352257,0.8659917939077655,-0.13457817585495618,1.0568721214430303,-1.9432194581700155,-0.2252573369881137,0.5530281112929508,-1.682094007420528,-0.7306537821180152,-0.767034756466276,1.0331829305676778,1.6828796563285107,-0.17871339540400877,-1.2356517306371546,1.5011867799311671,0.18569494912186607,0.29212289017797743,0.40348548465449763,0.5919500797736406,-1.74852486584187,-0.42974151999969795,-1.1131918365818332,-0.8152201120976881,-0.2964325858724084,0.6077511547187224,-0.9165257154926654,0.3958799995247619,1.4410006016632992,1.5350723340486652,-0.09262332912415686,0.2014590693609223,0.8440484685013404,0.15714102621146692,0.9450587080045356,2.5131920548428583,0.20077049918278642,-0.9657860389622679,-1.3093859461627482,-1.079492333208607,0.32653099177279277,2.218622381666,-0.11600489478403345,-1.012487546164819,-0.27511305834525873,1.08792686959739,1.4107093195747469,2.7709067003980006,0.7114957684374198,0.7582234955235306,1.5237138816785598,0.4637455020324181,1.511251946270096,-1.4817818330023456,-0.0795121033782538,0.02471484309624979,1.2145310742566076,0.3384691147224194,0.27373464839690553,0.318522054869221,0.5007738810050617,-0.985497112982549,-0.4187103480544071,0.0857109549200209,0.16368992248085976,-1.7893931983703721,-2.165212530313429,0.6165444430162081,-0.8190106641498023,-0.8092974599713665,0.7469041389805514,1.5428577874797613,0.8951624487009909,-0.34607759857208276,-0.6238104910780421,0.7298093735352756,-0.5971256336788214,-0.47869016470384906,0.9109499865128807,-0.865502362403827,0.46502342002076474,0.1381558262863357,0.5483422894237492,-0.4409846129957712,-0.8536437656545046,-0.31599171721226166,-0.9516515101148915,1.7612935083376915,-1.1698940830411757,0.40865295564041104,2.0201324736619446,-1.0292302175830261,-0.7803205287206606,-0.4471136102773819,1.1370239802544457,0.5249875056862872,0.7382035281710799],\"xaxis\":\"x6\",\"yaxis\":\"y6\",\"type\":\"histogram\"},{\"line\":{\"color\":\"rgba(128, 128, 128, 1.0)\",\"dash\":\"solid\",\"shape\":\"linear\",\"width\":1.3},\"marker\":{\"size\":2,\"symbol\":\"circle\"},\"mode\":\"markers\",\"name\":\"B\",\"text\":\"\",\"x\":[-1.7058815433434216,1.225914822681663,1.7798196613020816,0.11282332528887537,0.5712778089739757,-1.3016317327188727,-1.923547834740313,1.1561824435069878,-0.9224755618225211,-1.0178805245092546,1.1827311368101672,-1.1073799275039704,2.072559345792646,-0.06075975357886392,0.7044013798121919,0.014653263589448915,-0.17252163969784023,-0.5502741880414889,-0.7932245180204803,-0.43981801927343,0.3048077203919516,-0.45234223086596365,-1.8659658385363225,-1.0482824887866375,0.2282252007550022,1.0145146772436389,-0.8348297533978478,1.2901976716029104,1.549030911361821,-0.03333938704835523,2.607255908256383,0.19508653891686753,0.8560735737813755,-0.4664850344738756,0.47709938730138796,-0.030905356807458418,1.1579924771178767,-0.41042393514430625,-1.0028116151137298,-1.9520474045703116,0.30737972501259536,0.48281845303711146,1.511109859528105,-1.4941640878890123,-0.6344177234636945,0.8225599133704616,0.30997927856881896,-0.8388514035792496,-1.0303306421350633,1.5671753591755322,-0.21443896495268291,1.3990772123801511,-1.2052059077450616,0.06237629637033132,-0.5356071861319636,0.3764026902175658,-0.4605159189766581,-0.8814044977909182,-0.44869188504406854,0.6011005607210554,1.0945337834210023,0.08959088515086673,-0.09226180065129733,-0.2243862766479926,1.0290895837267773,0.7455846304963477,1.0262381089630686,-0.16280711266567613,0.5389670838765183,-2.5176185901296413,0.3240749283773082,-0.40803183739765314,-1.9004155709791288,1.7457811675568045,-3.187035143075339,0.21508664267208147,1.0086357440774296,0.8324213563362232,1.0801611273991403,-1.3014141587796624,0.4443865617144143,1.0375150372378812,-0.48483684952258127,-0.5226022856257523,0.5896965751372168,-1.3411231039321236,0.5837280054519673,-1.1534475698524378,-0.11207649408557195,0.790232010513971,-0.048825972635803724,-0.6382120495958978,-0.5114290862873814,-0.3720903195225852,-0.8038858383154226,0.04576400663093547,0.11488973806462226,1.1857106739451848,-0.23010183930485423,0.3904403881926993],\"xaxis\":\"x7\",\"y\":[1.147941618370113,-0.8299547834209939,0.9392967082603535,0.1910828949513799,1.5972849247352257,0.8659917939077655,-0.13457817585495618,1.0568721214430303,-1.9432194581700155,-0.2252573369881137,0.5530281112929508,-1.682094007420528,-0.7306537821180152,-0.767034756466276,1.0331829305676778,1.6828796563285107,-0.17871339540400877,-1.2356517306371546,1.5011867799311671,0.18569494912186607,0.29212289017797743,0.40348548465449763,0.5919500797736406,-1.74852486584187,-0.42974151999969795,-1.1131918365818332,-0.8152201120976881,-0.2964325858724084,0.6077511547187224,-0.9165257154926654,0.3958799995247619,1.4410006016632992,1.5350723340486652,-0.09262332912415686,0.2014590693609223,0.8440484685013404,0.15714102621146692,0.9450587080045356,2.5131920548428583,0.20077049918278642,-0.9657860389622679,-1.3093859461627482,-1.079492333208607,0.32653099177279277,2.218622381666,-0.11600489478403345,-1.012487546164819,-0.27511305834525873,1.08792686959739,1.4107093195747469,2.7709067003980006,0.7114957684374198,0.7582234955235306,1.5237138816785598,0.4637455020324181,1.511251946270096,-1.4817818330023456,-0.0795121033782538,0.02471484309624979,1.2145310742566076,0.3384691147224194,0.27373464839690553,0.318522054869221,0.5007738810050617,-0.985497112982549,-0.4187103480544071,0.0857109549200209,0.16368992248085976,-1.7893931983703721,-2.165212530313429,0.6165444430162081,-0.8190106641498023,-0.8092974599713665,0.7469041389805514,1.5428577874797613,0.8951624487009909,-0.34607759857208276,-0.6238104910780421,0.7298093735352756,-0.5971256336788214,-0.47869016470384906,0.9109499865128807,-0.865502362403827,0.46502342002076474,0.1381558262863357,0.5483422894237492,-0.4409846129957712,-0.8536437656545046,-0.31599171721226166,-0.9516515101148915,1.7612935083376915,-1.1698940830411757,0.40865295564041104,2.0201324736619446,-1.0292302175830261,-0.7803205287206606,-0.4471136102773819,1.1370239802544457,0.5249875056862872,0.7382035281710799],\"yaxis\":\"y7\",\"type\":\"scatter\"},{\"line\":{\"color\":\"rgba(128, 128, 128, 1.0)\",\"dash\":\"solid\",\"shape\":\"linear\",\"width\":1.3},\"marker\":{\"size\":2,\"symbol\":\"circle\"},\"mode\":\"markers\",\"name\":\"B\",\"text\":\"\",\"x\":[-1.0863777837663535,-0.29996912541113924,-1.0033918906949306,-0.16904453015905718,-0.6997307108068181,1.2166753258586926,0.3592750351441177,1.2439640623239372,-0.5618496390040558,-1.2347266503167018,-1.0552712560707131,-1.6850766070948187,-0.6322174310740899,0.6005045019381625,0.7229550803442617,-0.024235156635488617,-0.6918343580576019,-0.791691703099968,2.4503340684848522,0.2545274022655646,0.2192124818449236,-0.5010461901733768,1.0722191567638308,-1.4891428854973219,-0.40272294284264887,-0.9897698995672244,-0.4320325337676119,-1.8298092354603528,-2.06942937617893,-0.8981810286527873,0.14956635267176333,0.7954820701179105,-0.2787688466355066,0.3870529059565167,0.09185931611306569,-0.3228922884787916,0.7896583952791246,0.49859792990332374,-0.7145014322704618,0.63500400287327,0.9015625150957739,-0.0981321809807702,1.9641239372508428,0.23220510153104315,1.4919994261238152,-0.901776200402962,-0.0784636334330029,1.9101262244860717,-0.3416541667136561,0.5019694149092727,1.0486030416084549,0.878058019399183,-1.3888160678921024,-1.2101408885050597,-0.13409188298890998,-0.155497259277162,-0.500280755194522,0.7948341864672325,-1.2400630520819984,-2.0056745204948294,-0.4404789392126361,1.102868454526206,1.1652987918687758,0.6270884485984805,0.4183887743661323,0.12407913269838876,0.41651093420023944,0.5267557900844371,1.9927114934897463,1.0684934646033353,0.3348495159534268,-0.9777949504079178,0.9796192436433449,-1.1762528275911592,-1.1558232571416545,-0.3091827093439971,-0.5909544061913328,1.0210368247767818,1.1805951609276022,-1.652677794188509,-0.29831139799092427,1.111965485214708,1.0587590383444145,-1.5321538886410853,1.6453357895997287,-0.8473164859310449,-1.8726928400414544,1.7092111712887212,-0.1724347745604901,0.27939461399101706,0.47513405776655865,-0.0027110613277772175,0.026379235545402467,-0.5922158879543973,-1.21507200758291,-2.3239813281336756,-0.35363177445906324,-1.244601068564047,-0.16458822503728318,0.21553884961071865],\"xaxis\":\"x8\",\"y\":[1.147941618370113,-0.8299547834209939,0.9392967082603535,0.1910828949513799,1.5972849247352257,0.8659917939077655,-0.13457817585495618,1.0568721214430303,-1.9432194581700155,-0.2252573369881137,0.5530281112929508,-1.682094007420528,-0.7306537821180152,-0.767034756466276,1.0331829305676778,1.6828796563285107,-0.17871339540400877,-1.2356517306371546,1.5011867799311671,0.18569494912186607,0.29212289017797743,0.40348548465449763,0.5919500797736406,-1.74852486584187,-0.42974151999969795,-1.1131918365818332,-0.8152201120976881,-0.2964325858724084,0.6077511547187224,-0.9165257154926654,0.3958799995247619,1.4410006016632992,1.5350723340486652,-0.09262332912415686,0.2014590693609223,0.8440484685013404,0.15714102621146692,0.9450587080045356,2.5131920548428583,0.20077049918278642,-0.9657860389622679,-1.3093859461627482,-1.079492333208607,0.32653099177279277,2.218622381666,-0.11600489478403345,-1.012487546164819,-0.27511305834525873,1.08792686959739,1.4107093195747469,2.7709067003980006,0.7114957684374198,0.7582234955235306,1.5237138816785598,0.4637455020324181,1.511251946270096,-1.4817818330023456,-0.0795121033782538,0.02471484309624979,1.2145310742566076,0.3384691147224194,0.27373464839690553,0.318522054869221,0.5007738810050617,-0.985497112982549,-0.4187103480544071,0.0857109549200209,0.16368992248085976,-1.7893931983703721,-2.165212530313429,0.6165444430162081,-0.8190106641498023,-0.8092974599713665,0.7469041389805514,1.5428577874797613,0.8951624487009909,-0.34607759857208276,-0.6238104910780421,0.7298093735352756,-0.5971256336788214,-0.47869016470384906,0.9109499865128807,-0.865502362403827,0.46502342002076474,0.1381558262863357,0.5483422894237492,-0.4409846129957712,-0.8536437656545046,-0.31599171721226166,-0.9516515101148915,1.7612935083376915,-1.1698940830411757,0.40865295564041104,2.0201324736619446,-1.0292302175830261,-0.7803205287206606,-0.4471136102773819,1.1370239802544457,0.5249875056862872,0.7382035281710799],\"yaxis\":\"y8\",\"type\":\"scatter\"},{\"line\":{\"color\":\"rgba(128, 128, 128, 1.0)\",\"dash\":\"solid\",\"shape\":\"linear\",\"width\":1.3},\"marker\":{\"size\":2,\"symbol\":\"circle\"},\"mode\":\"markers\",\"name\":\"C\",\"text\":\"\",\"x\":[-1.5182312484157174,-1.8855809449535939,-0.4523999566779344,-1.4642136426254893,2.2647603195178005,-1.3018054396547205,-0.029061791830883667,0.8871982945603031,0.2934406917015035,0.9154055340600108,-0.14116188134276486,-1.9003199171357033,1.1838181801203118,0.8111627617490051,0.22330870247181372,-1.0132223346121167,-0.9779679282370044,1.4318006928470863,-1.3629859890131604,0.673446670553999,1.5867153375770855,-1.5399004346150476,-1.865473488055965,-0.8594891612122892,1.1915475103414341,0.8133725372943506,0.34588767757753586,-1.466301462684535,-0.5222764671340403,0.11424214172820549,0.7202559790470581,-0.8216762204642892,-1.5235117735388843,0.4449658587671851,-0.28389472917892,-0.5187365983226652,-2.5396698782544154,0.7682101714779624,-0.7640893081414858,-2.1846667526913115,-0.8838233306582968,1.1824643100001397,2.0135419886903456,0.23633133691438366,2.460449636587777,-0.09998240434511563,-0.2520663331708616,-0.41342562732627086,-0.11892089142298772,0.40066634277757,-0.16302394422898955,0.3816461194656427,0.2508089718649011,0.864448276036272,-0.29644374113607974,-0.29019419766441296,-0.6146093747802536,-0.15177365686399796,1.1305357737677744,-0.013108447416840134,-0.03580823648650258,-0.5314257537289394,-0.5845869337113184,0.4208993727161239,0.6949122542294657,0.4074729404524667,1.6652825948892558,-0.5724244791967754,0.13281301154771438,-1.5983325919599396,-0.07543176124032766,-0.1850161558714443,0.23856011125131968,1.005467095672781,0.598825135211652,-1.2015406416985572,-1.5874631203168648,0.084783354154374,-0.8904929614212536,-0.3876337552374118,-0.47793068657708176,1.1479159509948063,0.11344071928492235,0.6048349909436674,-0.51961803454422,-0.2834117815484936,0.39581139441488217,-0.2819496415598355,-0.8394372345719991,-1.11866078798659,-0.6706275135691139,-0.49288417665376777,0.9288010569813032,1.4229740856467177,-1.1054496840152666,0.1572306958944868,-1.843841565520202,0.029157345193459853,0.03137862400023864,-0.4067566604194543],\"xaxis\":\"x9\",\"y\":[-1.7058815433434216,1.225914822681663,1.7798196613020816,0.11282332528887537,0.5712778089739757,-1.3016317327188727,-1.923547834740313,1.1561824435069878,-0.9224755618225211,-1.0178805245092546,1.1827311368101672,-1.1073799275039704,2.072559345792646,-0.06075975357886392,0.7044013798121919,0.014653263589448915,-0.17252163969784023,-0.5502741880414889,-0.7932245180204803,-0.43981801927343,0.3048077203919516,-0.45234223086596365,-1.8659658385363225,-1.0482824887866375,0.2282252007550022,1.0145146772436389,-0.8348297533978478,1.2901976716029104,1.549030911361821,-0.03333938704835523,2.607255908256383,0.19508653891686753,0.8560735737813755,-0.4664850344738756,0.47709938730138796,-0.030905356807458418,1.1579924771178767,-0.41042393514430625,-1.0028116151137298,-1.9520474045703116,0.30737972501259536,0.48281845303711146,1.511109859528105,-1.4941640878890123,-0.6344177234636945,0.8225599133704616,0.30997927856881896,-0.8388514035792496,-1.0303306421350633,1.5671753591755322,-0.21443896495268291,1.3990772123801511,-1.2052059077450616,0.06237629637033132,-0.5356071861319636,0.3764026902175658,-0.4605159189766581,-0.8814044977909182,-0.44869188504406854,0.6011005607210554,1.0945337834210023,0.08959088515086673,-0.09226180065129733,-0.2243862766479926,1.0290895837267773,0.7455846304963477,1.0262381089630686,-0.16280711266567613,0.5389670838765183,-2.5176185901296413,0.3240749283773082,-0.40803183739765314,-1.9004155709791288,1.7457811675568045,-3.187035143075339,0.21508664267208147,1.0086357440774296,0.8324213563362232,1.0801611273991403,-1.3014141587796624,0.4443865617144143,1.0375150372378812,-0.48483684952258127,-0.5226022856257523,0.5896965751372168,-1.3411231039321236,0.5837280054519673,-1.1534475698524378,-0.11207649408557195,0.790232010513971,-0.048825972635803724,-0.6382120495958978,-0.5114290862873814,-0.3720903195225852,-0.8038858383154226,0.04576400663093547,0.11488973806462226,1.1857106739451848,-0.23010183930485423,0.3904403881926993],\"yaxis\":\"y9\",\"type\":\"scatter\"},{\"line\":{\"color\":\"rgba(128, 128, 128, 1.0)\",\"dash\":\"solid\",\"shape\":\"linear\",\"width\":1.3},\"marker\":{\"size\":2,\"symbol\":\"circle\"},\"mode\":\"markers\",\"name\":\"C\",\"text\":\"\",\"x\":[1.147941618370113,-0.8299547834209939,0.9392967082603535,0.1910828949513799,1.5972849247352257,0.8659917939077655,-0.13457817585495618,1.0568721214430303,-1.9432194581700155,-0.2252573369881137,0.5530281112929508,-1.682094007420528,-0.7306537821180152,-0.767034756466276,1.0331829305676778,1.6828796563285107,-0.17871339540400877,-1.2356517306371546,1.5011867799311671,0.18569494912186607,0.29212289017797743,0.40348548465449763,0.5919500797736406,-1.74852486584187,-0.42974151999969795,-1.1131918365818332,-0.8152201120976881,-0.2964325858724084,0.6077511547187224,-0.9165257154926654,0.3958799995247619,1.4410006016632992,1.5350723340486652,-0.09262332912415686,0.2014590693609223,0.8440484685013404,0.15714102621146692,0.9450587080045356,2.5131920548428583,0.20077049918278642,-0.9657860389622679,-1.3093859461627482,-1.079492333208607,0.32653099177279277,2.218622381666,-0.11600489478403345,-1.012487546164819,-0.27511305834525873,1.08792686959739,1.4107093195747469,2.7709067003980006,0.7114957684374198,0.7582234955235306,1.5237138816785598,0.4637455020324181,1.511251946270096,-1.4817818330023456,-0.0795121033782538,0.02471484309624979,1.2145310742566076,0.3384691147224194,0.27373464839690553,0.318522054869221,0.5007738810050617,-0.985497112982549,-0.4187103480544071,0.0857109549200209,0.16368992248085976,-1.7893931983703721,-2.165212530313429,0.6165444430162081,-0.8190106641498023,-0.8092974599713665,0.7469041389805514,1.5428577874797613,0.8951624487009909,-0.34607759857208276,-0.6238104910780421,0.7298093735352756,-0.5971256336788214,-0.47869016470384906,0.9109499865128807,-0.865502362403827,0.46502342002076474,0.1381558262863357,0.5483422894237492,-0.4409846129957712,-0.8536437656545046,-0.31599171721226166,-0.9516515101148915,1.7612935083376915,-1.1698940830411757,0.40865295564041104,2.0201324736619446,-1.0292302175830261,-0.7803205287206606,-0.4471136102773819,1.1370239802544457,0.5249875056862872,0.7382035281710799],\"xaxis\":\"x10\",\"y\":[-1.7058815433434216,1.225914822681663,1.7798196613020816,0.11282332528887537,0.5712778089739757,-1.3016317327188727,-1.923547834740313,1.1561824435069878,-0.9224755618225211,-1.0178805245092546,1.1827311368101672,-1.1073799275039704,2.072559345792646,-0.06075975357886392,0.7044013798121919,0.014653263589448915,-0.17252163969784023,-0.5502741880414889,-0.7932245180204803,-0.43981801927343,0.3048077203919516,-0.45234223086596365,-1.8659658385363225,-1.0482824887866375,0.2282252007550022,1.0145146772436389,-0.8348297533978478,1.2901976716029104,1.549030911361821,-0.03333938704835523,2.607255908256383,0.19508653891686753,0.8560735737813755,-0.4664850344738756,0.47709938730138796,-0.030905356807458418,1.1579924771178767,-0.41042393514430625,-1.0028116151137298,-1.9520474045703116,0.30737972501259536,0.48281845303711146,1.511109859528105,-1.4941640878890123,-0.6344177234636945,0.8225599133704616,0.30997927856881896,-0.8388514035792496,-1.0303306421350633,1.5671753591755322,-0.21443896495268291,1.3990772123801511,-1.2052059077450616,0.06237629637033132,-0.5356071861319636,0.3764026902175658,-0.4605159189766581,-0.8814044977909182,-0.44869188504406854,0.6011005607210554,1.0945337834210023,0.08959088515086673,-0.09226180065129733,-0.2243862766479926,1.0290895837267773,0.7455846304963477,1.0262381089630686,-0.16280711266567613,0.5389670838765183,-2.5176185901296413,0.3240749283773082,-0.40803183739765314,-1.9004155709791288,1.7457811675568045,-3.187035143075339,0.21508664267208147,1.0086357440774296,0.8324213563362232,1.0801611273991403,-1.3014141587796624,0.4443865617144143,1.0375150372378812,-0.48483684952258127,-0.5226022856257523,0.5896965751372168,-1.3411231039321236,0.5837280054519673,-1.1534475698524378,-0.11207649408557195,0.790232010513971,-0.048825972635803724,-0.6382120495958978,-0.5114290862873814,-0.3720903195225852,-0.8038858383154226,0.04576400663093547,0.11488973806462226,1.1857106739451848,-0.23010183930485423,0.3904403881926993],\"yaxis\":\"y10\",\"type\":\"scatter\"},{\"histfunc\":\"count\",\"histnorm\":\"\",\"marker\":{\"color\":\"rgba(50, 171, 96, 1.0)\",\"line\":{\"color\":\"#4D5663\",\"width\":1.3}},\"name\":\"C\",\"nbinsx\":10,\"opacity\":0.8,\"orientation\":\"v\",\"x\":[-1.7058815433434216,1.225914822681663,1.7798196613020816,0.11282332528887537,0.5712778089739757,-1.3016317327188727,-1.923547834740313,1.1561824435069878,-0.9224755618225211,-1.0178805245092546,1.1827311368101672,-1.1073799275039704,2.072559345792646,-0.06075975357886392,0.7044013798121919,0.014653263589448915,-0.17252163969784023,-0.5502741880414889,-0.7932245180204803,-0.43981801927343,0.3048077203919516,-0.45234223086596365,-1.8659658385363225,-1.0482824887866375,0.2282252007550022,1.0145146772436389,-0.8348297533978478,1.2901976716029104,1.549030911361821,-0.03333938704835523,2.607255908256383,0.19508653891686753,0.8560735737813755,-0.4664850344738756,0.47709938730138796,-0.030905356807458418,1.1579924771178767,-0.41042393514430625,-1.0028116151137298,-1.9520474045703116,0.30737972501259536,0.48281845303711146,1.511109859528105,-1.4941640878890123,-0.6344177234636945,0.8225599133704616,0.30997927856881896,-0.8388514035792496,-1.0303306421350633,1.5671753591755322,-0.21443896495268291,1.3990772123801511,-1.2052059077450616,0.06237629637033132,-0.5356071861319636,0.3764026902175658,-0.4605159189766581,-0.8814044977909182,-0.44869188504406854,0.6011005607210554,1.0945337834210023,0.08959088515086673,-0.09226180065129733,-0.2243862766479926,1.0290895837267773,0.7455846304963477,1.0262381089630686,-0.16280711266567613,0.5389670838765183,-2.5176185901296413,0.3240749283773082,-0.40803183739765314,-1.9004155709791288,1.7457811675568045,-3.187035143075339,0.21508664267208147,1.0086357440774296,0.8324213563362232,1.0801611273991403,-1.3014141587796624,0.4443865617144143,1.0375150372378812,-0.48483684952258127,-0.5226022856257523,0.5896965751372168,-1.3411231039321236,0.5837280054519673,-1.1534475698524378,-0.11207649408557195,0.790232010513971,-0.048825972635803724,-0.6382120495958978,-0.5114290862873814,-0.3720903195225852,-0.8038858383154226,0.04576400663093547,0.11488973806462226,1.1857106739451848,-0.23010183930485423,0.3904403881926993],\"xaxis\":\"x11\",\"yaxis\":\"y11\",\"type\":\"histogram\"},{\"line\":{\"color\":\"rgba(128, 128, 128, 1.0)\",\"dash\":\"solid\",\"shape\":\"linear\",\"width\":1.3},\"marker\":{\"size\":2,\"symbol\":\"circle\"},\"mode\":\"markers\",\"name\":\"C\",\"text\":\"\",\"x\":[-1.0863777837663535,-0.29996912541113924,-1.0033918906949306,-0.16904453015905718,-0.6997307108068181,1.2166753258586926,0.3592750351441177,1.2439640623239372,-0.5618496390040558,-1.2347266503167018,-1.0552712560707131,-1.6850766070948187,-0.6322174310740899,0.6005045019381625,0.7229550803442617,-0.024235156635488617,-0.6918343580576019,-0.791691703099968,2.4503340684848522,0.2545274022655646,0.2192124818449236,-0.5010461901733768,1.0722191567638308,-1.4891428854973219,-0.40272294284264887,-0.9897698995672244,-0.4320325337676119,-1.8298092354603528,-2.06942937617893,-0.8981810286527873,0.14956635267176333,0.7954820701179105,-0.2787688466355066,0.3870529059565167,0.09185931611306569,-0.3228922884787916,0.7896583952791246,0.49859792990332374,-0.7145014322704618,0.63500400287327,0.9015625150957739,-0.0981321809807702,1.9641239372508428,0.23220510153104315,1.4919994261238152,-0.901776200402962,-0.0784636334330029,1.9101262244860717,-0.3416541667136561,0.5019694149092727,1.0486030416084549,0.878058019399183,-1.3888160678921024,-1.2101408885050597,-0.13409188298890998,-0.155497259277162,-0.500280755194522,0.7948341864672325,-1.2400630520819984,-2.0056745204948294,-0.4404789392126361,1.102868454526206,1.1652987918687758,0.6270884485984805,0.4183887743661323,0.12407913269838876,0.41651093420023944,0.5267557900844371,1.9927114934897463,1.0684934646033353,0.3348495159534268,-0.9777949504079178,0.9796192436433449,-1.1762528275911592,-1.1558232571416545,-0.3091827093439971,-0.5909544061913328,1.0210368247767818,1.1805951609276022,-1.652677794188509,-0.29831139799092427,1.111965485214708,1.0587590383444145,-1.5321538886410853,1.6453357895997287,-0.8473164859310449,-1.8726928400414544,1.7092111712887212,-0.1724347745604901,0.27939461399101706,0.47513405776655865,-0.0027110613277772175,0.026379235545402467,-0.5922158879543973,-1.21507200758291,-2.3239813281336756,-0.35363177445906324,-1.244601068564047,-0.16458822503728318,0.21553884961071865],\"xaxis\":\"x12\",\"y\":[-1.7058815433434216,1.225914822681663,1.7798196613020816,0.11282332528887537,0.5712778089739757,-1.3016317327188727,-1.923547834740313,1.1561824435069878,-0.9224755618225211,-1.0178805245092546,1.1827311368101672,-1.1073799275039704,2.072559345792646,-0.06075975357886392,0.7044013798121919,0.014653263589448915,-0.17252163969784023,-0.5502741880414889,-0.7932245180204803,-0.43981801927343,0.3048077203919516,-0.45234223086596365,-1.8659658385363225,-1.0482824887866375,0.2282252007550022,1.0145146772436389,-0.8348297533978478,1.2901976716029104,1.549030911361821,-0.03333938704835523,2.607255908256383,0.19508653891686753,0.8560735737813755,-0.4664850344738756,0.47709938730138796,-0.030905356807458418,1.1579924771178767,-0.41042393514430625,-1.0028116151137298,-1.9520474045703116,0.30737972501259536,0.48281845303711146,1.511109859528105,-1.4941640878890123,-0.6344177234636945,0.8225599133704616,0.30997927856881896,-0.8388514035792496,-1.0303306421350633,1.5671753591755322,-0.21443896495268291,1.3990772123801511,-1.2052059077450616,0.06237629637033132,-0.5356071861319636,0.3764026902175658,-0.4605159189766581,-0.8814044977909182,-0.44869188504406854,0.6011005607210554,1.0945337834210023,0.08959088515086673,-0.09226180065129733,-0.2243862766479926,1.0290895837267773,0.7455846304963477,1.0262381089630686,-0.16280711266567613,0.5389670838765183,-2.5176185901296413,0.3240749283773082,-0.40803183739765314,-1.9004155709791288,1.7457811675568045,-3.187035143075339,0.21508664267208147,1.0086357440774296,0.8324213563362232,1.0801611273991403,-1.3014141587796624,0.4443865617144143,1.0375150372378812,-0.48483684952258127,-0.5226022856257523,0.5896965751372168,-1.3411231039321236,0.5837280054519673,-1.1534475698524378,-0.11207649408557195,0.790232010513971,-0.048825972635803724,-0.6382120495958978,-0.5114290862873814,-0.3720903195225852,-0.8038858383154226,0.04576400663093547,0.11488973806462226,1.1857106739451848,-0.23010183930485423,0.3904403881926993],\"yaxis\":\"y12\",\"type\":\"scatter\"},{\"line\":{\"color\":\"rgba(128, 128, 128, 1.0)\",\"dash\":\"solid\",\"shape\":\"linear\",\"width\":1.3},\"marker\":{\"size\":2,\"symbol\":\"circle\"},\"mode\":\"markers\",\"name\":\"D\",\"text\":\"\",\"x\":[-1.5182312484157174,-1.8855809449535939,-0.4523999566779344,-1.4642136426254893,2.2647603195178005,-1.3018054396547205,-0.029061791830883667,0.8871982945603031,0.2934406917015035,0.9154055340600108,-0.14116188134276486,-1.9003199171357033,1.1838181801203118,0.8111627617490051,0.22330870247181372,-1.0132223346121167,-0.9779679282370044,1.4318006928470863,-1.3629859890131604,0.673446670553999,1.5867153375770855,-1.5399004346150476,-1.865473488055965,-0.8594891612122892,1.1915475103414341,0.8133725372943506,0.34588767757753586,-1.466301462684535,-0.5222764671340403,0.11424214172820549,0.7202559790470581,-0.8216762204642892,-1.5235117735388843,0.4449658587671851,-0.28389472917892,-0.5187365983226652,-2.5396698782544154,0.7682101714779624,-0.7640893081414858,-2.1846667526913115,-0.8838233306582968,1.1824643100001397,2.0135419886903456,0.23633133691438366,2.460449636587777,-0.09998240434511563,-0.2520663331708616,-0.41342562732627086,-0.11892089142298772,0.40066634277757,-0.16302394422898955,0.3816461194656427,0.2508089718649011,0.864448276036272,-0.29644374113607974,-0.29019419766441296,-0.6146093747802536,-0.15177365686399796,1.1305357737677744,-0.013108447416840134,-0.03580823648650258,-0.5314257537289394,-0.5845869337113184,0.4208993727161239,0.6949122542294657,0.4074729404524667,1.6652825948892558,-0.5724244791967754,0.13281301154771438,-1.5983325919599396,-0.07543176124032766,-0.1850161558714443,0.23856011125131968,1.005467095672781,0.598825135211652,-1.2015406416985572,-1.5874631203168648,0.084783354154374,-0.8904929614212536,-0.3876337552374118,-0.47793068657708176,1.1479159509948063,0.11344071928492235,0.6048349909436674,-0.51961803454422,-0.2834117815484936,0.39581139441488217,-0.2819496415598355,-0.8394372345719991,-1.11866078798659,-0.6706275135691139,-0.49288417665376777,0.9288010569813032,1.4229740856467177,-1.1054496840152666,0.1572306958944868,-1.843841565520202,0.029157345193459853,0.03137862400023864,-0.4067566604194543],\"xaxis\":\"x13\",\"y\":[-1.0863777837663535,-0.29996912541113924,-1.0033918906949306,-0.16904453015905718,-0.6997307108068181,1.2166753258586926,0.3592750351441177,1.2439640623239372,-0.5618496390040558,-1.2347266503167018,-1.0552712560707131,-1.6850766070948187,-0.6322174310740899,0.6005045019381625,0.7229550803442617,-0.024235156635488617,-0.6918343580576019,-0.791691703099968,2.4503340684848522,0.2545274022655646,0.2192124818449236,-0.5010461901733768,1.0722191567638308,-1.4891428854973219,-0.40272294284264887,-0.9897698995672244,-0.4320325337676119,-1.8298092354603528,-2.06942937617893,-0.8981810286527873,0.14956635267176333,0.7954820701179105,-0.2787688466355066,0.3870529059565167,0.09185931611306569,-0.3228922884787916,0.7896583952791246,0.49859792990332374,-0.7145014322704618,0.63500400287327,0.9015625150957739,-0.0981321809807702,1.9641239372508428,0.23220510153104315,1.4919994261238152,-0.901776200402962,-0.0784636334330029,1.9101262244860717,-0.3416541667136561,0.5019694149092727,1.0486030416084549,0.878058019399183,-1.3888160678921024,-1.2101408885050597,-0.13409188298890998,-0.155497259277162,-0.500280755194522,0.7948341864672325,-1.2400630520819984,-2.0056745204948294,-0.4404789392126361,1.102868454526206,1.1652987918687758,0.6270884485984805,0.4183887743661323,0.12407913269838876,0.41651093420023944,0.5267557900844371,1.9927114934897463,1.0684934646033353,0.3348495159534268,-0.9777949504079178,0.9796192436433449,-1.1762528275911592,-1.1558232571416545,-0.3091827093439971,-0.5909544061913328,1.0210368247767818,1.1805951609276022,-1.652677794188509,-0.29831139799092427,1.111965485214708,1.0587590383444145,-1.5321538886410853,1.6453357895997287,-0.8473164859310449,-1.8726928400414544,1.7092111712887212,-0.1724347745604901,0.27939461399101706,0.47513405776655865,-0.0027110613277772175,0.026379235545402467,-0.5922158879543973,-1.21507200758291,-2.3239813281336756,-0.35363177445906324,-1.244601068564047,-0.16458822503728318,0.21553884961071865],\"yaxis\":\"y13\",\"type\":\"scatter\"},{\"line\":{\"color\":\"rgba(128, 128, 128, 1.0)\",\"dash\":\"solid\",\"shape\":\"linear\",\"width\":1.3},\"marker\":{\"size\":2,\"symbol\":\"circle\"},\"mode\":\"markers\",\"name\":\"D\",\"text\":\"\",\"x\":[1.147941618370113,-0.8299547834209939,0.9392967082603535,0.1910828949513799,1.5972849247352257,0.8659917939077655,-0.13457817585495618,1.0568721214430303,-1.9432194581700155,-0.2252573369881137,0.5530281112929508,-1.682094007420528,-0.7306537821180152,-0.767034756466276,1.0331829305676778,1.6828796563285107,-0.17871339540400877,-1.2356517306371546,1.5011867799311671,0.18569494912186607,0.29212289017797743,0.40348548465449763,0.5919500797736406,-1.74852486584187,-0.42974151999969795,-1.1131918365818332,-0.8152201120976881,-0.2964325858724084,0.6077511547187224,-0.9165257154926654,0.3958799995247619,1.4410006016632992,1.5350723340486652,-0.09262332912415686,0.2014590693609223,0.8440484685013404,0.15714102621146692,0.9450587080045356,2.5131920548428583,0.20077049918278642,-0.9657860389622679,-1.3093859461627482,-1.079492333208607,0.32653099177279277,2.218622381666,-0.11600489478403345,-1.012487546164819,-0.27511305834525873,1.08792686959739,1.4107093195747469,2.7709067003980006,0.7114957684374198,0.7582234955235306,1.5237138816785598,0.4637455020324181,1.511251946270096,-1.4817818330023456,-0.0795121033782538,0.02471484309624979,1.2145310742566076,0.3384691147224194,0.27373464839690553,0.318522054869221,0.5007738810050617,-0.985497112982549,-0.4187103480544071,0.0857109549200209,0.16368992248085976,-1.7893931983703721,-2.165212530313429,0.6165444430162081,-0.8190106641498023,-0.8092974599713665,0.7469041389805514,1.5428577874797613,0.8951624487009909,-0.34607759857208276,-0.6238104910780421,0.7298093735352756,-0.5971256336788214,-0.47869016470384906,0.9109499865128807,-0.865502362403827,0.46502342002076474,0.1381558262863357,0.5483422894237492,-0.4409846129957712,-0.8536437656545046,-0.31599171721226166,-0.9516515101148915,1.7612935083376915,-1.1698940830411757,0.40865295564041104,2.0201324736619446,-1.0292302175830261,-0.7803205287206606,-0.4471136102773819,1.1370239802544457,0.5249875056862872,0.7382035281710799],\"xaxis\":\"x14\",\"y\":[-1.0863777837663535,-0.29996912541113924,-1.0033918906949306,-0.16904453015905718,-0.6997307108068181,1.2166753258586926,0.3592750351441177,1.2439640623239372,-0.5618496390040558,-1.2347266503167018,-1.0552712560707131,-1.6850766070948187,-0.6322174310740899,0.6005045019381625,0.7229550803442617,-0.024235156635488617,-0.6918343580576019,-0.791691703099968,2.4503340684848522,0.2545274022655646,0.2192124818449236,-0.5010461901733768,1.0722191567638308,-1.4891428854973219,-0.40272294284264887,-0.9897698995672244,-0.4320325337676119,-1.8298092354603528,-2.06942937617893,-0.8981810286527873,0.14956635267176333,0.7954820701179105,-0.2787688466355066,0.3870529059565167,0.09185931611306569,-0.3228922884787916,0.7896583952791246,0.49859792990332374,-0.7145014322704618,0.63500400287327,0.9015625150957739,-0.0981321809807702,1.9641239372508428,0.23220510153104315,1.4919994261238152,-0.901776200402962,-0.0784636334330029,1.9101262244860717,-0.3416541667136561,0.5019694149092727,1.0486030416084549,0.878058019399183,-1.3888160678921024,-1.2101408885050597,-0.13409188298890998,-0.155497259277162,-0.500280755194522,0.7948341864672325,-1.2400630520819984,-2.0056745204948294,-0.4404789392126361,1.102868454526206,1.1652987918687758,0.6270884485984805,0.4183887743661323,0.12407913269838876,0.41651093420023944,0.5267557900844371,1.9927114934897463,1.0684934646033353,0.3348495159534268,-0.9777949504079178,0.9796192436433449,-1.1762528275911592,-1.1558232571416545,-0.3091827093439971,-0.5909544061913328,1.0210368247767818,1.1805951609276022,-1.652677794188509,-0.29831139799092427,1.111965485214708,1.0587590383444145,-1.5321538886410853,1.6453357895997287,-0.8473164859310449,-1.8726928400414544,1.7092111712887212,-0.1724347745604901,0.27939461399101706,0.47513405776655865,-0.0027110613277772175,0.026379235545402467,-0.5922158879543973,-1.21507200758291,-2.3239813281336756,-0.35363177445906324,-1.244601068564047,-0.16458822503728318,0.21553884961071865],\"yaxis\":\"y14\",\"type\":\"scatter\"},{\"line\":{\"color\":\"rgba(128, 128, 128, 1.0)\",\"dash\":\"solid\",\"shape\":\"linear\",\"width\":1.3},\"marker\":{\"size\":2,\"symbol\":\"circle\"},\"mode\":\"markers\",\"name\":\"D\",\"text\":\"\",\"x\":[-1.7058815433434216,1.225914822681663,1.7798196613020816,0.11282332528887537,0.5712778089739757,-1.3016317327188727,-1.923547834740313,1.1561824435069878,-0.9224755618225211,-1.0178805245092546,1.1827311368101672,-1.1073799275039704,2.072559345792646,-0.06075975357886392,0.7044013798121919,0.014653263589448915,-0.17252163969784023,-0.5502741880414889,-0.7932245180204803,-0.43981801927343,0.3048077203919516,-0.45234223086596365,-1.8659658385363225,-1.0482824887866375,0.2282252007550022,1.0145146772436389,-0.8348297533978478,1.2901976716029104,1.549030911361821,-0.03333938704835523,2.607255908256383,0.19508653891686753,0.8560735737813755,-0.4664850344738756,0.47709938730138796,-0.030905356807458418,1.1579924771178767,-0.41042393514430625,-1.0028116151137298,-1.9520474045703116,0.30737972501259536,0.48281845303711146,1.511109859528105,-1.4941640878890123,-0.6344177234636945,0.8225599133704616,0.30997927856881896,-0.8388514035792496,-1.0303306421350633,1.5671753591755322,-0.21443896495268291,1.3990772123801511,-1.2052059077450616,0.06237629637033132,-0.5356071861319636,0.3764026902175658,-0.4605159189766581,-0.8814044977909182,-0.44869188504406854,0.6011005607210554,1.0945337834210023,0.08959088515086673,-0.09226180065129733,-0.2243862766479926,1.0290895837267773,0.7455846304963477,1.0262381089630686,-0.16280711266567613,0.5389670838765183,-2.5176185901296413,0.3240749283773082,-0.40803183739765314,-1.9004155709791288,1.7457811675568045,-3.187035143075339,0.21508664267208147,1.0086357440774296,0.8324213563362232,1.0801611273991403,-1.3014141587796624,0.4443865617144143,1.0375150372378812,-0.48483684952258127,-0.5226022856257523,0.5896965751372168,-1.3411231039321236,0.5837280054519673,-1.1534475698524378,-0.11207649408557195,0.790232010513971,-0.048825972635803724,-0.6382120495958978,-0.5114290862873814,-0.3720903195225852,-0.8038858383154226,0.04576400663093547,0.11488973806462226,1.1857106739451848,-0.23010183930485423,0.3904403881926993],\"xaxis\":\"x15\",\"y\":[-1.0863777837663535,-0.29996912541113924,-1.0033918906949306,-0.16904453015905718,-0.6997307108068181,1.2166753258586926,0.3592750351441177,1.2439640623239372,-0.5618496390040558,-1.2347266503167018,-1.0552712560707131,-1.6850766070948187,-0.6322174310740899,0.6005045019381625,0.7229550803442617,-0.024235156635488617,-0.6918343580576019,-0.791691703099968,2.4503340684848522,0.2545274022655646,0.2192124818449236,-0.5010461901733768,1.0722191567638308,-1.4891428854973219,-0.40272294284264887,-0.9897698995672244,-0.4320325337676119,-1.8298092354603528,-2.06942937617893,-0.8981810286527873,0.14956635267176333,0.7954820701179105,-0.2787688466355066,0.3870529059565167,0.09185931611306569,-0.3228922884787916,0.7896583952791246,0.49859792990332374,-0.7145014322704618,0.63500400287327,0.9015625150957739,-0.0981321809807702,1.9641239372508428,0.23220510153104315,1.4919994261238152,-0.901776200402962,-0.0784636334330029,1.9101262244860717,-0.3416541667136561,0.5019694149092727,1.0486030416084549,0.878058019399183,-1.3888160678921024,-1.2101408885050597,-0.13409188298890998,-0.155497259277162,-0.500280755194522,0.7948341864672325,-1.2400630520819984,-2.0056745204948294,-0.4404789392126361,1.102868454526206,1.1652987918687758,0.6270884485984805,0.4183887743661323,0.12407913269838876,0.41651093420023944,0.5267557900844371,1.9927114934897463,1.0684934646033353,0.3348495159534268,-0.9777949504079178,0.9796192436433449,-1.1762528275911592,-1.1558232571416545,-0.3091827093439971,-0.5909544061913328,1.0210368247767818,1.1805951609276022,-1.652677794188509,-0.29831139799092427,1.111965485214708,1.0587590383444145,-1.5321538886410853,1.6453357895997287,-0.8473164859310449,-1.8726928400414544,1.7092111712887212,-0.1724347745604901,0.27939461399101706,0.47513405776655865,-0.0027110613277772175,0.026379235545402467,-0.5922158879543973,-1.21507200758291,-2.3239813281336756,-0.35363177445906324,-1.244601068564047,-0.16458822503728318,0.21553884961071865],\"yaxis\":\"y15\",\"type\":\"scatter\"},{\"histfunc\":\"count\",\"histnorm\":\"\",\"marker\":{\"color\":\"rgba(128, 0, 128, 1.0)\",\"line\":{\"color\":\"#4D5663\",\"width\":1.3}},\"name\":\"D\",\"nbinsx\":10,\"opacity\":0.8,\"orientation\":\"v\",\"x\":[-1.0863777837663535,-0.29996912541113924,-1.0033918906949306,-0.16904453015905718,-0.6997307108068181,1.2166753258586926,0.3592750351441177,1.2439640623239372,-0.5618496390040558,-1.2347266503167018,-1.0552712560707131,-1.6850766070948187,-0.6322174310740899,0.6005045019381625,0.7229550803442617,-0.024235156635488617,-0.6918343580576019,-0.791691703099968,2.4503340684848522,0.2545274022655646,0.2192124818449236,-0.5010461901733768,1.0722191567638308,-1.4891428854973219,-0.40272294284264887,-0.9897698995672244,-0.4320325337676119,-1.8298092354603528,-2.06942937617893,-0.8981810286527873,0.14956635267176333,0.7954820701179105,-0.2787688466355066,0.3870529059565167,0.09185931611306569,-0.3228922884787916,0.7896583952791246,0.49859792990332374,-0.7145014322704618,0.63500400287327,0.9015625150957739,-0.0981321809807702,1.9641239372508428,0.23220510153104315,1.4919994261238152,-0.901776200402962,-0.0784636334330029,1.9101262244860717,-0.3416541667136561,0.5019694149092727,1.0486030416084549,0.878058019399183,-1.3888160678921024,-1.2101408885050597,-0.13409188298890998,-0.155497259277162,-0.500280755194522,0.7948341864672325,-1.2400630520819984,-2.0056745204948294,-0.4404789392126361,1.102868454526206,1.1652987918687758,0.6270884485984805,0.4183887743661323,0.12407913269838876,0.41651093420023944,0.5267557900844371,1.9927114934897463,1.0684934646033353,0.3348495159534268,-0.9777949504079178,0.9796192436433449,-1.1762528275911592,-1.1558232571416545,-0.3091827093439971,-0.5909544061913328,1.0210368247767818,1.1805951609276022,-1.652677794188509,-0.29831139799092427,1.111965485214708,1.0587590383444145,-1.5321538886410853,1.6453357895997287,-0.8473164859310449,-1.8726928400414544,1.7092111712887212,-0.1724347745604901,0.27939461399101706,0.47513405776655865,-0.0027110613277772175,0.026379235545402467,-0.5922158879543973,-1.21507200758291,-2.3239813281336756,-0.35363177445906324,-1.244601068564047,-0.16458822503728318,0.21553884961071865],\"xaxis\":\"x16\",\"yaxis\":\"y16\",\"type\":\"histogram\"}],                        {\"bargap\":0.02,\"legend\":{\"bgcolor\":\"#F5F6F9\",\"font\":{\"color\":\"#4D5663\"}},\"paper_bgcolor\":\"#F5F6F9\",\"plot_bgcolor\":\"#F5F6F9\",\"showlegend\":false,\"template\":{\"data\":{\"barpolar\":[{\"marker\":{\"line\":{\"color\":\"#E5ECF6\",\"width\":0.5},\"pattern\":{\"fillmode\":\"overlay\",\"size\":10,\"solidity\":0.2}},\"type\":\"barpolar\"}],\"bar\":[{\"error_x\":{\"color\":\"#2a3f5f\"},\"error_y\":{\"color\":\"#2a3f5f\"},\"marker\":{\"line\":{\"color\":\"#E5ECF6\",\"width\":0.5},\"pattern\":{\"fillmode\":\"overlay\",\"size\":10,\"solidity\":0.2}},\"type\":\"bar\"}],\"carpet\":[{\"aaxis\":{\"endlinecolor\":\"#2a3f5f\",\"gridcolor\":\"white\",\"linecolor\":\"white\",\"minorgridcolor\":\"white\",\"startlinecolor\":\"#2a3f5f\"},\"baxis\":{\"endlinecolor\":\"#2a3f5f\",\"gridcolor\":\"white\",\"linecolor\":\"white\",\"minorgridcolor\":\"white\",\"startlinecolor\":\"#2a3f5f\"},\"type\":\"carpet\"}],\"choropleth\":[{\"colorbar\":{\"outlinewidth\":0,\"ticks\":\"\"},\"type\":\"choropleth\"}],\"contourcarpet\":[{\"colorbar\":{\"outlinewidth\":0,\"ticks\":\"\"},\"type\":\"contourcarpet\"}],\"contour\":[{\"colorbar\":{\"outlinewidth\":0,\"ticks\":\"\"},\"colorscale\":[[0.0,\"#0d0887\"],[0.1111111111111111,\"#46039f\"],[0.2222222222222222,\"#7201a8\"],[0.3333333333333333,\"#9c179e\"],[0.4444444444444444,\"#bd3786\"],[0.5555555555555556,\"#d8576b\"],[0.6666666666666666,\"#ed7953\"],[0.7777777777777778,\"#fb9f3a\"],[0.8888888888888888,\"#fdca26\"],[1.0,\"#f0f921\"]],\"type\":\"contour\"}],\"heatmapgl\":[{\"colorbar\":{\"outlinewidth\":0,\"ticks\":\"\"},\"colorscale\":[[0.0,\"#0d0887\"],[0.1111111111111111,\"#46039f\"],[0.2222222222222222,\"#7201a8\"],[0.3333333333333333,\"#9c179e\"],[0.4444444444444444,\"#bd3786\"],[0.5555555555555556,\"#d8576b\"],[0.6666666666666666,\"#ed7953\"],[0.7777777777777778,\"#fb9f3a\"],[0.8888888888888888,\"#fdca26\"],[1.0,\"#f0f921\"]],\"type\":\"heatmapgl\"}],\"heatmap\":[{\"colorbar\":{\"outlinewidth\":0,\"ticks\":\"\"},\"colorscale\":[[0.0,\"#0d0887\"],[0.1111111111111111,\"#46039f\"],[0.2222222222222222,\"#7201a8\"],[0.3333333333333333,\"#9c179e\"],[0.4444444444444444,\"#bd3786\"],[0.5555555555555556,\"#d8576b\"],[0.6666666666666666,\"#ed7953\"],[0.7777777777777778,\"#fb9f3a\"],[0.8888888888888888,\"#fdca26\"],[1.0,\"#f0f921\"]],\"type\":\"heatmap\"}],\"histogram2dcontour\":[{\"colorbar\":{\"outlinewidth\":0,\"ticks\":\"\"},\"colorscale\":[[0.0,\"#0d0887\"],[0.1111111111111111,\"#46039f\"],[0.2222222222222222,\"#7201a8\"],[0.3333333333333333,\"#9c179e\"],[0.4444444444444444,\"#bd3786\"],[0.5555555555555556,\"#d8576b\"],[0.6666666666666666,\"#ed7953\"],[0.7777777777777778,\"#fb9f3a\"],[0.8888888888888888,\"#fdca26\"],[1.0,\"#f0f921\"]],\"type\":\"histogram2dcontour\"}],\"histogram2d\":[{\"colorbar\":{\"outlinewidth\":0,\"ticks\":\"\"},\"colorscale\":[[0.0,\"#0d0887\"],[0.1111111111111111,\"#46039f\"],[0.2222222222222222,\"#7201a8\"],[0.3333333333333333,\"#9c179e\"],[0.4444444444444444,\"#bd3786\"],[0.5555555555555556,\"#d8576b\"],[0.6666666666666666,\"#ed7953\"],[0.7777777777777778,\"#fb9f3a\"],[0.8888888888888888,\"#fdca26\"],[1.0,\"#f0f921\"]],\"type\":\"histogram2d\"}],\"histogram\":[{\"marker\":{\"pattern\":{\"fillmode\":\"overlay\",\"size\":10,\"solidity\":0.2}},\"type\":\"histogram\"}],\"mesh3d\":[{\"colorbar\":{\"outlinewidth\":0,\"ticks\":\"\"},\"type\":\"mesh3d\"}],\"parcoords\":[{\"line\":{\"colorbar\":{\"outlinewidth\":0,\"ticks\":\"\"}},\"type\":\"parcoords\"}],\"pie\":[{\"automargin\":true,\"type\":\"pie\"}],\"scatter3d\":[{\"line\":{\"colorbar\":{\"outlinewidth\":0,\"ticks\":\"\"}},\"marker\":{\"colorbar\":{\"outlinewidth\":0,\"ticks\":\"\"}},\"type\":\"scatter3d\"}],\"scattercarpet\":[{\"marker\":{\"colorbar\":{\"outlinewidth\":0,\"ticks\":\"\"}},\"type\":\"scattercarpet\"}],\"scattergeo\":[{\"marker\":{\"colorbar\":{\"outlinewidth\":0,\"ticks\":\"\"}},\"type\":\"scattergeo\"}],\"scattergl\":[{\"marker\":{\"colorbar\":{\"outlinewidth\":0,\"ticks\":\"\"}},\"type\":\"scattergl\"}],\"scattermapbox\":[{\"marker\":{\"colorbar\":{\"outlinewidth\":0,\"ticks\":\"\"}},\"type\":\"scattermapbox\"}],\"scatterpolargl\":[{\"marker\":{\"colorbar\":{\"outlinewidth\":0,\"ticks\":\"\"}},\"type\":\"scatterpolargl\"}],\"scatterpolar\":[{\"marker\":{\"colorbar\":{\"outlinewidth\":0,\"ticks\":\"\"}},\"type\":\"scatterpolar\"}],\"scatter\":[{\"fillpattern\":{\"fillmode\":\"overlay\",\"size\":10,\"solidity\":0.2},\"type\":\"scatter\"}],\"scatterternary\":[{\"marker\":{\"colorbar\":{\"outlinewidth\":0,\"ticks\":\"\"}},\"type\":\"scatterternary\"}],\"surface\":[{\"colorbar\":{\"outlinewidth\":0,\"ticks\":\"\"},\"colorscale\":[[0.0,\"#0d0887\"],[0.1111111111111111,\"#46039f\"],[0.2222222222222222,\"#7201a8\"],[0.3333333333333333,\"#9c179e\"],[0.4444444444444444,\"#bd3786\"],[0.5555555555555556,\"#d8576b\"],[0.6666666666666666,\"#ed7953\"],[0.7777777777777778,\"#fb9f3a\"],[0.8888888888888888,\"#fdca26\"],[1.0,\"#f0f921\"]],\"type\":\"surface\"}],\"table\":[{\"cells\":{\"fill\":{\"color\":\"#EBF0F8\"},\"line\":{\"color\":\"white\"}},\"header\":{\"fill\":{\"color\":\"#C8D4E3\"},\"line\":{\"color\":\"white\"}},\"type\":\"table\"}]},\"layout\":{\"annotationdefaults\":{\"arrowcolor\":\"#2a3f5f\",\"arrowhead\":0,\"arrowwidth\":1},\"autotypenumbers\":\"strict\",\"coloraxis\":{\"colorbar\":{\"outlinewidth\":0,\"ticks\":\"\"}},\"colorscale\":{\"diverging\":[[0,\"#8e0152\"],[0.1,\"#c51b7d\"],[0.2,\"#de77ae\"],[0.3,\"#f1b6da\"],[0.4,\"#fde0ef\"],[0.5,\"#f7f7f7\"],[0.6,\"#e6f5d0\"],[0.7,\"#b8e186\"],[0.8,\"#7fbc41\"],[0.9,\"#4d9221\"],[1,\"#276419\"]],\"sequential\":[[0.0,\"#0d0887\"],[0.1111111111111111,\"#46039f\"],[0.2222222222222222,\"#7201a8\"],[0.3333333333333333,\"#9c179e\"],[0.4444444444444444,\"#bd3786\"],[0.5555555555555556,\"#d8576b\"],[0.6666666666666666,\"#ed7953\"],[0.7777777777777778,\"#fb9f3a\"],[0.8888888888888888,\"#fdca26\"],[1.0,\"#f0f921\"]],\"sequentialminus\":[[0.0,\"#0d0887\"],[0.1111111111111111,\"#46039f\"],[0.2222222222222222,\"#7201a8\"],[0.3333333333333333,\"#9c179e\"],[0.4444444444444444,\"#bd3786\"],[0.5555555555555556,\"#d8576b\"],[0.6666666666666666,\"#ed7953\"],[0.7777777777777778,\"#fb9f3a\"],[0.8888888888888888,\"#fdca26\"],[1.0,\"#f0f921\"]]},\"colorway\":[\"#636efa\",\"#EF553B\",\"#00cc96\",\"#ab63fa\",\"#FFA15A\",\"#19d3f3\",\"#FF6692\",\"#B6E880\",\"#FF97FF\",\"#FECB52\"],\"font\":{\"color\":\"#2a3f5f\"},\"geo\":{\"bgcolor\":\"white\",\"lakecolor\":\"white\",\"landcolor\":\"#E5ECF6\",\"showlakes\":true,\"showland\":true,\"subunitcolor\":\"white\"},\"hoverlabel\":{\"align\":\"left\"},\"hovermode\":\"closest\",\"mapbox\":{\"style\":\"light\"},\"paper_bgcolor\":\"white\",\"plot_bgcolor\":\"#E5ECF6\",\"polar\":{\"angularaxis\":{\"gridcolor\":\"white\",\"linecolor\":\"white\",\"ticks\":\"\"},\"bgcolor\":\"#E5ECF6\",\"radialaxis\":{\"gridcolor\":\"white\",\"linecolor\":\"white\",\"ticks\":\"\"}},\"scene\":{\"xaxis\":{\"backgroundcolor\":\"#E5ECF6\",\"gridcolor\":\"white\",\"gridwidth\":2,\"linecolor\":\"white\",\"showbackground\":true,\"ticks\":\"\",\"zerolinecolor\":\"white\"},\"yaxis\":{\"backgroundcolor\":\"#E5ECF6\",\"gridcolor\":\"white\",\"gridwidth\":2,\"linecolor\":\"white\",\"showbackground\":true,\"ticks\":\"\",\"zerolinecolor\":\"white\"},\"zaxis\":{\"backgroundcolor\":\"#E5ECF6\",\"gridcolor\":\"white\",\"gridwidth\":2,\"linecolor\":\"white\",\"showbackground\":true,\"ticks\":\"\",\"zerolinecolor\":\"white\"}},\"shapedefaults\":{\"line\":{\"color\":\"#2a3f5f\"}},\"ternary\":{\"aaxis\":{\"gridcolor\":\"white\",\"linecolor\":\"white\",\"ticks\":\"\"},\"baxis\":{\"gridcolor\":\"white\",\"linecolor\":\"white\",\"ticks\":\"\"},\"bgcolor\":\"#E5ECF6\",\"caxis\":{\"gridcolor\":\"white\",\"linecolor\":\"white\",\"ticks\":\"\"}},\"title\":{\"x\":0.05},\"xaxis\":{\"automargin\":true,\"gridcolor\":\"white\",\"linecolor\":\"white\",\"ticks\":\"\",\"title\":{\"standoff\":15},\"zerolinecolor\":\"white\",\"zerolinewidth\":2},\"yaxis\":{\"automargin\":true,\"gridcolor\":\"white\",\"linecolor\":\"white\",\"ticks\":\"\",\"title\":{\"standoff\":15},\"zerolinecolor\":\"white\",\"zerolinewidth\":2}}},\"title\":{\"font\":{\"color\":\"#4D5663\"}},\"xaxis\":{\"anchor\":\"y\",\"domain\":[0.0,0.2125],\"gridcolor\":\"#E1E5ED\",\"showgrid\":false,\"tickfont\":{\"color\":\"#4D5663\"},\"title\":{\"font\":{\"color\":\"#4D5663\"},\"text\":\"\"},\"zerolinecolor\":\"#E1E5ED\"},\"yaxis\":{\"anchor\":\"x\",\"domain\":[0.8025,1.0],\"gridcolor\":\"#E1E5ED\",\"showgrid\":false,\"tickfont\":{\"color\":\"#4D5663\"},\"title\":{\"font\":{\"color\":\"#4D5663\"},\"text\":\"\"},\"zerolinecolor\":\"#E1E5ED\"},\"xaxis2\":{\"anchor\":\"y2\",\"domain\":[0.2625,0.475],\"gridcolor\":\"#E1E5ED\",\"showgrid\":false,\"tickfont\":{\"color\":\"#4D5663\"},\"title\":{\"font\":{\"color\":\"#4D5663\"},\"text\":\"\"},\"zerolinecolor\":\"#E1E5ED\"},\"yaxis2\":{\"anchor\":\"x2\",\"domain\":[0.8025,1.0],\"gridcolor\":\"#E1E5ED\",\"showgrid\":false,\"tickfont\":{\"color\":\"#4D5663\"},\"title\":{\"font\":{\"color\":\"#4D5663\"},\"text\":\"\"},\"zerolinecolor\":\"#E1E5ED\"},\"xaxis3\":{\"anchor\":\"y3\",\"domain\":[0.525,0.7375],\"gridcolor\":\"#E1E5ED\",\"showgrid\":false,\"tickfont\":{\"color\":\"#4D5663\"},\"title\":{\"font\":{\"color\":\"#4D5663\"},\"text\":\"\"},\"zerolinecolor\":\"#E1E5ED\"},\"yaxis3\":{\"anchor\":\"x3\",\"domain\":[0.8025,1.0],\"gridcolor\":\"#E1E5ED\",\"showgrid\":false,\"tickfont\":{\"color\":\"#4D5663\"},\"title\":{\"font\":{\"color\":\"#4D5663\"},\"text\":\"\"},\"zerolinecolor\":\"#E1E5ED\"},\"xaxis4\":{\"anchor\":\"y4\",\"domain\":[0.7875,1.0],\"gridcolor\":\"#E1E5ED\",\"showgrid\":false,\"tickfont\":{\"color\":\"#4D5663\"},\"title\":{\"font\":{\"color\":\"#4D5663\"},\"text\":\"\"},\"zerolinecolor\":\"#E1E5ED\"},\"yaxis4\":{\"anchor\":\"x4\",\"domain\":[0.8025,1.0],\"gridcolor\":\"#E1E5ED\",\"showgrid\":false,\"tickfont\":{\"color\":\"#4D5663\"},\"title\":{\"font\":{\"color\":\"#4D5663\"},\"text\":\"\"},\"zerolinecolor\":\"#E1E5ED\"},\"xaxis5\":{\"anchor\":\"y5\",\"domain\":[0.0,0.2125],\"gridcolor\":\"#E1E5ED\",\"showgrid\":false,\"tickfont\":{\"color\":\"#4D5663\"},\"title\":{\"font\":{\"color\":\"#4D5663\"},\"text\":\"\"},\"zerolinecolor\":\"#E1E5ED\"},\"yaxis5\":{\"anchor\":\"x5\",\"domain\":[0.535,0.7325],\"gridcolor\":\"#E1E5ED\",\"showgrid\":false,\"tickfont\":{\"color\":\"#4D5663\"},\"title\":{\"font\":{\"color\":\"#4D5663\"},\"text\":\"\"},\"zerolinecolor\":\"#E1E5ED\"},\"xaxis6\":{\"anchor\":\"y6\",\"domain\":[0.2625,0.475],\"gridcolor\":\"#E1E5ED\",\"showgrid\":false,\"tickfont\":{\"color\":\"#4D5663\"},\"title\":{\"font\":{\"color\":\"#4D5663\"},\"text\":\"\"},\"zerolinecolor\":\"#E1E5ED\"},\"yaxis6\":{\"anchor\":\"x6\",\"domain\":[0.535,0.7325],\"gridcolor\":\"#E1E5ED\",\"showgrid\":false,\"tickfont\":{\"color\":\"#4D5663\"},\"title\":{\"font\":{\"color\":\"#4D5663\"},\"text\":\"\"},\"zerolinecolor\":\"#E1E5ED\"},\"xaxis7\":{\"anchor\":\"y7\",\"domain\":[0.525,0.7375],\"gridcolor\":\"#E1E5ED\",\"showgrid\":false,\"tickfont\":{\"color\":\"#4D5663\"},\"title\":{\"font\":{\"color\":\"#4D5663\"},\"text\":\"\"},\"zerolinecolor\":\"#E1E5ED\"},\"yaxis7\":{\"anchor\":\"x7\",\"domain\":[0.535,0.7325],\"gridcolor\":\"#E1E5ED\",\"showgrid\":false,\"tickfont\":{\"color\":\"#4D5663\"},\"title\":{\"font\":{\"color\":\"#4D5663\"},\"text\":\"\"},\"zerolinecolor\":\"#E1E5ED\"},\"xaxis8\":{\"anchor\":\"y8\",\"domain\":[0.7875,1.0],\"gridcolor\":\"#E1E5ED\",\"showgrid\":false,\"tickfont\":{\"color\":\"#4D5663\"},\"title\":{\"font\":{\"color\":\"#4D5663\"},\"text\":\"\"},\"zerolinecolor\":\"#E1E5ED\"},\"yaxis8\":{\"anchor\":\"x8\",\"domain\":[0.535,0.7325],\"gridcolor\":\"#E1E5ED\",\"showgrid\":false,\"tickfont\":{\"color\":\"#4D5663\"},\"title\":{\"font\":{\"color\":\"#4D5663\"},\"text\":\"\"},\"zerolinecolor\":\"#E1E5ED\"},\"xaxis9\":{\"anchor\":\"y9\",\"domain\":[0.0,0.2125],\"gridcolor\":\"#E1E5ED\",\"showgrid\":false,\"tickfont\":{\"color\":\"#4D5663\"},\"title\":{\"font\":{\"color\":\"#4D5663\"},\"text\":\"\"},\"zerolinecolor\":\"#E1E5ED\"},\"yaxis9\":{\"anchor\":\"x9\",\"domain\":[0.2675,0.465],\"gridcolor\":\"#E1E5ED\",\"showgrid\":false,\"tickfont\":{\"color\":\"#4D5663\"},\"title\":{\"font\":{\"color\":\"#4D5663\"},\"text\":\"\"},\"zerolinecolor\":\"#E1E5ED\"},\"xaxis10\":{\"anchor\":\"y10\",\"domain\":[0.2625,0.475],\"gridcolor\":\"#E1E5ED\",\"showgrid\":false,\"tickfont\":{\"color\":\"#4D5663\"},\"title\":{\"font\":{\"color\":\"#4D5663\"},\"text\":\"\"},\"zerolinecolor\":\"#E1E5ED\"},\"yaxis10\":{\"anchor\":\"x10\",\"domain\":[0.2675,0.465],\"gridcolor\":\"#E1E5ED\",\"showgrid\":false,\"tickfont\":{\"color\":\"#4D5663\"},\"title\":{\"font\":{\"color\":\"#4D5663\"},\"text\":\"\"},\"zerolinecolor\":\"#E1E5ED\"},\"xaxis11\":{\"anchor\":\"y11\",\"domain\":[0.525,0.7375],\"gridcolor\":\"#E1E5ED\",\"showgrid\":false,\"tickfont\":{\"color\":\"#4D5663\"},\"title\":{\"font\":{\"color\":\"#4D5663\"},\"text\":\"\"},\"zerolinecolor\":\"#E1E5ED\"},\"yaxis11\":{\"anchor\":\"x11\",\"domain\":[0.2675,0.465],\"gridcolor\":\"#E1E5ED\",\"showgrid\":false,\"tickfont\":{\"color\":\"#4D5663\"},\"title\":{\"font\":{\"color\":\"#4D5663\"},\"text\":\"\"},\"zerolinecolor\":\"#E1E5ED\"},\"xaxis12\":{\"anchor\":\"y12\",\"domain\":[0.7875,1.0],\"gridcolor\":\"#E1E5ED\",\"showgrid\":false,\"tickfont\":{\"color\":\"#4D5663\"},\"title\":{\"font\":{\"color\":\"#4D5663\"},\"text\":\"\"},\"zerolinecolor\":\"#E1E5ED\"},\"yaxis12\":{\"anchor\":\"x12\",\"domain\":[0.2675,0.465],\"gridcolor\":\"#E1E5ED\",\"showgrid\":false,\"tickfont\":{\"color\":\"#4D5663\"},\"title\":{\"font\":{\"color\":\"#4D5663\"},\"text\":\"\"},\"zerolinecolor\":\"#E1E5ED\"},\"xaxis13\":{\"anchor\":\"y13\",\"domain\":[0.0,0.2125],\"gridcolor\":\"#E1E5ED\",\"showgrid\":false,\"tickfont\":{\"color\":\"#4D5663\"},\"title\":{\"font\":{\"color\":\"#4D5663\"},\"text\":\"\"},\"zerolinecolor\":\"#E1E5ED\"},\"yaxis13\":{\"anchor\":\"x13\",\"domain\":[0.0,0.1975],\"gridcolor\":\"#E1E5ED\",\"showgrid\":false,\"tickfont\":{\"color\":\"#4D5663\"},\"title\":{\"font\":{\"color\":\"#4D5663\"},\"text\":\"\"},\"zerolinecolor\":\"#E1E5ED\"},\"xaxis14\":{\"anchor\":\"y14\",\"domain\":[0.2625,0.475],\"gridcolor\":\"#E1E5ED\",\"showgrid\":false,\"tickfont\":{\"color\":\"#4D5663\"},\"title\":{\"font\":{\"color\":\"#4D5663\"},\"text\":\"\"},\"zerolinecolor\":\"#E1E5ED\"},\"yaxis14\":{\"anchor\":\"x14\",\"domain\":[0.0,0.1975],\"gridcolor\":\"#E1E5ED\",\"showgrid\":false,\"tickfont\":{\"color\":\"#4D5663\"},\"title\":{\"font\":{\"color\":\"#4D5663\"},\"text\":\"\"},\"zerolinecolor\":\"#E1E5ED\"},\"xaxis15\":{\"anchor\":\"y15\",\"domain\":[0.525,0.7375],\"gridcolor\":\"#E1E5ED\",\"showgrid\":false,\"tickfont\":{\"color\":\"#4D5663\"},\"title\":{\"font\":{\"color\":\"#4D5663\"},\"text\":\"\"},\"zerolinecolor\":\"#E1E5ED\"},\"yaxis15\":{\"anchor\":\"x15\",\"domain\":[0.0,0.1975],\"gridcolor\":\"#E1E5ED\",\"showgrid\":false,\"tickfont\":{\"color\":\"#4D5663\"},\"title\":{\"font\":{\"color\":\"#4D5663\"},\"text\":\"\"},\"zerolinecolor\":\"#E1E5ED\"},\"xaxis16\":{\"anchor\":\"y16\",\"domain\":[0.7875,1.0],\"gridcolor\":\"#E1E5ED\",\"showgrid\":false,\"tickfont\":{\"color\":\"#4D5663\"},\"title\":{\"font\":{\"color\":\"#4D5663\"},\"text\":\"\"},\"zerolinecolor\":\"#E1E5ED\"},\"yaxis16\":{\"anchor\":\"x16\",\"domain\":[0.0,0.1975],\"gridcolor\":\"#E1E5ED\",\"showgrid\":false,\"tickfont\":{\"color\":\"#4D5663\"},\"title\":{\"font\":{\"color\":\"#4D5663\"},\"text\":\"\"},\"zerolinecolor\":\"#E1E5ED\"}},                        {\"showLink\": true, \"linkText\": \"Export to plot.ly\", \"plotlyServerURL\": \"https://plot.ly\", \"responsive\": true}                    ).then(function(){\n",
       "                            \n",
       "var gd = document.getElementById('8510b6db-067d-4776-a7c7-4f02cda239fa');\n",
       "var x = new MutationObserver(function (mutations, observer) {{\n",
       "        var display = window.getComputedStyle(gd).display;\n",
       "        if (!display || display === 'none') {{\n",
       "            console.log([gd, 'removed!']);\n",
       "            Plotly.purge(gd);\n",
       "            observer.disconnect();\n",
       "        }}\n",
       "}});\n",
       "\n",
       "// Listen for the removal of the full notebook cells\n",
       "var notebookContainer = gd.closest('#notebook-container');\n",
       "if (notebookContainer) {{\n",
       "    x.observe(notebookContainer, {childList: true});\n",
       "}}\n",
       "\n",
       "// Listen for the clearing of the current output cell\n",
       "var outputEl = gd.closest('.output');\n",
       "if (outputEl) {{\n",
       "    x.observe(outputEl, {childList: true});\n",
       "}}\n",
       "\n",
       "                        })                };                });            </script>        </div>"
      ]
     },
     "metadata": {},
     "output_type": "display_data"
    }
   ],
   "source": [
    "df.scatter_matrix()"
   ]
  },
  {
   "cell_type": "markdown",
   "metadata": {
    "collapsed": true
   },
   "source": [
    "# Great Job!"
   ]
  }
 ],
 "metadata": {
  "kernelspec": {
   "display_name": "Python 3 (ipykernel)",
   "language": "python",
   "name": "python3"
  },
  "language_info": {
   "codemirror_mode": {
    "name": "ipython",
    "version": 3
   },
   "file_extension": ".py",
   "mimetype": "text/x-python",
   "name": "python",
   "nbconvert_exporter": "python",
   "pygments_lexer": "ipython3",
   "version": "3.11.7"
  }
 },
 "nbformat": 4,
 "nbformat_minor": 1
}
